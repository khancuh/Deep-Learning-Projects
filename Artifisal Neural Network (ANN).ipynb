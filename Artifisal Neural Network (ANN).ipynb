{
 "cells": [
  {
   "cell_type": "markdown",
   "metadata": {},
   "source": [
    "# Bank Customer's Churn Classification¶\n",
    "\n",
    "Classifying bank customers based on their previous bank activities, that they will exit/leave the bank or not."
   ]
  },
  {
   "cell_type": "code",
   "execution_count": 1,
   "metadata": {},
   "outputs": [],
   "source": [
    "import pandas as pd\n",
    "import numpy as np"
   ]
  },
  {
   "cell_type": "code",
   "execution_count": 2,
   "metadata": {},
   "outputs": [],
   "source": [
    "df = pd.read_csv(\"C:\\\\Users\\\\Imran\\\\Desktop\\\\Churn_Modelling.csv\")"
   ]
  },
  {
   "cell_type": "code",
   "execution_count": 3,
   "metadata": {},
   "outputs": [
    {
     "data": {
      "text/html": [
       "<div>\n",
       "<style scoped>\n",
       "    .dataframe tbody tr th:only-of-type {\n",
       "        vertical-align: middle;\n",
       "    }\n",
       "\n",
       "    .dataframe tbody tr th {\n",
       "        vertical-align: top;\n",
       "    }\n",
       "\n",
       "    .dataframe thead th {\n",
       "        text-align: right;\n",
       "    }\n",
       "</style>\n",
       "<table border=\"1\" class=\"dataframe\">\n",
       "  <thead>\n",
       "    <tr style=\"text-align: right;\">\n",
       "      <th></th>\n",
       "      <th>RowNumber</th>\n",
       "      <th>CustomerId</th>\n",
       "      <th>Surname</th>\n",
       "      <th>CreditScore</th>\n",
       "      <th>Geography</th>\n",
       "      <th>Gender</th>\n",
       "      <th>Age</th>\n",
       "      <th>Tenure</th>\n",
       "      <th>Balance</th>\n",
       "      <th>NumOfProducts</th>\n",
       "      <th>HasCrCard</th>\n",
       "      <th>IsActiveMember</th>\n",
       "      <th>EstimatedSalary</th>\n",
       "      <th>Exited</th>\n",
       "    </tr>\n",
       "  </thead>\n",
       "  <tbody>\n",
       "    <tr>\n",
       "      <td>0</td>\n",
       "      <td>1</td>\n",
       "      <td>15634602</td>\n",
       "      <td>Hargrave</td>\n",
       "      <td>619</td>\n",
       "      <td>France</td>\n",
       "      <td>Female</td>\n",
       "      <td>42</td>\n",
       "      <td>2</td>\n",
       "      <td>0.00</td>\n",
       "      <td>1</td>\n",
       "      <td>1</td>\n",
       "      <td>1</td>\n",
       "      <td>101348.88</td>\n",
       "      <td>1</td>\n",
       "    </tr>\n",
       "    <tr>\n",
       "      <td>1</td>\n",
       "      <td>2</td>\n",
       "      <td>15647311</td>\n",
       "      <td>Hill</td>\n",
       "      <td>608</td>\n",
       "      <td>Spain</td>\n",
       "      <td>Female</td>\n",
       "      <td>41</td>\n",
       "      <td>1</td>\n",
       "      <td>83807.86</td>\n",
       "      <td>1</td>\n",
       "      <td>0</td>\n",
       "      <td>1</td>\n",
       "      <td>112542.58</td>\n",
       "      <td>0</td>\n",
       "    </tr>\n",
       "    <tr>\n",
       "      <td>2</td>\n",
       "      <td>3</td>\n",
       "      <td>15619304</td>\n",
       "      <td>Onio</td>\n",
       "      <td>502</td>\n",
       "      <td>France</td>\n",
       "      <td>Female</td>\n",
       "      <td>42</td>\n",
       "      <td>8</td>\n",
       "      <td>159660.80</td>\n",
       "      <td>3</td>\n",
       "      <td>1</td>\n",
       "      <td>0</td>\n",
       "      <td>113931.57</td>\n",
       "      <td>1</td>\n",
       "    </tr>\n",
       "    <tr>\n",
       "      <td>3</td>\n",
       "      <td>4</td>\n",
       "      <td>15701354</td>\n",
       "      <td>Boni</td>\n",
       "      <td>699</td>\n",
       "      <td>France</td>\n",
       "      <td>Female</td>\n",
       "      <td>39</td>\n",
       "      <td>1</td>\n",
       "      <td>0.00</td>\n",
       "      <td>2</td>\n",
       "      <td>0</td>\n",
       "      <td>0</td>\n",
       "      <td>93826.63</td>\n",
       "      <td>0</td>\n",
       "    </tr>\n",
       "    <tr>\n",
       "      <td>4</td>\n",
       "      <td>5</td>\n",
       "      <td>15737888</td>\n",
       "      <td>Mitchell</td>\n",
       "      <td>850</td>\n",
       "      <td>Spain</td>\n",
       "      <td>Female</td>\n",
       "      <td>43</td>\n",
       "      <td>2</td>\n",
       "      <td>125510.82</td>\n",
       "      <td>1</td>\n",
       "      <td>1</td>\n",
       "      <td>1</td>\n",
       "      <td>79084.10</td>\n",
       "      <td>0</td>\n",
       "    </tr>\n",
       "  </tbody>\n",
       "</table>\n",
       "</div>"
      ],
      "text/plain": [
       "   RowNumber  CustomerId   Surname  CreditScore Geography  Gender  Age  \\\n",
       "0          1    15634602  Hargrave          619    France  Female   42   \n",
       "1          2    15647311      Hill          608     Spain  Female   41   \n",
       "2          3    15619304      Onio          502    France  Female   42   \n",
       "3          4    15701354      Boni          699    France  Female   39   \n",
       "4          5    15737888  Mitchell          850     Spain  Female   43   \n",
       "\n",
       "   Tenure    Balance  NumOfProducts  HasCrCard  IsActiveMember  \\\n",
       "0       2       0.00              1          1               1   \n",
       "1       1   83807.86              1          0               1   \n",
       "2       8  159660.80              3          1               0   \n",
       "3       1       0.00              2          0               0   \n",
       "4       2  125510.82              1          1               1   \n",
       "\n",
       "   EstimatedSalary  Exited  \n",
       "0        101348.88       1  \n",
       "1        112542.58       0  \n",
       "2        113931.57       1  \n",
       "3         93826.63       0  \n",
       "4         79084.10       0  "
      ]
     },
     "execution_count": 3,
     "metadata": {},
     "output_type": "execute_result"
    }
   ],
   "source": [
    "df.head()"
   ]
  },
  {
   "cell_type": "markdown",
   "metadata": {},
   "source": [
    "# Exploring the Data set"
   ]
  },
  {
   "cell_type": "code",
   "execution_count": 4,
   "metadata": {},
   "outputs": [
    {
     "data": {
      "text/plain": [
       "(10000, 14)"
      ]
     },
     "execution_count": 4,
     "metadata": {},
     "output_type": "execute_result"
    }
   ],
   "source": [
    "df.shape"
   ]
  },
  {
   "cell_type": "code",
   "execution_count": 5,
   "metadata": {},
   "outputs": [
    {
     "data": {
      "text/plain": [
       "Index(['RowNumber', 'CustomerId', 'Surname', 'CreditScore', 'Geography',\n",
       "       'Gender', 'Age', 'Tenure', 'Balance', 'NumOfProducts', 'HasCrCard',\n",
       "       'IsActiveMember', 'EstimatedSalary', 'Exited'],\n",
       "      dtype='object')"
      ]
     },
     "execution_count": 5,
     "metadata": {},
     "output_type": "execute_result"
    }
   ],
   "source": [
    "df.columns"
   ]
  },
  {
   "cell_type": "code",
   "execution_count": 6,
   "metadata": {},
   "outputs": [
    {
     "data": {
      "text/plain": [
       "RowNumber            int64\n",
       "CustomerId           int64\n",
       "Surname             object\n",
       "CreditScore          int64\n",
       "Geography           object\n",
       "Gender              object\n",
       "Age                  int64\n",
       "Tenure               int64\n",
       "Balance            float64\n",
       "NumOfProducts        int64\n",
       "HasCrCard            int64\n",
       "IsActiveMember       int64\n",
       "EstimatedSalary    float64\n",
       "Exited               int64\n",
       "dtype: object"
      ]
     },
     "execution_count": 6,
     "metadata": {},
     "output_type": "execute_result"
    }
   ],
   "source": [
    "df.dtypes"
   ]
  },
  {
   "cell_type": "code",
   "execution_count": 7,
   "metadata": {},
   "outputs": [
    {
     "data": {
      "text/html": [
       "<div>\n",
       "<style scoped>\n",
       "    .dataframe tbody tr th:only-of-type {\n",
       "        vertical-align: middle;\n",
       "    }\n",
       "\n",
       "    .dataframe tbody tr th {\n",
       "        vertical-align: top;\n",
       "    }\n",
       "\n",
       "    .dataframe thead th {\n",
       "        text-align: right;\n",
       "    }\n",
       "</style>\n",
       "<table border=\"1\" class=\"dataframe\">\n",
       "  <thead>\n",
       "    <tr style=\"text-align: right;\">\n",
       "      <th></th>\n",
       "      <th>RowNumber</th>\n",
       "      <th>CustomerId</th>\n",
       "      <th>Surname</th>\n",
       "      <th>CreditScore</th>\n",
       "      <th>Geography</th>\n",
       "      <th>Gender</th>\n",
       "      <th>Age</th>\n",
       "      <th>Tenure</th>\n",
       "      <th>Balance</th>\n",
       "      <th>NumOfProducts</th>\n",
       "      <th>HasCrCard</th>\n",
       "      <th>IsActiveMember</th>\n",
       "      <th>EstimatedSalary</th>\n",
       "      <th>Exited</th>\n",
       "    </tr>\n",
       "  </thead>\n",
       "  <tbody>\n",
       "    <tr>\n",
       "      <td>0</td>\n",
       "      <td>1</td>\n",
       "      <td>15634602</td>\n",
       "      <td>Hargrave</td>\n",
       "      <td>619</td>\n",
       "      <td>France</td>\n",
       "      <td>Female</td>\n",
       "      <td>42</td>\n",
       "      <td>2</td>\n",
       "      <td>0.00</td>\n",
       "      <td>1</td>\n",
       "      <td>1</td>\n",
       "      <td>1</td>\n",
       "      <td>101348.88</td>\n",
       "      <td>1</td>\n",
       "    </tr>\n",
       "    <tr>\n",
       "      <td>1</td>\n",
       "      <td>2</td>\n",
       "      <td>15647311</td>\n",
       "      <td>Hill</td>\n",
       "      <td>608</td>\n",
       "      <td>Spain</td>\n",
       "      <td>Female</td>\n",
       "      <td>41</td>\n",
       "      <td>1</td>\n",
       "      <td>83807.86</td>\n",
       "      <td>1</td>\n",
       "      <td>0</td>\n",
       "      <td>1</td>\n",
       "      <td>112542.58</td>\n",
       "      <td>0</td>\n",
       "    </tr>\n",
       "    <tr>\n",
       "      <td>2</td>\n",
       "      <td>3</td>\n",
       "      <td>15619304</td>\n",
       "      <td>Onio</td>\n",
       "      <td>502</td>\n",
       "      <td>France</td>\n",
       "      <td>Female</td>\n",
       "      <td>42</td>\n",
       "      <td>8</td>\n",
       "      <td>159660.80</td>\n",
       "      <td>3</td>\n",
       "      <td>1</td>\n",
       "      <td>0</td>\n",
       "      <td>113931.57</td>\n",
       "      <td>1</td>\n",
       "    </tr>\n",
       "    <tr>\n",
       "      <td>3</td>\n",
       "      <td>4</td>\n",
       "      <td>15701354</td>\n",
       "      <td>Boni</td>\n",
       "      <td>699</td>\n",
       "      <td>France</td>\n",
       "      <td>Female</td>\n",
       "      <td>39</td>\n",
       "      <td>1</td>\n",
       "      <td>0.00</td>\n",
       "      <td>2</td>\n",
       "      <td>0</td>\n",
       "      <td>0</td>\n",
       "      <td>93826.63</td>\n",
       "      <td>0</td>\n",
       "    </tr>\n",
       "    <tr>\n",
       "      <td>4</td>\n",
       "      <td>5</td>\n",
       "      <td>15737888</td>\n",
       "      <td>Mitchell</td>\n",
       "      <td>850</td>\n",
       "      <td>Spain</td>\n",
       "      <td>Female</td>\n",
       "      <td>43</td>\n",
       "      <td>2</td>\n",
       "      <td>125510.82</td>\n",
       "      <td>1</td>\n",
       "      <td>1</td>\n",
       "      <td>1</td>\n",
       "      <td>79084.10</td>\n",
       "      <td>0</td>\n",
       "    </tr>\n",
       "  </tbody>\n",
       "</table>\n",
       "</div>"
      ],
      "text/plain": [
       "   RowNumber  CustomerId   Surname  CreditScore Geography  Gender  Age  \\\n",
       "0          1    15634602  Hargrave          619    France  Female   42   \n",
       "1          2    15647311      Hill          608     Spain  Female   41   \n",
       "2          3    15619304      Onio          502    France  Female   42   \n",
       "3          4    15701354      Boni          699    France  Female   39   \n",
       "4          5    15737888  Mitchell          850     Spain  Female   43   \n",
       "\n",
       "   Tenure    Balance  NumOfProducts  HasCrCard  IsActiveMember  \\\n",
       "0       2       0.00              1          1               1   \n",
       "1       1   83807.86              1          0               1   \n",
       "2       8  159660.80              3          1               0   \n",
       "3       1       0.00              2          0               0   \n",
       "4       2  125510.82              1          1               1   \n",
       "\n",
       "   EstimatedSalary  Exited  \n",
       "0        101348.88       1  \n",
       "1        112542.58       0  \n",
       "2        113931.57       1  \n",
       "3         93826.63       0  \n",
       "4         79084.10       0  "
      ]
     },
     "execution_count": 7,
     "metadata": {},
     "output_type": "execute_result"
    }
   ],
   "source": [
    "df.head()"
   ]
  },
  {
   "cell_type": "code",
   "execution_count": 8,
   "metadata": {},
   "outputs": [
    {
     "data": {
      "text/html": [
       "<div>\n",
       "<style scoped>\n",
       "    .dataframe tbody tr th:only-of-type {\n",
       "        vertical-align: middle;\n",
       "    }\n",
       "\n",
       "    .dataframe tbody tr th {\n",
       "        vertical-align: top;\n",
       "    }\n",
       "\n",
       "    .dataframe thead th {\n",
       "        text-align: right;\n",
       "    }\n",
       "</style>\n",
       "<table border=\"1\" class=\"dataframe\">\n",
       "  <thead>\n",
       "    <tr style=\"text-align: right;\">\n",
       "      <th></th>\n",
       "      <th>RowNumber</th>\n",
       "      <th>CustomerId</th>\n",
       "      <th>Surname</th>\n",
       "      <th>CreditScore</th>\n",
       "      <th>Geography</th>\n",
       "      <th>Gender</th>\n",
       "      <th>Age</th>\n",
       "      <th>Tenure</th>\n",
       "      <th>Balance</th>\n",
       "      <th>NumOfProducts</th>\n",
       "      <th>HasCrCard</th>\n",
       "      <th>IsActiveMember</th>\n",
       "      <th>EstimatedSalary</th>\n",
       "      <th>Exited</th>\n",
       "    </tr>\n",
       "  </thead>\n",
       "  <tbody>\n",
       "    <tr>\n",
       "      <td>9995</td>\n",
       "      <td>9996</td>\n",
       "      <td>15606229</td>\n",
       "      <td>Obijiaku</td>\n",
       "      <td>771</td>\n",
       "      <td>France</td>\n",
       "      <td>Male</td>\n",
       "      <td>39</td>\n",
       "      <td>5</td>\n",
       "      <td>0.00</td>\n",
       "      <td>2</td>\n",
       "      <td>1</td>\n",
       "      <td>0</td>\n",
       "      <td>96270.64</td>\n",
       "      <td>0</td>\n",
       "    </tr>\n",
       "    <tr>\n",
       "      <td>9996</td>\n",
       "      <td>9997</td>\n",
       "      <td>15569892</td>\n",
       "      <td>Johnstone</td>\n",
       "      <td>516</td>\n",
       "      <td>France</td>\n",
       "      <td>Male</td>\n",
       "      <td>35</td>\n",
       "      <td>10</td>\n",
       "      <td>57369.61</td>\n",
       "      <td>1</td>\n",
       "      <td>1</td>\n",
       "      <td>1</td>\n",
       "      <td>101699.77</td>\n",
       "      <td>0</td>\n",
       "    </tr>\n",
       "    <tr>\n",
       "      <td>9997</td>\n",
       "      <td>9998</td>\n",
       "      <td>15584532</td>\n",
       "      <td>Liu</td>\n",
       "      <td>709</td>\n",
       "      <td>France</td>\n",
       "      <td>Female</td>\n",
       "      <td>36</td>\n",
       "      <td>7</td>\n",
       "      <td>0.00</td>\n",
       "      <td>1</td>\n",
       "      <td>0</td>\n",
       "      <td>1</td>\n",
       "      <td>42085.58</td>\n",
       "      <td>1</td>\n",
       "    </tr>\n",
       "    <tr>\n",
       "      <td>9998</td>\n",
       "      <td>9999</td>\n",
       "      <td>15682355</td>\n",
       "      <td>Sabbatini</td>\n",
       "      <td>772</td>\n",
       "      <td>Germany</td>\n",
       "      <td>Male</td>\n",
       "      <td>42</td>\n",
       "      <td>3</td>\n",
       "      <td>75075.31</td>\n",
       "      <td>2</td>\n",
       "      <td>1</td>\n",
       "      <td>0</td>\n",
       "      <td>92888.52</td>\n",
       "      <td>1</td>\n",
       "    </tr>\n",
       "    <tr>\n",
       "      <td>9999</td>\n",
       "      <td>10000</td>\n",
       "      <td>15628319</td>\n",
       "      <td>Walker</td>\n",
       "      <td>792</td>\n",
       "      <td>France</td>\n",
       "      <td>Female</td>\n",
       "      <td>28</td>\n",
       "      <td>4</td>\n",
       "      <td>130142.79</td>\n",
       "      <td>1</td>\n",
       "      <td>1</td>\n",
       "      <td>0</td>\n",
       "      <td>38190.78</td>\n",
       "      <td>0</td>\n",
       "    </tr>\n",
       "  </tbody>\n",
       "</table>\n",
       "</div>"
      ],
      "text/plain": [
       "      RowNumber  CustomerId    Surname  CreditScore Geography  Gender  Age  \\\n",
       "9995       9996    15606229   Obijiaku          771    France    Male   39   \n",
       "9996       9997    15569892  Johnstone          516    France    Male   35   \n",
       "9997       9998    15584532        Liu          709    France  Female   36   \n",
       "9998       9999    15682355  Sabbatini          772   Germany    Male   42   \n",
       "9999      10000    15628319     Walker          792    France  Female   28   \n",
       "\n",
       "      Tenure    Balance  NumOfProducts  HasCrCard  IsActiveMember  \\\n",
       "9995       5       0.00              2          1               0   \n",
       "9996      10   57369.61              1          1               1   \n",
       "9997       7       0.00              1          0               1   \n",
       "9998       3   75075.31              2          1               0   \n",
       "9999       4  130142.79              1          1               0   \n",
       "\n",
       "      EstimatedSalary  Exited  \n",
       "9995         96270.64       0  \n",
       "9996        101699.77       0  \n",
       "9997         42085.58       1  \n",
       "9998         92888.52       1  \n",
       "9999         38190.78       0  "
      ]
     },
     "execution_count": 8,
     "metadata": {},
     "output_type": "execute_result"
    }
   ],
   "source": [
    "df.tail()"
   ]
  },
  {
   "cell_type": "code",
   "execution_count": 9,
   "metadata": {},
   "outputs": [
    {
     "data": {
      "text/plain": [
       "RowNumber          0\n",
       "CustomerId         0\n",
       "Surname            0\n",
       "CreditScore        0\n",
       "Geography          0\n",
       "Gender             0\n",
       "Age                0\n",
       "Tenure             0\n",
       "Balance            0\n",
       "NumOfProducts      0\n",
       "HasCrCard          0\n",
       "IsActiveMember     0\n",
       "EstimatedSalary    0\n",
       "Exited             0\n",
       "dtype: int64"
      ]
     },
     "execution_count": 9,
     "metadata": {},
     "output_type": "execute_result"
    }
   ],
   "source": [
    "df.isnull().sum()"
   ]
  },
  {
   "cell_type": "code",
   "execution_count": 10,
   "metadata": {},
   "outputs": [
    {
     "name": "stderr",
     "output_type": "stream",
     "text": [
      "In C:\\Users\\Imran\\Anaconda3\\anacond\\lib\\site-packages\\matplotlib\\mpl-data\\stylelib\\_classic_test.mplstyle: \n",
      "The text.latex.preview rcparam was deprecated in Matplotlib 3.3 and will be removed two minor releases later.\n",
      "In C:\\Users\\Imran\\Anaconda3\\anacond\\lib\\site-packages\\matplotlib\\mpl-data\\stylelib\\_classic_test.mplstyle: \n",
      "The mathtext.fallback_to_cm rcparam was deprecated in Matplotlib 3.3 and will be removed two minor releases later.\n",
      "In C:\\Users\\Imran\\Anaconda3\\anacond\\lib\\site-packages\\matplotlib\\mpl-data\\stylelib\\_classic_test.mplstyle: Support for setting the 'mathtext.fallback_to_cm' rcParam is deprecated since 3.3 and will be removed two minor releases later; use 'mathtext.fallback : 'cm' instead.\n",
      "In C:\\Users\\Imran\\Anaconda3\\anacond\\lib\\site-packages\\matplotlib\\mpl-data\\stylelib\\_classic_test.mplstyle: \n",
      "The validate_bool_maybe_none function was deprecated in Matplotlib 3.3 and will be removed two minor releases later.\n",
      "In C:\\Users\\Imran\\Anaconda3\\anacond\\lib\\site-packages\\matplotlib\\mpl-data\\stylelib\\_classic_test.mplstyle: \n",
      "The savefig.jpeg_quality rcparam was deprecated in Matplotlib 3.3 and will be removed two minor releases later.\n",
      "In C:\\Users\\Imran\\Anaconda3\\anacond\\lib\\site-packages\\matplotlib\\mpl-data\\stylelib\\_classic_test.mplstyle: \n",
      "The keymap.all_axes rcparam was deprecated in Matplotlib 3.3 and will be removed two minor releases later.\n",
      "In C:\\Users\\Imran\\Anaconda3\\anacond\\lib\\site-packages\\matplotlib\\mpl-data\\stylelib\\_classic_test.mplstyle: \n",
      "The animation.avconv_path rcparam was deprecated in Matplotlib 3.3 and will be removed two minor releases later.\n",
      "In C:\\Users\\Imran\\Anaconda3\\anacond\\lib\\site-packages\\matplotlib\\mpl-data\\stylelib\\_classic_test.mplstyle: \n",
      "The animation.avconv_args rcparam was deprecated in Matplotlib 3.3 and will be removed two minor releases later.\n"
     ]
    }
   ],
   "source": [
    "#Import essential library with visulization\n",
    "import matplotlib.pyplot as plt\n",
    "import seaborn as sns\n",
    "%matplotlib inline"
   ]
  },
  {
   "cell_type": "code",
   "execution_count": 11,
   "metadata": {},
   "outputs": [
    {
     "data": {
      "image/png": "[encoded data removed]",
      "text/plain": [
       "<Figure size 576x576 with 1 Axes>"
      ]
     },
     "metadata": {
      "needs_background": "light"
     },
     "output_type": "display_data"
    }
   ],
   "source": [
    "#visulization of countplot of Existed customer to the data set\n",
    "plt.figure(figsize=(8,8))\n",
    "sns.countplot(x='Exited',data=df)\n",
    "plt.xlabel(\"0: customer still with the bank, 1: Customer existed with the Bank\")\n",
    "plt.ylabel(\"Count\")\n",
    "plt.title(\"Bank Customer Churn Visulization\")\n",
    "plt.show()"
   ]
  },
  {
   "cell_type": "code",
   "execution_count": 12,
   "metadata": {},
   "outputs": [],
   "source": [
    "df.drop(['RowNumber','CustomerId','Surname'],axis=1,inplace=True)"
   ]
  },
  {
   "cell_type": "code",
   "execution_count": 13,
   "metadata": {},
   "outputs": [
    {
     "data": {
      "text/plain": [
       "Index(['CreditScore', 'Geography', 'Gender', 'Age', 'Tenure', 'Balance',\n",
       "       'NumOfProducts', 'HasCrCard', 'IsActiveMember', 'EstimatedSalary',\n",
       "       'Exited'],\n",
       "      dtype='object')"
      ]
     },
     "execution_count": 13,
     "metadata": {},
     "output_type": "execute_result"
    }
   ],
   "source": [
    "df.columns"
   ]
  },
  {
   "cell_type": "code",
   "execution_count": 14,
   "metadata": {},
   "outputs": [
    {
     "data": {
      "text/html": [
       "<div>\n",
       "<style scoped>\n",
       "    .dataframe tbody tr th:only-of-type {\n",
       "        vertical-align: middle;\n",
       "    }\n",
       "\n",
       "    .dataframe tbody tr th {\n",
       "        vertical-align: top;\n",
       "    }\n",
       "\n",
       "    .dataframe thead th {\n",
       "        text-align: right;\n",
       "    }\n",
       "</style>\n",
       "<table border=\"1\" class=\"dataframe\">\n",
       "  <thead>\n",
       "    <tr style=\"text-align: right;\">\n",
       "      <th></th>\n",
       "      <th>CreditScore</th>\n",
       "      <th>Geography</th>\n",
       "      <th>Gender</th>\n",
       "      <th>Age</th>\n",
       "      <th>Tenure</th>\n",
       "      <th>Balance</th>\n",
       "      <th>NumOfProducts</th>\n",
       "      <th>HasCrCard</th>\n",
       "      <th>IsActiveMember</th>\n",
       "      <th>EstimatedSalary</th>\n",
       "      <th>Exited</th>\n",
       "    </tr>\n",
       "  </thead>\n",
       "  <tbody>\n",
       "    <tr>\n",
       "      <td>0</td>\n",
       "      <td>619</td>\n",
       "      <td>France</td>\n",
       "      <td>Female</td>\n",
       "      <td>42</td>\n",
       "      <td>2</td>\n",
       "      <td>0.00</td>\n",
       "      <td>1</td>\n",
       "      <td>1</td>\n",
       "      <td>1</td>\n",
       "      <td>101348.88</td>\n",
       "      <td>1</td>\n",
       "    </tr>\n",
       "    <tr>\n",
       "      <td>1</td>\n",
       "      <td>608</td>\n",
       "      <td>Spain</td>\n",
       "      <td>Female</td>\n",
       "      <td>41</td>\n",
       "      <td>1</td>\n",
       "      <td>83807.86</td>\n",
       "      <td>1</td>\n",
       "      <td>0</td>\n",
       "      <td>1</td>\n",
       "      <td>112542.58</td>\n",
       "      <td>0</td>\n",
       "    </tr>\n",
       "    <tr>\n",
       "      <td>2</td>\n",
       "      <td>502</td>\n",
       "      <td>France</td>\n",
       "      <td>Female</td>\n",
       "      <td>42</td>\n",
       "      <td>8</td>\n",
       "      <td>159660.80</td>\n",
       "      <td>3</td>\n",
       "      <td>1</td>\n",
       "      <td>0</td>\n",
       "      <td>113931.57</td>\n",
       "      <td>1</td>\n",
       "    </tr>\n",
       "    <tr>\n",
       "      <td>3</td>\n",
       "      <td>699</td>\n",
       "      <td>France</td>\n",
       "      <td>Female</td>\n",
       "      <td>39</td>\n",
       "      <td>1</td>\n",
       "      <td>0.00</td>\n",
       "      <td>2</td>\n",
       "      <td>0</td>\n",
       "      <td>0</td>\n",
       "      <td>93826.63</td>\n",
       "      <td>0</td>\n",
       "    </tr>\n",
       "    <tr>\n",
       "      <td>4</td>\n",
       "      <td>850</td>\n",
       "      <td>Spain</td>\n",
       "      <td>Female</td>\n",
       "      <td>43</td>\n",
       "      <td>2</td>\n",
       "      <td>125510.82</td>\n",
       "      <td>1</td>\n",
       "      <td>1</td>\n",
       "      <td>1</td>\n",
       "      <td>79084.10</td>\n",
       "      <td>0</td>\n",
       "    </tr>\n",
       "  </tbody>\n",
       "</table>\n",
       "</div>"
      ],
      "text/plain": [
       "   CreditScore Geography  Gender  Age  Tenure    Balance  NumOfProducts  \\\n",
       "0          619    France  Female   42       2       0.00              1   \n",
       "1          608     Spain  Female   41       1   83807.86              1   \n",
       "2          502    France  Female   42       8  159660.80              3   \n",
       "3          699    France  Female   39       1       0.00              2   \n",
       "4          850     Spain  Female   43       2  125510.82              1   \n",
       "\n",
       "   HasCrCard  IsActiveMember  EstimatedSalary  Exited  \n",
       "0          1               1        101348.88       1  \n",
       "1          0               1        112542.58       0  \n",
       "2          1               0        113931.57       1  \n",
       "3          0               0         93826.63       0  \n",
       "4          1               1         79084.10       0  "
      ]
     },
     "execution_count": 14,
     "metadata": {},
     "output_type": "execute_result"
    }
   ],
   "source": [
    "df.head()"
   ]
  },
  {
   "cell_type": "markdown",
   "metadata": {},
   "source": [
    "# Feature Engineering\n",
    "converting categorical feature into numeric feature using get_dummies()"
   ]
  },
  {
   "cell_type": "code",
   "execution_count": 15,
   "metadata": {},
   "outputs": [],
   "source": [
    "#Converting 'Geography' and 'Gender' Column\n",
    "geography = pd.get_dummies(df['Geography'],drop_first=True)\n",
    "gender = pd.get_dummies(df['Gender'],drop_first=True)"
   ]
  },
  {
   "cell_type": "code",
   "execution_count": 16,
   "metadata": {},
   "outputs": [
    {
     "data": {
      "text/plain": [
       "Index(['CreditScore', 'Geography', 'Gender', 'Age', 'Tenure', 'Balance',\n",
       "       'NumOfProducts', 'HasCrCard', 'IsActiveMember', 'EstimatedSalary',\n",
       "       'Exited', 'Germany', 'Spain', 'Male'],\n",
       "      dtype='object')"
      ]
     },
     "execution_count": 16,
     "metadata": {},
     "output_type": "execute_result"
    }
   ],
   "source": [
    "# Appending columns to original dataframe\n",
    "df = pd.concat([df, geography, gender], axis=1)\n",
    "df.columns"
   ]
  },
  {
   "cell_type": "code",
   "execution_count": 17,
   "metadata": {},
   "outputs": [],
   "source": [
    "df.drop(['Geography', 'Gender'],axis=1,inplace=True)"
   ]
  },
  {
   "cell_type": "markdown",
   "metadata": {},
   "source": [
    "# Data Preprocessing\n",
    "\n",
    "• Split the dataset into independent features (ie: X) and label (ie: y).\n",
    "\n",
    "• Split the dataset further into train and test sets.\n",
    "\n",
    "• Apply feature scaling to train and test sets of independent features"
   ]
  },
  {
   "cell_type": "code",
   "execution_count": 18,
   "metadata": {},
   "outputs": [],
   "source": [
    "X = df.drop('Exited',axis=1)\n",
    "y = df['Exited']"
   ]
  },
  {
   "cell_type": "code",
   "execution_count": 19,
   "metadata": {},
   "outputs": [
    {
     "name": "stdout",
     "output_type": "stream",
     "text": [
      "X_train size (7000, 11), X_test size (3000, 11)\n"
     ]
    }
   ],
   "source": [
    "from sklearn.model_selection import train_test_split\n",
    "X_train,x_test,Y_train,y_test = train_test_split(X,y,test_size=0.3,random_state=0)\n",
    "print(\"X_train size {}, X_test size {}\".format(X_train.shape,x_test.shape))"
   ]
  },
  {
   "cell_type": "code",
   "execution_count": 20,
   "metadata": {},
   "outputs": [],
   "source": [
    "#feature scalling\n",
    "from sklearn.preprocessing import StandardScaler\n",
    "scaler = StandardScaler()\n",
    "X_train = scaler.fit_transform(X_train)\n",
    "x_test = scaler.fit_transform(x_test)"
   ]
  },
  {
   "cell_type": "markdown",
   "metadata": {},
   "source": [
    "# Building Artifisal Neural Network (ANN)"
   ]
  },
  {
   "cell_type": "code",
   "execution_count": 21,
   "metadata": {},
   "outputs": [
    {
     "name": "stderr",
     "output_type": "stream",
     "text": [
      "Using TensorFlow backend.\n"
     ]
    }
   ],
   "source": [
    "import keras\n",
    "from keras.models import Sequential\n",
    "from keras.layers import Dense"
   ]
  },
  {
   "cell_type": "code",
   "execution_count": 22,
   "metadata": {},
   "outputs": [],
   "source": [
    "#Initialising the ANN\n",
    "classifier = Sequential()"
   ]
  },
  {
   "cell_type": "code",
   "execution_count": 23,
   "metadata": {},
   "outputs": [],
   "source": [
    "#Adding the input layer and the first hidden layer\n",
    "classifier.add(Dense(units=6,kernel_initializer='he_uniform',activation='relu',input_dim=11))"
   ]
  },
  {
   "cell_type": "code",
   "execution_count": 24,
   "metadata": {},
   "outputs": [],
   "source": [
    "#Adding the secound hidden layer\n",
    "classifier.add(Dense(units=6,kernel_initializer='he_uniform',activation='relu'))"
   ]
  },
  {
   "cell_type": "code",
   "execution_count": 25,
   "metadata": {},
   "outputs": [],
   "source": [
    "#Adding the output layer\n",
    "classifier.add(Dense(units=1,kernel_initializer='glorot_uniform',activation='sigmoid'))"
   ]
  },
  {
   "cell_type": "code",
   "execution_count": 26,
   "metadata": {},
   "outputs": [],
   "source": [
    "#Compiling the ANN\n",
    "classifier.compile(optimizer='adam',loss='binary_crossentropy',metrics=['accuracy'])"
   ]
  },
  {
   "cell_type": "code",
   "execution_count": 27,
   "metadata": {},
   "outputs": [
    {
     "name": "stdout",
     "output_type": "stream",
     "text": [
      "Train on 4689 samples, validate on 2311 samples\n",
      "Epoch 1/100\n",
      "4689/4689 [==============================] - 9s 2ms/step - loss: 0.5429 - accuracy: 0.7931 - val_loss: 0.4915 - val_accuracy: 0.7979\n",
      "Epoch 2/100\n",
      "4689/4689 [==============================] - 4s 931us/step - loss: 0.4726 - accuracy: 0.8025 - val_loss: 0.4558 - val_accuracy: 0.8031\n",
      "Epoch 3/100\n",
      "4689/4689 [==============================] - 4s 907us/step - loss: 0.4412 - accuracy: 0.8140 - val_loss: 0.4378 - val_accuracy: 0.8161\n",
      "Epoch 4/100\n",
      "4689/4689 [==============================] - 4s 882us/step - loss: 0.4243 - accuracy: 0.8224 - val_loss: 0.4321 - val_accuracy: 0.8200\n",
      "Epoch 5/100\n",
      "4689/4689 [==============================] - 4s 914us/step - loss: 0.4158 - accuracy: 0.8273 - val_loss: 0.4286 - val_accuracy: 0.8235\n",
      "Epoch 6/100\n",
      "4689/4689 [==============================] - 4s 903us/step - loss: 0.4096 - accuracy: 0.8290 - val_loss: 0.4253 - val_accuracy: 0.8209\n",
      "Epoch 7/100\n",
      "4689/4689 [==============================] - 4s 907us/step - loss: 0.4043 - accuracy: 0.8317 - val_loss: 0.4220 - val_accuracy: 0.8213\n",
      "Epoch 8/100\n",
      "4689/4689 [==============================] - 5s 1ms/step - loss: 0.3996 - accuracy: 0.8330 - val_loss: 0.4181 - val_accuracy: 0.8291\n",
      "Epoch 9/100\n",
      "4689/4689 [==============================] - 4s 908us/step - loss: 0.3939 - accuracy: 0.8394 - val_loss: 0.4145 - val_accuracy: 0.8269\n",
      "Epoch 10/100\n",
      "4689/4689 [==============================] - 4s 908us/step - loss: 0.3889 - accuracy: 0.8420 - val_loss: 0.4106 - val_accuracy: 0.8295\n",
      "Epoch 11/100\n",
      "4689/4689 [==============================] - 4s 928us/step - loss: 0.3838 - accuracy: 0.8441 - val_loss: 0.4060 - val_accuracy: 0.8334\n",
      "Epoch 12/100\n",
      "4689/4689 [==============================] - 4s 941us/step - loss: 0.3787 - accuracy: 0.8469 - val_loss: 0.4016 - val_accuracy: 0.8325\n",
      "Epoch 13/100\n",
      "4689/4689 [==============================] - 4s 913us/step - loss: 0.3730 - accuracy: 0.8475 - val_loss: 0.3960 - val_accuracy: 0.8321\n",
      "Epoch 14/100\n",
      "4689/4689 [==============================] - 4s 915us/step - loss: 0.3678 - accuracy: 0.8494 - val_loss: 0.3910 - val_accuracy: 0.8343\n",
      "Epoch 15/100\n",
      "4689/4689 [==============================] - 4s 898us/step - loss: 0.3641 - accuracy: 0.8482 - val_loss: 0.3860 - val_accuracy: 0.8395\n",
      "Epoch 16/100\n",
      "4689/4689 [==============================] - 4s 904us/step - loss: 0.3600 - accuracy: 0.8509 - val_loss: 0.3813 - val_accuracy: 0.8421\n",
      "Epoch 17/100\n",
      "4689/4689 [==============================] - 4s 948us/step - loss: 0.3562 - accuracy: 0.8499 - val_loss: 0.3779 - val_accuracy: 0.8421\n",
      "Epoch 18/100\n",
      "4689/4689 [==============================] - 4s 931us/step - loss: 0.3532 - accuracy: 0.8539 - val_loss: 0.3746 - val_accuracy: 0.8425\n",
      "Epoch 19/100\n",
      "4689/4689 [==============================] - 4s 915us/step - loss: 0.3507 - accuracy: 0.8548 - val_loss: 0.3718 - val_accuracy: 0.8477\n",
      "Epoch 20/100\n",
      "4689/4689 [==============================] - 4s 923us/step - loss: 0.3484 - accuracy: 0.8578 - val_loss: 0.3693 - val_accuracy: 0.8477\n",
      "Epoch 21/100\n",
      "4689/4689 [==============================] - 4s 910us/step - loss: 0.3465 - accuracy: 0.8597 - val_loss: 0.3678 - val_accuracy: 0.8486\n",
      "Epoch 22/100\n",
      "4689/4689 [==============================] - 4s 934us/step - loss: 0.3448 - accuracy: 0.8610 - val_loss: 0.3666 - val_accuracy: 0.8507\n",
      "Epoch 23/100\n",
      "4689/4689 [==============================] - 4s 913us/step - loss: 0.3433 - accuracy: 0.8605 - val_loss: 0.3664 - val_accuracy: 0.8481\n",
      "Epoch 24/100\n",
      "4689/4689 [==============================] - 4s 918us/step - loss: 0.3417 - accuracy: 0.8588 - val_loss: 0.3657 - val_accuracy: 0.8507\n",
      "Epoch 25/100\n",
      "4689/4689 [==============================] - 4s 917us/step - loss: 0.3414 - accuracy: 0.8597 - val_loss: 0.3641 - val_accuracy: 0.8507\n",
      "Epoch 26/100\n",
      "4689/4689 [==============================] - 4s 913us/step - loss: 0.3406 - accuracy: 0.8597 - val_loss: 0.3628 - val_accuracy: 0.8498\n",
      "Epoch 27/100\n",
      "4689/4689 [==============================] - 4s 919us/step - loss: 0.3399 - accuracy: 0.8582 - val_loss: 0.3628 - val_accuracy: 0.8520\n",
      "Epoch 28/100\n",
      "4689/4689 [==============================] - 4s 921us/step - loss: 0.3397 - accuracy: 0.8599 - val_loss: 0.3638 - val_accuracy: 0.8511\n",
      "Epoch 29/100\n",
      "4689/4689 [==============================] - 4s 920us/step - loss: 0.3389 - accuracy: 0.8605 - val_loss: 0.3633 - val_accuracy: 0.8507\n",
      "Epoch 30/100\n",
      "4689/4689 [==============================] - 4s 912us/step - loss: 0.3386 - accuracy: 0.8601 - val_loss: 0.3629 - val_accuracy: 0.8524\n",
      "Epoch 31/100\n",
      "4689/4689 [==============================] - 4s 910us/step - loss: 0.3382 - accuracy: 0.8620 - val_loss: 0.3626 - val_accuracy: 0.8503\n",
      "Epoch 32/100\n",
      "4689/4689 [==============================] - 4s 916us/step - loss: 0.3377 - accuracy: 0.8624 - val_loss: 0.3617 - val_accuracy: 0.8524\n",
      "Epoch 33/100\n",
      "4689/4689 [==============================] - 4s 914us/step - loss: 0.3373 - accuracy: 0.8597 - val_loss: 0.3622 - val_accuracy: 0.8511\n",
      "Epoch 34/100\n",
      "4689/4689 [==============================] - 4s 906us/step - loss: 0.3363 - accuracy: 0.8631 - val_loss: 0.3642 - val_accuracy: 0.8516\n",
      "Epoch 35/100\n",
      "4689/4689 [==============================] - 4s 900us/step - loss: 0.3366 - accuracy: 0.8637 - val_loss: 0.3615 - val_accuracy: 0.8537\n",
      "Epoch 36/100\n",
      "4689/4689 [==============================] - 4s 883us/step - loss: 0.3366 - accuracy: 0.8622 - val_loss: 0.3620 - val_accuracy: 0.8520\n",
      "Epoch 37/100\n",
      "4689/4689 [==============================] - 4s 912us/step - loss: 0.3358 - accuracy: 0.8624 - val_loss: 0.3608 - val_accuracy: 0.8524\n",
      "Epoch 38/100\n",
      "4689/4689 [==============================] - 4s 923us/step - loss: 0.3354 - accuracy: 0.8637 - val_loss: 0.3618 - val_accuracy: 0.8555\n",
      "Epoch 39/100\n",
      "4689/4689 [==============================] - 5s 962us/step - loss: 0.3355 - accuracy: 0.8627 - val_loss: 0.3612 - val_accuracy: 0.8546\n",
      "Epoch 40/100\n",
      "4689/4689 [==============================] - 5s 985us/step - loss: 0.3352 - accuracy: 0.8639 - val_loss: 0.3613 - val_accuracy: 0.8572\n",
      "Epoch 41/100\n",
      "4689/4689 [==============================] - 5s 1ms/step - loss: 0.3343 - accuracy: 0.8635 - val_loss: 0.3623 - val_accuracy: 0.8576\n",
      "Epoch 42/100\n",
      "4689/4689 [==============================] - 4s 879us/step - loss: 0.3348 - accuracy: 0.8631 - val_loss: 0.3609 - val_accuracy: 0.8559\n",
      "Epoch 43/100\n",
      "4689/4689 [==============================] - 5s 1ms/step - loss: 0.3343 - accuracy: 0.8624 - val_loss: 0.3612 - val_accuracy: 0.8537\n",
      "Epoch 44/100\n",
      "4689/4689 [==============================] - 4s 953us/step - loss: 0.3338 - accuracy: 0.8631 - val_loss: 0.3621 - val_accuracy: 0.8529\n",
      "Epoch 45/100\n",
      "4689/4689 [==============================] - 5s 973us/step - loss: 0.3336 - accuracy: 0.8635 - val_loss: 0.3619 - val_accuracy: 0.8520\n",
      "Epoch 46/100\n",
      "4689/4689 [==============================] - 5s 1ms/step - loss: 0.3341 - accuracy: 0.8627 - val_loss: 0.3602 - val_accuracy: 0.8568\n",
      "Epoch 47/100\n",
      "4689/4689 [==============================] - 6s 1ms/step - loss: 0.3335 - accuracy: 0.8624 - val_loss: 0.3612 - val_accuracy: 0.8559\n",
      "Epoch 48/100\n",
      "4689/4689 [==============================] - 6s 1ms/step - loss: 0.3337 - accuracy: 0.8618 - val_loss: 0.3597 - val_accuracy: 0.8559\n",
      "Epoch 49/100\n",
      "4689/4689 [==============================] - 5s 989us/step - loss: 0.3332 - accuracy: 0.8633 - val_loss: 0.3611 - val_accuracy: 0.8555\n",
      "Epoch 50/100\n",
      "4689/4689 [==============================] - 5s 982us/step - loss: 0.3335 - accuracy: 0.8616 - val_loss: 0.3609 - val_accuracy: 0.8550\n",
      "Epoch 51/100\n",
      "4689/4689 [==============================] - 5s 997us/step - loss: 0.3335 - accuracy: 0.8644 - val_loss: 0.3604 - val_accuracy: 0.8529\n",
      "Epoch 52/100\n",
      "4689/4689 [==============================] - 5s 1ms/step - loss: 0.3333 - accuracy: 0.8627 - val_loss: 0.3596 - val_accuracy: 0.8559\n",
      "Epoch 53/100\n",
      "4689/4689 [==============================] - 6s 1ms/step - loss: 0.3327 - accuracy: 0.8620 - val_loss: 0.3595 - val_accuracy: 0.8546\n",
      "Epoch 54/100\n",
      "4689/4689 [==============================] - 6s 1ms/step - loss: 0.3327 - accuracy: 0.8635 - val_loss: 0.3590 - val_accuracy: 0.8555\n",
      "Epoch 55/100\n",
      "4689/4689 [==============================] - 5s 1ms/step - loss: 0.3327 - accuracy: 0.8629 - val_loss: 0.3591 - val_accuracy: 0.8546\n",
      "Epoch 56/100\n",
      "4689/4689 [==============================] - 4s 951us/step - loss: 0.3324 - accuracy: 0.8646 - val_loss: 0.3605 - val_accuracy: 0.8546\n",
      "Epoch 57/100\n",
      "4689/4689 [==============================] - 5s 1ms/step - loss: 0.3328 - accuracy: 0.8629 - val_loss: 0.3596 - val_accuracy: 0.8550\n",
      "Epoch 58/100\n",
      "4689/4689 [==============================] - 4s 954us/step - loss: 0.3324 - accuracy: 0.8646 - val_loss: 0.3592 - val_accuracy: 0.8550\n",
      "Epoch 59/100\n",
      "4689/4689 [==============================] - 5s 988us/step - loss: 0.3322 - accuracy: 0.8605 - val_loss: 0.3589 - val_accuracy: 0.8550\n",
      "Epoch 60/100\n",
      "4689/4689 [==============================] - 4s 949us/step - loss: 0.3323 - accuracy: 0.8644 - val_loss: 0.3593 - val_accuracy: 0.8550\n",
      "Epoch 61/100\n",
      "4689/4689 [==============================] - 5s 1ms/step - loss: 0.3317 - accuracy: 0.8631 - val_loss: 0.3624 - val_accuracy: 0.8550\n",
      "Epoch 62/100\n",
      "4689/4689 [==============================] - 5s 1ms/step - loss: 0.3321 - accuracy: 0.8614 - val_loss: 0.3585 - val_accuracy: 0.8533\n",
      "Epoch 63/100\n",
      "4689/4689 [==============================] - 5s 1ms/step - loss: 0.3319 - accuracy: 0.8624 - val_loss: 0.3593 - val_accuracy: 0.8537\n",
      "Epoch 64/100\n",
      "4689/4689 [==============================] - 6s 1ms/step - loss: 0.3309 - accuracy: 0.8629 - val_loss: 0.3601 - val_accuracy: 0.8559\n",
      "Epoch 65/100\n",
      "4689/4689 [==============================] - 5s 1ms/step - loss: 0.3307 - accuracy: 0.8624 - val_loss: 0.3649 - val_accuracy: 0.8542\n",
      "Epoch 66/100\n",
      "4689/4689 [==============================] - 4s 919us/step - loss: 0.3316 - accuracy: 0.8624 - val_loss: 0.3587 - val_accuracy: 0.8546\n",
      "Epoch 67/100\n",
      "4689/4689 [==============================] - 5s 1ms/step - loss: 0.3307 - accuracy: 0.8629 - val_loss: 0.3608 - val_accuracy: 0.8550\n",
      "Epoch 68/100\n",
      "4689/4689 [==============================] - 5s 1ms/step - loss: 0.3308 - accuracy: 0.8618 - val_loss: 0.3587 - val_accuracy: 0.8533\n",
      "Epoch 69/100\n",
      "4689/4689 [==============================] - 5s 1ms/step - loss: 0.3308 - accuracy: 0.8616 - val_loss: 0.3617 - val_accuracy: 0.8537\n",
      "Epoch 70/100\n",
      "4689/4689 [==============================] - 8s 2ms/step - loss: 0.3313 - accuracy: 0.8646 - val_loss: 0.3592 - val_accuracy: 0.8555\n",
      "Epoch 71/100\n",
      "4689/4689 [==============================] - 6s 1ms/step - loss: 0.3306 - accuracy: 0.8614 - val_loss: 0.3608 - val_accuracy: 0.8529\n",
      "Epoch 72/100\n",
      "4689/4689 [==============================] - 4s 952us/step - loss: 0.3309 - accuracy: 0.8627 - val_loss: 0.3592 - val_accuracy: 0.8550\n",
      "Epoch 73/100\n",
      "4689/4689 [==============================] - 5s 989us/step - loss: 0.3313 - accuracy: 0.8627 - val_loss: 0.3597 - val_accuracy: 0.8550\n",
      "Epoch 74/100\n",
      "4689/4689 [==============================] - 4s 957us/step - loss: 0.3307 - accuracy: 0.8622 - val_loss: 0.3605 - val_accuracy: 0.8498\n",
      "Epoch 75/100\n",
      "4689/4689 [==============================] - 5s 993us/step - loss: 0.3298 - accuracy: 0.8614 - val_loss: 0.3608 - val_accuracy: 0.8503\n",
      "Epoch 76/100\n",
      "4689/4689 [==============================] - 5s 966us/step - loss: 0.3306 - accuracy: 0.8616 - val_loss: 0.3591 - val_accuracy: 0.8542\n",
      "Epoch 77/100\n",
      "4689/4689 [==============================] - 6s 1ms/step - loss: 0.3303 - accuracy: 0.8646 - val_loss: 0.3594 - val_accuracy: 0.8542\n",
      "Epoch 78/100\n",
      "4689/4689 [==============================] - 5s 1ms/step - loss: 0.3303 - accuracy: 0.8631 - val_loss: 0.3590 - val_accuracy: 0.8546\n",
      "Epoch 79/100\n",
      "4689/4689 [==============================] - 5s 1ms/step - loss: 0.3298 - accuracy: 0.8627 - val_loss: 0.3608 - val_accuracy: 0.8546\n",
      "Epoch 80/100\n",
      "4689/4689 [==============================] - 4s 927us/step - loss: 0.3303 - accuracy: 0.8659 - val_loss: 0.3590 - val_accuracy: 0.8563\n",
      "Epoch 81/100\n",
      "4689/4689 [==============================] - 4s 923us/step - loss: 0.3294 - accuracy: 0.8631 - val_loss: 0.3607 - val_accuracy: 0.8555\n",
      "Epoch 82/100\n",
      "4689/4689 [==============================] - 4s 937us/step - loss: 0.3304 - accuracy: 0.8629 - val_loss: 0.3615 - val_accuracy: 0.8533\n",
      "Epoch 83/100\n",
      "4689/4689 [==============================] - 5s 1ms/step - loss: 0.3302 - accuracy: 0.8607 - val_loss: 0.3584 - val_accuracy: 0.8559\n",
      "Epoch 84/100\n",
      "4689/4689 [==============================] - 4s 950us/step - loss: 0.3300 - accuracy: 0.8624 - val_loss: 0.3590 - val_accuracy: 0.8550\n",
      "Epoch 85/100\n",
      "4689/4689 [==============================] - 4s 931us/step - loss: 0.3301 - accuracy: 0.8629 - val_loss: 0.3589 - val_accuracy: 0.8529\n",
      "Epoch 86/100\n",
      "4689/4689 [==============================] - 5s 1ms/step - loss: 0.3293 - accuracy: 0.8627 - val_loss: 0.3586 - val_accuracy: 0.8533\n",
      "Epoch 87/100\n",
      "4689/4689 [==============================] - 5s 972us/step - loss: 0.3299 - accuracy: 0.8622 - val_loss: 0.3586 - val_accuracy: 0.8542\n",
      "Epoch 88/100\n",
      "4689/4689 [==============================] - 5s 973us/step - loss: 0.3293 - accuracy: 0.8620 - val_loss: 0.3609 - val_accuracy: 0.8537\n",
      "Epoch 89/100\n",
      "4689/4689 [==============================] - 7s 1ms/step - loss: 0.3297 - accuracy: 0.8614 - val_loss: 0.3584 - val_accuracy: 0.8559\n",
      "Epoch 90/100\n",
      "4689/4689 [==============================] - 7s 1ms/step - loss: 0.3296 - accuracy: 0.8620 - val_loss: 0.3603 - val_accuracy: 0.8542\n",
      "Epoch 91/100\n",
      "4689/4689 [==============================] - 4s 854us/step - loss: 0.3297 - accuracy: 0.8622 - val_loss: 0.3594 - val_accuracy: 0.8537\n",
      "Epoch 92/100\n",
      "4689/4689 [==============================] - 4s 824us/step - loss: 0.3295 - accuracy: 0.8633 - val_loss: 0.3602 - val_accuracy: 0.8537\n",
      "Epoch 93/100\n",
      "4689/4689 [==============================] - 4s 822us/step - loss: 0.3296 - accuracy: 0.8616 - val_loss: 0.3614 - val_accuracy: 0.8546\n",
      "Epoch 94/100\n",
      "4689/4689 [==============================] - 5s 978us/step - loss: 0.3295 - accuracy: 0.8620 - val_loss: 0.3600 - val_accuracy: 0.8542\n",
      "Epoch 95/100\n",
      "4689/4689 [==============================] - 7s 1ms/step - loss: 0.3291 - accuracy: 0.8616 - val_loss: 0.3613 - val_accuracy: 0.8524\n",
      "Epoch 96/100\n",
      "4689/4689 [==============================] - 7s 1ms/step - loss: 0.3297 - accuracy: 0.8616 - val_loss: 0.3586 - val_accuracy: 0.8529\n",
      "Epoch 97/100\n",
      "4689/4689 [==============================] - 6s 1ms/step - loss: 0.3294 - accuracy: 0.8637 - val_loss: 0.3577 - val_accuracy: 0.8529\n",
      "Epoch 98/100\n",
      "4689/4689 [==============================] - 4s 779us/step - loss: 0.3291 - accuracy: 0.8622 - val_loss: 0.3599 - val_accuracy: 0.8563\n",
      "Epoch 99/100\n",
      "4689/4689 [==============================] - 4s 808us/step - loss: 0.3297 - accuracy: 0.8648 - val_loss: 0.3581 - val_accuracy: 0.8550\n",
      "Epoch 100/100\n",
      "4689/4689 [==============================] - 5s 1ms/step - loss: 0.3291 - accuracy: 0.8631 - val_loss: 0.3581 - val_accuracy: 0.8550\n"
     ]
    }
   ],
   "source": [
    "#Fitting the ANN to the Training set\n",
    "model_history = classifier.fit(X_train, Y_train, batch_size=10, validation_split=0.33, epochs=100)"
   ]
  },
  {
   "cell_type": "code",
   "execution_count": 28,
   "metadata": {},
   "outputs": [
    {
     "data": {
      "text/plain": [
       "dict_keys(['val_loss', 'val_accuracy', 'loss', 'accuracy'])"
      ]
     },
     "execution_count": 28,
     "metadata": {},
     "output_type": "execute_result"
    }
   ],
   "source": [
    "#List all data in history\n",
    "model_history.history.keys()"
   ]
  },
  {
   "cell_type": "code",
   "execution_count": 29,
   "metadata": {},
   "outputs": [
    {
     "data": {
      "image/png": "[encoded data removed]",
      "text/plain": [
       "<Figure size 576x576 with 1 Axes>"
      ]
     },
     "metadata": {
      "needs_background": "light"
     },
     "output_type": "display_data"
    }
   ],
   "source": [
    "#Summrize history of accuracy\n",
    "plt.figure(figsize=(8,8))\n",
    "plt.plot(model_history.history['accuracy'])\n",
    "plt.plot(model_history.history['val_accuracy'])\n",
    "plt.title(\"Model Accuracy\")\n",
    "plt.ylabel('Accuracy')\n",
    "plt.xlabel('Epoch')\n",
    "plt.legend(['Train', 'Test'], loc='lower right')\n",
    "plt.show()"
   ]
  },
  {
   "cell_type": "code",
   "execution_count": 30,
   "metadata": {},
   "outputs": [
    {
     "data": {
      "image/png": "[encoded data removed]",
      "text/plain": [
       "<Figure size 576x576 with 1 Axes>"
      ]
     },
     "metadata": {
      "needs_background": "light"
     },
     "output_type": "display_data"
    }
   ],
   "source": [
    "#Summarize history of accuracy\n",
    "plt.figure(figsize=(8,8))\n",
    "plt.plot(model_history.history['loss'])\n",
    "plt.plot(model_history.history['val_loss'])\n",
    "plt.title(\"Model loss\")\n",
    "plt.ylabel('Loss')\n",
    "plt.xlabel('Epoch')\n",
    "plt.legend(['Train','Test'],loc='upper right')\n",
    "plt.show()"
   ]
  },
  {
   "cell_type": "markdown",
   "metadata": {},
   "source": [
    "# Model Evalution"
   ]
  },
  {
   "cell_type": "code",
   "execution_count": 31,
   "metadata": {},
   "outputs": [],
   "source": [
    "#Predicting the test results \n",
    "y_pred = classifier.predict(x_test)"
   ]
  },
  {
   "cell_type": "code",
   "execution_count": 32,
   "metadata": {},
   "outputs": [
    {
     "data": {
      "text/plain": [
       "array([[0.2273638 ],\n",
       "       [0.31136465],\n",
       "       [0.18056244],\n",
       "       ...,\n",
       "       [0.15667757],\n",
       "       [0.04622328],\n",
       "       [0.52225083]], dtype=float32)"
      ]
     },
     "execution_count": 32,
     "metadata": {},
     "output_type": "execute_result"
    }
   ],
   "source": [
    "y_pred"
   ]
  },
  {
   "cell_type": "code",
   "execution_count": 33,
   "metadata": {},
   "outputs": [
    {
     "data": {
      "text/plain": [
       "array([[False],\n",
       "       [False],\n",
       "       [False],\n",
       "       ...,\n",
       "       [False],\n",
       "       [False],\n",
       "       [ True]])"
      ]
     },
     "execution_count": 33,
     "metadata": {},
     "output_type": "execute_result"
    }
   ],
   "source": [
    "y_pred = (y_pred > 0.5)\n",
    "y_pred"
   ]
  },
  {
   "cell_type": "code",
   "execution_count": 34,
   "metadata": {},
   "outputs": [
    {
     "data": {
      "text/plain": [
       "array([[2278,  101],\n",
       "       [ 317,  304]], dtype=int64)"
      ]
     },
     "execution_count": 34,
     "metadata": {},
     "output_type": "execute_result"
    }
   ],
   "source": [
    "#Making the confusion matrix\n",
    "from sklearn.metrics import confusion_matrix\n",
    "cm = confusion_matrix(y_test,y_pred)\n",
    "cm"
   ]
  },
  {
   "cell_type": "code",
   "execution_count": 35,
   "metadata": {},
   "outputs": [
    {
     "data": {
      "image/png": "[encoded data removed]",
      "text/plain": [
       "<Figure size 576x432 with 2 Axes>"
      ]
     },
     "metadata": {
      "needs_background": "light"
     },
     "output_type": "display_data"
    }
   ],
   "source": [
    "#Plotting the confusion matrix\n",
    "plt.figure(figsize=(8,6))\n",
    "sns.heatmap(cm,cmap='Blues',annot=True,xticklabels=['Did not Exit','Exit'],yticklabels=['Did not Exit: ','Exit'])\n",
    "plt.xlabel('Predicted values')\n",
    "plt.ylabel(\"Acutal Values\")\n",
    "plt.title(\"Confusion matrix of Artifisal Neaural Network : (ANN)\")\n",
    "plt.show()"
   ]
  },
  {
   "cell_type": "code",
   "execution_count": 36,
   "metadata": {},
   "outputs": [
    {
     "name": "stdout",
     "output_type": "stream",
     "text": [
      "The accuracy of ANN Model is 86.06666666666666%\n"
     ]
    }
   ],
   "source": [
    "#Calculating the accuracy\n",
    "from sklearn.metrics import accuracy_score\n",
    "score = accuracy_score(y_test,y_pred)\n",
    "print(\"The accuracy of ANN Model is {}%\".format(score*100))"
   ]
  },
  {
   "cell_type": "markdown",
   "metadata": {},
   "source": [
    "# Predictions "
   ]
  },
  {
   "cell_type": "code",
   "execution_count": 37,
   "metadata": {},
   "outputs": [],
   "source": [
    "def predict_exit(sample_value):\n",
    "    #convert list to numpy array\n",
    "    sample_value = np.array(sample_value)\n",
    "    #Reshape because sample_value contanious only 1 record\n",
    "    sample_value = sample_value.reshape(1,-1)\n",
    "    #Feature Scalling\n",
    "    sample_value = scaler.transform(sample_value)\n",
    "    return classifier.predict(sample_value)"
   ]
  },
  {
   "cell_type": "code",
   "execution_count": 38,
   "metadata": {},
   "outputs": [
    {
     "name": "stdout",
     "output_type": "stream",
     "text": [
      "Prediction: Low change of exit.\n"
     ]
    }
   ],
   "source": [
    "# Predictions\n",
    "# Value order: 'CreditScore','Age','Tenure','Balance','NumOfProducts','HasCrCard','IsActiveMember','EstimatedSalary','Germany','Spain','Male'.\n",
    "sample_value = [738, 62, 10, 83008.31, 1, 1, 1, 42766.03, 1, 0, 1]\n",
    "if predict_exit(sample_value)>0.5:\n",
    "  print('Prediction: High change of exit!')\n",
    "else:\n",
    "  print('Prediction: Low change of exit.')"
   ]
  },
  {
   "cell_type": "code",
   "execution_count": 39,
   "metadata": {},
   "outputs": [
    {
     "name": "stdout",
     "output_type": "stream",
     "text": [
      "Prediction: High change of exit!\n"
     ]
    }
   ],
   "source": [
    "# Predictions\n",
    "# Value order: 'CreditScore','Age','Tenure','Balance','NumOfProducts','HasCrCard','IsActiveMember','EstimatedSalary','Germany','Spain','Male'.\n",
    "sample_value = [805, 45, 9, 116585.97, 1, 1, 0, 189428.75, 1, 0, 0]\n",
    "if predict_exit(sample_value)>0.5:\n",
    "  print('Prediction: High change of exit!')\n",
    "else:\n",
    "  print('Prediction: Low change of exit.')"
   ]
  },
  {
   "cell_type": "code",
   "execution_count": null,
   "metadata": {},
   "outputs": [],
   "source": []
  }
 ],
 "metadata": {
  "kernelspec": {
   "display_name": "Python 3",
   "language": "python",
   "name": "python3"
  },
  "language_info": {
   "codemirror_mode": {
    "name": "ipython",
    "version": 3
   },
   "file_extension": ".py",
   "mimetype": "text/x-python",
   "name": "python",
   "nbconvert_exporter": "python",
   "pygments_lexer": "ipython3",
   "version": "3.7.4"
  }
 },
 "nbformat": 4,
 "nbformat_minor": 2
}
