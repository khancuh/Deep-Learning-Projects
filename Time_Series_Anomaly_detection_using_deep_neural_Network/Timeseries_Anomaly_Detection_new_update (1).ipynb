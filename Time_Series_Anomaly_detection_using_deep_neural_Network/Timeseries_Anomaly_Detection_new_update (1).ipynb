{
  "nbformat": 4,
  "nbformat_minor": 0,
  "metadata": {
    "colab": {
      "name": "Timeseries Anomaly Detection_new_update.ipynb",
      "provenance": [],
      "collapsed_sections": []
    },
    "kernelspec": {
      "name": "python3",
      "display_name": "Python 3"
    },
    "language_info": {
      "name": "python"
    },
    "accelerator": "GPU",
    "gpuClass": "standard"
  },
  "cells": [
    {
      "cell_type": "code",
      "execution_count": 1,
      "metadata": {
        "id": "r08hiVCDtQb5"
      },
      "outputs": [],
      "source": [
        "#how to import required libarary\n",
        "import pandas as pd\n",
        "import numpy as np\n",
        "import seaborn as sns\n",
        "import matplotlib.pyplot as plt"
      ]
    },
    {
      "cell_type": "code",
      "source": [
        "#Load the data set\n",
        "data1 = pd.read_csv('/content/drive/MyDrive/TimeSeries1.csv')\n",
        "data2 = pd.read_csv(\"/content/drive/MyDrive/LabelsTimeSeries.csv\")"
      ],
      "metadata": {
        "id": "Xi9CytxquKAy"
      },
      "execution_count": 2,
      "outputs": []
    },
    {
      "cell_type": "code",
      "source": [
        "#how to apply reset_indexing \n",
        "data1.reset_index(drop=True, inplace=True)\n",
        "data2.reset_index(drop=True, inplace=True)"
      ],
      "metadata": {
        "id": "8wjgwG6tfEoE"
      },
      "execution_count": 3,
      "outputs": []
    },
    {
      "cell_type": "code",
      "source": [
        "print(data1)"
      ],
      "metadata": {
        "colab": {
          "base_uri": "https://localhost:8080/"
        },
        "id": "nqwe1Ym5uNWX",
        "outputId": "31370d46-97f2-4f0b-f72f-e876e59c9d2c"
      },
      "execution_count": 4,
      "outputs": [
        {
          "output_type": "stream",
          "name": "stdout",
          "text": [
            "          v1     v2     v3   v4   v5   v6     v7     v8     v9    v10    v11\n",
            "0      -2.00   1.51  10.14  0.0  0.0  0.0 -15.78 -22.31 -11.70 -13.57  92.95\n",
            "1      -2.00   1.51  10.13  0.0  0.0  0.0 -16.86 -23.38 -10.31 -13.57  92.95\n",
            "2      -2.00   1.51  10.13  0.0  0.0  0.0 -16.86 -23.38 -10.31 -13.57  92.95\n",
            "3      -1.99   1.51  10.17  0.0  0.0  0.0 -16.86 -23.38 -10.31 -13.57  92.95\n",
            "4      -1.99   1.51  10.17  0.0  0.0  0.0 -16.86 -23.38 -10.31 -13.57  92.95\n",
            "...      ...    ...    ...  ...  ...  ...    ...    ...    ...    ...    ...\n",
            "509627 -8.27 -11.98  -9.35  0.0  0.0  0.0  30.00   8.24  13.90  -7.06 -32.33\n",
            "509628 -8.27 -12.00  -9.41  0.0  0.0  0.0  30.00   8.24  13.90  -7.07 -32.34\n",
            "509629 -8.25 -11.98  -9.40  0.0  0.0  0.0  30.00   8.24  13.90  -7.08 -32.35\n",
            "509630 -8.27 -12.00  -9.41  0.0  0.0  0.0  30.00   8.24  13.90  -7.09 -32.36\n",
            "509631 -8.25 -11.98  -9.40  0.0  0.0  0.0  30.00   8.24  13.90  -7.10 -32.37\n",
            "\n",
            "[509632 rows x 11 columns]\n"
          ]
        }
      ]
    },
    {
      "cell_type": "code",
      "source": [
        "print(data2)"
      ],
      "metadata": {
        "colab": {
          "base_uri": "https://localhost:8080/"
        },
        "id": "ftKZ8t83uUzD",
        "outputId": "4764b4da-7574-4f9e-de81-ee35e9d2d12d"
      },
      "execution_count": 5,
      "outputs": [
        {
          "output_type": "stream",
          "name": "stdout",
          "text": [
            "        label\n",
            "0           0\n",
            "1           0\n",
            "2           0\n",
            "3           0\n",
            "4           0\n",
            "...       ...\n",
            "509627      0\n",
            "509628      0\n",
            "509629      0\n",
            "509630      0\n",
            "509631      0\n",
            "\n",
            "[509632 rows x 1 columns]\n"
          ]
        }
      ]
    },
    {
      "cell_type": "code",
      "source": [
        "#how to concatenated the data set\n",
        "df = pd.concat([data1, data2], axis=1)"
      ],
      "metadata": {
        "id": "5u1VYMSceYP0"
      },
      "execution_count": 6,
      "outputs": []
    },
    {
      "cell_type": "code",
      "source": [
        "df.columns"
      ],
      "metadata": {
        "colab": {
          "base_uri": "https://localhost:8080/"
        },
        "id": "Aq8w4s-BEAIQ",
        "outputId": "ff849f44-8f47-4a63-80b7-4e9f4b83bf2e"
      },
      "execution_count": 7,
      "outputs": [
        {
          "output_type": "execute_result",
          "data": {
            "text/plain": [
              "Index(['v1', 'v2', 'v3', 'v4', 'v5', 'v6', 'v7', 'v8', 'v9', 'v10', 'v11',\n",
              "       'label'],\n",
              "      dtype='object')"
            ]
          },
          "metadata": {},
          "execution_count": 7
        }
      ]
    },
    {
      "cell_type": "code",
      "source": [
        "df.shape"
      ],
      "metadata": {
        "colab": {
          "base_uri": "https://localhost:8080/"
        },
        "id": "KNTlLvsffpHC",
        "outputId": "0d02fd90-89a7-40b7-85f0-5bf971393d59"
      },
      "execution_count": 8,
      "outputs": [
        {
          "output_type": "execute_result",
          "data": {
            "text/plain": [
              "(509632, 12)"
            ]
          },
          "metadata": {},
          "execution_count": 8
        }
      ]
    },
    {
      "cell_type": "code",
      "source": [
        "#trial to balance the dataset manually\n",
        "data2 = df[df['label']==0].sample(20000)\n",
        "data3 = df[df['label']==1]\n",
        "df=pd.concat([data2, data3])\n",
        "df=df.reset_index()"
      ],
      "metadata": {
        "id": "asgGWWrAD95F"
      },
      "execution_count": 9,
      "outputs": []
    },
    {
      "cell_type": "code",
      "source": [
        "df.shape"
      ],
      "metadata": {
        "colab": {
          "base_uri": "https://localhost:8080/"
        },
        "id": "VITpUlbgaA1n",
        "outputId": "7d651531-24a7-4304-dd9c-bbde094d7644"
      },
      "execution_count": 10,
      "outputs": [
        {
          "output_type": "execute_result",
          "data": {
            "text/plain": [
              "(20443, 13)"
            ]
          },
          "metadata": {},
          "execution_count": 10
        }
      ]
    },
    {
      "cell_type": "code",
      "source": [
        "df.columns"
      ],
      "metadata": {
        "colab": {
          "base_uri": "https://localhost:8080/"
        },
        "id": "hKdzkQhBEeAI",
        "outputId": "382b52ce-60d8-4c26-87a3-cc9b741433ce"
      },
      "execution_count": 11,
      "outputs": [
        {
          "output_type": "execute_result",
          "data": {
            "text/plain": [
              "Index(['index', 'v1', 'v2', 'v3', 'v4', 'v5', 'v6', 'v7', 'v8', 'v9', 'v10',\n",
              "       'v11', 'label'],\n",
              "      dtype='object')"
            ]
          },
          "metadata": {},
          "execution_count": 11
        }
      ]
    },
    {
      "cell_type": "code",
      "source": [
        "df.head()"
      ],
      "metadata": {
        "colab": {
          "base_uri": "https://localhost:8080/",
          "height": 206
        },
        "id": "ZA_TtbFlF-Cz",
        "outputId": "e8687ecc-4817-4015-b237-ab1c9ad13e1b"
      },
      "execution_count": 12,
      "outputs": [
        {
          "output_type": "execute_result",
          "data": {
            "text/plain": [
              "    index     v1     v2     v3    v4    v5    v6      v7      v8      v9  \\\n",
              "0  423421   0.78 -16.57  -8.33 -0.14 -0.53 -0.03    0.00    0.00    0.00   \n",
              "1  264728  -1.09   1.13   9.49  0.00  0.00  0.00  245.60  251.54  172.36   \n",
              "2  439453  -9.42  -8.52 -11.78 -0.31 -0.69 -0.20    0.00    0.00    0.00   \n",
              "3  323256  -6.71  -0.50   8.25  0.01 -0.04  0.08   66.29   22.85  -33.28   \n",
              "4   48087 -10.13  -4.50   0.39  0.00  0.06  0.00   82.35   19.26   -0.95   \n",
              "\n",
              "     v10    v11  label  \n",
              "0  23.01 -30.97      0  \n",
              "1  -8.83  93.39      0  \n",
              "2 -12.99 -45.72      0  \n",
              "3 -38.68  70.06      0  \n",
              "4 -41.74  -1.68      0  "
            ],
            "text/html": [
              "\n",
              "  <div id=\"df-7a852730-dd29-4580-81df-f484908617dc\">\n",
              "    <div class=\"colab-df-container\">\n",
              "      <div>\n",
              "<style scoped>\n",
              "    .dataframe tbody tr th:only-of-type {\n",
              "        vertical-align: middle;\n",
              "    }\n",
              "\n",
              "    .dataframe tbody tr th {\n",
              "        vertical-align: top;\n",
              "    }\n",
              "\n",
              "    .dataframe thead th {\n",
              "        text-align: right;\n",
              "    }\n",
              "</style>\n",
              "<table border=\"1\" class=\"dataframe\">\n",
              "  <thead>\n",
              "    <tr style=\"text-align: right;\">\n",
              "      <th></th>\n",
              "      <th>index</th>\n",
              "      <th>v1</th>\n",
              "      <th>v2</th>\n",
              "      <th>v3</th>\n",
              "      <th>v4</th>\n",
              "      <th>v5</th>\n",
              "      <th>v6</th>\n",
              "      <th>v7</th>\n",
              "      <th>v8</th>\n",
              "      <th>v9</th>\n",
              "      <th>v10</th>\n",
              "      <th>v11</th>\n",
              "      <th>label</th>\n",
              "    </tr>\n",
              "  </thead>\n",
              "  <tbody>\n",
              "    <tr>\n",
              "      <th>0</th>\n",
              "      <td>423421</td>\n",
              "      <td>0.78</td>\n",
              "      <td>-16.57</td>\n",
              "      <td>-8.33</td>\n",
              "      <td>-0.14</td>\n",
              "      <td>-0.53</td>\n",
              "      <td>-0.03</td>\n",
              "      <td>0.00</td>\n",
              "      <td>0.00</td>\n",
              "      <td>0.00</td>\n",
              "      <td>23.01</td>\n",
              "      <td>-30.97</td>\n",
              "      <td>0</td>\n",
              "    </tr>\n",
              "    <tr>\n",
              "      <th>1</th>\n",
              "      <td>264728</td>\n",
              "      <td>-1.09</td>\n",
              "      <td>1.13</td>\n",
              "      <td>9.49</td>\n",
              "      <td>0.00</td>\n",
              "      <td>0.00</td>\n",
              "      <td>0.00</td>\n",
              "      <td>245.60</td>\n",
              "      <td>251.54</td>\n",
              "      <td>172.36</td>\n",
              "      <td>-8.83</td>\n",
              "      <td>93.39</td>\n",
              "      <td>0</td>\n",
              "    </tr>\n",
              "    <tr>\n",
              "      <th>2</th>\n",
              "      <td>439453</td>\n",
              "      <td>-9.42</td>\n",
              "      <td>-8.52</td>\n",
              "      <td>-11.78</td>\n",
              "      <td>-0.31</td>\n",
              "      <td>-0.69</td>\n",
              "      <td>-0.20</td>\n",
              "      <td>0.00</td>\n",
              "      <td>0.00</td>\n",
              "      <td>0.00</td>\n",
              "      <td>-12.99</td>\n",
              "      <td>-45.72</td>\n",
              "      <td>0</td>\n",
              "    </tr>\n",
              "    <tr>\n",
              "      <th>3</th>\n",
              "      <td>323256</td>\n",
              "      <td>-6.71</td>\n",
              "      <td>-0.50</td>\n",
              "      <td>8.25</td>\n",
              "      <td>0.01</td>\n",
              "      <td>-0.04</td>\n",
              "      <td>0.08</td>\n",
              "      <td>66.29</td>\n",
              "      <td>22.85</td>\n",
              "      <td>-33.28</td>\n",
              "      <td>-38.68</td>\n",
              "      <td>70.06</td>\n",
              "      <td>0</td>\n",
              "    </tr>\n",
              "    <tr>\n",
              "      <th>4</th>\n",
              "      <td>48087</td>\n",
              "      <td>-10.13</td>\n",
              "      <td>-4.50</td>\n",
              "      <td>0.39</td>\n",
              "      <td>0.00</td>\n",
              "      <td>0.06</td>\n",
              "      <td>0.00</td>\n",
              "      <td>82.35</td>\n",
              "      <td>19.26</td>\n",
              "      <td>-0.95</td>\n",
              "      <td>-41.74</td>\n",
              "      <td>-1.68</td>\n",
              "      <td>0</td>\n",
              "    </tr>\n",
              "  </tbody>\n",
              "</table>\n",
              "</div>\n",
              "      <button class=\"colab-df-convert\" onclick=\"convertToInteractive('df-7a852730-dd29-4580-81df-f484908617dc')\"\n",
              "              title=\"Convert this dataframe to an interactive table.\"\n",
              "              style=\"display:none;\">\n",
              "        \n",
              "  <svg xmlns=\"http://www.w3.org/2000/svg\" height=\"24px\"viewBox=\"0 0 24 24\"\n",
              "       width=\"24px\">\n",
              "    <path d=\"M0 0h24v24H0V0z\" fill=\"none\"/>\n",
              "    <path d=\"M18.56 5.44l.94 2.06.94-2.06 2.06-.94-2.06-.94-.94-2.06-.94 2.06-2.06.94zm-11 1L8.5 8.5l.94-2.06 2.06-.94-2.06-.94L8.5 2.5l-.94 2.06-2.06.94zm10 10l.94 2.06.94-2.06 2.06-.94-2.06-.94-.94-2.06-.94 2.06-2.06.94z\"/><path d=\"M17.41 7.96l-1.37-1.37c-.4-.4-.92-.59-1.43-.59-.52 0-1.04.2-1.43.59L10.3 9.45l-7.72 7.72c-.78.78-.78 2.05 0 2.83L4 21.41c.39.39.9.59 1.41.59.51 0 1.02-.2 1.41-.59l7.78-7.78 2.81-2.81c.8-.78.8-2.07 0-2.86zM5.41 20L4 18.59l7.72-7.72 1.47 1.35L5.41 20z\"/>\n",
              "  </svg>\n",
              "      </button>\n",
              "      \n",
              "  <style>\n",
              "    .colab-df-container {\n",
              "      display:flex;\n",
              "      flex-wrap:wrap;\n",
              "      gap: 12px;\n",
              "    }\n",
              "\n",
              "    .colab-df-convert {\n",
              "      background-color: #E8F0FE;\n",
              "      border: none;\n",
              "      border-radius: 50%;\n",
              "      cursor: pointer;\n",
              "      display: none;\n",
              "      fill: #1967D2;\n",
              "      height: 32px;\n",
              "      padding: 0 0 0 0;\n",
              "      width: 32px;\n",
              "    }\n",
              "\n",
              "    .colab-df-convert:hover {\n",
              "      background-color: #E2EBFA;\n",
              "      box-shadow: 0px 1px 2px rgba(60, 64, 67, 0.3), 0px 1px 3px 1px rgba(60, 64, 67, 0.15);\n",
              "      fill: #174EA6;\n",
              "    }\n",
              "\n",
              "    [theme=dark] .colab-df-convert {\n",
              "      background-color: #3B4455;\n",
              "      fill: #D2E3FC;\n",
              "    }\n",
              "\n",
              "    [theme=dark] .colab-df-convert:hover {\n",
              "      background-color: #434B5C;\n",
              "      box-shadow: 0px 1px 3px 1px rgba(0, 0, 0, 0.15);\n",
              "      filter: drop-shadow(0px 1px 2px rgba(0, 0, 0, 0.3));\n",
              "      fill: #FFFFFF;\n",
              "    }\n",
              "  </style>\n",
              "\n",
              "      <script>\n",
              "        const buttonEl =\n",
              "          document.querySelector('#df-7a852730-dd29-4580-81df-f484908617dc button.colab-df-convert');\n",
              "        buttonEl.style.display =\n",
              "          google.colab.kernel.accessAllowed ? 'block' : 'none';\n",
              "\n",
              "        async function convertToInteractive(key) {\n",
              "          const element = document.querySelector('#df-7a852730-dd29-4580-81df-f484908617dc');\n",
              "          const dataTable =\n",
              "            await google.colab.kernel.invokeFunction('convertToInteractive',\n",
              "                                                     [key], {});\n",
              "          if (!dataTable) return;\n",
              "\n",
              "          const docLinkHtml = 'Like what you see? Visit the ' +\n",
              "            '<a target=\"_blank\" href=https://colab.research.google.com/notebooks/data_table.ipynb>data table notebook</a>'\n",
              "            + ' to learn more about interactive tables.';\n",
              "          element.innerHTML = '';\n",
              "          dataTable['output_type'] = 'display_data';\n",
              "          await google.colab.output.renderOutput(dataTable, element);\n",
              "          const docLink = document.createElement('div');\n",
              "          docLink.innerHTML = docLinkHtml;\n",
              "          element.appendChild(docLink);\n",
              "        }\n",
              "      </script>\n",
              "    </div>\n",
              "  </div>\n",
              "  "
            ]
          },
          "metadata": {},
          "execution_count": 12
        }
      ]
    },
    {
      "cell_type": "code",
      "source": [
        "# Remove two columns name \n",
        "df.drop(['index'], axis=1, inplace=True)"
      ],
      "metadata": {
        "id": "AsPulejqFM13"
      },
      "execution_count": 13,
      "outputs": []
    },
    {
      "cell_type": "code",
      "source": [
        "df.columns"
      ],
      "metadata": {
        "colab": {
          "base_uri": "https://localhost:8080/"
        },
        "id": "9U6uBfM1GJv2",
        "outputId": "68407bf9-c92b-432a-afdc-ac16e17a4718"
      },
      "execution_count": 14,
      "outputs": [
        {
          "output_type": "execute_result",
          "data": {
            "text/plain": [
              "Index(['v1', 'v2', 'v3', 'v4', 'v5', 'v6', 'v7', 'v8', 'v9', 'v10', 'v11',\n",
              "       'label'],\n",
              "      dtype='object')"
            ]
          },
          "metadata": {},
          "execution_count": 14
        }
      ]
    },
    {
      "cell_type": "code",
      "source": [
        "df.groupby('label').size()"
      ],
      "metadata": {
        "colab": {
          "base_uri": "https://localhost:8080/"
        },
        "id": "WMHUEDmkEjaU",
        "outputId": "65ccb12a-b144-4277-beed-a6f791b7c38e"
      },
      "execution_count": 15,
      "outputs": [
        {
          "output_type": "execute_result",
          "data": {
            "text/plain": [
              "label\n",
              "0    20000\n",
              "1      443\n",
              "dtype: int64"
            ]
          },
          "metadata": {},
          "execution_count": 15
        }
      ]
    },
    {
      "cell_type": "code",
      "source": [
        "print(\"how to check shape of the dataset: \",df.shape)"
      ],
      "metadata": {
        "colab": {
          "base_uri": "https://localhost:8080/"
        },
        "id": "W7jUwYHgeNdj",
        "outputId": "141e87d4-ff2e-426c-ca34-ab40faac9d86"
      },
      "execution_count": 16,
      "outputs": [
        {
          "output_type": "stream",
          "name": "stdout",
          "text": [
            "how to check shape of the dataset:  (20443, 12)\n"
          ]
        }
      ]
    },
    {
      "cell_type": "code",
      "source": [
        "#how  check nan values in overall data set\n",
        "df.isnull().sum().max()"
      ],
      "metadata": {
        "colab": {
          "base_uri": "https://localhost:8080/"
        },
        "id": "ek-CaCMtfq93",
        "outputId": "f6634351-7847-4ba4-f1d2-622b9c6d39e0"
      },
      "execution_count": 17,
      "outputs": [
        {
          "output_type": "execute_result",
          "data": {
            "text/plain": [
              "0"
            ]
          },
          "metadata": {},
          "execution_count": 17
        }
      ]
    },
    {
      "cell_type": "code",
      "source": [
        "#how to check columns\n",
        "df.columns"
      ],
      "metadata": {
        "colab": {
          "base_uri": "https://localhost:8080/"
        },
        "id": "QvSJYuRwf-5X",
        "outputId": "9f0ff895-bea2-4f8e-c021-5df60b28a653"
      },
      "execution_count": 18,
      "outputs": [
        {
          "output_type": "execute_result",
          "data": {
            "text/plain": [
              "Index(['v1', 'v2', 'v3', 'v4', 'v5', 'v6', 'v7', 'v8', 'v9', 'v10', 'v11',\n",
              "       'label'],\n",
              "      dtype='object')"
            ]
          },
          "metadata": {},
          "execution_count": 18
        }
      ]
    },
    {
      "cell_type": "code",
      "source": [
        "#how to visulize the imbalanced data set\n",
        "colors = [\"#0101DF\", \"#DF0101\"]\n",
        "sns.countplot('label', data=df, palette=colors)"
      ],
      "metadata": {
        "colab": {
          "base_uri": "https://localhost:8080/",
          "height": 351
        },
        "id": "GT4PhWMUf3Yi",
        "outputId": "edab1055-f42f-4543-f095-8def76c49139"
      },
      "execution_count": 19,
      "outputs": [
        {
          "output_type": "stream",
          "name": "stderr",
          "text": [
            "/usr/local/lib/python3.7/dist-packages/seaborn/_decorators.py:43: FutureWarning: Pass the following variable as a keyword arg: x. From version 0.12, the only valid positional argument will be `data`, and passing other arguments without an explicit keyword will result in an error or misinterpretation.\n",
            "  FutureWarning\n"
          ]
        },
        {
          "output_type": "execute_result",
          "data": {
            "text/plain": [
              "<matplotlib.axes._subplots.AxesSubplot at 0x7f60fd2cfd50>"
            ]
          },
          "metadata": {},
          "execution_count": 19
        },
        {
          "output_type": "display_data",
          "data": {
            "text/plain": [
              "<Figure size 432x288 with 1 Axes>"
            ],
            "image/png": "[encoded data removed]"
          },
          "metadata": {
            "needs_background": "light"
          }
        }
      ]
    },
    {
      "cell_type": "code",
      "source": [
        "#how to check header section\n",
        "df.head()"
      ],
      "metadata": {
        "colab": {
          "base_uri": "https://localhost:8080/",
          "height": 206
        },
        "id": "AV2grXqasG81",
        "outputId": "bc14f506-ef9a-4add-bbe6-ddcbce399a1b"
      },
      "execution_count": null,
      "outputs": [
        {
          "output_type": "execute_result",
          "data": {
            "text/plain": [
              "      v1     v2     v3    v4    v5    v6     v7     v8     v9    v10    v11  \\\n",
              "0  -0.66  -1.32 -10.33  0.00  0.00  0.00 -18.85  19.26  76.28  -0.22 -81.91   \n",
              "1  -7.62  -3.18   3.60  0.37 -0.72  0.32  62.14  29.84 -15.42 -38.35  37.02   \n",
              "2   2.58 -16.19  -9.24 -0.07 -0.14  0.04 -44.60  23.47  -7.89  35.75 -42.04   \n",
              "3  -8.71  -5.08  -0.85  0.00  0.02 -0.04  55.47  16.75  12.48 -35.48  -3.92   \n",
              "4 -10.15  -4.34   0.00  0.01  0.00  0.01  82.71  22.13  -0.26 -41.08   0.69   \n",
              "\n",
              "   label  \n",
              "0      0  \n",
              "1      0  \n",
              "2      0  \n",
              "3      0  \n",
              "4      0  "
            ],
            "text/html": [
              "\n",
              "  <div id=\"df-eac39756-7f0b-45c7-a7f0-00fc5f346233\">\n",
              "    <div class=\"colab-df-container\">\n",
              "      <div>\n",
              "<style scoped>\n",
              "    .dataframe tbody tr th:only-of-type {\n",
              "        vertical-align: middle;\n",
              "    }\n",
              "\n",
              "    .dataframe tbody tr th {\n",
              "        vertical-align: top;\n",
              "    }\n",
              "\n",
              "    .dataframe thead th {\n",
              "        text-align: right;\n",
              "    }\n",
              "</style>\n",
              "<table border=\"1\" class=\"dataframe\">\n",
              "  <thead>\n",
              "    <tr style=\"text-align: right;\">\n",
              "      <th></th>\n",
              "      <th>v1</th>\n",
              "      <th>v2</th>\n",
              "      <th>v3</th>\n",
              "      <th>v4</th>\n",
              "      <th>v5</th>\n",
              "      <th>v6</th>\n",
              "      <th>v7</th>\n",
              "      <th>v8</th>\n",
              "      <th>v9</th>\n",
              "      <th>v10</th>\n",
              "      <th>v11</th>\n",
              "      <th>label</th>\n",
              "    </tr>\n",
              "  </thead>\n",
              "  <tbody>\n",
              "    <tr>\n",
              "      <th>0</th>\n",
              "      <td>-0.66</td>\n",
              "      <td>-1.32</td>\n",
              "      <td>-10.33</td>\n",
              "      <td>0.00</td>\n",
              "      <td>0.00</td>\n",
              "      <td>0.00</td>\n",
              "      <td>-18.85</td>\n",
              "      <td>19.26</td>\n",
              "      <td>76.28</td>\n",
              "      <td>-0.22</td>\n",
              "      <td>-81.91</td>\n",
              "      <td>0</td>\n",
              "    </tr>\n",
              "    <tr>\n",
              "      <th>1</th>\n",
              "      <td>-7.62</td>\n",
              "      <td>-3.18</td>\n",
              "      <td>3.60</td>\n",
              "      <td>0.37</td>\n",
              "      <td>-0.72</td>\n",
              "      <td>0.32</td>\n",
              "      <td>62.14</td>\n",
              "      <td>29.84</td>\n",
              "      <td>-15.42</td>\n",
              "      <td>-38.35</td>\n",
              "      <td>37.02</td>\n",
              "      <td>0</td>\n",
              "    </tr>\n",
              "    <tr>\n",
              "      <th>2</th>\n",
              "      <td>2.58</td>\n",
              "      <td>-16.19</td>\n",
              "      <td>-9.24</td>\n",
              "      <td>-0.07</td>\n",
              "      <td>-0.14</td>\n",
              "      <td>0.04</td>\n",
              "      <td>-44.60</td>\n",
              "      <td>23.47</td>\n",
              "      <td>-7.89</td>\n",
              "      <td>35.75</td>\n",
              "      <td>-42.04</td>\n",
              "      <td>0</td>\n",
              "    </tr>\n",
              "    <tr>\n",
              "      <th>3</th>\n",
              "      <td>-8.71</td>\n",
              "      <td>-5.08</td>\n",
              "      <td>-0.85</td>\n",
              "      <td>0.00</td>\n",
              "      <td>0.02</td>\n",
              "      <td>-0.04</td>\n",
              "      <td>55.47</td>\n",
              "      <td>16.75</td>\n",
              "      <td>12.48</td>\n",
              "      <td>-35.48</td>\n",
              "      <td>-3.92</td>\n",
              "      <td>0</td>\n",
              "    </tr>\n",
              "    <tr>\n",
              "      <th>4</th>\n",
              "      <td>-10.15</td>\n",
              "      <td>-4.34</td>\n",
              "      <td>0.00</td>\n",
              "      <td>0.01</td>\n",
              "      <td>0.00</td>\n",
              "      <td>0.01</td>\n",
              "      <td>82.71</td>\n",
              "      <td>22.13</td>\n",
              "      <td>-0.26</td>\n",
              "      <td>-41.08</td>\n",
              "      <td>0.69</td>\n",
              "      <td>0</td>\n",
              "    </tr>\n",
              "  </tbody>\n",
              "</table>\n",
              "</div>\n",
              "      <button class=\"colab-df-convert\" onclick=\"convertToInteractive('df-eac39756-7f0b-45c7-a7f0-00fc5f346233')\"\n",
              "              title=\"Convert this dataframe to an interactive table.\"\n",
              "              style=\"display:none;\">\n",
              "        \n",
              "  <svg xmlns=\"http://www.w3.org/2000/svg\" height=\"24px\"viewBox=\"0 0 24 24\"\n",
              "       width=\"24px\">\n",
              "    <path d=\"M0 0h24v24H0V0z\" fill=\"none\"/>\n",
              "    <path d=\"M18.56 5.44l.94 2.06.94-2.06 2.06-.94-2.06-.94-.94-2.06-.94 2.06-2.06.94zm-11 1L8.5 8.5l.94-2.06 2.06-.94-2.06-.94L8.5 2.5l-.94 2.06-2.06.94zm10 10l.94 2.06.94-2.06 2.06-.94-2.06-.94-.94-2.06-.94 2.06-2.06.94z\"/><path d=\"M17.41 7.96l-1.37-1.37c-.4-.4-.92-.59-1.43-.59-.52 0-1.04.2-1.43.59L10.3 9.45l-7.72 7.72c-.78.78-.78 2.05 0 2.83L4 21.41c.39.39.9.59 1.41.59.51 0 1.02-.2 1.41-.59l7.78-7.78 2.81-2.81c.8-.78.8-2.07 0-2.86zM5.41 20L4 18.59l7.72-7.72 1.47 1.35L5.41 20z\"/>\n",
              "  </svg>\n",
              "      </button>\n",
              "      \n",
              "  <style>\n",
              "    .colab-df-container {\n",
              "      display:flex;\n",
              "      flex-wrap:wrap;\n",
              "      gap: 12px;\n",
              "    }\n",
              "\n",
              "    .colab-df-convert {\n",
              "      background-color: #E8F0FE;\n",
              "      border: none;\n",
              "      border-radius: 50%;\n",
              "      cursor: pointer;\n",
              "      display: none;\n",
              "      fill: #1967D2;\n",
              "      height: 32px;\n",
              "      padding: 0 0 0 0;\n",
              "      width: 32px;\n",
              "    }\n",
              "\n",
              "    .colab-df-convert:hover {\n",
              "      background-color: #E2EBFA;\n",
              "      box-shadow: 0px 1px 2px rgba(60, 64, 67, 0.3), 0px 1px 3px 1px rgba(60, 64, 67, 0.15);\n",
              "      fill: #174EA6;\n",
              "    }\n",
              "\n",
              "    [theme=dark] .colab-df-convert {\n",
              "      background-color: #3B4455;\n",
              "      fill: #D2E3FC;\n",
              "    }\n",
              "\n",
              "    [theme=dark] .colab-df-convert:hover {\n",
              "      background-color: #434B5C;\n",
              "      box-shadow: 0px 1px 3px 1px rgba(0, 0, 0, 0.15);\n",
              "      filter: drop-shadow(0px 1px 2px rgba(0, 0, 0, 0.3));\n",
              "      fill: #FFFFFF;\n",
              "    }\n",
              "  </style>\n",
              "\n",
              "      <script>\n",
              "        const buttonEl =\n",
              "          document.querySelector('#df-eac39756-7f0b-45c7-a7f0-00fc5f346233 button.colab-df-convert');\n",
              "        buttonEl.style.display =\n",
              "          google.colab.kernel.accessAllowed ? 'block' : 'none';\n",
              "\n",
              "        async function convertToInteractive(key) {\n",
              "          const element = document.querySelector('#df-eac39756-7f0b-45c7-a7f0-00fc5f346233');\n",
              "          const dataTable =\n",
              "            await google.colab.kernel.invokeFunction('convertToInteractive',\n",
              "                                                     [key], {});\n",
              "          if (!dataTable) return;\n",
              "\n",
              "          const docLinkHtml = 'Like what you see? Visit the ' +\n",
              "            '<a target=\"_blank\" href=https://colab.research.google.com/notebooks/data_table.ipynb>data table notebook</a>'\n",
              "            + ' to learn more about interactive tables.';\n",
              "          element.innerHTML = '';\n",
              "          dataTable['output_type'] = 'display_data';\n",
              "          await google.colab.output.renderOutput(dataTable, element);\n",
              "          const docLink = document.createElement('div');\n",
              "          docLink.innerHTML = docLinkHtml;\n",
              "          element.appendChild(docLink);\n",
              "        }\n",
              "      </script>\n",
              "    </div>\n",
              "  </div>\n",
              "  "
            ]
          },
          "metadata": {},
          "execution_count": 19
        }
      ]
    },
    {
      "cell_type": "code",
      "source": [
        "df.columns"
      ],
      "metadata": {
        "colab": {
          "base_uri": "https://localhost:8080/"
        },
        "id": "hSssphv3sPVe",
        "outputId": "c8d8cb0a-efcc-40d5-a1a4-1e049db86905"
      },
      "execution_count": null,
      "outputs": [
        {
          "output_type": "execute_result",
          "data": {
            "text/plain": [
              "Index(['v1', 'v2', 'v3', 'v4', 'v5', 'v6', 'v7', 'v8', 'v9', 'v10', 'v11',\n",
              "       'label'],\n",
              "      dtype='object')"
            ]
          },
          "metadata": {},
          "execution_count": 20
        }
      ]
    },
    {
      "cell_type": "code",
      "source": [
        "data = df.drop(['label'], axis=1)\n",
        "X = data.loc[:,]  # independent variables data\n",
        "y = df.label  # dependednt variable data"
      ],
      "metadata": {
        "id": "DzG_93MztKIe"
      },
      "execution_count": null,
      "outputs": []
    },
    {
      "cell_type": "code",
      "source": [
        "data.loc[:, \"v3\":\"v11\"]"
      ],
      "metadata": {
        "colab": {
          "base_uri": "https://localhost:8080/",
          "height": 424
        },
        "id": "3QYAvut8sb6r",
        "outputId": "d7fcab2f-9eb6-42bf-b1f9-e6cc9a1512d2"
      },
      "execution_count": null,
      "outputs": [
        {
          "output_type": "execute_result",
          "data": {
            "text/plain": [
              "          v3    v4    v5    v6     v7     v8     v9    v10    v11\n",
              "0      10.15  0.00  0.00  0.00   4.05 -26.97 -15.51 -14.27  91.41\n",
              "1      -1.07  0.00  0.04 -0.03  54.02  21.41  13.17 -34.28  -6.04\n",
              "2     -10.27  0.00  0.03  0.00 -30.39   6.72  31.55  -0.99 -83.98\n",
              "3      -0.55 -0.02  0.01  0.00  55.29  16.21  10.57 -33.64  -6.62\n",
              "4       9.32  0.00  0.00  0.00  55.65  -0.26 -44.90  -7.98  96.47\n",
              "...      ...   ...   ...   ...    ...    ...    ...    ...    ...\n",
              "20438  -4.62 -0.38 -0.56  0.91  35.87   3.04  10.98  -5.40 -32.24\n",
              "20439  -7.05  0.38  0.71  0.85  30.71   6.45  13.21  -8.94 -33.28\n",
              "20440  -1.18  0.70  0.76 -0.54  28.93   6.45  12.18  -2.34 -31.47\n",
              "20441  -3.37 -0.21 -0.53 -0.34  28.93   5.73  12.18  -5.83 -28.34\n",
              "20442 -36.03  0.05 -0.01 -0.03  30.00   6.45  13.90  -6.36 -30.93\n",
              "\n",
              "[20443 rows x 9 columns]"
            ],
            "text/html": [
              "\n",
              "  <div id=\"df-99080d6c-1cd5-480d-94fe-d62bf09b18c6\">\n",
              "    <div class=\"colab-df-container\">\n",
              "      <div>\n",
              "<style scoped>\n",
              "    .dataframe tbody tr th:only-of-type {\n",
              "        vertical-align: middle;\n",
              "    }\n",
              "\n",
              "    .dataframe tbody tr th {\n",
              "        vertical-align: top;\n",
              "    }\n",
              "\n",
              "    .dataframe thead th {\n",
              "        text-align: right;\n",
              "    }\n",
              "</style>\n",
              "<table border=\"1\" class=\"dataframe\">\n",
              "  <thead>\n",
              "    <tr style=\"text-align: right;\">\n",
              "      <th></th>\n",
              "      <th>v3</th>\n",
              "      <th>v4</th>\n",
              "      <th>v5</th>\n",
              "      <th>v6</th>\n",
              "      <th>v7</th>\n",
              "      <th>v8</th>\n",
              "      <th>v9</th>\n",
              "      <th>v10</th>\n",
              "      <th>v11</th>\n",
              "    </tr>\n",
              "  </thead>\n",
              "  <tbody>\n",
              "    <tr>\n",
              "      <th>0</th>\n",
              "      <td>10.15</td>\n",
              "      <td>0.00</td>\n",
              "      <td>0.00</td>\n",
              "      <td>0.00</td>\n",
              "      <td>4.05</td>\n",
              "      <td>-26.97</td>\n",
              "      <td>-15.51</td>\n",
              "      <td>-14.27</td>\n",
              "      <td>91.41</td>\n",
              "    </tr>\n",
              "    <tr>\n",
              "      <th>1</th>\n",
              "      <td>-1.07</td>\n",
              "      <td>0.00</td>\n",
              "      <td>0.04</td>\n",
              "      <td>-0.03</td>\n",
              "      <td>54.02</td>\n",
              "      <td>21.41</td>\n",
              "      <td>13.17</td>\n",
              "      <td>-34.28</td>\n",
              "      <td>-6.04</td>\n",
              "    </tr>\n",
              "    <tr>\n",
              "      <th>2</th>\n",
              "      <td>-10.27</td>\n",
              "      <td>0.00</td>\n",
              "      <td>0.03</td>\n",
              "      <td>0.00</td>\n",
              "      <td>-30.39</td>\n",
              "      <td>6.72</td>\n",
              "      <td>31.55</td>\n",
              "      <td>-0.99</td>\n",
              "      <td>-83.98</td>\n",
              "    </tr>\n",
              "    <tr>\n",
              "      <th>3</th>\n",
              "      <td>-0.55</td>\n",
              "      <td>-0.02</td>\n",
              "      <td>0.01</td>\n",
              "      <td>0.00</td>\n",
              "      <td>55.29</td>\n",
              "      <td>16.21</td>\n",
              "      <td>10.57</td>\n",
              "      <td>-33.64</td>\n",
              "      <td>-6.62</td>\n",
              "    </tr>\n",
              "    <tr>\n",
              "      <th>4</th>\n",
              "      <td>9.32</td>\n",
              "      <td>0.00</td>\n",
              "      <td>0.00</td>\n",
              "      <td>0.00</td>\n",
              "      <td>55.65</td>\n",
              "      <td>-0.26</td>\n",
              "      <td>-44.90</td>\n",
              "      <td>-7.98</td>\n",
              "      <td>96.47</td>\n",
              "    </tr>\n",
              "    <tr>\n",
              "      <th>...</th>\n",
              "      <td>...</td>\n",
              "      <td>...</td>\n",
              "      <td>...</td>\n",
              "      <td>...</td>\n",
              "      <td>...</td>\n",
              "      <td>...</td>\n",
              "      <td>...</td>\n",
              "      <td>...</td>\n",
              "      <td>...</td>\n",
              "    </tr>\n",
              "    <tr>\n",
              "      <th>20438</th>\n",
              "      <td>-4.62</td>\n",
              "      <td>-0.38</td>\n",
              "      <td>-0.56</td>\n",
              "      <td>0.91</td>\n",
              "      <td>35.87</td>\n",
              "      <td>3.04</td>\n",
              "      <td>10.98</td>\n",
              "      <td>-5.40</td>\n",
              "      <td>-32.24</td>\n",
              "    </tr>\n",
              "    <tr>\n",
              "      <th>20439</th>\n",
              "      <td>-7.05</td>\n",
              "      <td>0.38</td>\n",
              "      <td>0.71</td>\n",
              "      <td>0.85</td>\n",
              "      <td>30.71</td>\n",
              "      <td>6.45</td>\n",
              "      <td>13.21</td>\n",
              "      <td>-8.94</td>\n",
              "      <td>-33.28</td>\n",
              "    </tr>\n",
              "    <tr>\n",
              "      <th>20440</th>\n",
              "      <td>-1.18</td>\n",
              "      <td>0.70</td>\n",
              "      <td>0.76</td>\n",
              "      <td>-0.54</td>\n",
              "      <td>28.93</td>\n",
              "      <td>6.45</td>\n",
              "      <td>12.18</td>\n",
              "      <td>-2.34</td>\n",
              "      <td>-31.47</td>\n",
              "    </tr>\n",
              "    <tr>\n",
              "      <th>20441</th>\n",
              "      <td>-3.37</td>\n",
              "      <td>-0.21</td>\n",
              "      <td>-0.53</td>\n",
              "      <td>-0.34</td>\n",
              "      <td>28.93</td>\n",
              "      <td>5.73</td>\n",
              "      <td>12.18</td>\n",
              "      <td>-5.83</td>\n",
              "      <td>-28.34</td>\n",
              "    </tr>\n",
              "    <tr>\n",
              "      <th>20442</th>\n",
              "      <td>-36.03</td>\n",
              "      <td>0.05</td>\n",
              "      <td>-0.01</td>\n",
              "      <td>-0.03</td>\n",
              "      <td>30.00</td>\n",
              "      <td>6.45</td>\n",
              "      <td>13.90</td>\n",
              "      <td>-6.36</td>\n",
              "      <td>-30.93</td>\n",
              "    </tr>\n",
              "  </tbody>\n",
              "</table>\n",
              "<p>20443 rows × 9 columns</p>\n",
              "</div>\n",
              "      <button class=\"colab-df-convert\" onclick=\"convertToInteractive('df-99080d6c-1cd5-480d-94fe-d62bf09b18c6')\"\n",
              "              title=\"Convert this dataframe to an interactive table.\"\n",
              "              style=\"display:none;\">\n",
              "        \n",
              "  <svg xmlns=\"http://www.w3.org/2000/svg\" height=\"24px\"viewBox=\"0 0 24 24\"\n",
              "       width=\"24px\">\n",
              "    <path d=\"M0 0h24v24H0V0z\" fill=\"none\"/>\n",
              "    <path d=\"M18.56 5.44l.94 2.06.94-2.06 2.06-.94-2.06-.94-.94-2.06-.94 2.06-2.06.94zm-11 1L8.5 8.5l.94-2.06 2.06-.94-2.06-.94L8.5 2.5l-.94 2.06-2.06.94zm10 10l.94 2.06.94-2.06 2.06-.94-2.06-.94-.94-2.06-.94 2.06-2.06.94z\"/><path d=\"M17.41 7.96l-1.37-1.37c-.4-.4-.92-.59-1.43-.59-.52 0-1.04.2-1.43.59L10.3 9.45l-7.72 7.72c-.78.78-.78 2.05 0 2.83L4 21.41c.39.39.9.59 1.41.59.51 0 1.02-.2 1.41-.59l7.78-7.78 2.81-2.81c.8-.78.8-2.07 0-2.86zM5.41 20L4 18.59l7.72-7.72 1.47 1.35L5.41 20z\"/>\n",
              "  </svg>\n",
              "      </button>\n",
              "      \n",
              "  <style>\n",
              "    .colab-df-container {\n",
              "      display:flex;\n",
              "      flex-wrap:wrap;\n",
              "      gap: 12px;\n",
              "    }\n",
              "\n",
              "    .colab-df-convert {\n",
              "      background-color: #E8F0FE;\n",
              "      border: none;\n",
              "      border-radius: 50%;\n",
              "      cursor: pointer;\n",
              "      display: none;\n",
              "      fill: #1967D2;\n",
              "      height: 32px;\n",
              "      padding: 0 0 0 0;\n",
              "      width: 32px;\n",
              "    }\n",
              "\n",
              "    .colab-df-convert:hover {\n",
              "      background-color: #E2EBFA;\n",
              "      box-shadow: 0px 1px 2px rgba(60, 64, 67, 0.3), 0px 1px 3px 1px rgba(60, 64, 67, 0.15);\n",
              "      fill: #174EA6;\n",
              "    }\n",
              "\n",
              "    [theme=dark] .colab-df-convert {\n",
              "      background-color: #3B4455;\n",
              "      fill: #D2E3FC;\n",
              "    }\n",
              "\n",
              "    [theme=dark] .colab-df-convert:hover {\n",
              "      background-color: #434B5C;\n",
              "      box-shadow: 0px 1px 3px 1px rgba(0, 0, 0, 0.15);\n",
              "      filter: drop-shadow(0px 1px 2px rgba(0, 0, 0, 0.3));\n",
              "      fill: #FFFFFF;\n",
              "    }\n",
              "  </style>\n",
              "\n",
              "      <script>\n",
              "        const buttonEl =\n",
              "          document.querySelector('#df-99080d6c-1cd5-480d-94fe-d62bf09b18c6 button.colab-df-convert');\n",
              "        buttonEl.style.display =\n",
              "          google.colab.kernel.accessAllowed ? 'block' : 'none';\n",
              "\n",
              "        async function convertToInteractive(key) {\n",
              "          const element = document.querySelector('#df-99080d6c-1cd5-480d-94fe-d62bf09b18c6');\n",
              "          const dataTable =\n",
              "            await google.colab.kernel.invokeFunction('convertToInteractive',\n",
              "                                                     [key], {});\n",
              "          if (!dataTable) return;\n",
              "\n",
              "          const docLinkHtml = 'Like what you see? Visit the ' +\n",
              "            '<a target=\"_blank\" href=https://colab.research.google.com/notebooks/data_table.ipynb>data table notebook</a>'\n",
              "            + ' to learn more about interactive tables.';\n",
              "          element.innerHTML = '';\n",
              "          dataTable['output_type'] = 'display_data';\n",
              "          await google.colab.output.renderOutput(dataTable, element);\n",
              "          const docLink = document.createElement('div');\n",
              "          docLink.innerHTML = docLinkHtml;\n",
              "          element.appendChild(docLink);\n",
              "        }\n",
              "      </script>\n",
              "    </div>\n",
              "  </div>\n",
              "  "
            ]
          },
          "metadata": {},
          "execution_count": 22
        }
      ]
    },
    {
      "cell_type": "markdown",
      "source": [
        "To make a matrix scatterplot of just these 4 variables using the scatter_matrix() function"
      ],
      "metadata": {
        "id": "cjey1zWAVl2r"
      }
    },
    {
      "cell_type": "code",
      "source": [
        "pd.plotting.scatter_matrix(data.loc[:, \"v4\":\"v7\"], diagonal=\"kde\")\n",
        "plt.tight_layout()\n",
        "plt.show()"
      ],
      "metadata": {
        "colab": {
          "base_uri": "https://localhost:8080/",
          "height": 297
        },
        "id": "286rjNNOwsn7",
        "outputId": "ed4732be-6a4f-4b68-ac75-17218cfc10f6"
      },
      "execution_count": null,
      "outputs": [
        {
          "output_type": "display_data",
          "data": {
            "text/plain": [
              "<Figure size 432x288 with 16 Axes>"
            ],
            "image/png": "[encoded data removed]"
          },
          "metadata": {
            "needs_background": "light"
          }
        }
      ]
    },
    {
      "cell_type": "markdown",
      "source": [
        "Note -: In the above matrix scatterplot, the diagonal cells show histogram of first four variables (v4, v5, v6, v7) \n",
        "In this matrix scatterplot, the diagonal cells show histograms of each of the variables, in this case the concentrations of the first five chemicals (variables V2, V3, V4, V5, V6).\n",
        "\n",
        "Each of the off-diagonal cells is a scatterplot of v4 to v7. for example secound cell in the first row is a scatterplot ov v4 (y-axis) against v7 (x-axis)\n",
        "."
      ],
      "metadata": {
        "id": "MCvFZxqvVsrg"
      }
    },
    {
      "cell_type": "code",
      "source": [
        "sns.lmplot(\"v3\", \"v11\", df, hue=\"label\", fit_reg=False)"
      ],
      "metadata": {
        "colab": {
          "base_uri": "https://localhost:8080/",
          "height": 441
        },
        "id": "PzqPyw-8w-ys",
        "outputId": "27fc0046-1c97-4f63-f10d-2582a4c8fe33"
      },
      "execution_count": null,
      "outputs": [
        {
          "output_type": "stream",
          "name": "stderr",
          "text": [
            "/usr/local/lib/python3.7/dist-packages/seaborn/_decorators.py:43: FutureWarning: Pass the following variables as keyword args: x, y, data. From version 0.12, the only valid positional argument will be `data`, and passing other arguments without an explicit keyword will result in an error or misinterpretation.\n",
            "  FutureWarning\n"
          ]
        },
        {
          "output_type": "execute_result",
          "data": {
            "text/plain": [
              "<seaborn.axisgrid.FacetGrid at 0x7f738040ebd0>"
            ]
          },
          "metadata": {},
          "execution_count": 24
        },
        {
          "output_type": "display_data",
          "data": {
            "text/plain": [
              "<Figure size 402.375x360 with 1 Axes>"
            ],
            "image/png": "[encoded data removed]"
          },
          "metadata": {
            "needs_background": "light"
          }
        }
      ]
    },
    {
      "cell_type": "markdown",
      "source": [
        "Note -: We can see above Scatterplot of v3 vs v11 that the from cultivar 1 seem to have lower values of v3 compared to the of cultivar 0."
      ],
      "metadata": {
        "id": "CihJBjysYkm9"
      }
    },
    {
      "cell_type": "code",
      "source": [
        "ax = data[[\"v1\",\"v2\",\"v3\",\"v5\",\"v6\"]].plot()\n",
        "ax.legend(loc='center left', bbox_to_anchor=(1, 0.5))"
      ],
      "metadata": {
        "colab": {
          "base_uri": "https://localhost:8080/",
          "height": 282
        },
        "id": "nNXB320d0PzO",
        "outputId": "2ed2baf6-2ae6-4416-f362-23d06b87c3fa"
      },
      "execution_count": null,
      "outputs": [
        {
          "output_type": "execute_result",
          "data": {
            "text/plain": [
              "<matplotlib.legend.Legend at 0x7f737ba08cd0>"
            ]
          },
          "metadata": {},
          "execution_count": 25
        },
        {
          "output_type": "display_data",
          "data": {
            "text/plain": [
              "<Figure size 432x288 with 1 Axes>"
            ],
            "image/png": "[encoded data removed]"
          },
          "metadata": {
            "needs_background": "light"
          }
        }
      ]
    },
    {
      "cell_type": "markdown",
      "source": [
        "Note -: in the above profile plot that the mean and standard deviation for v2 is quite a trending for the other variables."
      ],
      "metadata": {
        "id": "2BEopul1Z80M"
      }
    },
    {
      "cell_type": "markdown",
      "source": [
        "Calculating Summary Statistics for Multivariate Data"
      ],
      "metadata": {
        "id": "21uycm110zmb"
      }
    },
    {
      "cell_type": "code",
      "source": [
        "#how to calclate the mean\n",
        "X.apply(np.mean)"
      ],
      "metadata": {
        "colab": {
          "base_uri": "https://localhost:8080/"
        },
        "id": "UL38v_MD0s6m",
        "outputId": "af85efde-0187-4cb4-abd2-49dbb7c15546"
      },
      "execution_count": null,
      "outputs": [
        {
          "output_type": "execute_result",
          "data": {
            "text/plain": [
              "v1     -4.705656\n",
              "v2     -3.565229\n",
              "v3      1.719161\n",
              "v4      0.008486\n",
              "v5     -0.001965\n",
              "v6      0.009391\n",
              "v7     42.143954\n",
              "v8     29.436515\n",
              "v9    -16.912930\n",
              "v10   -18.633241\n",
              "v11    27.992213\n",
              "dtype: float64"
            ]
          },
          "metadata": {},
          "execution_count": 26
        }
      ]
    },
    {
      "cell_type": "markdown",
      "source": [
        "Note -: Above cell tells us that the mean of variable v11 is 28.139803, the mean of v8 is 29.537159, and so on."
      ],
      "metadata": {
        "id": "RKs3r5fF0_j8"
      }
    },
    {
      "cell_type": "code",
      "source": [
        "#how to calcuate std\n",
        "X.apply(np.std)"
      ],
      "metadata": {
        "colab": {
          "base_uri": "https://localhost:8080/"
        },
        "id": "ioQysnXE04rP",
        "outputId": "b7240735-a095-42eb-c1aa-5fdb2da57367"
      },
      "execution_count": null,
      "outputs": [
        {
          "output_type": "execute_result",
          "data": {
            "text/plain": [
              "v1      5.796792\n",
              "v2      7.029763\n",
              "v3      8.117306\n",
              "v4      0.248115\n",
              "v5      0.358398\n",
              "v6      0.227739\n",
              "v7     75.307498\n",
              "v8     63.296824\n",
              "v9     88.478062\n",
              "v10    19.975085\n",
              "v11    57.360460\n",
              "dtype: float64"
            ]
          },
          "metadata": {},
          "execution_count": 27
        }
      ]
    },
    {
      "cell_type": "markdown",
      "source": [
        "Note -: in the above calculation of standard deviation of v9 is 88.829830, while the standard deviation of v11 is just 56.865405"
      ],
      "metadata": {
        "id": "FTU7_iPkam3w"
      }
    },
    {
      "cell_type": "markdown",
      "source": [
        "#Means and Variances Per Group\n",
        "\n",
        "To extract out the data for just cultivar 1 "
      ],
      "metadata": {
        "id": "uLa10t7o1eYL"
      }
    },
    {
      "cell_type": "code",
      "source": [
        "class2data = data[y==\"1\"]"
      ],
      "metadata": {
        "id": "5IzCP6mJ1ZQ9"
      },
      "execution_count": null,
      "outputs": []
    },
    {
      "cell_type": "code",
      "source": [
        "class2data.loc[:, \"v5\":].apply(np.mean)"
      ],
      "metadata": {
        "colab": {
          "base_uri": "https://localhost:8080/"
        },
        "id": "0eCgz-dE1iNa",
        "outputId": "077b846a-2e75-49db-8db2-a2049617fd2c"
      },
      "execution_count": null,
      "outputs": [
        {
          "output_type": "execute_result",
          "data": {
            "text/plain": [
              "v5    NaN\n",
              "v6    NaN\n",
              "v7    NaN\n",
              "v8    NaN\n",
              "v9    NaN\n",
              "v10   NaN\n",
              "v11   NaN\n",
              "dtype: float64"
            ]
          },
          "metadata": {},
          "execution_count": 29
        }
      ]
    },
    {
      "cell_type": "code",
      "source": [
        "class2data.loc[:, \"v5\":].apply(np.std)"
      ],
      "metadata": {
        "colab": {
          "base_uri": "https://localhost:8080/"
        },
        "id": "duC2_1ey1sG7",
        "outputId": "d2dc9442-c77d-402c-dce5-c8bcf6e99cf3"
      },
      "execution_count": null,
      "outputs": [
        {
          "output_type": "execute_result",
          "data": {
            "text/plain": [
              "v5    NaN\n",
              "v6    NaN\n",
              "v7    NaN\n",
              "v8    NaN\n",
              "v9    NaN\n",
              "v10   NaN\n",
              "v11   NaN\n",
              "dtype: float64"
            ]
          },
          "metadata": {},
          "execution_count": 30
        }
      ]
    },
    {
      "cell_type": "code",
      "source": [
        "class2data.loc[:, \"v5\":].apply(np.std)"
      ],
      "metadata": {
        "colab": {
          "base_uri": "https://localhost:8080/"
        },
        "id": "IEvwzx0I2KuD",
        "outputId": "61101d7a-9939-41fa-94d3-ab6dac2f1b4f"
      },
      "execution_count": null,
      "outputs": [
        {
          "output_type": "execute_result",
          "data": {
            "text/plain": [
              "v5    NaN\n",
              "v6    NaN\n",
              "v7    NaN\n",
              "v8    NaN\n",
              "v9    NaN\n",
              "v10   NaN\n",
              "v11   NaN\n",
              "dtype: float64"
            ]
          },
          "metadata": {},
          "execution_count": 31
        }
      ]
    },
    {
      "cell_type": "code",
      "source": [
        "def printMeanAndSdByGroup(variables, groupvariable):\n",
        "    data_groupby = variables.groupby(groupvariable)\n",
        "    print(\"Means: \")\n",
        "    display(data_groupby.apply(np.mean))\n",
        "    print(\"\\n Standard deviations:\")\n",
        "    display(data_groupby.apply(np.std))\n",
        "    print(\"\\n Sample sizes:\")\n",
        "    display(pd.DataFrame(data_groupby.apply(len)))"
      ],
      "metadata": {
        "id": "TN-cMSvT2TPV"
      },
      "execution_count": null,
      "outputs": []
    },
    {
      "cell_type": "code",
      "source": [
        "printMeanAndSdByGroup(X, y)"
      ],
      "metadata": {
        "colab": {
          "base_uri": "https://localhost:8080/",
          "height": 527
        },
        "id": "pXZ48uh-2d4F",
        "outputId": "c22a2f96-20ab-4ab8-ff08-381501994f83"
      },
      "execution_count": null,
      "outputs": [
        {
          "output_type": "stream",
          "name": "stdout",
          "text": [
            "Means: \n"
          ]
        },
        {
          "output_type": "display_data",
          "data": {
            "text/plain": [
              "             v1         v2        v3        v4        v5        v6         v7  \\\n",
              "label                                                                           \n",
              "0     -4.923640  -3.372404  1.904974  0.001891  0.003468 -0.001524  41.920257   \n",
              "1      5.135576 -12.270677 -6.669684  0.306230 -0.247246  0.502190  52.243160   \n",
              "\n",
              "              v8         v9        v10        v11  \n",
              "label                                              \n",
              "0      29.697048 -17.463731 -18.303645  28.787810  \n",
              "1      17.674312   7.953950 -33.513454  -7.926411  "
            ],
            "text/html": [
              "\n",
              "  <div id=\"df-bd8bec57-1fc4-4810-b917-1dbfb2c4c810\">\n",
              "    <div class=\"colab-df-container\">\n",
              "      <div>\n",
              "<style scoped>\n",
              "    .dataframe tbody tr th:only-of-type {\n",
              "        vertical-align: middle;\n",
              "    }\n",
              "\n",
              "    .dataframe tbody tr th {\n",
              "        vertical-align: top;\n",
              "    }\n",
              "\n",
              "    .dataframe thead th {\n",
              "        text-align: right;\n",
              "    }\n",
              "</style>\n",
              "<table border=\"1\" class=\"dataframe\">\n",
              "  <thead>\n",
              "    <tr style=\"text-align: right;\">\n",
              "      <th></th>\n",
              "      <th>v1</th>\n",
              "      <th>v2</th>\n",
              "      <th>v3</th>\n",
              "      <th>v4</th>\n",
              "      <th>v5</th>\n",
              "      <th>v6</th>\n",
              "      <th>v7</th>\n",
              "      <th>v8</th>\n",
              "      <th>v9</th>\n",
              "      <th>v10</th>\n",
              "      <th>v11</th>\n",
              "    </tr>\n",
              "    <tr>\n",
              "      <th>label</th>\n",
              "      <th></th>\n",
              "      <th></th>\n",
              "      <th></th>\n",
              "      <th></th>\n",
              "      <th></th>\n",
              "      <th></th>\n",
              "      <th></th>\n",
              "      <th></th>\n",
              "      <th></th>\n",
              "      <th></th>\n",
              "      <th></th>\n",
              "    </tr>\n",
              "  </thead>\n",
              "  <tbody>\n",
              "    <tr>\n",
              "      <th>0</th>\n",
              "      <td>-4.923640</td>\n",
              "      <td>-3.372404</td>\n",
              "      <td>1.904974</td>\n",
              "      <td>0.001891</td>\n",
              "      <td>0.003468</td>\n",
              "      <td>-0.001524</td>\n",
              "      <td>41.920257</td>\n",
              "      <td>29.697048</td>\n",
              "      <td>-17.463731</td>\n",
              "      <td>-18.303645</td>\n",
              "      <td>28.787810</td>\n",
              "    </tr>\n",
              "    <tr>\n",
              "      <th>1</th>\n",
              "      <td>5.135576</td>\n",
              "      <td>-12.270677</td>\n",
              "      <td>-6.669684</td>\n",
              "      <td>0.306230</td>\n",
              "      <td>-0.247246</td>\n",
              "      <td>0.502190</td>\n",
              "      <td>52.243160</td>\n",
              "      <td>17.674312</td>\n",
              "      <td>7.953950</td>\n",
              "      <td>-33.513454</td>\n",
              "      <td>-7.926411</td>\n",
              "    </tr>\n",
              "  </tbody>\n",
              "</table>\n",
              "</div>\n",
              "      <button class=\"colab-df-convert\" onclick=\"convertToInteractive('df-bd8bec57-1fc4-4810-b917-1dbfb2c4c810')\"\n",
              "              title=\"Convert this dataframe to an interactive table.\"\n",
              "              style=\"display:none;\">\n",
              "        \n",
              "  <svg xmlns=\"http://www.w3.org/2000/svg\" height=\"24px\"viewBox=\"0 0 24 24\"\n",
              "       width=\"24px\">\n",
              "    <path d=\"M0 0h24v24H0V0z\" fill=\"none\"/>\n",
              "    <path d=\"M18.56 5.44l.94 2.06.94-2.06 2.06-.94-2.06-.94-.94-2.06-.94 2.06-2.06.94zm-11 1L8.5 8.5l.94-2.06 2.06-.94-2.06-.94L8.5 2.5l-.94 2.06-2.06.94zm10 10l.94 2.06.94-2.06 2.06-.94-2.06-.94-.94-2.06-.94 2.06-2.06.94z\"/><path d=\"M17.41 7.96l-1.37-1.37c-.4-.4-.92-.59-1.43-.59-.52 0-1.04.2-1.43.59L10.3 9.45l-7.72 7.72c-.78.78-.78 2.05 0 2.83L4 21.41c.39.39.9.59 1.41.59.51 0 1.02-.2 1.41-.59l7.78-7.78 2.81-2.81c.8-.78.8-2.07 0-2.86zM5.41 20L4 18.59l7.72-7.72 1.47 1.35L5.41 20z\"/>\n",
              "  </svg>\n",
              "      </button>\n",
              "      \n",
              "  <style>\n",
              "    .colab-df-container {\n",
              "      display:flex;\n",
              "      flex-wrap:wrap;\n",
              "      gap: 12px;\n",
              "    }\n",
              "\n",
              "    .colab-df-convert {\n",
              "      background-color: #E8F0FE;\n",
              "      border: none;\n",
              "      border-radius: 50%;\n",
              "      cursor: pointer;\n",
              "      display: none;\n",
              "      fill: #1967D2;\n",
              "      height: 32px;\n",
              "      padding: 0 0 0 0;\n",
              "      width: 32px;\n",
              "    }\n",
              "\n",
              "    .colab-df-convert:hover {\n",
              "      background-color: #E2EBFA;\n",
              "      box-shadow: 0px 1px 2px rgba(60, 64, 67, 0.3), 0px 1px 3px 1px rgba(60, 64, 67, 0.15);\n",
              "      fill: #174EA6;\n",
              "    }\n",
              "\n",
              "    [theme=dark] .colab-df-convert {\n",
              "      background-color: #3B4455;\n",
              "      fill: #D2E3FC;\n",
              "    }\n",
              "\n",
              "    [theme=dark] .colab-df-convert:hover {\n",
              "      background-color: #434B5C;\n",
              "      box-shadow: 0px 1px 3px 1px rgba(0, 0, 0, 0.15);\n",
              "      filter: drop-shadow(0px 1px 2px rgba(0, 0, 0, 0.3));\n",
              "      fill: #FFFFFF;\n",
              "    }\n",
              "  </style>\n",
              "\n",
              "      <script>\n",
              "        const buttonEl =\n",
              "          document.querySelector('#df-bd8bec57-1fc4-4810-b917-1dbfb2c4c810 button.colab-df-convert');\n",
              "        buttonEl.style.display =\n",
              "          google.colab.kernel.accessAllowed ? 'block' : 'none';\n",
              "\n",
              "        async function convertToInteractive(key) {\n",
              "          const element = document.querySelector('#df-bd8bec57-1fc4-4810-b917-1dbfb2c4c810');\n",
              "          const dataTable =\n",
              "            await google.colab.kernel.invokeFunction('convertToInteractive',\n",
              "                                                     [key], {});\n",
              "          if (!dataTable) return;\n",
              "\n",
              "          const docLinkHtml = 'Like what you see? Visit the ' +\n",
              "            '<a target=\"_blank\" href=https://colab.research.google.com/notebooks/data_table.ipynb>data table notebook</a>'\n",
              "            + ' to learn more about interactive tables.';\n",
              "          element.innerHTML = '';\n",
              "          dataTable['output_type'] = 'display_data';\n",
              "          await google.colab.output.renderOutput(dataTable, element);\n",
              "          const docLink = document.createElement('div');\n",
              "          docLink.innerHTML = docLinkHtml;\n",
              "          element.appendChild(docLink);\n",
              "        }\n",
              "      </script>\n",
              "    </div>\n",
              "  </div>\n",
              "  "
            ]
          },
          "metadata": {}
        },
        {
          "output_type": "stream",
          "name": "stdout",
          "text": [
            "\n",
            " Standard deviations:\n"
          ]
        },
        {
          "output_type": "display_data",
          "data": {
            "text/plain": [
              "              v1         v2         v3        v4        v5        v6  \\\n",
              "label                                                                  \n",
              "0       4.513508   6.069766   7.699462  0.209533  0.342639  0.173653   \n",
              "1      23.063954  23.231383  17.097684  0.876414  0.752155  0.885299   \n",
              "\n",
              "              v7         v8         v9        v10        v11  \n",
              "label                                                         \n",
              "0      76.023821  63.952498  89.367430  19.995516  57.710389  \n",
              "1      25.941584   9.914448   7.446159  11.653733  12.393070  "
            ],
            "text/html": [
              "\n",
              "  <div id=\"df-d03fd7cb-26e9-4bff-8fe0-34f5df315ee6\">\n",
              "    <div class=\"colab-df-container\">\n",
              "      <div>\n",
              "<style scoped>\n",
              "    .dataframe tbody tr th:only-of-type {\n",
              "        vertical-align: middle;\n",
              "    }\n",
              "\n",
              "    .dataframe tbody tr th {\n",
              "        vertical-align: top;\n",
              "    }\n",
              "\n",
              "    .dataframe thead th {\n",
              "        text-align: right;\n",
              "    }\n",
              "</style>\n",
              "<table border=\"1\" class=\"dataframe\">\n",
              "  <thead>\n",
              "    <tr style=\"text-align: right;\">\n",
              "      <th></th>\n",
              "      <th>v1</th>\n",
              "      <th>v2</th>\n",
              "      <th>v3</th>\n",
              "      <th>v4</th>\n",
              "      <th>v5</th>\n",
              "      <th>v6</th>\n",
              "      <th>v7</th>\n",
              "      <th>v8</th>\n",
              "      <th>v9</th>\n",
              "      <th>v10</th>\n",
              "      <th>v11</th>\n",
              "    </tr>\n",
              "    <tr>\n",
              "      <th>label</th>\n",
              "      <th></th>\n",
              "      <th></th>\n",
              "      <th></th>\n",
              "      <th></th>\n",
              "      <th></th>\n",
              "      <th></th>\n",
              "      <th></th>\n",
              "      <th></th>\n",
              "      <th></th>\n",
              "      <th></th>\n",
              "      <th></th>\n",
              "    </tr>\n",
              "  </thead>\n",
              "  <tbody>\n",
              "    <tr>\n",
              "      <th>0</th>\n",
              "      <td>4.513508</td>\n",
              "      <td>6.069766</td>\n",
              "      <td>7.699462</td>\n",
              "      <td>0.209533</td>\n",
              "      <td>0.342639</td>\n",
              "      <td>0.173653</td>\n",
              "      <td>76.023821</td>\n",
              "      <td>63.952498</td>\n",
              "      <td>89.367430</td>\n",
              "      <td>19.995516</td>\n",
              "      <td>57.710389</td>\n",
              "    </tr>\n",
              "    <tr>\n",
              "      <th>1</th>\n",
              "      <td>23.063954</td>\n",
              "      <td>23.231383</td>\n",
              "      <td>17.097684</td>\n",
              "      <td>0.876414</td>\n",
              "      <td>0.752155</td>\n",
              "      <td>0.885299</td>\n",
              "      <td>25.941584</td>\n",
              "      <td>9.914448</td>\n",
              "      <td>7.446159</td>\n",
              "      <td>11.653733</td>\n",
              "      <td>12.393070</td>\n",
              "    </tr>\n",
              "  </tbody>\n",
              "</table>\n",
              "</div>\n",
              "      <button class=\"colab-df-convert\" onclick=\"convertToInteractive('df-d03fd7cb-26e9-4bff-8fe0-34f5df315ee6')\"\n",
              "              title=\"Convert this dataframe to an interactive table.\"\n",
              "              style=\"display:none;\">\n",
              "        \n",
              "  <svg xmlns=\"http://www.w3.org/2000/svg\" height=\"24px\"viewBox=\"0 0 24 24\"\n",
              "       width=\"24px\">\n",
              "    <path d=\"M0 0h24v24H0V0z\" fill=\"none\"/>\n",
              "    <path d=\"M18.56 5.44l.94 2.06.94-2.06 2.06-.94-2.06-.94-.94-2.06-.94 2.06-2.06.94zm-11 1L8.5 8.5l.94-2.06 2.06-.94-2.06-.94L8.5 2.5l-.94 2.06-2.06.94zm10 10l.94 2.06.94-2.06 2.06-.94-2.06-.94-.94-2.06-.94 2.06-2.06.94z\"/><path d=\"M17.41 7.96l-1.37-1.37c-.4-.4-.92-.59-1.43-.59-.52 0-1.04.2-1.43.59L10.3 9.45l-7.72 7.72c-.78.78-.78 2.05 0 2.83L4 21.41c.39.39.9.59 1.41.59.51 0 1.02-.2 1.41-.59l7.78-7.78 2.81-2.81c.8-.78.8-2.07 0-2.86zM5.41 20L4 18.59l7.72-7.72 1.47 1.35L5.41 20z\"/>\n",
              "  </svg>\n",
              "      </button>\n",
              "      \n",
              "  <style>\n",
              "    .colab-df-container {\n",
              "      display:flex;\n",
              "      flex-wrap:wrap;\n",
              "      gap: 12px;\n",
              "    }\n",
              "\n",
              "    .colab-df-convert {\n",
              "      background-color: #E8F0FE;\n",
              "      border: none;\n",
              "      border-radius: 50%;\n",
              "      cursor: pointer;\n",
              "      display: none;\n",
              "      fill: #1967D2;\n",
              "      height: 32px;\n",
              "      padding: 0 0 0 0;\n",
              "      width: 32px;\n",
              "    }\n",
              "\n",
              "    .colab-df-convert:hover {\n",
              "      background-color: #E2EBFA;\n",
              "      box-shadow: 0px 1px 2px rgba(60, 64, 67, 0.3), 0px 1px 3px 1px rgba(60, 64, 67, 0.15);\n",
              "      fill: #174EA6;\n",
              "    }\n",
              "\n",
              "    [theme=dark] .colab-df-convert {\n",
              "      background-color: #3B4455;\n",
              "      fill: #D2E3FC;\n",
              "    }\n",
              "\n",
              "    [theme=dark] .colab-df-convert:hover {\n",
              "      background-color: #434B5C;\n",
              "      box-shadow: 0px 1px 3px 1px rgba(0, 0, 0, 0.15);\n",
              "      filter: drop-shadow(0px 1px 2px rgba(0, 0, 0, 0.3));\n",
              "      fill: #FFFFFF;\n",
              "    }\n",
              "  </style>\n",
              "\n",
              "      <script>\n",
              "        const buttonEl =\n",
              "          document.querySelector('#df-d03fd7cb-26e9-4bff-8fe0-34f5df315ee6 button.colab-df-convert');\n",
              "        buttonEl.style.display =\n",
              "          google.colab.kernel.accessAllowed ? 'block' : 'none';\n",
              "\n",
              "        async function convertToInteractive(key) {\n",
              "          const element = document.querySelector('#df-d03fd7cb-26e9-4bff-8fe0-34f5df315ee6');\n",
              "          const dataTable =\n",
              "            await google.colab.kernel.invokeFunction('convertToInteractive',\n",
              "                                                     [key], {});\n",
              "          if (!dataTable) return;\n",
              "\n",
              "          const docLinkHtml = 'Like what you see? Visit the ' +\n",
              "            '<a target=\"_blank\" href=https://colab.research.google.com/notebooks/data_table.ipynb>data table notebook</a>'\n",
              "            + ' to learn more about interactive tables.';\n",
              "          element.innerHTML = '';\n",
              "          dataTable['output_type'] = 'display_data';\n",
              "          await google.colab.output.renderOutput(dataTable, element);\n",
              "          const docLink = document.createElement('div');\n",
              "          docLink.innerHTML = docLinkHtml;\n",
              "          element.appendChild(docLink);\n",
              "        }\n",
              "      </script>\n",
              "    </div>\n",
              "  </div>\n",
              "  "
            ]
          },
          "metadata": {}
        },
        {
          "output_type": "stream",
          "name": "stdout",
          "text": [
            "\n",
            " Sample sizes:\n"
          ]
        },
        {
          "output_type": "display_data",
          "data": {
            "text/plain": [
              "           0\n",
              "label       \n",
              "0      20000\n",
              "1        443"
            ],
            "text/html": [
              "\n",
              "  <div id=\"df-1fad80b8-c0a5-4c73-9555-36c0427373cb\">\n",
              "    <div class=\"colab-df-container\">\n",
              "      <div>\n",
              "<style scoped>\n",
              "    .dataframe tbody tr th:only-of-type {\n",
              "        vertical-align: middle;\n",
              "    }\n",
              "\n",
              "    .dataframe tbody tr th {\n",
              "        vertical-align: top;\n",
              "    }\n",
              "\n",
              "    .dataframe thead th {\n",
              "        text-align: right;\n",
              "    }\n",
              "</style>\n",
              "<table border=\"1\" class=\"dataframe\">\n",
              "  <thead>\n",
              "    <tr style=\"text-align: right;\">\n",
              "      <th></th>\n",
              "      <th>0</th>\n",
              "    </tr>\n",
              "    <tr>\n",
              "      <th>label</th>\n",
              "      <th></th>\n",
              "    </tr>\n",
              "  </thead>\n",
              "  <tbody>\n",
              "    <tr>\n",
              "      <th>0</th>\n",
              "      <td>20000</td>\n",
              "    </tr>\n",
              "    <tr>\n",
              "      <th>1</th>\n",
              "      <td>443</td>\n",
              "    </tr>\n",
              "  </tbody>\n",
              "</table>\n",
              "</div>\n",
              "      <button class=\"colab-df-convert\" onclick=\"convertToInteractive('df-1fad80b8-c0a5-4c73-9555-36c0427373cb')\"\n",
              "              title=\"Convert this dataframe to an interactive table.\"\n",
              "              style=\"display:none;\">\n",
              "        \n",
              "  <svg xmlns=\"http://www.w3.org/2000/svg\" height=\"24px\"viewBox=\"0 0 24 24\"\n",
              "       width=\"24px\">\n",
              "    <path d=\"M0 0h24v24H0V0z\" fill=\"none\"/>\n",
              "    <path d=\"M18.56 5.44l.94 2.06.94-2.06 2.06-.94-2.06-.94-.94-2.06-.94 2.06-2.06.94zm-11 1L8.5 8.5l.94-2.06 2.06-.94-2.06-.94L8.5 2.5l-.94 2.06-2.06.94zm10 10l.94 2.06.94-2.06 2.06-.94-2.06-.94-.94-2.06-.94 2.06-2.06.94z\"/><path d=\"M17.41 7.96l-1.37-1.37c-.4-.4-.92-.59-1.43-.59-.52 0-1.04.2-1.43.59L10.3 9.45l-7.72 7.72c-.78.78-.78 2.05 0 2.83L4 21.41c.39.39.9.59 1.41.59.51 0 1.02-.2 1.41-.59l7.78-7.78 2.81-2.81c.8-.78.8-2.07 0-2.86zM5.41 20L4 18.59l7.72-7.72 1.47 1.35L5.41 20z\"/>\n",
              "  </svg>\n",
              "      </button>\n",
              "      \n",
              "  <style>\n",
              "    .colab-df-container {\n",
              "      display:flex;\n",
              "      flex-wrap:wrap;\n",
              "      gap: 12px;\n",
              "    }\n",
              "\n",
              "    .colab-df-convert {\n",
              "      background-color: #E8F0FE;\n",
              "      border: none;\n",
              "      border-radius: 50%;\n",
              "      cursor: pointer;\n",
              "      display: none;\n",
              "      fill: #1967D2;\n",
              "      height: 32px;\n",
              "      padding: 0 0 0 0;\n",
              "      width: 32px;\n",
              "    }\n",
              "\n",
              "    .colab-df-convert:hover {\n",
              "      background-color: #E2EBFA;\n",
              "      box-shadow: 0px 1px 2px rgba(60, 64, 67, 0.3), 0px 1px 3px 1px rgba(60, 64, 67, 0.15);\n",
              "      fill: #174EA6;\n",
              "    }\n",
              "\n",
              "    [theme=dark] .colab-df-convert {\n",
              "      background-color: #3B4455;\n",
              "      fill: #D2E3FC;\n",
              "    }\n",
              "\n",
              "    [theme=dark] .colab-df-convert:hover {\n",
              "      background-color: #434B5C;\n",
              "      box-shadow: 0px 1px 3px 1px rgba(0, 0, 0, 0.15);\n",
              "      filter: drop-shadow(0px 1px 2px rgba(0, 0, 0, 0.3));\n",
              "      fill: #FFFFFF;\n",
              "    }\n",
              "  </style>\n",
              "\n",
              "      <script>\n",
              "        const buttonEl =\n",
              "          document.querySelector('#df-1fad80b8-c0a5-4c73-9555-36c0427373cb button.colab-df-convert');\n",
              "        buttonEl.style.display =\n",
              "          google.colab.kernel.accessAllowed ? 'block' : 'none';\n",
              "\n",
              "        async function convertToInteractive(key) {\n",
              "          const element = document.querySelector('#df-1fad80b8-c0a5-4c73-9555-36c0427373cb');\n",
              "          const dataTable =\n",
              "            await google.colab.kernel.invokeFunction('convertToInteractive',\n",
              "                                                     [key], {});\n",
              "          if (!dataTable) return;\n",
              "\n",
              "          const docLinkHtml = 'Like what you see? Visit the ' +\n",
              "            '<a target=\"_blank\" href=https://colab.research.google.com/notebooks/data_table.ipynb>data table notebook</a>'\n",
              "            + ' to learn more about interactive tables.';\n",
              "          element.innerHTML = '';\n",
              "          dataTable['output_type'] = 'display_data';\n",
              "          await google.colab.output.renderOutput(dataTable, element);\n",
              "          const docLink = document.createElement('div');\n",
              "          docLink.innerHTML = docLinkHtml;\n",
              "          element.appendChild(docLink);\n",
              "        }\n",
              "      </script>\n",
              "    </div>\n",
              "  </div>\n",
              "  "
            ]
          },
          "metadata": {}
        }
      ]
    },
    {
      "cell_type": "markdown",
      "source": [
        "Note -: The function printMeanAndSdByGroup() also prints out the number of samples in each group. In this case, we see that there are 10000 samples of target 0, and 443 of target 1."
      ],
      "metadata": {
        "id": "jV4lo1w2bxvX"
      }
    },
    {
      "cell_type": "markdown",
      "source": [
        "Between-groups Variance and Within-groups Variance for a Variable"
      ],
      "metadata": {
        "id": "7-jxE8aT2whV"
      }
    },
    {
      "cell_type": "code",
      "source": [
        "def calcWithinGroupsVariance(variable, groupvariable):\n",
        "    levels = sorted(set(groupvariable))\n",
        "    numlevels = len(levels)\n",
        "    numtotal = 0\n",
        "    denomtotal = 0\n",
        "    for leveli in levels:\n",
        "        levelidata = variable[groupvariable==leveli]\n",
        "        levelilength = len(levelidata)\n",
        "        sdi = np.std(levelidata)\n",
        "        numi = (levelilength)*sdi**2\n",
        "        denomi = levelilength\n",
        "        numtotal = numtotal + numi\n",
        "        denomtotal = denomtotal + denomi\n",
        "    Vw = numtotal / (denomtotal - numlevels)\n",
        "    return Vw"
      ],
      "metadata": {
        "id": "m4Yu8yoX2lEs"
      },
      "execution_count": null,
      "outputs": []
    },
    {
      "cell_type": "code",
      "source": [
        "calcWithinGroupsVariance(X.v2, y)"
      ],
      "metadata": {
        "colab": {
          "base_uri": "https://localhost:8080/"
        },
        "id": "jAlwkOWp20Ce",
        "outputId": "edee2123-e1a1-4cdc-f6ef-d1af24420e7b"
      },
      "execution_count": null,
      "outputs": [
        {
          "output_type": "execute_result",
          "data": {
            "text/plain": [
              "47.74359943058533"
            ]
          },
          "metadata": {},
          "execution_count": 35
        }
      ]
    },
    {
      "cell_type": "markdown",
      "source": [
        "Note -: The above cell groups variance for v2 is 57.9651188895345."
      ],
      "metadata": {
        "id": "EmLG5f5nck71"
      }
    },
    {
      "cell_type": "markdown",
      "source": [
        "We can calculate the between-groups variance for a particular variable (eg. v2) using the function calcBetweenGroupsVariance() below:"
      ],
      "metadata": {
        "id": "jaCgfgFP3HDa"
      }
    },
    {
      "cell_type": "code",
      "source": [
        "def calcBetweenGroupsVariance(variable, groupvariable):\n",
        "    levels = sorted(set((groupvariable)))\n",
        "    numlevels = len(levels)\n",
        "    grandmean = np.mean(variable)\n",
        "    numtotal = 0\n",
        "    denomtotal = 0\n",
        "    for leveli in levels:\n",
        "        levelidata = variable[groupvariable==leveli]\n",
        "        levelilength = len(levelidata)\n",
        "        meani = np.mean(levelidata)\n",
        "        sdi = np.std(levelidata)\n",
        "        numi = levelilength * ((meani - grandmean)**2)\n",
        "        denomi = levelilength\n",
        "        numtotal = numtotal + numi\n",
        "        denomtotal = denomtotal + denomi\n",
        "    Vb = numtotal / (numlevels - 1)\n",
        "    return(Vb)"
      ],
      "metadata": {
        "id": "44CEohmy2353"
      },
      "execution_count": null,
      "outputs": []
    },
    {
      "cell_type": "code",
      "source": [
        "calcBetweenGroupsVariance(X.v2, y)"
      ],
      "metadata": {
        "colab": {
          "base_uri": "https://localhost:8080/"
        },
        "id": "wkjadBBs3Kmd",
        "outputId": "50369148-5945-42b3-d473-7b08a1e01da1"
      },
      "execution_count": null,
      "outputs": [
        {
          "output_type": "execute_result",
          "data": {
            "text/plain": [
              "34316.31244072601"
            ]
          },
          "metadata": {},
          "execution_count": 37
        }
      ]
    },
    {
      "cell_type": "code",
      "source": [
        "# 35.397424960269106 / 0.2620524691539065\n",
        "calcBetweenGroupsVariance(X.v2, y) / calcWithinGroupsVariance(X.v2, y)"
      ],
      "metadata": {
        "colab": {
          "base_uri": "https://localhost:8080/"
        },
        "id": "drnm-WNC3PXy",
        "outputId": "467d3bd7-da3f-485f-921a-d1a1d7500e01"
      },
      "execution_count": null,
      "outputs": [
        {
          "output_type": "execute_result",
          "data": {
            "text/plain": [
              "718.7625744602411"
            ]
          },
          "metadata": {},
          "execution_count": 38
        }
      ]
    },
    {
      "cell_type": "markdown",
      "source": [
        "Note -: the above cell between-groups variance of v2 is 595.3147126960952."
      ],
      "metadata": {
        "id": "zHeR7f_mc2uR"
      }
    },
    {
      "cell_type": "markdown",
      "source": [
        "If you want to calculate the separations achieved by all of the variables in a multivariate data set, you can use the function calcSeparations() below:"
      ],
      "metadata": {
        "id": "RDxRFUlX3gGJ"
      }
    },
    {
      "cell_type": "code",
      "source": [
        "def calcSeparations(variables, groupvariable):\n",
        "    for variablename in variables:\n",
        "        variablei = variables[variablename]\n",
        "        Vw = calcWithinGroupsVariance(variablei, groupvariable)\n",
        "        Vb = calcBetweenGroupsVariance(variablei, groupvariable)\n",
        "        sep = Vb/Vw\n",
        "        print(\"variable\", variablename, \"Vw=\", Vw, \"Vb=\", Vb, \"separation=\", sep)"
      ],
      "metadata": {
        "id": "NqX7yLKd3VT6"
      },
      "execution_count": null,
      "outputs": []
    },
    {
      "cell_type": "code",
      "source": [
        "calcSeparations(X, y)"
      ],
      "metadata": {
        "colab": {
          "base_uri": "https://localhost:8080/"
        },
        "id": "Qcc9BBSx3j41",
        "outputId": "37377b1d-9aed-4c94-beac-6460ca236ab7"
      },
      "execution_count": null,
      "outputs": [
        {
          "output_type": "stream",
          "name": "stdout",
          "text": [
            "variable v1 Vw= 31.460651812974493 Vb= 43854.8151628662 separation= 1393.9576148508247\n",
            "variable v2 Vw= 47.74359943058533 Vb= 34316.31244072601 separation= 718.7625744602411\n",
            "variable v3 Vw= 64.33818835388244 Vb= 31865.640654062416 separation= 495.2834618032807\n",
            "variable v4 Vw= 0.05960305389705361 Vb= 40.14268776892635 separation= 673.5005195918451\n",
            "variable v5 Vw= 0.12712904944477213 Vb= 27.242467222076108 separation= 214.28986798104614\n",
            "variable v6 Vw= 0.04649053004022478 Vb= 109.96550544336276 separation= 2365.3312910869768\n",
            "variable v7 Vw= 5669.514696260196 Vb= 46184.13447086911 separation= 8.146047227169856\n",
            "variable v8 Vw= 4003.815138956994 Vb= 62646.34155244654 separation= 15.646661840827672\n",
            "variable v9 Vw= 7815.435264007617 Vb= 280001.88466602005 separation= 35.82678062161314\n",
            "variable v10 Vw= 394.1380989026074 Vb= 100262.06076941061 separation= 254.3830729598806\n",
            "variable v11 Vw= 3261.964696600706 Vb= 584194.8670696513 separation= 179.09294594096644\n"
          ]
        }
      ]
    },
    {
      "cell_type": "markdown",
      "source": [
        "Note -: In the above cell individual variable which gives the greatest separations between the groups (the target cultivars) is v1 (separation 1035.867635072254). The purpose of linear discriminant analysis (LDA) is to find the linear combination of the individual variables that will give the greatest separation between the groups (target here). This hopefully will give a better separation than the best separation achievable by any individual variable (1035.867635072254 for V1 here)."
      ],
      "metadata": {
        "id": "7AHeCCZEd4sw"
      }
    },
    {
      "cell_type": "markdown",
      "source": [
        "#Between-groups Covariance and Within-groups Covariance for Two Variables"
      ],
      "metadata": {
        "id": "szzSYftY3wKx"
      }
    },
    {
      "cell_type": "code",
      "source": [
        "def calcWithinGroupsCovariance(variable1, variable2, groupvariable):\n",
        "    levels = sorted(set(groupvariable))\n",
        "    numlevels = len(levels)\n",
        "    Covw = 0.0\n",
        "    for leveli in levels:\n",
        "        levelidata1 = variable1[groupvariable==leveli]\n",
        "        levelidata2 = variable2[groupvariable==leveli]\n",
        "        mean1 = np.mean(levelidata1)\n",
        "        mean2 = np.mean(levelidata2)\n",
        "        levelilength = len(levelidata1)\n",
        "        term1 = 0.0\n",
        "        for levelidata1j, levelidata2j in zip(levelidata1, levelidata2):\n",
        "            term1 += (levelidata1j - mean1)*(levelidata2j - mean2)\n",
        "        Cov_groupi = term1 \n",
        "        Covw += Cov_groupi\n",
        "    totallength = len(variable1)\n",
        "    Covw /= totallength - numlevels\n",
        "    return Covw"
      ],
      "metadata": {
        "id": "9whr4ojv3nT-"
      },
      "execution_count": null,
      "outputs": []
    },
    {
      "cell_type": "markdown",
      "source": [
        "To calculate the within-groups covariance for variables v8 and v11."
      ],
      "metadata": {
        "id": "_X5Lp7Roe5ne"
      }
    },
    {
      "cell_type": "code",
      "source": [
        "calcWithinGroupsCovariance(X.v8, X.v11, y)"
      ],
      "metadata": {
        "colab": {
          "base_uri": "https://localhost:8080/"
        },
        "id": "syT6IxaG30Wm",
        "outputId": "b55fe602-a9df-4a8c-f7fa-f0d919411738"
      },
      "execution_count": null,
      "outputs": [
        {
          "output_type": "execute_result",
          "data": {
            "text/plain": [
              "1116.981536238673"
            ]
          },
          "metadata": {},
          "execution_count": 42
        }
      ]
    },
    {
      "cell_type": "code",
      "source": [
        "def calcBetweenGroupsCovariance(variable1, variable2, groupvariable):\n",
        "    levels = sorted(set(groupvariable))\n",
        "    numlevels = len(levels)\n",
        "    variable1mean = np.mean(variable1)\n",
        "    variable2mean = np.mean(variable2)\n",
        "    Covb = 0.0\n",
        "    for leveli in levels:\n",
        "        levelidata1 = variable1[groupvariable==leveli]\n",
        "        levelidata2 = variable2[groupvariable==leveli]\n",
        "        mean1 = np.mean(levelidata1)\n",
        "        mean2 = np.mean(levelidata2)\n",
        "        levelilength = len(levelidata1)\n",
        "        term1 = (mean1 - variable1mean) * (mean2 - variable2mean) * levelilength\n",
        "        Covb += term1\n",
        "    Covb /= numlevels - 1\n",
        "    return Covb"
      ],
      "metadata": {
        "id": "pcuOBKrq38EF"
      },
      "execution_count": null,
      "outputs": []
    },
    {
      "cell_type": "markdown",
      "source": [
        "To calculate the between-groups covariance for variables v8 and v11."
      ],
      "metadata": {
        "id": "g77c_m1afHip"
      }
    },
    {
      "cell_type": "code",
      "source": [
        "calcBetweenGroupsCovariance(X.v8, X.v11, y)"
      ],
      "metadata": {
        "colab": {
          "base_uri": "https://localhost:8080/"
        },
        "id": "d-fnsfgi4BAz",
        "outputId": "b4052162-b7dd-490c-e16f-b869b5285c5d"
      },
      "execution_count": null,
      "outputs": [
        {
          "output_type": "execute_result",
          "data": {
            "text/plain": [
              "191305.1781202785"
            ]
          },
          "metadata": {},
          "execution_count": 44
        }
      ]
    },
    {
      "cell_type": "markdown",
      "source": [
        "#Calculating Correlations for Multivariate Data"
      ],
      "metadata": {
        "id": "3nvAbo1a4LK0"
      }
    },
    {
      "cell_type": "code",
      "source": [
        "from scipy import stats\n",
        "corr = stats.pearsonr(X.v2, X.v3)\n",
        "print(\"p-value:\\t\", corr[1])\n",
        "print(\"cor:\\t\\t\", corr[0])"
      ],
      "metadata": {
        "colab": {
          "base_uri": "https://localhost:8080/"
        },
        "id": "t3pRocAu4GzD",
        "outputId": "91a4938f-b40b-496c-9bfc-98d34bba9755"
      },
      "execution_count": null,
      "outputs": [
        {
          "output_type": "stream",
          "name": "stdout",
          "text": [
            "p-value:\t 0.0\n",
            "cor:\t\t 0.5882569307844202\n"
          ]
        }
      ]
    },
    {
      "cell_type": "code",
      "source": [
        "corrmat = X.corr()\n",
        "corrmat"
      ],
      "metadata": {
        "colab": {
          "base_uri": "https://localhost:8080/",
          "height": 394
        },
        "id": "CEMqx2Ev4gaf",
        "outputId": "f7eb3c5d-ee58-46c4-9350-791265e0e493"
      },
      "execution_count": null,
      "outputs": [
        {
          "output_type": "execute_result",
          "data": {
            "text/plain": [
              "           v1        v2        v3        v4        v5        v6        v7  \\\n",
              "v1   1.000000 -0.085436  0.236260 -0.047427  0.047221  0.058025 -0.125578   \n",
              "v2  -0.085436  1.000000  0.588257  0.021063 -0.031703 -0.062844  0.116695   \n",
              "v3   0.236260  0.588257  1.000000 -0.039530  0.049941 -0.009600  0.139117   \n",
              "v4  -0.047427  0.021063 -0.039530  1.000000 -0.591383  0.129291  0.012322   \n",
              "v5   0.047221 -0.031703  0.049941 -0.591383  1.000000 -0.112829 -0.006003   \n",
              "v6   0.058025 -0.062844 -0.009600  0.129291 -0.112829  1.000000  0.007263   \n",
              "v7  -0.125578  0.116695  0.139117  0.012322 -0.006003  0.007263  1.000000   \n",
              "v8   0.150894  0.175883  0.271993 -0.005363  0.000322 -0.006621  0.587961   \n",
              "v9  -0.164889 -0.166211 -0.275468  0.009283 -0.004300  0.010527  0.395802   \n",
              "v10  0.562953 -0.219699 -0.022410 -0.048575  0.073020 -0.067018 -0.262243   \n",
              "v11  0.353209  0.543999  0.884407 -0.007895 -0.013428 -0.024110  0.094023   \n",
              "\n",
              "           v8        v9       v10       v11  \n",
              "v1   0.150894 -0.164889  0.562953  0.353209  \n",
              "v2   0.175883 -0.166211 -0.219699  0.543999  \n",
              "v3   0.271993 -0.275468 -0.022410  0.884407  \n",
              "v4  -0.005363  0.009283 -0.048575 -0.007895  \n",
              "v5   0.000322 -0.004300  0.073020 -0.013428  \n",
              "v6  -0.006621  0.010527 -0.067018 -0.024110  \n",
              "v7   0.587961  0.395802 -0.262243  0.094023  \n",
              "v8   1.000000 -0.010007  0.107346  0.310193  \n",
              "v9  -0.010007  1.000000 -0.139039 -0.337443  \n",
              "v10  0.107346 -0.139039  1.000000  0.169749  \n",
              "v11  0.310193 -0.337443  0.169749  1.000000  "
            ],
            "text/html": [
              "\n",
              "  <div id=\"df-3862bef6-a0b5-499f-b59c-7a3b61dbc859\">\n",
              "    <div class=\"colab-df-container\">\n",
              "      <div>\n",
              "<style scoped>\n",
              "    .dataframe tbody tr th:only-of-type {\n",
              "        vertical-align: middle;\n",
              "    }\n",
              "\n",
              "    .dataframe tbody tr th {\n",
              "        vertical-align: top;\n",
              "    }\n",
              "\n",
              "    .dataframe thead th {\n",
              "        text-align: right;\n",
              "    }\n",
              "</style>\n",
              "<table border=\"1\" class=\"dataframe\">\n",
              "  <thead>\n",
              "    <tr style=\"text-align: right;\">\n",
              "      <th></th>\n",
              "      <th>v1</th>\n",
              "      <th>v2</th>\n",
              "      <th>v3</th>\n",
              "      <th>v4</th>\n",
              "      <th>v5</th>\n",
              "      <th>v6</th>\n",
              "      <th>v7</th>\n",
              "      <th>v8</th>\n",
              "      <th>v9</th>\n",
              "      <th>v10</th>\n",
              "      <th>v11</th>\n",
              "    </tr>\n",
              "  </thead>\n",
              "  <tbody>\n",
              "    <tr>\n",
              "      <th>v1</th>\n",
              "      <td>1.000000</td>\n",
              "      <td>-0.085436</td>\n",
              "      <td>0.236260</td>\n",
              "      <td>-0.047427</td>\n",
              "      <td>0.047221</td>\n",
              "      <td>0.058025</td>\n",
              "      <td>-0.125578</td>\n",
              "      <td>0.150894</td>\n",
              "      <td>-0.164889</td>\n",
              "      <td>0.562953</td>\n",
              "      <td>0.353209</td>\n",
              "    </tr>\n",
              "    <tr>\n",
              "      <th>v2</th>\n",
              "      <td>-0.085436</td>\n",
              "      <td>1.000000</td>\n",
              "      <td>0.588257</td>\n",
              "      <td>0.021063</td>\n",
              "      <td>-0.031703</td>\n",
              "      <td>-0.062844</td>\n",
              "      <td>0.116695</td>\n",
              "      <td>0.175883</td>\n",
              "      <td>-0.166211</td>\n",
              "      <td>-0.219699</td>\n",
              "      <td>0.543999</td>\n",
              "    </tr>\n",
              "    <tr>\n",
              "      <th>v3</th>\n",
              "      <td>0.236260</td>\n",
              "      <td>0.588257</td>\n",
              "      <td>1.000000</td>\n",
              "      <td>-0.039530</td>\n",
              "      <td>0.049941</td>\n",
              "      <td>-0.009600</td>\n",
              "      <td>0.139117</td>\n",
              "      <td>0.271993</td>\n",
              "      <td>-0.275468</td>\n",
              "      <td>-0.022410</td>\n",
              "      <td>0.884407</td>\n",
              "    </tr>\n",
              "    <tr>\n",
              "      <th>v4</th>\n",
              "      <td>-0.047427</td>\n",
              "      <td>0.021063</td>\n",
              "      <td>-0.039530</td>\n",
              "      <td>1.000000</td>\n",
              "      <td>-0.591383</td>\n",
              "      <td>0.129291</td>\n",
              "      <td>0.012322</td>\n",
              "      <td>-0.005363</td>\n",
              "      <td>0.009283</td>\n",
              "      <td>-0.048575</td>\n",
              "      <td>-0.007895</td>\n",
              "    </tr>\n",
              "    <tr>\n",
              "      <th>v5</th>\n",
              "      <td>0.047221</td>\n",
              "      <td>-0.031703</td>\n",
              "      <td>0.049941</td>\n",
              "      <td>-0.591383</td>\n",
              "      <td>1.000000</td>\n",
              "      <td>-0.112829</td>\n",
              "      <td>-0.006003</td>\n",
              "      <td>0.000322</td>\n",
              "      <td>-0.004300</td>\n",
              "      <td>0.073020</td>\n",
              "      <td>-0.013428</td>\n",
              "    </tr>\n",
              "    <tr>\n",
              "      <th>v6</th>\n",
              "      <td>0.058025</td>\n",
              "      <td>-0.062844</td>\n",
              "      <td>-0.009600</td>\n",
              "      <td>0.129291</td>\n",
              "      <td>-0.112829</td>\n",
              "      <td>1.000000</td>\n",
              "      <td>0.007263</td>\n",
              "      <td>-0.006621</td>\n",
              "      <td>0.010527</td>\n",
              "      <td>-0.067018</td>\n",
              "      <td>-0.024110</td>\n",
              "    </tr>\n",
              "    <tr>\n",
              "      <th>v7</th>\n",
              "      <td>-0.125578</td>\n",
              "      <td>0.116695</td>\n",
              "      <td>0.139117</td>\n",
              "      <td>0.012322</td>\n",
              "      <td>-0.006003</td>\n",
              "      <td>0.007263</td>\n",
              "      <td>1.000000</td>\n",
              "      <td>0.587961</td>\n",
              "      <td>0.395802</td>\n",
              "      <td>-0.262243</td>\n",
              "      <td>0.094023</td>\n",
              "    </tr>\n",
              "    <tr>\n",
              "      <th>v8</th>\n",
              "      <td>0.150894</td>\n",
              "      <td>0.175883</td>\n",
              "      <td>0.271993</td>\n",
              "      <td>-0.005363</td>\n",
              "      <td>0.000322</td>\n",
              "      <td>-0.006621</td>\n",
              "      <td>0.587961</td>\n",
              "      <td>1.000000</td>\n",
              "      <td>-0.010007</td>\n",
              "      <td>0.107346</td>\n",
              "      <td>0.310193</td>\n",
              "    </tr>\n",
              "    <tr>\n",
              "      <th>v9</th>\n",
              "      <td>-0.164889</td>\n",
              "      <td>-0.166211</td>\n",
              "      <td>-0.275468</td>\n",
              "      <td>0.009283</td>\n",
              "      <td>-0.004300</td>\n",
              "      <td>0.010527</td>\n",
              "      <td>0.395802</td>\n",
              "      <td>-0.010007</td>\n",
              "      <td>1.000000</td>\n",
              "      <td>-0.139039</td>\n",
              "      <td>-0.337443</td>\n",
              "    </tr>\n",
              "    <tr>\n",
              "      <th>v10</th>\n",
              "      <td>0.562953</td>\n",
              "      <td>-0.219699</td>\n",
              "      <td>-0.022410</td>\n",
              "      <td>-0.048575</td>\n",
              "      <td>0.073020</td>\n",
              "      <td>-0.067018</td>\n",
              "      <td>-0.262243</td>\n",
              "      <td>0.107346</td>\n",
              "      <td>-0.139039</td>\n",
              "      <td>1.000000</td>\n",
              "      <td>0.169749</td>\n",
              "    </tr>\n",
              "    <tr>\n",
              "      <th>v11</th>\n",
              "      <td>0.353209</td>\n",
              "      <td>0.543999</td>\n",
              "      <td>0.884407</td>\n",
              "      <td>-0.007895</td>\n",
              "      <td>-0.013428</td>\n",
              "      <td>-0.024110</td>\n",
              "      <td>0.094023</td>\n",
              "      <td>0.310193</td>\n",
              "      <td>-0.337443</td>\n",
              "      <td>0.169749</td>\n",
              "      <td>1.000000</td>\n",
              "    </tr>\n",
              "  </tbody>\n",
              "</table>\n",
              "</div>\n",
              "      <button class=\"colab-df-convert\" onclick=\"convertToInteractive('df-3862bef6-a0b5-499f-b59c-7a3b61dbc859')\"\n",
              "              title=\"Convert this dataframe to an interactive table.\"\n",
              "              style=\"display:none;\">\n",
              "        \n",
              "  <svg xmlns=\"http://www.w3.org/2000/svg\" height=\"24px\"viewBox=\"0 0 24 24\"\n",
              "       width=\"24px\">\n",
              "    <path d=\"M0 0h24v24H0V0z\" fill=\"none\"/>\n",
              "    <path d=\"M18.56 5.44l.94 2.06.94-2.06 2.06-.94-2.06-.94-.94-2.06-.94 2.06-2.06.94zm-11 1L8.5 8.5l.94-2.06 2.06-.94-2.06-.94L8.5 2.5l-.94 2.06-2.06.94zm10 10l.94 2.06.94-2.06 2.06-.94-2.06-.94-.94-2.06-.94 2.06-2.06.94z\"/><path d=\"M17.41 7.96l-1.37-1.37c-.4-.4-.92-.59-1.43-.59-.52 0-1.04.2-1.43.59L10.3 9.45l-7.72 7.72c-.78.78-.78 2.05 0 2.83L4 21.41c.39.39.9.59 1.41.59.51 0 1.02-.2 1.41-.59l7.78-7.78 2.81-2.81c.8-.78.8-2.07 0-2.86zM5.41 20L4 18.59l7.72-7.72 1.47 1.35L5.41 20z\"/>\n",
              "  </svg>\n",
              "      </button>\n",
              "      \n",
              "  <style>\n",
              "    .colab-df-container {\n",
              "      display:flex;\n",
              "      flex-wrap:wrap;\n",
              "      gap: 12px;\n",
              "    }\n",
              "\n",
              "    .colab-df-convert {\n",
              "      background-color: #E8F0FE;\n",
              "      border: none;\n",
              "      border-radius: 50%;\n",
              "      cursor: pointer;\n",
              "      display: none;\n",
              "      fill: #1967D2;\n",
              "      height: 32px;\n",
              "      padding: 0 0 0 0;\n",
              "      width: 32px;\n",
              "    }\n",
              "\n",
              "    .colab-df-convert:hover {\n",
              "      background-color: #E2EBFA;\n",
              "      box-shadow: 0px 1px 2px rgba(60, 64, 67, 0.3), 0px 1px 3px 1px rgba(60, 64, 67, 0.15);\n",
              "      fill: #174EA6;\n",
              "    }\n",
              "\n",
              "    [theme=dark] .colab-df-convert {\n",
              "      background-color: #3B4455;\n",
              "      fill: #D2E3FC;\n",
              "    }\n",
              "\n",
              "    [theme=dark] .colab-df-convert:hover {\n",
              "      background-color: #434B5C;\n",
              "      box-shadow: 0px 1px 3px 1px rgba(0, 0, 0, 0.15);\n",
              "      filter: drop-shadow(0px 1px 2px rgba(0, 0, 0, 0.3));\n",
              "      fill: #FFFFFF;\n",
              "    }\n",
              "  </style>\n",
              "\n",
              "      <script>\n",
              "        const buttonEl =\n",
              "          document.querySelector('#df-3862bef6-a0b5-499f-b59c-7a3b61dbc859 button.colab-df-convert');\n",
              "        buttonEl.style.display =\n",
              "          google.colab.kernel.accessAllowed ? 'block' : 'none';\n",
              "\n",
              "        async function convertToInteractive(key) {\n",
              "          const element = document.querySelector('#df-3862bef6-a0b5-499f-b59c-7a3b61dbc859');\n",
              "          const dataTable =\n",
              "            await google.colab.kernel.invokeFunction('convertToInteractive',\n",
              "                                                     [key], {});\n",
              "          if (!dataTable) return;\n",
              "\n",
              "          const docLinkHtml = 'Like what you see? Visit the ' +\n",
              "            '<a target=\"_blank\" href=https://colab.research.google.com/notebooks/data_table.ipynb>data table notebook</a>'\n",
              "            + ' to learn more about interactive tables.';\n",
              "          element.innerHTML = '';\n",
              "          dataTable['output_type'] = 'display_data';\n",
              "          await google.colab.output.renderOutput(dataTable, element);\n",
              "          const docLink = document.createElement('div');\n",
              "          docLink.innerHTML = docLinkHtml;\n",
              "          element.appendChild(docLink);\n",
              "        }\n",
              "      </script>\n",
              "    </div>\n",
              "  </div>\n",
              "  "
            ]
          },
          "metadata": {},
          "execution_count": 46
        }
      ]
    },
    {
      "cell_type": "code",
      "source": [
        "corr = corrmat.corr()\n",
        "top_feat_importances = corr.index\n",
        "plt.figure(figsize=(10,10))\n",
        "g=sns.heatmap(df[top_feat_importances].corr(), annot=True, cmap=\"RdYlGn\")"
      ],
      "metadata": {
        "colab": {
          "base_uri": "https://localhost:8080/",
          "height": 595
        },
        "id": "YWOj3qsc4rU7",
        "outputId": "512a4ffc-4f14-44d7-f6e2-268552c15402"
      },
      "execution_count": null,
      "outputs": [
        {
          "output_type": "display_data",
          "data": {
            "text/plain": [
              "<Figure size 720x720 with 2 Axes>"
            ],
            "image/png": "[encoded data removed]"
          },
          "metadata": {
            "needs_background": "light"
          }
        }
      ]
    },
    {
      "cell_type": "markdown",
      "source": [
        "Note -: The above heatmap plot show the v2 and v7 are strong correlated with v11 and other variables are not strong correlated each other."
      ],
      "metadata": {
        "id": "mQ-f5LvtfkQH"
      }
    },
    {
      "cell_type": "code",
      "source": [
        "df.head()"
      ],
      "metadata": {
        "colab": {
          "base_uri": "https://localhost:8080/",
          "height": 206
        },
        "id": "S8S8z2Eb_D2I",
        "outputId": "542e2271-d9db-4415-c433-ee137c0f39b5"
      },
      "execution_count": null,
      "outputs": [
        {
          "output_type": "execute_result",
          "data": {
            "text/plain": [
              "     v1    v2     v3    v4    v5    v6     v7     v8     v9    v10    v11  \\\n",
              "0 -2.22  1.32  10.15  0.00  0.00  0.00   4.05 -26.97 -15.51 -14.27  91.41   \n",
              "1 -8.68 -5.17  -1.07  0.00  0.04 -0.03  54.02  21.41  13.17 -34.28  -6.04   \n",
              "2 -0.60 -0.98 -10.27  0.00  0.03  0.00 -30.39   6.72  31.55  -0.99 -83.98   \n",
              "3 -8.53 -5.07  -0.55 -0.02  0.01  0.00  55.29  16.21  10.57 -33.64  -6.62   \n",
              "4 -0.74  1.52   9.32  0.00  0.00  0.00  55.65  -0.26 -44.90  -7.98  96.47   \n",
              "\n",
              "   label  \n",
              "0      0  \n",
              "1      0  \n",
              "2      0  \n",
              "3      0  \n",
              "4      0  "
            ],
            "text/html": [
              "\n",
              "  <div id=\"df-94883564-06c1-4a9e-97b3-df4b7771b064\">\n",
              "    <div class=\"colab-df-container\">\n",
              "      <div>\n",
              "<style scoped>\n",
              "    .dataframe tbody tr th:only-of-type {\n",
              "        vertical-align: middle;\n",
              "    }\n",
              "\n",
              "    .dataframe tbody tr th {\n",
              "        vertical-align: top;\n",
              "    }\n",
              "\n",
              "    .dataframe thead th {\n",
              "        text-align: right;\n",
              "    }\n",
              "</style>\n",
              "<table border=\"1\" class=\"dataframe\">\n",
              "  <thead>\n",
              "    <tr style=\"text-align: right;\">\n",
              "      <th></th>\n",
              "      <th>v1</th>\n",
              "      <th>v2</th>\n",
              "      <th>v3</th>\n",
              "      <th>v4</th>\n",
              "      <th>v5</th>\n",
              "      <th>v6</th>\n",
              "      <th>v7</th>\n",
              "      <th>v8</th>\n",
              "      <th>v9</th>\n",
              "      <th>v10</th>\n",
              "      <th>v11</th>\n",
              "      <th>label</th>\n",
              "    </tr>\n",
              "  </thead>\n",
              "  <tbody>\n",
              "    <tr>\n",
              "      <th>0</th>\n",
              "      <td>-2.22</td>\n",
              "      <td>1.32</td>\n",
              "      <td>10.15</td>\n",
              "      <td>0.00</td>\n",
              "      <td>0.00</td>\n",
              "      <td>0.00</td>\n",
              "      <td>4.05</td>\n",
              "      <td>-26.97</td>\n",
              "      <td>-15.51</td>\n",
              "      <td>-14.27</td>\n",
              "      <td>91.41</td>\n",
              "      <td>0</td>\n",
              "    </tr>\n",
              "    <tr>\n",
              "      <th>1</th>\n",
              "      <td>-8.68</td>\n",
              "      <td>-5.17</td>\n",
              "      <td>-1.07</td>\n",
              "      <td>0.00</td>\n",
              "      <td>0.04</td>\n",
              "      <td>-0.03</td>\n",
              "      <td>54.02</td>\n",
              "      <td>21.41</td>\n",
              "      <td>13.17</td>\n",
              "      <td>-34.28</td>\n",
              "      <td>-6.04</td>\n",
              "      <td>0</td>\n",
              "    </tr>\n",
              "    <tr>\n",
              "      <th>2</th>\n",
              "      <td>-0.60</td>\n",
              "      <td>-0.98</td>\n",
              "      <td>-10.27</td>\n",
              "      <td>0.00</td>\n",
              "      <td>0.03</td>\n",
              "      <td>0.00</td>\n",
              "      <td>-30.39</td>\n",
              "      <td>6.72</td>\n",
              "      <td>31.55</td>\n",
              "      <td>-0.99</td>\n",
              "      <td>-83.98</td>\n",
              "      <td>0</td>\n",
              "    </tr>\n",
              "    <tr>\n",
              "      <th>3</th>\n",
              "      <td>-8.53</td>\n",
              "      <td>-5.07</td>\n",
              "      <td>-0.55</td>\n",
              "      <td>-0.02</td>\n",
              "      <td>0.01</td>\n",
              "      <td>0.00</td>\n",
              "      <td>55.29</td>\n",
              "      <td>16.21</td>\n",
              "      <td>10.57</td>\n",
              "      <td>-33.64</td>\n",
              "      <td>-6.62</td>\n",
              "      <td>0</td>\n",
              "    </tr>\n",
              "    <tr>\n",
              "      <th>4</th>\n",
              "      <td>-0.74</td>\n",
              "      <td>1.52</td>\n",
              "      <td>9.32</td>\n",
              "      <td>0.00</td>\n",
              "      <td>0.00</td>\n",
              "      <td>0.00</td>\n",
              "      <td>55.65</td>\n",
              "      <td>-0.26</td>\n",
              "      <td>-44.90</td>\n",
              "      <td>-7.98</td>\n",
              "      <td>96.47</td>\n",
              "      <td>0</td>\n",
              "    </tr>\n",
              "  </tbody>\n",
              "</table>\n",
              "</div>\n",
              "      <button class=\"colab-df-convert\" onclick=\"convertToInteractive('df-94883564-06c1-4a9e-97b3-df4b7771b064')\"\n",
              "              title=\"Convert this dataframe to an interactive table.\"\n",
              "              style=\"display:none;\">\n",
              "        \n",
              "  <svg xmlns=\"http://www.w3.org/2000/svg\" height=\"24px\"viewBox=\"0 0 24 24\"\n",
              "       width=\"24px\">\n",
              "    <path d=\"M0 0h24v24H0V0z\" fill=\"none\"/>\n",
              "    <path d=\"M18.56 5.44l.94 2.06.94-2.06 2.06-.94-2.06-.94-.94-2.06-.94 2.06-2.06.94zm-11 1L8.5 8.5l.94-2.06 2.06-.94-2.06-.94L8.5 2.5l-.94 2.06-2.06.94zm10 10l.94 2.06.94-2.06 2.06-.94-2.06-.94-.94-2.06-.94 2.06-2.06.94z\"/><path d=\"M17.41 7.96l-1.37-1.37c-.4-.4-.92-.59-1.43-.59-.52 0-1.04.2-1.43.59L10.3 9.45l-7.72 7.72c-.78.78-.78 2.05 0 2.83L4 21.41c.39.39.9.59 1.41.59.51 0 1.02-.2 1.41-.59l7.78-7.78 2.81-2.81c.8-.78.8-2.07 0-2.86zM5.41 20L4 18.59l7.72-7.72 1.47 1.35L5.41 20z\"/>\n",
              "  </svg>\n",
              "      </button>\n",
              "      \n",
              "  <style>\n",
              "    .colab-df-container {\n",
              "      display:flex;\n",
              "      flex-wrap:wrap;\n",
              "      gap: 12px;\n",
              "    }\n",
              "\n",
              "    .colab-df-convert {\n",
              "      background-color: #E8F0FE;\n",
              "      border: none;\n",
              "      border-radius: 50%;\n",
              "      cursor: pointer;\n",
              "      display: none;\n",
              "      fill: #1967D2;\n",
              "      height: 32px;\n",
              "      padding: 0 0 0 0;\n",
              "      width: 32px;\n",
              "    }\n",
              "\n",
              "    .colab-df-convert:hover {\n",
              "      background-color: #E2EBFA;\n",
              "      box-shadow: 0px 1px 2px rgba(60, 64, 67, 0.3), 0px 1px 3px 1px rgba(60, 64, 67, 0.15);\n",
              "      fill: #174EA6;\n",
              "    }\n",
              "\n",
              "    [theme=dark] .colab-df-convert {\n",
              "      background-color: #3B4455;\n",
              "      fill: #D2E3FC;\n",
              "    }\n",
              "\n",
              "    [theme=dark] .colab-df-convert:hover {\n",
              "      background-color: #434B5C;\n",
              "      box-shadow: 0px 1px 3px 1px rgba(0, 0, 0, 0.15);\n",
              "      filter: drop-shadow(0px 1px 2px rgba(0, 0, 0, 0.3));\n",
              "      fill: #FFFFFF;\n",
              "    }\n",
              "  </style>\n",
              "\n",
              "      <script>\n",
              "        const buttonEl =\n",
              "          document.querySelector('#df-94883564-06c1-4a9e-97b3-df4b7771b064 button.colab-df-convert');\n",
              "        buttonEl.style.display =\n",
              "          google.colab.kernel.accessAllowed ? 'block' : 'none';\n",
              "\n",
              "        async function convertToInteractive(key) {\n",
              "          const element = document.querySelector('#df-94883564-06c1-4a9e-97b3-df4b7771b064');\n",
              "          const dataTable =\n",
              "            await google.colab.kernel.invokeFunction('convertToInteractive',\n",
              "                                                     [key], {});\n",
              "          if (!dataTable) return;\n",
              "\n",
              "          const docLinkHtml = 'Like what you see? Visit the ' +\n",
              "            '<a target=\"_blank\" href=https://colab.research.google.com/notebooks/data_table.ipynb>data table notebook</a>'\n",
              "            + ' to learn more about interactive tables.';\n",
              "          element.innerHTML = '';\n",
              "          dataTable['output_type'] = 'display_data';\n",
              "          await google.colab.output.renderOutput(dataTable, element);\n",
              "          const docLink = document.createElement('div');\n",
              "          docLink.innerHTML = docLinkHtml;\n",
              "          element.appendChild(docLink);\n",
              "        }\n",
              "      </script>\n",
              "    </div>\n",
              "  </div>\n",
              "  "
            ]
          },
          "metadata": {},
          "execution_count": 48
        }
      ]
    },
    {
      "cell_type": "code",
      "source": [
        "#divide the data set\n",
        "real_x = df.iloc[:,:-1]\n",
        "real_y = df.iloc[:,-1]"
      ],
      "metadata": {
        "id": "cM43XiGP7l0i"
      },
      "execution_count": 20,
      "outputs": []
    },
    {
      "cell_type": "code",
      "source": [
        "#real_y"
      ],
      "metadata": {
        "id": "AO1mRsbe-8jY"
      },
      "execution_count": 21,
      "outputs": []
    },
    {
      "cell_type": "code",
      "source": [
        "from sklearn.preprocessing import MinMaxScaler"
      ],
      "metadata": {
        "id": "w7gFCZ-F7lZ8"
      },
      "execution_count": 22,
      "outputs": []
    },
    {
      "cell_type": "code",
      "source": [
        "scaler = MinMaxScaler()\n",
        "scaler.fit(real_x)"
      ],
      "metadata": {
        "colab": {
          "base_uri": "https://localhost:8080/"
        },
        "id": "eRsETBC97lGr",
        "outputId": "2682e87b-32f8-421d-cb5f-217d0e87b50b"
      },
      "execution_count": 23,
      "outputs": [
        {
          "output_type": "execute_result",
          "data": {
            "text/plain": [
              "MinMaxScaler()"
            ]
          },
          "metadata": {},
          "execution_count": 23
        }
      ]
    },
    {
      "cell_type": "code",
      "source": [
        "data_scaled = scaler.transform(real_x)"
      ],
      "metadata": {
        "id": "xiv4dBy-8vOg"
      },
      "execution_count": 24,
      "outputs": []
    },
    {
      "cell_type": "code",
      "source": [
        "real_X = pd.DataFrame(data=data_scaled)"
      ],
      "metadata": {
        "id": "NMIf9LX38u7H"
      },
      "execution_count": 25,
      "outputs": []
    },
    {
      "cell_type": "code",
      "source": [
        "real_X"
      ],
      "metadata": {
        "colab": {
          "base_uri": "https://localhost:8080/",
          "height": 424
        },
        "id": "0vMIOcri7kxK",
        "outputId": "7317ebef-bc05-4143-f4ba-6c4352f7c122"
      },
      "execution_count": 26,
      "outputs": [
        {
          "output_type": "execute_result",
          "data": {
            "text/plain": [
              "             0         1         2         3         4         5         6   \\\n",
              "0      0.492167  0.408612  0.533561  0.434247  0.454545  0.655689  0.471067   \n",
              "1      0.480010  0.518278  0.668714  0.453425  0.500000  0.658683  0.894544   \n",
              "2      0.425860  0.458488  0.507395  0.410959  0.440823  0.638723  0.471067   \n",
              "3      0.443477  0.508178  0.659310  0.454795  0.496569  0.666667  0.585368   \n",
              "4      0.421244  0.483395  0.599697  0.453425  0.505146  0.658683  0.613060   \n",
              "...         ...       ...       ...       ...       ...       ...       ...   \n",
              "20438  0.426640  0.429926  0.561699  0.401370  0.451973  0.749501  0.532916   \n",
              "20439  0.433921  0.250186  0.543269  0.505479  0.560892  0.743513  0.524019   \n",
              "20440  0.886238  0.162825  0.587789  0.549315  0.565180  0.604790  0.520950   \n",
              "20441  0.475265  0.278191  0.571179  0.424658  0.454545  0.624750  0.520950   \n",
              "20442  0.934668  0.138290  0.323474  0.460274  0.499142  0.655689  0.522795   \n",
              "\n",
              "             7         8         9         10  \n",
              "0      0.361653  0.544284  0.743562  0.335783  \n",
              "1      0.944759  0.844083  0.528920  0.849222  \n",
              "2      0.361653  0.544284  0.500876  0.274885  \n",
              "3      0.414623  0.486398  0.327693  0.752900  \n",
              "4      0.406301  0.542632  0.307065  0.456711  \n",
              "...         ...       ...       ...       ...  \n",
              "20438  0.368700  0.563383  0.552043  0.330540  \n",
              "20439  0.376605  0.567262  0.528179  0.326246  \n",
              "20440  0.376605  0.565470  0.572671  0.333719  \n",
              "20441  0.374936  0.565470  0.549144  0.346641  \n",
              "20442  0.376605  0.568462  0.545571  0.335948  \n",
              "\n",
              "[20443 rows x 11 columns]"
            ],
            "text/html": [
              "\n",
              "  <div id=\"df-abede44e-713a-4ad5-8243-4051a747025b\">\n",
              "    <div class=\"colab-df-container\">\n",
              "      <div>\n",
              "<style scoped>\n",
              "    .dataframe tbody tr th:only-of-type {\n",
              "        vertical-align: middle;\n",
              "    }\n",
              "\n",
              "    .dataframe tbody tr th {\n",
              "        vertical-align: top;\n",
              "    }\n",
              "\n",
              "    .dataframe thead th {\n",
              "        text-align: right;\n",
              "    }\n",
              "</style>\n",
              "<table border=\"1\" class=\"dataframe\">\n",
              "  <thead>\n",
              "    <tr style=\"text-align: right;\">\n",
              "      <th></th>\n",
              "      <th>0</th>\n",
              "      <th>1</th>\n",
              "      <th>2</th>\n",
              "      <th>3</th>\n",
              "      <th>4</th>\n",
              "      <th>5</th>\n",
              "      <th>6</th>\n",
              "      <th>7</th>\n",
              "      <th>8</th>\n",
              "      <th>9</th>\n",
              "      <th>10</th>\n",
              "    </tr>\n",
              "  </thead>\n",
              "  <tbody>\n",
              "    <tr>\n",
              "      <th>0</th>\n",
              "      <td>0.492167</td>\n",
              "      <td>0.408612</td>\n",
              "      <td>0.533561</td>\n",
              "      <td>0.434247</td>\n",
              "      <td>0.454545</td>\n",
              "      <td>0.655689</td>\n",
              "      <td>0.471067</td>\n",
              "      <td>0.361653</td>\n",
              "      <td>0.544284</td>\n",
              "      <td>0.743562</td>\n",
              "      <td>0.335783</td>\n",
              "    </tr>\n",
              "    <tr>\n",
              "      <th>1</th>\n",
              "      <td>0.480010</td>\n",
              "      <td>0.518278</td>\n",
              "      <td>0.668714</td>\n",
              "      <td>0.453425</td>\n",
              "      <td>0.500000</td>\n",
              "      <td>0.658683</td>\n",
              "      <td>0.894544</td>\n",
              "      <td>0.944759</td>\n",
              "      <td>0.844083</td>\n",
              "      <td>0.528920</td>\n",
              "      <td>0.849222</td>\n",
              "    </tr>\n",
              "    <tr>\n",
              "      <th>2</th>\n",
              "      <td>0.425860</td>\n",
              "      <td>0.458488</td>\n",
              "      <td>0.507395</td>\n",
              "      <td>0.410959</td>\n",
              "      <td>0.440823</td>\n",
              "      <td>0.638723</td>\n",
              "      <td>0.471067</td>\n",
              "      <td>0.361653</td>\n",
              "      <td>0.544284</td>\n",
              "      <td>0.500876</td>\n",
              "      <td>0.274885</td>\n",
              "    </tr>\n",
              "    <tr>\n",
              "      <th>3</th>\n",
              "      <td>0.443477</td>\n",
              "      <td>0.508178</td>\n",
              "      <td>0.659310</td>\n",
              "      <td>0.454795</td>\n",
              "      <td>0.496569</td>\n",
              "      <td>0.666667</td>\n",
              "      <td>0.585368</td>\n",
              "      <td>0.414623</td>\n",
              "      <td>0.486398</td>\n",
              "      <td>0.327693</td>\n",
              "      <td>0.752900</td>\n",
              "    </tr>\n",
              "    <tr>\n",
              "      <th>4</th>\n",
              "      <td>0.421244</td>\n",
              "      <td>0.483395</td>\n",
              "      <td>0.599697</td>\n",
              "      <td>0.453425</td>\n",
              "      <td>0.505146</td>\n",
              "      <td>0.658683</td>\n",
              "      <td>0.613060</td>\n",
              "      <td>0.406301</td>\n",
              "      <td>0.542632</td>\n",
              "      <td>0.307065</td>\n",
              "      <td>0.456711</td>\n",
              "    </tr>\n",
              "    <tr>\n",
              "      <th>...</th>\n",
              "      <td>...</td>\n",
              "      <td>...</td>\n",
              "      <td>...</td>\n",
              "      <td>...</td>\n",
              "      <td>...</td>\n",
              "      <td>...</td>\n",
              "      <td>...</td>\n",
              "      <td>...</td>\n",
              "      <td>...</td>\n",
              "      <td>...</td>\n",
              "      <td>...</td>\n",
              "    </tr>\n",
              "    <tr>\n",
              "      <th>20438</th>\n",
              "      <td>0.426640</td>\n",
              "      <td>0.429926</td>\n",
              "      <td>0.561699</td>\n",
              "      <td>0.401370</td>\n",
              "      <td>0.451973</td>\n",
              "      <td>0.749501</td>\n",
              "      <td>0.532916</td>\n",
              "      <td>0.368700</td>\n",
              "      <td>0.563383</td>\n",
              "      <td>0.552043</td>\n",
              "      <td>0.330540</td>\n",
              "    </tr>\n",
              "    <tr>\n",
              "      <th>20439</th>\n",
              "      <td>0.433921</td>\n",
              "      <td>0.250186</td>\n",
              "      <td>0.543269</td>\n",
              "      <td>0.505479</td>\n",
              "      <td>0.560892</td>\n",
              "      <td>0.743513</td>\n",
              "      <td>0.524019</td>\n",
              "      <td>0.376605</td>\n",
              "      <td>0.567262</td>\n",
              "      <td>0.528179</td>\n",
              "      <td>0.326246</td>\n",
              "    </tr>\n",
              "    <tr>\n",
              "      <th>20440</th>\n",
              "      <td>0.886238</td>\n",
              "      <td>0.162825</td>\n",
              "      <td>0.587789</td>\n",
              "      <td>0.549315</td>\n",
              "      <td>0.565180</td>\n",
              "      <td>0.604790</td>\n",
              "      <td>0.520950</td>\n",
              "      <td>0.376605</td>\n",
              "      <td>0.565470</td>\n",
              "      <td>0.572671</td>\n",
              "      <td>0.333719</td>\n",
              "    </tr>\n",
              "    <tr>\n",
              "      <th>20441</th>\n",
              "      <td>0.475265</td>\n",
              "      <td>0.278191</td>\n",
              "      <td>0.571179</td>\n",
              "      <td>0.424658</td>\n",
              "      <td>0.454545</td>\n",
              "      <td>0.624750</td>\n",
              "      <td>0.520950</td>\n",
              "      <td>0.374936</td>\n",
              "      <td>0.565470</td>\n",
              "      <td>0.549144</td>\n",
              "      <td>0.346641</td>\n",
              "    </tr>\n",
              "    <tr>\n",
              "      <th>20442</th>\n",
              "      <td>0.934668</td>\n",
              "      <td>0.138290</td>\n",
              "      <td>0.323474</td>\n",
              "      <td>0.460274</td>\n",
              "      <td>0.499142</td>\n",
              "      <td>0.655689</td>\n",
              "      <td>0.522795</td>\n",
              "      <td>0.376605</td>\n",
              "      <td>0.568462</td>\n",
              "      <td>0.545571</td>\n",
              "      <td>0.335948</td>\n",
              "    </tr>\n",
              "  </tbody>\n",
              "</table>\n",
              "<p>20443 rows × 11 columns</p>\n",
              "</div>\n",
              "      <button class=\"colab-df-convert\" onclick=\"convertToInteractive('df-abede44e-713a-4ad5-8243-4051a747025b')\"\n",
              "              title=\"Convert this dataframe to an interactive table.\"\n",
              "              style=\"display:none;\">\n",
              "        \n",
              "  <svg xmlns=\"http://www.w3.org/2000/svg\" height=\"24px\"viewBox=\"0 0 24 24\"\n",
              "       width=\"24px\">\n",
              "    <path d=\"M0 0h24v24H0V0z\" fill=\"none\"/>\n",
              "    <path d=\"M18.56 5.44l.94 2.06.94-2.06 2.06-.94-2.06-.94-.94-2.06-.94 2.06-2.06.94zm-11 1L8.5 8.5l.94-2.06 2.06-.94-2.06-.94L8.5 2.5l-.94 2.06-2.06.94zm10 10l.94 2.06.94-2.06 2.06-.94-2.06-.94-.94-2.06-.94 2.06-2.06.94z\"/><path d=\"M17.41 7.96l-1.37-1.37c-.4-.4-.92-.59-1.43-.59-.52 0-1.04.2-1.43.59L10.3 9.45l-7.72 7.72c-.78.78-.78 2.05 0 2.83L4 21.41c.39.39.9.59 1.41.59.51 0 1.02-.2 1.41-.59l7.78-7.78 2.81-2.81c.8-.78.8-2.07 0-2.86zM5.41 20L4 18.59l7.72-7.72 1.47 1.35L5.41 20z\"/>\n",
              "  </svg>\n",
              "      </button>\n",
              "      \n",
              "  <style>\n",
              "    .colab-df-container {\n",
              "      display:flex;\n",
              "      flex-wrap:wrap;\n",
              "      gap: 12px;\n",
              "    }\n",
              "\n",
              "    .colab-df-convert {\n",
              "      background-color: #E8F0FE;\n",
              "      border: none;\n",
              "      border-radius: 50%;\n",
              "      cursor: pointer;\n",
              "      display: none;\n",
              "      fill: #1967D2;\n",
              "      height: 32px;\n",
              "      padding: 0 0 0 0;\n",
              "      width: 32px;\n",
              "    }\n",
              "\n",
              "    .colab-df-convert:hover {\n",
              "      background-color: #E2EBFA;\n",
              "      box-shadow: 0px 1px 2px rgba(60, 64, 67, 0.3), 0px 1px 3px 1px rgba(60, 64, 67, 0.15);\n",
              "      fill: #174EA6;\n",
              "    }\n",
              "\n",
              "    [theme=dark] .colab-df-convert {\n",
              "      background-color: #3B4455;\n",
              "      fill: #D2E3FC;\n",
              "    }\n",
              "\n",
              "    [theme=dark] .colab-df-convert:hover {\n",
              "      background-color: #434B5C;\n",
              "      box-shadow: 0px 1px 3px 1px rgba(0, 0, 0, 0.15);\n",
              "      filter: drop-shadow(0px 1px 2px rgba(0, 0, 0, 0.3));\n",
              "      fill: #FFFFFF;\n",
              "    }\n",
              "  </style>\n",
              "\n",
              "      <script>\n",
              "        const buttonEl =\n",
              "          document.querySelector('#df-abede44e-713a-4ad5-8243-4051a747025b button.colab-df-convert');\n",
              "        buttonEl.style.display =\n",
              "          google.colab.kernel.accessAllowed ? 'block' : 'none';\n",
              "\n",
              "        async function convertToInteractive(key) {\n",
              "          const element = document.querySelector('#df-abede44e-713a-4ad5-8243-4051a747025b');\n",
              "          const dataTable =\n",
              "            await google.colab.kernel.invokeFunction('convertToInteractive',\n",
              "                                                     [key], {});\n",
              "          if (!dataTable) return;\n",
              "\n",
              "          const docLinkHtml = 'Like what you see? Visit the ' +\n",
              "            '<a target=\"_blank\" href=https://colab.research.google.com/notebooks/data_table.ipynb>data table notebook</a>'\n",
              "            + ' to learn more about interactive tables.';\n",
              "          element.innerHTML = '';\n",
              "          dataTable['output_type'] = 'display_data';\n",
              "          await google.colab.output.renderOutput(dataTable, element);\n",
              "          const docLink = document.createElement('div');\n",
              "          docLink.innerHTML = docLinkHtml;\n",
              "          element.appendChild(docLink);\n",
              "        }\n",
              "      </script>\n",
              "    </div>\n",
              "  </div>\n",
              "  "
            ]
          },
          "metadata": {},
          "execution_count": 26
        }
      ]
    },
    {
      "cell_type": "code",
      "source": [
        "print(df.columns.tolist())"
      ],
      "metadata": {
        "colab": {
          "base_uri": "https://localhost:8080/"
        },
        "id": "FRmshRBd86QC",
        "outputId": "c598f21c-4b97-40c6-cbb0-dcee7e0e13a3"
      },
      "execution_count": 27,
      "outputs": [
        {
          "output_type": "stream",
          "name": "stdout",
          "text": [
            "['v1', 'v2', 'v3', 'v4', 'v5', 'v6', 'v7', 'v8', 'v9', 'v10', 'v11', 'label']\n"
          ]
        }
      ]
    },
    {
      "cell_type": "code",
      "source": [
        "real_X.columns = ['v1', 'v2', 'v3', 'v4', 'v5', 'v6', 'v7', 'v8', 'v9', 'v10', 'v11']"
      ],
      "metadata": {
        "id": "87qq9uGp8_jY"
      },
      "execution_count": 28,
      "outputs": []
    },
    {
      "cell_type": "code",
      "source": [
        "real_X"
      ],
      "metadata": {
        "colab": {
          "base_uri": "https://localhost:8080/",
          "height": 424
        },
        "id": "gmbq_bY385zR",
        "outputId": "54887120-6737-4997-f57b-f4deeb822e64"
      },
      "execution_count": 29,
      "outputs": [
        {
          "output_type": "execute_result",
          "data": {
            "text/plain": [
              "             v1        v2        v3        v4        v5        v6        v7  \\\n",
              "0      0.492167  0.408612  0.533561  0.434247  0.454545  0.655689  0.471067   \n",
              "1      0.480010  0.518278  0.668714  0.453425  0.500000  0.658683  0.894544   \n",
              "2      0.425860  0.458488  0.507395  0.410959  0.440823  0.638723  0.471067   \n",
              "3      0.443477  0.508178  0.659310  0.454795  0.496569  0.666667  0.585368   \n",
              "4      0.421244  0.483395  0.599697  0.453425  0.505146  0.658683  0.613060   \n",
              "...         ...       ...       ...       ...       ...       ...       ...   \n",
              "20438  0.426640  0.429926  0.561699  0.401370  0.451973  0.749501  0.532916   \n",
              "20439  0.433921  0.250186  0.543269  0.505479  0.560892  0.743513  0.524019   \n",
              "20440  0.886238  0.162825  0.587789  0.549315  0.565180  0.604790  0.520950   \n",
              "20441  0.475265  0.278191  0.571179  0.424658  0.454545  0.624750  0.520950   \n",
              "20442  0.934668  0.138290  0.323474  0.460274  0.499142  0.655689  0.522795   \n",
              "\n",
              "             v8        v9       v10       v11  \n",
              "0      0.361653  0.544284  0.743562  0.335783  \n",
              "1      0.944759  0.844083  0.528920  0.849222  \n",
              "2      0.361653  0.544284  0.500876  0.274885  \n",
              "3      0.414623  0.486398  0.327693  0.752900  \n",
              "4      0.406301  0.542632  0.307065  0.456711  \n",
              "...         ...       ...       ...       ...  \n",
              "20438  0.368700  0.563383  0.552043  0.330540  \n",
              "20439  0.376605  0.567262  0.528179  0.326246  \n",
              "20440  0.376605  0.565470  0.572671  0.333719  \n",
              "20441  0.374936  0.565470  0.549144  0.346641  \n",
              "20442  0.376605  0.568462  0.545571  0.335948  \n",
              "\n",
              "[20443 rows x 11 columns]"
            ],
            "text/html": [
              "\n",
              "  <div id=\"df-01fc820d-0120-4184-9976-39257c9c5d1c\">\n",
              "    <div class=\"colab-df-container\">\n",
              "      <div>\n",
              "<style scoped>\n",
              "    .dataframe tbody tr th:only-of-type {\n",
              "        vertical-align: middle;\n",
              "    }\n",
              "\n",
              "    .dataframe tbody tr th {\n",
              "        vertical-align: top;\n",
              "    }\n",
              "\n",
              "    .dataframe thead th {\n",
              "        text-align: right;\n",
              "    }\n",
              "</style>\n",
              "<table border=\"1\" class=\"dataframe\">\n",
              "  <thead>\n",
              "    <tr style=\"text-align: right;\">\n",
              "      <th></th>\n",
              "      <th>v1</th>\n",
              "      <th>v2</th>\n",
              "      <th>v3</th>\n",
              "      <th>v4</th>\n",
              "      <th>v5</th>\n",
              "      <th>v6</th>\n",
              "      <th>v7</th>\n",
              "      <th>v8</th>\n",
              "      <th>v9</th>\n",
              "      <th>v10</th>\n",
              "      <th>v11</th>\n",
              "    </tr>\n",
              "  </thead>\n",
              "  <tbody>\n",
              "    <tr>\n",
              "      <th>0</th>\n",
              "      <td>0.492167</td>\n",
              "      <td>0.408612</td>\n",
              "      <td>0.533561</td>\n",
              "      <td>0.434247</td>\n",
              "      <td>0.454545</td>\n",
              "      <td>0.655689</td>\n",
              "      <td>0.471067</td>\n",
              "      <td>0.361653</td>\n",
              "      <td>0.544284</td>\n",
              "      <td>0.743562</td>\n",
              "      <td>0.335783</td>\n",
              "    </tr>\n",
              "    <tr>\n",
              "      <th>1</th>\n",
              "      <td>0.480010</td>\n",
              "      <td>0.518278</td>\n",
              "      <td>0.668714</td>\n",
              "      <td>0.453425</td>\n",
              "      <td>0.500000</td>\n",
              "      <td>0.658683</td>\n",
              "      <td>0.894544</td>\n",
              "      <td>0.944759</td>\n",
              "      <td>0.844083</td>\n",
              "      <td>0.528920</td>\n",
              "      <td>0.849222</td>\n",
              "    </tr>\n",
              "    <tr>\n",
              "      <th>2</th>\n",
              "      <td>0.425860</td>\n",
              "      <td>0.458488</td>\n",
              "      <td>0.507395</td>\n",
              "      <td>0.410959</td>\n",
              "      <td>0.440823</td>\n",
              "      <td>0.638723</td>\n",
              "      <td>0.471067</td>\n",
              "      <td>0.361653</td>\n",
              "      <td>0.544284</td>\n",
              "      <td>0.500876</td>\n",
              "      <td>0.274885</td>\n",
              "    </tr>\n",
              "    <tr>\n",
              "      <th>3</th>\n",
              "      <td>0.443477</td>\n",
              "      <td>0.508178</td>\n",
              "      <td>0.659310</td>\n",
              "      <td>0.454795</td>\n",
              "      <td>0.496569</td>\n",
              "      <td>0.666667</td>\n",
              "      <td>0.585368</td>\n",
              "      <td>0.414623</td>\n",
              "      <td>0.486398</td>\n",
              "      <td>0.327693</td>\n",
              "      <td>0.752900</td>\n",
              "    </tr>\n",
              "    <tr>\n",
              "      <th>4</th>\n",
              "      <td>0.421244</td>\n",
              "      <td>0.483395</td>\n",
              "      <td>0.599697</td>\n",
              "      <td>0.453425</td>\n",
              "      <td>0.505146</td>\n",
              "      <td>0.658683</td>\n",
              "      <td>0.613060</td>\n",
              "      <td>0.406301</td>\n",
              "      <td>0.542632</td>\n",
              "      <td>0.307065</td>\n",
              "      <td>0.456711</td>\n",
              "    </tr>\n",
              "    <tr>\n",
              "      <th>...</th>\n",
              "      <td>...</td>\n",
              "      <td>...</td>\n",
              "      <td>...</td>\n",
              "      <td>...</td>\n",
              "      <td>...</td>\n",
              "      <td>...</td>\n",
              "      <td>...</td>\n",
              "      <td>...</td>\n",
              "      <td>...</td>\n",
              "      <td>...</td>\n",
              "      <td>...</td>\n",
              "    </tr>\n",
              "    <tr>\n",
              "      <th>20438</th>\n",
              "      <td>0.426640</td>\n",
              "      <td>0.429926</td>\n",
              "      <td>0.561699</td>\n",
              "      <td>0.401370</td>\n",
              "      <td>0.451973</td>\n",
              "      <td>0.749501</td>\n",
              "      <td>0.532916</td>\n",
              "      <td>0.368700</td>\n",
              "      <td>0.563383</td>\n",
              "      <td>0.552043</td>\n",
              "      <td>0.330540</td>\n",
              "    </tr>\n",
              "    <tr>\n",
              "      <th>20439</th>\n",
              "      <td>0.433921</td>\n",
              "      <td>0.250186</td>\n",
              "      <td>0.543269</td>\n",
              "      <td>0.505479</td>\n",
              "      <td>0.560892</td>\n",
              "      <td>0.743513</td>\n",
              "      <td>0.524019</td>\n",
              "      <td>0.376605</td>\n",
              "      <td>0.567262</td>\n",
              "      <td>0.528179</td>\n",
              "      <td>0.326246</td>\n",
              "    </tr>\n",
              "    <tr>\n",
              "      <th>20440</th>\n",
              "      <td>0.886238</td>\n",
              "      <td>0.162825</td>\n",
              "      <td>0.587789</td>\n",
              "      <td>0.549315</td>\n",
              "      <td>0.565180</td>\n",
              "      <td>0.604790</td>\n",
              "      <td>0.520950</td>\n",
              "      <td>0.376605</td>\n",
              "      <td>0.565470</td>\n",
              "      <td>0.572671</td>\n",
              "      <td>0.333719</td>\n",
              "    </tr>\n",
              "    <tr>\n",
              "      <th>20441</th>\n",
              "      <td>0.475265</td>\n",
              "      <td>0.278191</td>\n",
              "      <td>0.571179</td>\n",
              "      <td>0.424658</td>\n",
              "      <td>0.454545</td>\n",
              "      <td>0.624750</td>\n",
              "      <td>0.520950</td>\n",
              "      <td>0.374936</td>\n",
              "      <td>0.565470</td>\n",
              "      <td>0.549144</td>\n",
              "      <td>0.346641</td>\n",
              "    </tr>\n",
              "    <tr>\n",
              "      <th>20442</th>\n",
              "      <td>0.934668</td>\n",
              "      <td>0.138290</td>\n",
              "      <td>0.323474</td>\n",
              "      <td>0.460274</td>\n",
              "      <td>0.499142</td>\n",
              "      <td>0.655689</td>\n",
              "      <td>0.522795</td>\n",
              "      <td>0.376605</td>\n",
              "      <td>0.568462</td>\n",
              "      <td>0.545571</td>\n",
              "      <td>0.335948</td>\n",
              "    </tr>\n",
              "  </tbody>\n",
              "</table>\n",
              "<p>20443 rows × 11 columns</p>\n",
              "</div>\n",
              "      <button class=\"colab-df-convert\" onclick=\"convertToInteractive('df-01fc820d-0120-4184-9976-39257c9c5d1c')\"\n",
              "              title=\"Convert this dataframe to an interactive table.\"\n",
              "              style=\"display:none;\">\n",
              "        \n",
              "  <svg xmlns=\"http://www.w3.org/2000/svg\" height=\"24px\"viewBox=\"0 0 24 24\"\n",
              "       width=\"24px\">\n",
              "    <path d=\"M0 0h24v24H0V0z\" fill=\"none\"/>\n",
              "    <path d=\"M18.56 5.44l.94 2.06.94-2.06 2.06-.94-2.06-.94-.94-2.06-.94 2.06-2.06.94zm-11 1L8.5 8.5l.94-2.06 2.06-.94-2.06-.94L8.5 2.5l-.94 2.06-2.06.94zm10 10l.94 2.06.94-2.06 2.06-.94-2.06-.94-.94-2.06-.94 2.06-2.06.94z\"/><path d=\"M17.41 7.96l-1.37-1.37c-.4-.4-.92-.59-1.43-.59-.52 0-1.04.2-1.43.59L10.3 9.45l-7.72 7.72c-.78.78-.78 2.05 0 2.83L4 21.41c.39.39.9.59 1.41.59.51 0 1.02-.2 1.41-.59l7.78-7.78 2.81-2.81c.8-.78.8-2.07 0-2.86zM5.41 20L4 18.59l7.72-7.72 1.47 1.35L5.41 20z\"/>\n",
              "  </svg>\n",
              "      </button>\n",
              "      \n",
              "  <style>\n",
              "    .colab-df-container {\n",
              "      display:flex;\n",
              "      flex-wrap:wrap;\n",
              "      gap: 12px;\n",
              "    }\n",
              "\n",
              "    .colab-df-convert {\n",
              "      background-color: #E8F0FE;\n",
              "      border: none;\n",
              "      border-radius: 50%;\n",
              "      cursor: pointer;\n",
              "      display: none;\n",
              "      fill: #1967D2;\n",
              "      height: 32px;\n",
              "      padding: 0 0 0 0;\n",
              "      width: 32px;\n",
              "    }\n",
              "\n",
              "    .colab-df-convert:hover {\n",
              "      background-color: #E2EBFA;\n",
              "      box-shadow: 0px 1px 2px rgba(60, 64, 67, 0.3), 0px 1px 3px 1px rgba(60, 64, 67, 0.15);\n",
              "      fill: #174EA6;\n",
              "    }\n",
              "\n",
              "    [theme=dark] .colab-df-convert {\n",
              "      background-color: #3B4455;\n",
              "      fill: #D2E3FC;\n",
              "    }\n",
              "\n",
              "    [theme=dark] .colab-df-convert:hover {\n",
              "      background-color: #434B5C;\n",
              "      box-shadow: 0px 1px 3px 1px rgba(0, 0, 0, 0.15);\n",
              "      filter: drop-shadow(0px 1px 2px rgba(0, 0, 0, 0.3));\n",
              "      fill: #FFFFFF;\n",
              "    }\n",
              "  </style>\n",
              "\n",
              "      <script>\n",
              "        const buttonEl =\n",
              "          document.querySelector('#df-01fc820d-0120-4184-9976-39257c9c5d1c button.colab-df-convert');\n",
              "        buttonEl.style.display =\n",
              "          google.colab.kernel.accessAllowed ? 'block' : 'none';\n",
              "\n",
              "        async function convertToInteractive(key) {\n",
              "          const element = document.querySelector('#df-01fc820d-0120-4184-9976-39257c9c5d1c');\n",
              "          const dataTable =\n",
              "            await google.colab.kernel.invokeFunction('convertToInteractive',\n",
              "                                                     [key], {});\n",
              "          if (!dataTable) return;\n",
              "\n",
              "          const docLinkHtml = 'Like what you see? Visit the ' +\n",
              "            '<a target=\"_blank\" href=https://colab.research.google.com/notebooks/data_table.ipynb>data table notebook</a>'\n",
              "            + ' to learn more about interactive tables.';\n",
              "          element.innerHTML = '';\n",
              "          dataTable['output_type'] = 'display_data';\n",
              "          await google.colab.output.renderOutput(dataTable, element);\n",
              "          const docLink = document.createElement('div');\n",
              "          docLink.innerHTML = docLinkHtml;\n",
              "          element.appendChild(docLink);\n",
              "        }\n",
              "      </script>\n",
              "    </div>\n",
              "  </div>\n",
              "  "
            ]
          },
          "metadata": {},
          "execution_count": 29
        }
      ]
    },
    {
      "cell_type": "code",
      "source": [
        "real_y"
      ],
      "metadata": {
        "colab": {
          "base_uri": "https://localhost:8080/"
        },
        "id": "NxErH-uZ85X0",
        "outputId": "28361d39-4443-415a-9f65-9e6f89bbba3c"
      },
      "execution_count": 30,
      "outputs": [
        {
          "output_type": "execute_result",
          "data": {
            "text/plain": [
              "0        0\n",
              "1        0\n",
              "2        0\n",
              "3        0\n",
              "4        0\n",
              "        ..\n",
              "20438    1\n",
              "20439    1\n",
              "20440    1\n",
              "20441    1\n",
              "20442    1\n",
              "Name: label, Length: 20443, dtype: int64"
            ]
          },
          "metadata": {},
          "execution_count": 30
        }
      ]
    },
    {
      "cell_type": "markdown",
      "source": [
        "Random Oversampling"
      ],
      "metadata": {
        "id": "tfTT04kYgPwV"
      }
    },
    {
      "cell_type": "code",
      "source": [
        "from imblearn.over_sampling import RandomOverSampler\n",
        "oversample = RandomOverSampler()"
      ],
      "metadata": {
        "id": "VvbPMWIv9K7y"
      },
      "execution_count": 31,
      "outputs": []
    },
    {
      "cell_type": "code",
      "source": [
        "X_over, y_over = oversample.fit_resample(real_X, real_y)"
      ],
      "metadata": {
        "id": "IxyzMo9-9Vwy"
      },
      "execution_count": 32,
      "outputs": []
    },
    {
      "cell_type": "code",
      "source": [
        "#How to check shape of the X_over \n",
        "X_over.shape"
      ],
      "metadata": {
        "colab": {
          "base_uri": "https://localhost:8080/"
        },
        "id": "SZUAe3LQ9VWM",
        "outputId": "2e8a3d13-d7d0-4a5f-a5a2-8bdd4fa658a1"
      },
      "execution_count": 33,
      "outputs": [
        {
          "output_type": "execute_result",
          "data": {
            "text/plain": [
              "(40000, 11)"
            ]
          },
          "metadata": {},
          "execution_count": 33
        }
      ]
    },
    {
      "cell_type": "code",
      "source": [
        "#shape of the y_over\n",
        "y_over.shape"
      ],
      "metadata": {
        "colab": {
          "base_uri": "https://localhost:8080/"
        },
        "id": "jyFbXuwL9Kcg",
        "outputId": "e821e9f8-d2ec-4535-e436-cc595603035e"
      },
      "execution_count": 34,
      "outputs": [
        {
          "output_type": "execute_result",
          "data": {
            "text/plain": [
              "(40000,)"
            ]
          },
          "metadata": {},
          "execution_count": 34
        }
      ]
    },
    {
      "cell_type": "code",
      "source": [
        "# df = pd.DataFrame(y_over)"
      ],
      "metadata": {
        "id": "GJcAxWN4IRDL"
      },
      "execution_count": null,
      "outputs": []
    },
    {
      "cell_type": "code",
      "source": [
        "# sns.countplot(x='label',data=df)"
      ],
      "metadata": {
        "colab": {
          "base_uri": "https://localhost:8080/",
          "height": 296
        },
        "id": "B2br2P70IXgx",
        "outputId": "cb746b8b-6599-410c-fc7b-101b21cc46e3"
      },
      "execution_count": null,
      "outputs": [
        {
          "output_type": "execute_result",
          "data": {
            "text/plain": [
              "<matplotlib.axes._subplots.AxesSubplot at 0x7f339ddc6590>"
            ]
          },
          "metadata": {},
          "execution_count": 33
        },
        {
          "output_type": "display_data",
          "data": {
            "text/plain": [
              "<Figure size 432x288 with 1 Axes>"
            ],
            "image/png": "[encoded data removed]"
          },
          "metadata": {
            "needs_background": "light"
          }
        }
      ]
    },
    {
      "cell_type": "code",
      "source": [
        "from sklearn.model_selection import train_test_split"
      ],
      "metadata": {
        "id": "CH4TD76B8Y8k"
      },
      "execution_count": 35,
      "outputs": []
    },
    {
      "cell_type": "code",
      "source": [
        "X_train, X_val_and_test, Y_train, Y_val_and_test = train_test_split(X_over, y_over, test_size=0.3)"
      ],
      "metadata": {
        "id": "b2K4roD38h5o"
      },
      "execution_count": 36,
      "outputs": []
    },
    {
      "cell_type": "code",
      "source": [
        "X_val, X_test, Y_val, Y_test = train_test_split(X_val_and_test, Y_val_and_test, test_size=0.5)"
      ],
      "metadata": {
        "id": "KrCHaamI8k77"
      },
      "execution_count": 37,
      "outputs": []
    },
    {
      "cell_type": "code",
      "source": [
        "print(X_train.shape, X_test.shape, Y_train.shape, Y_test.shape, X_val.shape, Y_val.shape)"
      ],
      "metadata": {
        "colab": {
          "base_uri": "https://localhost:8080/"
        },
        "id": "akIjx4Cv8ohy",
        "outputId": "c7700171-ac62-4e18-862d-6186a27451c4"
      },
      "execution_count": 38,
      "outputs": [
        {
          "output_type": "stream",
          "name": "stdout",
          "text": [
            "(28000, 11) (6000, 11) (28000,) (6000,) (6000, 11) (6000,)\n"
          ]
        }
      ]
    },
    {
      "cell_type": "markdown",
      "source": [
        "Model Building"
      ],
      "metadata": {
        "id": "qe0Ht4aRuCCQ"
      }
    },
    {
      "cell_type": "code",
      "source": [
        "from keras.models import Sequential\n",
        "from keras.layers import Dense"
      ],
      "metadata": {
        "id": "WWvloG3D8x5-"
      },
      "execution_count": null,
      "outputs": []
    },
    {
      "cell_type": "code",
      "source": [
        "model = Sequential([\n",
        "    Dense(32, activation='relu', input_shape=(11,)),\n",
        "    Dense(32, activation='relu'),\n",
        "\n",
        "    Dense(1, activation='sigmoid'),\n",
        "])"
      ],
      "metadata": {
        "id": "6b9iusXE84cf"
      },
      "execution_count": null,
      "outputs": []
    },
    {
      "cell_type": "code",
      "source": [
        "model.compile(optimizer='sgd', loss='binary_crossentropy', metrics=['accuracy'])"
      ],
      "metadata": {
        "id": "HvadAXZd88QO"
      },
      "execution_count": null,
      "outputs": []
    },
    {
      "cell_type": "code",
      "source": [
        "hist = model.fit(X_train, Y_train, batch_size=16, epochs=50, validation_data=(X_val, Y_val))"
      ],
      "metadata": {
        "colab": {
          "base_uri": "https://localhost:8080/"
        },
        "id": "62rq3au29CEz",
        "outputId": "546ac808-43d7-460d-b8f3-2795a16540b3"
      },
      "execution_count": null,
      "outputs": [
        {
          "output_type": "stream",
          "name": "stdout",
          "text": [
            "Epoch 1/50\n",
            "1750/1750 [==============================] - 4s 2ms/step - loss: 0.6356 - accuracy: 0.7042 - val_loss: 0.5427 - val_accuracy: 0.7488\n",
            "Epoch 2/50\n",
            "1750/1750 [==============================] - 3s 2ms/step - loss: 0.4576 - accuracy: 0.7607 - val_loss: 0.3951 - val_accuracy: 0.7700\n",
            "Epoch 3/50\n",
            "1750/1750 [==============================] - 3s 2ms/step - loss: 0.3687 - accuracy: 0.8212 - val_loss: 0.3602 - val_accuracy: 0.7793\n",
            "Epoch 4/50\n",
            "1750/1750 [==============================] - 3s 2ms/step - loss: 0.3192 - accuracy: 0.8767 - val_loss: 0.2932 - val_accuracy: 0.9088\n",
            "Epoch 5/50\n",
            "1750/1750 [==============================] - 3s 2ms/step - loss: 0.2799 - accuracy: 0.9017 - val_loss: 0.2587 - val_accuracy: 0.9007\n",
            "Epoch 6/50\n",
            "1750/1750 [==============================] - 3s 2ms/step - loss: 0.2434 - accuracy: 0.9169 - val_loss: 0.2175 - val_accuracy: 0.9282\n",
            "Epoch 7/50\n",
            "1750/1750 [==============================] - 3s 2ms/step - loss: 0.2135 - accuracy: 0.9295 - val_loss: 0.2008 - val_accuracy: 0.9463\n",
            "Epoch 8/50\n",
            "1750/1750 [==============================] - 3s 2ms/step - loss: 0.1864 - accuracy: 0.9388 - val_loss: 0.1729 - val_accuracy: 0.9323\n",
            "Epoch 9/50\n",
            "1750/1750 [==============================] - 3s 2ms/step - loss: 0.1646 - accuracy: 0.9460 - val_loss: 0.1416 - val_accuracy: 0.9552\n",
            "Epoch 10/50\n",
            "1750/1750 [==============================] - 3s 2ms/step - loss: 0.1477 - accuracy: 0.9532 - val_loss: 0.1310 - val_accuracy: 0.9542\n",
            "Epoch 11/50\n",
            "1750/1750 [==============================] - 3s 2ms/step - loss: 0.1326 - accuracy: 0.9591 - val_loss: 0.1148 - val_accuracy: 0.9642\n",
            "Epoch 12/50\n",
            "1750/1750 [==============================] - 3s 2ms/step - loss: 0.1213 - accuracy: 0.9643 - val_loss: 0.1045 - val_accuracy: 0.9712\n",
            "Epoch 13/50\n",
            "1750/1750 [==============================] - 3s 2ms/step - loss: 0.1124 - accuracy: 0.9675 - val_loss: 0.1115 - val_accuracy: 0.9630\n",
            "Epoch 14/50\n",
            "1750/1750 [==============================] - 3s 2ms/step - loss: 0.1045 - accuracy: 0.9685 - val_loss: 0.1086 - val_accuracy: 0.9758\n",
            "Epoch 15/50\n",
            "1750/1750 [==============================] - 3s 2ms/step - loss: 0.0974 - accuracy: 0.9714 - val_loss: 0.0792 - val_accuracy: 0.9775\n",
            "Epoch 16/50\n",
            "1750/1750 [==============================] - 4s 2ms/step - loss: 0.0918 - accuracy: 0.9732 - val_loss: 0.0746 - val_accuracy: 0.9812\n",
            "Epoch 17/50\n",
            "1750/1750 [==============================] - 3s 2ms/step - loss: 0.0870 - accuracy: 0.9747 - val_loss: 0.0759 - val_accuracy: 0.9795\n",
            "Epoch 18/50\n",
            "1750/1750 [==============================] - 3s 2ms/step - loss: 0.0840 - accuracy: 0.9745 - val_loss: 0.0672 - val_accuracy: 0.9833\n",
            "Epoch 19/50\n",
            "1750/1750 [==============================] - 3s 2ms/step - loss: 0.0801 - accuracy: 0.9772 - val_loss: 0.0674 - val_accuracy: 0.9822\n",
            "Epoch 20/50\n",
            "1750/1750 [==============================] - 3s 2ms/step - loss: 0.0776 - accuracy: 0.9774 - val_loss: 0.0717 - val_accuracy: 0.9747\n",
            "Epoch 21/50\n",
            "1750/1750 [==============================] - 3s 2ms/step - loss: 0.0741 - accuracy: 0.9786 - val_loss: 0.0608 - val_accuracy: 0.9858\n",
            "Epoch 22/50\n",
            "1750/1750 [==============================] - 3s 2ms/step - loss: 0.0722 - accuracy: 0.9795 - val_loss: 0.0555 - val_accuracy: 0.9895\n",
            "Epoch 23/50\n",
            "1750/1750 [==============================] - 3s 2ms/step - loss: 0.0686 - accuracy: 0.9812 - val_loss: 0.0545 - val_accuracy: 0.9883\n",
            "Epoch 24/50\n",
            "1750/1750 [==============================] - 3s 2ms/step - loss: 0.0668 - accuracy: 0.9821 - val_loss: 0.0528 - val_accuracy: 0.9890\n",
            "Epoch 25/50\n",
            "1750/1750 [==============================] - 3s 2ms/step - loss: 0.0651 - accuracy: 0.9818 - val_loss: 0.0717 - val_accuracy: 0.9710\n",
            "Epoch 26/50\n",
            "1750/1750 [==============================] - 3s 2ms/step - loss: 0.0629 - accuracy: 0.9831 - val_loss: 0.0483 - val_accuracy: 0.9912\n",
            "Epoch 27/50\n",
            "1750/1750 [==============================] - 3s 2ms/step - loss: 0.0620 - accuracy: 0.9830 - val_loss: 0.0479 - val_accuracy: 0.9880\n",
            "Epoch 28/50\n",
            "1750/1750 [==============================] - 3s 2ms/step - loss: 0.0601 - accuracy: 0.9845 - val_loss: 0.0713 - val_accuracy: 0.9882\n",
            "Epoch 29/50\n",
            "1750/1750 [==============================] - 3s 2ms/step - loss: 0.0586 - accuracy: 0.9852 - val_loss: 0.0454 - val_accuracy: 0.9900\n",
            "Epoch 30/50\n",
            "1750/1750 [==============================] - 3s 2ms/step - loss: 0.0573 - accuracy: 0.9845 - val_loss: 0.0485 - val_accuracy: 0.9893\n",
            "Epoch 31/50\n",
            "1750/1750 [==============================] - 3s 2ms/step - loss: 0.0558 - accuracy: 0.9849 - val_loss: 0.0433 - val_accuracy: 0.9898\n",
            "Epoch 32/50\n",
            "1750/1750 [==============================] - 3s 2ms/step - loss: 0.0551 - accuracy: 0.9858 - val_loss: 0.0435 - val_accuracy: 0.9893\n",
            "Epoch 33/50\n",
            "1750/1750 [==============================] - 3s 2ms/step - loss: 0.0540 - accuracy: 0.9861 - val_loss: 0.0581 - val_accuracy: 0.9793\n",
            "Epoch 34/50\n",
            "1750/1750 [==============================] - 3s 2ms/step - loss: 0.0529 - accuracy: 0.9856 - val_loss: 0.0395 - val_accuracy: 0.9917\n",
            "Epoch 35/50\n",
            "1750/1750 [==============================] - 3s 2ms/step - loss: 0.0517 - accuracy: 0.9868 - val_loss: 0.0401 - val_accuracy: 0.9897\n",
            "Epoch 36/50\n",
            "1750/1750 [==============================] - 3s 2ms/step - loss: 0.0510 - accuracy: 0.9869 - val_loss: 0.0430 - val_accuracy: 0.9903\n",
            "Epoch 37/50\n",
            "1750/1750 [==============================] - 3s 2ms/step - loss: 0.0504 - accuracy: 0.9868 - val_loss: 0.0429 - val_accuracy: 0.9893\n",
            "Epoch 38/50\n",
            "1750/1750 [==============================] - 3s 2ms/step - loss: 0.0494 - accuracy: 0.9870 - val_loss: 0.0462 - val_accuracy: 0.9897\n",
            "Epoch 39/50\n",
            "1750/1750 [==============================] - 3s 2ms/step - loss: 0.0485 - accuracy: 0.9878 - val_loss: 0.0379 - val_accuracy: 0.9918\n",
            "Epoch 40/50\n",
            "1750/1750 [==============================] - 3s 2ms/step - loss: 0.0482 - accuracy: 0.9880 - val_loss: 0.0407 - val_accuracy: 0.9913\n",
            "Epoch 41/50\n",
            "1750/1750 [==============================] - 3s 2ms/step - loss: 0.0475 - accuracy: 0.9877 - val_loss: 0.0378 - val_accuracy: 0.9917\n",
            "Epoch 42/50\n",
            "1750/1750 [==============================] - 3s 2ms/step - loss: 0.0469 - accuracy: 0.9878 - val_loss: 0.0369 - val_accuracy: 0.9915\n",
            "Epoch 43/50\n",
            "1750/1750 [==============================] - 3s 2ms/step - loss: 0.0468 - accuracy: 0.9876 - val_loss: 0.0350 - val_accuracy: 0.9927\n",
            "Epoch 44/50\n",
            "1750/1750 [==============================] - 3s 2ms/step - loss: 0.0458 - accuracy: 0.9884 - val_loss: 0.0367 - val_accuracy: 0.9922\n",
            "Epoch 45/50\n",
            "1750/1750 [==============================] - 3s 2ms/step - loss: 0.0455 - accuracy: 0.9883 - val_loss: 0.0346 - val_accuracy: 0.9917\n",
            "Epoch 46/50\n",
            "1750/1750 [==============================] - 3s 2ms/step - loss: 0.0450 - accuracy: 0.9886 - val_loss: 0.0342 - val_accuracy: 0.9923\n",
            "Epoch 47/50\n",
            "1750/1750 [==============================] - 3s 2ms/step - loss: 0.0440 - accuracy: 0.9890 - val_loss: 0.0339 - val_accuracy: 0.9930\n",
            "Epoch 48/50\n",
            "1750/1750 [==============================] - 3s 2ms/step - loss: 0.0440 - accuracy: 0.9889 - val_loss: 0.0360 - val_accuracy: 0.9903\n",
            "Epoch 49/50\n",
            "1750/1750 [==============================] - 3s 2ms/step - loss: 0.0432 - accuracy: 0.9891 - val_loss: 0.0349 - val_accuracy: 0.9907\n",
            "Epoch 50/50\n",
            "1750/1750 [==============================] - 4s 2ms/step - loss: 0.0427 - accuracy: 0.9895 - val_loss: 0.0327 - val_accuracy: 0.9922\n"
          ]
        }
      ]
    },
    {
      "cell_type": "code",
      "source": [
        "# summarize history for accuracy\n",
        "plt.plot(hist.history['accuracy'])\n",
        "plt.plot(hist.history['val_accuracy'])\n",
        "plt.title('Model accuracy')\n",
        "plt.ylabel('Accuracy')\n",
        "plt.xlabel('Epochs')\n",
        "plt.legend(['train', 'valid'], loc='upper left')\n",
        "plt.show()"
      ],
      "metadata": {
        "colab": {
          "base_uri": "https://localhost:8080/",
          "height": 295
        },
        "id": "e1zfoGXJ9KNq",
        "outputId": "57cd285d-204e-4ef6-876f-8f20d7c28e2b"
      },
      "execution_count": null,
      "outputs": [
        {
          "output_type": "display_data",
          "data": {
            "text/plain": [
              "<Figure size 432x288 with 1 Axes>"
            ],
            "image/png": "[encoded data removed]"
          },
          "metadata": {
            "needs_background": "light"
          }
        }
      ]
    },
    {
      "cell_type": "code",
      "source": [
        "# summarize history for loss\n",
        "plt.plot(hist.history['loss'])\n",
        "plt.plot(hist.history['val_loss'])\n",
        "plt.title('Model loss')\n",
        "plt.ylabel('Loss')\n",
        "plt.xlabel('Epochs')\n",
        "plt.legend(['train', 'valid'], loc='upper left')\n",
        "plt.show()"
      ],
      "metadata": {
        "colab": {
          "base_uri": "https://localhost:8080/",
          "height": 295
        },
        "id": "puYEN1GXJ1W3",
        "outputId": "21c1e487-463a-4a42-9bc3-91f8bc3251ef"
      },
      "execution_count": null,
      "outputs": [
        {
          "output_type": "display_data",
          "data": {
            "text/plain": [
              "<Figure size 432x288 with 1 Axes>"
            ],
            "image/png": "[encoded data removed]"
          },
          "metadata": {
            "needs_background": "light"
          }
        }
      ]
    },
    {
      "cell_type": "code",
      "source": [
        "model.save('best_model.h5')"
      ],
      "metadata": {
        "id": "Nq05sl7SN2uP"
      },
      "execution_count": null,
      "outputs": []
    },
    {
      "cell_type": "code",
      "source": [
        "from sklearn.metrics import accuracy_score"
      ],
      "metadata": {
        "id": "WKfrf8oON93z"
      },
      "execution_count": null,
      "outputs": []
    },
    {
      "cell_type": "code",
      "source": [
        "model.load_weights(\"/content/best_model.h5\")"
      ],
      "metadata": {
        "id": "abMGZmO2OCim"
      },
      "execution_count": null,
      "outputs": []
    },
    {
      "cell_type": "code",
      "source": [
        "y_pred = model.predict(X_test)"
      ],
      "metadata": {
        "id": "eOwLAkSKN8uj"
      },
      "execution_count": null,
      "outputs": []
    },
    {
      "cell_type": "code",
      "source": [
        "y_pred"
      ],
      "metadata": {
        "colab": {
          "base_uri": "https://localhost:8080/"
        },
        "id": "g1wzff_WOg8a",
        "outputId": "e3b160a5-6d65-4862-deb6-7d65d684a6d4"
      },
      "execution_count": null,
      "outputs": [
        {
          "output_type": "execute_result",
          "data": {
            "text/plain": [
              "array([[1.0000000e+00],\n",
              "       [3.3103884e-11],\n",
              "       [7.6892078e-03],\n",
              "       ...,\n",
              "       [1.0000000e+00],\n",
              "       [9.9993688e-01],\n",
              "       [2.2716516e-11]], dtype=float32)"
            ]
          },
          "metadata": {},
          "execution_count": 46
        }
      ]
    },
    {
      "cell_type": "code",
      "source": [
        "# extract the predicted probabilities\n",
        "p_pred = model.predict(X_test)\n",
        "p_pred = p_pred.flatten()\n",
        "print(p_pred.round(2))"
      ],
      "metadata": {
        "colab": {
          "base_uri": "https://localhost:8080/"
        },
        "id": "RNuhgoZHTK58",
        "outputId": "d559d826-e9b9-4ac3-94bc-e00b2a0de9e8"
      },
      "execution_count": null,
      "outputs": [
        {
          "output_type": "stream",
          "name": "stdout",
          "text": [
            "[1.   0.   0.01 ... 1.   1.   0.  ]\n"
          ]
        }
      ]
    },
    {
      "cell_type": "code",
      "source": [
        "# extract the predicted class labels\n",
        "y_pred = np.where(p_pred > 0.5, 1, 0)\n",
        "print(y_pred)"
      ],
      "metadata": {
        "colab": {
          "base_uri": "https://localhost:8080/"
        },
        "id": "FD9rjGyfo8LD",
        "outputId": "2ea027e8-d187-44ed-f9b4-b44136283094"
      },
      "execution_count": null,
      "outputs": [
        {
          "output_type": "stream",
          "name": "stdout",
          "text": [
            "[1 0 0 ... 1 1 0]\n"
          ]
        }
      ]
    },
    {
      "cell_type": "code",
      "source": [
        "from sklearn.metrics import confusion_matrix\n",
        "print(confusion_matrix(Y_test, y_pred))"
      ],
      "metadata": {
        "colab": {
          "base_uri": "https://localhost:8080/"
        },
        "id": "Kp657MsYOgp2",
        "outputId": "1de6a864-1258-48b4-9cef-ab61836f0d58"
      },
      "execution_count": null,
      "outputs": [
        {
          "output_type": "stream",
          "name": "stdout",
          "text": [
            "[[3031   33]\n",
            " [  19 2917]]\n"
          ]
        }
      ]
    },
    {
      "cell_type": "code",
      "source": [
        "from sklearn.metrics import confusion_matrix, classification_report, accuracy_score\n",
        "print(classification_report(Y_test, y_pred))"
      ],
      "metadata": {
        "colab": {
          "base_uri": "https://localhost:8080/"
        },
        "id": "ocP9ttT7OgVO",
        "outputId": "056979ed-caad-4329-857f-a03782ec8f58"
      },
      "execution_count": null,
      "outputs": [
        {
          "output_type": "stream",
          "name": "stdout",
          "text": [
            "              precision    recall  f1-score   support\n",
            "\n",
            "           0       0.99      0.99      0.99      3064\n",
            "           1       0.99      0.99      0.99      2936\n",
            "\n",
            "    accuracy                           0.99      6000\n",
            "   macro avg       0.99      0.99      0.99      6000\n",
            "weighted avg       0.99      0.99      0.99      6000\n",
            "\n"
          ]
        }
      ]
    },
    {
      "cell_type": "code",
      "source": [
        "from sklearn.metrics import confusion_matrix\n",
        "import itertools \n",
        "def plot_confusion_matrix(cm, classes,\n",
        "                          normalize=False,\n",
        "                          title='Confusion matrix',\n",
        "                          cmap=plt.cm.Blues):\n",
        "\n",
        "    if normalize:\n",
        "        cm = cm.astype('float') / cm.sum(axis=1)[:, np.newaxis]\n",
        "        print(\"Normalized confusion matrix\")\n",
        "    else:\n",
        "        print('Confusion matrix, without normalization')\n",
        "\n",
        "    print(cm)\n",
        "\n",
        "    plt.imshow(cm, interpolation='nearest', cmap=cmap)\n",
        "    plt.title(title)\n",
        "    plt.colorbar()\n",
        "    tick_marks = np.arange(len(classes))\n",
        "    plt.xticks(tick_marks, classes, rotation=55)\n",
        "    plt.yticks(tick_marks, classes)\n",
        "\n",
        "    fmt = '.2f' if normalize else 'd'\n",
        "    thresh = cm.max() / 2.\n",
        "    for i, j in itertools.product(range(cm.shape[0]), range(cm.shape[1])):\n",
        "        plt.text(j, i, format(cm[i, j], fmt),\n",
        "                 horizontalalignment=\"center\",\n",
        "                 color=\"white\" if cm[i, j] > thresh else \"black\")\n",
        "\n",
        "    plt.ylabel('True label')\n",
        "    plt.xlabel('Predicted label')\n",
        "    plt.tight_layout()\n",
        "\n",
        "cm = confusion_matrix(Y_test, y_pred)\n",
        "\n",
        "cm_plot_label =['0', '1']\n",
        "plot_confusion_matrix(cm, cm_plot_label, title ='Confusion For time series data set')"
      ],
      "metadata": {
        "colab": {
          "base_uri": "https://localhost:8080/",
          "height": 349
        },
        "id": "y_yvptZvpfag",
        "outputId": "fdb30038-2a0b-4467-d3ec-2a68b6445d6c"
      },
      "execution_count": null,
      "outputs": [
        {
          "output_type": "stream",
          "name": "stdout",
          "text": [
            "Confusion matrix, without normalization\n",
            "[[3031   33]\n",
            " [  19 2917]]\n"
          ]
        },
        {
          "output_type": "display_data",
          "data": {
            "text/plain": [
              "<Figure size 432x288 with 2 Axes>"
            ],
            "image/png": "[encoded data removed]"
          },
          "metadata": {
            "needs_background": "light"
          }
        }
      ]
    },
    {
      "cell_type": "markdown",
      "source": [
        "model_evalution"
      ],
      "metadata": {
        "id": "inItEH7DRqLJ"
      }
    },
    {
      "cell_type": "code",
      "source": [
        "_, accuracy = model.evaluate(X_train, Y_train)\n",
        "print(\"Model accuracy: %.2f\"% (accuracy*100))"
      ],
      "metadata": {
        "colab": {
          "base_uri": "https://localhost:8080/"
        },
        "id": "ZA9R_cuPRg55",
        "outputId": "568a6335-d3db-4c69-8d0d-043b7b600dbe"
      },
      "execution_count": null,
      "outputs": [
        {
          "output_type": "stream",
          "name": "stdout",
          "text": [
            "875/875 [==============================] - 2s 2ms/step - loss: 0.0399 - accuracy: 0.9898\n",
            "Model accuracy: 98.98\n"
          ]
        }
      ]
    },
    {
      "cell_type": "code",
      "source": [
        "_, accuracy = model.evaluate(X_val, Y_val)\n",
        "print(\"Model accuracy: %.2f\"% (accuracy*100))"
      ],
      "metadata": {
        "colab": {
          "base_uri": "https://localhost:8080/"
        },
        "id": "aA3jcZeaR81t",
        "outputId": "ab7f8be3-f3f6-470f-f5ac-30e865a4352b"
      },
      "execution_count": null,
      "outputs": [
        {
          "output_type": "stream",
          "name": "stdout",
          "text": [
            "188/188 [==============================] - 0s 2ms/step - loss: 0.0327 - accuracy: 0.9922\n",
            "Model accuracy: 99.22\n"
          ]
        }
      ]
    },
    {
      "cell_type": "markdown",
      "source": [
        "Prediction on train data set"
      ],
      "metadata": {
        "id": "AZZ4pjNzBetB"
      }
    },
    {
      "cell_type": "code",
      "source": [
        "X_train.head(10)"
      ],
      "metadata": {
        "colab": {
          "base_uri": "https://localhost:8080/",
          "height": 363
        },
        "id": "ziGwF2ZuHpFn",
        "outputId": "360a862c-fd8a-44d3-c9bb-d5a224e6d9e0"
      },
      "execution_count": null,
      "outputs": [
        {
          "output_type": "execute_result",
          "data": {
            "text/plain": [
              "             v1        v2        v3        v4        v5        v6        v7  \\\n",
              "36096  0.398588  0.485254  0.510065  0.609001  0.568556  0.723969  0.577861   \n",
              "7680   0.476187  0.515675  0.589588  0.427567  0.551188  0.644401  0.585218   \n",
              "15433  0.436072  0.480607  0.520931  0.426160  0.555759  0.642436  0.585857   \n",
              "514    0.428819  0.483333  0.523797  0.438819  0.548446  0.648330  0.632233   \n",
              "8710   0.489730  0.518154  0.587788  0.438819  0.547532  0.648330  0.515813   \n",
              "34056  0.381964  0.423854  0.653713  0.476793  0.570384  0.667976  0.573394   \n",
              "13651  0.490629  0.519393  0.587188  0.438819  0.547532  0.648330  0.518065   \n",
              "37395  0.343838  0.655886  0.762365  0.509142  0.517367  0.687623  0.639271   \n",
              "36440  0.415019  0.486989  0.556459  0.662447  0.445155  0.752456  0.627429   \n",
              "36192  0.448845  0.567968  0.556392  0.547117  0.483547  0.663065  0.583623   \n",
              "\n",
              "             v8        v9       v10       v11  \n",
              "36096  0.437141  0.513390  0.342882  0.496526  \n",
              "7680   0.435848  0.376312  0.467907  0.876348  \n",
              "15433  0.434963  0.515833  0.357406  0.465198  \n",
              "514    0.452150  0.494801  0.308078  0.508205  \n",
              "8710   0.400230  0.365709  0.542802  0.916031  \n",
              "34056  0.432856  0.510132  0.353925  0.486083  \n",
              "13651  0.431564  0.381182  0.543069  0.922808  \n",
              "37395  0.442718  0.495881  0.306271  0.509313  \n",
              "36440  0.431971  0.490212  0.286393  0.506500  \n",
              "36192  0.475752  0.525339  0.328693  0.505946  "
            ],
            "text/html": [
              "\n",
              "  <div id=\"df-283409e4-db63-4745-85a9-90f78a0fcde8\">\n",
              "    <div class=\"colab-df-container\">\n",
              "      <div>\n",
              "<style scoped>\n",
              "    .dataframe tbody tr th:only-of-type {\n",
              "        vertical-align: middle;\n",
              "    }\n",
              "\n",
              "    .dataframe tbody tr th {\n",
              "        vertical-align: top;\n",
              "    }\n",
              "\n",
              "    .dataframe thead th {\n",
              "        text-align: right;\n",
              "    }\n",
              "</style>\n",
              "<table border=\"1\" class=\"dataframe\">\n",
              "  <thead>\n",
              "    <tr style=\"text-align: right;\">\n",
              "      <th></th>\n",
              "      <th>v1</th>\n",
              "      <th>v2</th>\n",
              "      <th>v3</th>\n",
              "      <th>v4</th>\n",
              "      <th>v5</th>\n",
              "      <th>v6</th>\n",
              "      <th>v7</th>\n",
              "      <th>v8</th>\n",
              "      <th>v9</th>\n",
              "      <th>v10</th>\n",
              "      <th>v11</th>\n",
              "    </tr>\n",
              "  </thead>\n",
              "  <tbody>\n",
              "    <tr>\n",
              "      <th>36096</th>\n",
              "      <td>0.398588</td>\n",
              "      <td>0.485254</td>\n",
              "      <td>0.510065</td>\n",
              "      <td>0.609001</td>\n",
              "      <td>0.568556</td>\n",
              "      <td>0.723969</td>\n",
              "      <td>0.577861</td>\n",
              "      <td>0.437141</td>\n",
              "      <td>0.513390</td>\n",
              "      <td>0.342882</td>\n",
              "      <td>0.496526</td>\n",
              "    </tr>\n",
              "    <tr>\n",
              "      <th>7680</th>\n",
              "      <td>0.476187</td>\n",
              "      <td>0.515675</td>\n",
              "      <td>0.589588</td>\n",
              "      <td>0.427567</td>\n",
              "      <td>0.551188</td>\n",
              "      <td>0.644401</td>\n",
              "      <td>0.585218</td>\n",
              "      <td>0.435848</td>\n",
              "      <td>0.376312</td>\n",
              "      <td>0.467907</td>\n",
              "      <td>0.876348</td>\n",
              "    </tr>\n",
              "    <tr>\n",
              "      <th>15433</th>\n",
              "      <td>0.436072</td>\n",
              "      <td>0.480607</td>\n",
              "      <td>0.520931</td>\n",
              "      <td>0.426160</td>\n",
              "      <td>0.555759</td>\n",
              "      <td>0.642436</td>\n",
              "      <td>0.585857</td>\n",
              "      <td>0.434963</td>\n",
              "      <td>0.515833</td>\n",
              "      <td>0.357406</td>\n",
              "      <td>0.465198</td>\n",
              "    </tr>\n",
              "    <tr>\n",
              "      <th>514</th>\n",
              "      <td>0.428819</td>\n",
              "      <td>0.483333</td>\n",
              "      <td>0.523797</td>\n",
              "      <td>0.438819</td>\n",
              "      <td>0.548446</td>\n",
              "      <td>0.648330</td>\n",
              "      <td>0.632233</td>\n",
              "      <td>0.452150</td>\n",
              "      <td>0.494801</td>\n",
              "      <td>0.308078</td>\n",
              "      <td>0.508205</td>\n",
              "    </tr>\n",
              "    <tr>\n",
              "      <th>8710</th>\n",
              "      <td>0.489730</td>\n",
              "      <td>0.518154</td>\n",
              "      <td>0.587788</td>\n",
              "      <td>0.438819</td>\n",
              "      <td>0.547532</td>\n",
              "      <td>0.648330</td>\n",
              "      <td>0.515813</td>\n",
              "      <td>0.400230</td>\n",
              "      <td>0.365709</td>\n",
              "      <td>0.542802</td>\n",
              "      <td>0.916031</td>\n",
              "    </tr>\n",
              "    <tr>\n",
              "      <th>34056</th>\n",
              "      <td>0.381964</td>\n",
              "      <td>0.423854</td>\n",
              "      <td>0.653713</td>\n",
              "      <td>0.476793</td>\n",
              "      <td>0.570384</td>\n",
              "      <td>0.667976</td>\n",
              "      <td>0.573394</td>\n",
              "      <td>0.432856</td>\n",
              "      <td>0.510132</td>\n",
              "      <td>0.353925</td>\n",
              "      <td>0.486083</td>\n",
              "    </tr>\n",
              "    <tr>\n",
              "      <th>13651</th>\n",
              "      <td>0.490629</td>\n",
              "      <td>0.519393</td>\n",
              "      <td>0.587188</td>\n",
              "      <td>0.438819</td>\n",
              "      <td>0.547532</td>\n",
              "      <td>0.648330</td>\n",
              "      <td>0.518065</td>\n",
              "      <td>0.431564</td>\n",
              "      <td>0.381182</td>\n",
              "      <td>0.543069</td>\n",
              "      <td>0.922808</td>\n",
              "    </tr>\n",
              "    <tr>\n",
              "      <th>37395</th>\n",
              "      <td>0.343838</td>\n",
              "      <td>0.655886</td>\n",
              "      <td>0.762365</td>\n",
              "      <td>0.509142</td>\n",
              "      <td>0.517367</td>\n",
              "      <td>0.687623</td>\n",
              "      <td>0.639271</td>\n",
              "      <td>0.442718</td>\n",
              "      <td>0.495881</td>\n",
              "      <td>0.306271</td>\n",
              "      <td>0.509313</td>\n",
              "    </tr>\n",
              "    <tr>\n",
              "      <th>36440</th>\n",
              "      <td>0.415019</td>\n",
              "      <td>0.486989</td>\n",
              "      <td>0.556459</td>\n",
              "      <td>0.662447</td>\n",
              "      <td>0.445155</td>\n",
              "      <td>0.752456</td>\n",
              "      <td>0.627429</td>\n",
              "      <td>0.431971</td>\n",
              "      <td>0.490212</td>\n",
              "      <td>0.286393</td>\n",
              "      <td>0.506500</td>\n",
              "    </tr>\n",
              "    <tr>\n",
              "      <th>36192</th>\n",
              "      <td>0.448845</td>\n",
              "      <td>0.567968</td>\n",
              "      <td>0.556392</td>\n",
              "      <td>0.547117</td>\n",
              "      <td>0.483547</td>\n",
              "      <td>0.663065</td>\n",
              "      <td>0.583623</td>\n",
              "      <td>0.475752</td>\n",
              "      <td>0.525339</td>\n",
              "      <td>0.328693</td>\n",
              "      <td>0.505946</td>\n",
              "    </tr>\n",
              "  </tbody>\n",
              "</table>\n",
              "</div>\n",
              "      <button class=\"colab-df-convert\" onclick=\"convertToInteractive('df-283409e4-db63-4745-85a9-90f78a0fcde8')\"\n",
              "              title=\"Convert this dataframe to an interactive table.\"\n",
              "              style=\"display:none;\">\n",
              "        \n",
              "  <svg xmlns=\"http://www.w3.org/2000/svg\" height=\"24px\"viewBox=\"0 0 24 24\"\n",
              "       width=\"24px\">\n",
              "    <path d=\"M0 0h24v24H0V0z\" fill=\"none\"/>\n",
              "    <path d=\"M18.56 5.44l.94 2.06.94-2.06 2.06-.94-2.06-.94-.94-2.06-.94 2.06-2.06.94zm-11 1L8.5 8.5l.94-2.06 2.06-.94-2.06-.94L8.5 2.5l-.94 2.06-2.06.94zm10 10l.94 2.06.94-2.06 2.06-.94-2.06-.94-.94-2.06-.94 2.06-2.06.94z\"/><path d=\"M17.41 7.96l-1.37-1.37c-.4-.4-.92-.59-1.43-.59-.52 0-1.04.2-1.43.59L10.3 9.45l-7.72 7.72c-.78.78-.78 2.05 0 2.83L4 21.41c.39.39.9.59 1.41.59.51 0 1.02-.2 1.41-.59l7.78-7.78 2.81-2.81c.8-.78.8-2.07 0-2.86zM5.41 20L4 18.59l7.72-7.72 1.47 1.35L5.41 20z\"/>\n",
              "  </svg>\n",
              "      </button>\n",
              "      \n",
              "  <style>\n",
              "    .colab-df-container {\n",
              "      display:flex;\n",
              "      flex-wrap:wrap;\n",
              "      gap: 12px;\n",
              "    }\n",
              "\n",
              "    .colab-df-convert {\n",
              "      background-color: #E8F0FE;\n",
              "      border: none;\n",
              "      border-radius: 50%;\n",
              "      cursor: pointer;\n",
              "      display: none;\n",
              "      fill: #1967D2;\n",
              "      height: 32px;\n",
              "      padding: 0 0 0 0;\n",
              "      width: 32px;\n",
              "    }\n",
              "\n",
              "    .colab-df-convert:hover {\n",
              "      background-color: #E2EBFA;\n",
              "      box-shadow: 0px 1px 2px rgba(60, 64, 67, 0.3), 0px 1px 3px 1px rgba(60, 64, 67, 0.15);\n",
              "      fill: #174EA6;\n",
              "    }\n",
              "\n",
              "    [theme=dark] .colab-df-convert {\n",
              "      background-color: #3B4455;\n",
              "      fill: #D2E3FC;\n",
              "    }\n",
              "\n",
              "    [theme=dark] .colab-df-convert:hover {\n",
              "      background-color: #434B5C;\n",
              "      box-shadow: 0px 1px 3px 1px rgba(0, 0, 0, 0.15);\n",
              "      filter: drop-shadow(0px 1px 2px rgba(0, 0, 0, 0.3));\n",
              "      fill: #FFFFFF;\n",
              "    }\n",
              "  </style>\n",
              "\n",
              "      <script>\n",
              "        const buttonEl =\n",
              "          document.querySelector('#df-283409e4-db63-4745-85a9-90f78a0fcde8 button.colab-df-convert');\n",
              "        buttonEl.style.display =\n",
              "          google.colab.kernel.accessAllowed ? 'block' : 'none';\n",
              "\n",
              "        async function convertToInteractive(key) {\n",
              "          const element = document.querySelector('#df-283409e4-db63-4745-85a9-90f78a0fcde8');\n",
              "          const dataTable =\n",
              "            await google.colab.kernel.invokeFunction('convertToInteractive',\n",
              "                                                     [key], {});\n",
              "          if (!dataTable) return;\n",
              "\n",
              "          const docLinkHtml = 'Like what you see? Visit the ' +\n",
              "            '<a target=\"_blank\" href=https://colab.research.google.com/notebooks/data_table.ipynb>data table notebook</a>'\n",
              "            + ' to learn more about interactive tables.';\n",
              "          element.innerHTML = '';\n",
              "          dataTable['output_type'] = 'display_data';\n",
              "          await google.colab.output.renderOutput(dataTable, element);\n",
              "          const docLink = document.createElement('div');\n",
              "          docLink.innerHTML = docLinkHtml;\n",
              "          element.appendChild(docLink);\n",
              "        }\n",
              "      </script>\n",
              "    </div>\n",
              "  </div>\n",
              "  "
            ]
          },
          "metadata": {},
          "execution_count": 64
        }
      ]
    },
    {
      "cell_type": "code",
      "source": [
        "#Take the input first rows\n",
        "model1 = model.predict([[0.398588, 0.485254, 0.510065, 0.609001, 0.568556, 0.723969, 0.577861, 0.437141, 0.513390, 0.342882, 0.496526]])"
      ],
      "metadata": {
        "id": "TVWAwXnQDTWh"
      },
      "execution_count": null,
      "outputs": []
    },
    {
      "cell_type": "code",
      "source": [
        "model1"
      ],
      "metadata": {
        "colab": {
          "base_uri": "https://localhost:8080/"
        },
        "id": "wTodr9EnMrbV",
        "outputId": "1f994e88-ede5-4c06-eb07-5d3fa5179f13"
      },
      "execution_count": null,
      "outputs": [
        {
          "output_type": "execute_result",
          "data": {
            "text/plain": [
              "array([[0.95377314]], dtype=float32)"
            ]
          },
          "metadata": {},
          "execution_count": 59
        }
      ]
    },
    {
      "cell_type": "code",
      "source": [
        "for test in model1:\n",
        "  if test < 0.5:\n",
        "    print(\"Normal Class [0]\")\n",
        "  else:\n",
        "    print(\"Anomaly Class [1]\")"
      ],
      "metadata": {
        "colab": {
          "base_uri": "https://localhost:8080/"
        },
        "id": "TcuC5JSGZ6Po",
        "outputId": "5d8774b8-67c2-48ea-cf6b-e856decb5c16"
      },
      "execution_count": null,
      "outputs": [
        {
          "output_type": "stream",
          "name": "stdout",
          "text": [
            "Anomaly Class [1]\n"
          ]
        }
      ]
    },
    {
      "cell_type": "code",
      "source": [
        "model2 = model.predict([[0.476187, 0.515675, 0.589588, 0.427567, 0.551188, 0.644401, 0.585218, 0.435848, 0.376312, 0.467907, 0.876348]])"
      ],
      "metadata": {
        "id": "U4g3N2vRcxlW"
      },
      "execution_count": null,
      "outputs": []
    },
    {
      "cell_type": "code",
      "source": [
        "model2"
      ],
      "metadata": {
        "colab": {
          "base_uri": "https://localhost:8080/"
        },
        "id": "wZUyR5_4cxBh",
        "outputId": "7dde45d3-61e6-4870-ec00-b49a02459d86"
      },
      "execution_count": null,
      "outputs": [
        {
          "output_type": "execute_result",
          "data": {
            "text/plain": [
              "array([[1.6454543e-11]], dtype=float32)"
            ]
          },
          "metadata": {},
          "execution_count": 66
        }
      ]
    },
    {
      "cell_type": "code",
      "source": [
        "for test in model2:\n",
        "  if test < 0.5:\n",
        "    print(\"Normal Class [0]\")\n",
        "  else:\n",
        "    print(\"Anomaly Class [1]\")"
      ],
      "metadata": {
        "colab": {
          "base_uri": "https://localhost:8080/"
        },
        "id": "H3RD4X-QcwpP",
        "outputId": "abf989b6-db7f-4274-a46e-1b2453e03b70"
      },
      "execution_count": null,
      "outputs": [
        {
          "output_type": "stream",
          "name": "stdout",
          "text": [
            "Normal Class [0]\n"
          ]
        }
      ]
    },
    {
      "cell_type": "code",
      "source": [
        "model3 = model.predict([[0.436072, 0.480607, 0.520931, 0.426160, 0.555759, 0.642436, 0.585857, 0.434963, 0.515833, 0.357406, 0.465198]])"
      ],
      "metadata": {
        "id": "VG0SrQDLdWOu"
      },
      "execution_count": null,
      "outputs": []
    },
    {
      "cell_type": "code",
      "source": [
        "model3"
      ],
      "metadata": {
        "colab": {
          "base_uri": "https://localhost:8080/"
        },
        "id": "qjxTdVjkeLq8",
        "outputId": "b0a84880-62b3-4a4f-eb8b-da6efcdd25eb"
      },
      "execution_count": null,
      "outputs": [
        {
          "output_type": "execute_result",
          "data": {
            "text/plain": [
              "array([[0.02488527]], dtype=float32)"
            ]
          },
          "metadata": {},
          "execution_count": 76
        }
      ]
    },
    {
      "cell_type": "code",
      "source": [
        "for test in model3:\n",
        "  if test < 0.5:\n",
        "    print(\"Normal Class [0]\")\n",
        "  else:\n",
        "    print(\"Anomaly Class [1]\")"
      ],
      "metadata": {
        "colab": {
          "base_uri": "https://localhost:8080/"
        },
        "id": "tH-LW290eLJq",
        "outputId": "6e667ef2-2cec-4688-b88d-5c604e0c20da"
      },
      "execution_count": null,
      "outputs": [
        {
          "output_type": "stream",
          "name": "stdout",
          "text": [
            "Normal Class [0]\n"
          ]
        }
      ]
    },
    {
      "cell_type": "code",
      "source": [
        "model4 = model.predict([[0.428819, 0.483333, 0.523797, 0.438819, 0.548446, 0.648330, 0.632233, 0.452150, 0.494801, 0.308078, 0.508205]])"
      ],
      "metadata": {
        "id": "KwNnNE8oeurX"
      },
      "execution_count": null,
      "outputs": []
    },
    {
      "cell_type": "code",
      "source": [
        "model4"
      ],
      "metadata": {
        "colab": {
          "base_uri": "https://localhost:8080/"
        },
        "id": "ZCk7EZj2fpHE",
        "outputId": "333855af-8dc4-4303-9ef4-a5272d556de0"
      },
      "execution_count": null,
      "outputs": [
        {
          "output_type": "execute_result",
          "data": {
            "text/plain": [
              "array([[0.01647416]], dtype=float32)"
            ]
          },
          "metadata": {},
          "execution_count": 79
        }
      ]
    },
    {
      "cell_type": "code",
      "source": [
        "for test in model4:\n",
        "  if test < 0.5:\n",
        "    print(\"Normal Class [0]\")\n",
        "  else:\n",
        "    print(\"Anomaly Class [1]\")"
      ],
      "metadata": {
        "colab": {
          "base_uri": "https://localhost:8080/"
        },
        "id": "k1Xgl_HbfotL",
        "outputId": "1dc466b8-5380-4112-fb5a-e2f8fbfa366a"
      },
      "execution_count": null,
      "outputs": [
        {
          "output_type": "stream",
          "name": "stdout",
          "text": [
            "Normal Class [0]\n"
          ]
        }
      ]
    },
    {
      "cell_type": "code",
      "source": [
        "model5 = model.predict([[\t0.489730, 0.518154, 0.587788, 0.438819, 0.547532, 0.648330, 0.515813, 0.400230, 0.365709, 0.542802, 0.916031]])"
      ],
      "metadata": {
        "id": "nmshnTMSf5kY"
      },
      "execution_count": null,
      "outputs": []
    },
    {
      "cell_type": "code",
      "source": [
        "model5"
      ],
      "metadata": {
        "colab": {
          "base_uri": "https://localhost:8080/"
        },
        "id": "EFpvhxZJf5Ih",
        "outputId": "bbb07cf2-e5bf-4749-cafe-97ac86e240b5"
      },
      "execution_count": null,
      "outputs": [
        {
          "output_type": "execute_result",
          "data": {
            "text/plain": [
              "array([[5.443991e-13]], dtype=float32)"
            ]
          },
          "metadata": {},
          "execution_count": 82
        }
      ]
    },
    {
      "cell_type": "code",
      "source": [
        "for test in model5:\n",
        "  if test < 0.5:\n",
        "    print(\"Normal Class [0]\")\n",
        "  else:\n",
        "    print(\"Anomaly Class [1]\")"
      ],
      "metadata": {
        "colab": {
          "base_uri": "https://localhost:8080/"
        },
        "id": "gC23i7tBf4uV",
        "outputId": "cdaa0504-89a3-4309-f484-c80d8fb65a73"
      },
      "execution_count": null,
      "outputs": [
        {
          "output_type": "stream",
          "name": "stdout",
          "text": [
            "Normal Class [0]\n"
          ]
        }
      ]
    },
    {
      "cell_type": "code",
      "source": [
        "model6 = model.predict([[0.381964, 0.423854, 0.653713, 0.476793, 0.570384, 0.667976, 0.573394, 0.432856, 0.510132, 0.353925, 0.486083]])"
      ],
      "metadata": {
        "id": "JuJJqww9euP4"
      },
      "execution_count": null,
      "outputs": []
    },
    {
      "cell_type": "code",
      "source": [
        "model6"
      ],
      "metadata": {
        "colab": {
          "base_uri": "https://localhost:8080/"
        },
        "id": "XmmlRaxDgdDe",
        "outputId": "e51a6577-bf3b-42d1-9f3f-801b1e480a19"
      },
      "execution_count": null,
      "outputs": [
        {
          "output_type": "execute_result",
          "data": {
            "text/plain": [
              "array([[0.96528924]], dtype=float32)"
            ]
          },
          "metadata": {},
          "execution_count": 86
        }
      ]
    },
    {
      "cell_type": "code",
      "source": [
        "for test in model6:\n",
        "  if test < 0.5:\n",
        "    print(\"Normal Class [0]\")\n",
        "  else:\n",
        "    print(\"Anomaly Class [1]\")"
      ],
      "metadata": {
        "colab": {
          "base_uri": "https://localhost:8080/"
        },
        "id": "GNoyi1kvgc0E",
        "outputId": "d633f934-7098-4ce1-e4dd-25dfd87e82f3"
      },
      "execution_count": null,
      "outputs": [
        {
          "output_type": "stream",
          "name": "stdout",
          "text": [
            "Anomaly Class [1]\n"
          ]
        }
      ]
    },
    {
      "cell_type": "code",
      "source": [
        "model7 = model.predict([[0.490629, 0.519393, 0.587188, 0.438819, 0.547532, 0.648330, 0.518065, 0.431564, 0.381182, 0.543069, 0.922808]])"
      ],
      "metadata": {
        "id": "6AIpJyPdgv9y"
      },
      "execution_count": null,
      "outputs": []
    },
    {
      "cell_type": "code",
      "source": [
        "model7"
      ],
      "metadata": {
        "colab": {
          "base_uri": "https://localhost:8080/"
        },
        "id": "CWTsgT0wgvvx",
        "outputId": "89d183d7-553b-417c-9c93-ebf50e29a881"
      },
      "execution_count": null,
      "outputs": [
        {
          "output_type": "execute_result",
          "data": {
            "text/plain": [
              "array([[6.422669e-13]], dtype=float32)"
            ]
          },
          "metadata": {},
          "execution_count": 89
        }
      ]
    },
    {
      "cell_type": "code",
      "source": [
        "for test in model7:\n",
        "  if test < 0.5:\n",
        "    print(\"Normal Class [0]\")\n",
        "  else:\n",
        "    print(\"Anomaly Class [1]\")"
      ],
      "metadata": {
        "colab": {
          "base_uri": "https://localhost:8080/"
        },
        "id": "Yvez49L_gvbn",
        "outputId": "c0c62f37-3dd9-46e2-e5b6-43c409769a9d"
      },
      "execution_count": null,
      "outputs": [
        {
          "output_type": "stream",
          "name": "stdout",
          "text": [
            "Normal Class [0]\n"
          ]
        }
      ]
    },
    {
      "cell_type": "code",
      "source": [
        "model8 = model.predict([[0.343838, 0.655886, 0.762365, 0.509142, 0.517367, 0.687623, 0.639271, 0.442718, 0.495881, 0.306271, 0.509313]])"
      ],
      "metadata": {
        "id": "NZnI7tQrhPUl"
      },
      "execution_count": null,
      "outputs": []
    },
    {
      "cell_type": "code",
      "source": [
        "model8"
      ],
      "metadata": {
        "colab": {
          "base_uri": "https://localhost:8080/"
        },
        "id": "pC19GqzMhO5z",
        "outputId": "1a3d7f95-64e6-4dcd-b992-df0c6513c35a"
      },
      "execution_count": null,
      "outputs": [
        {
          "output_type": "execute_result",
          "data": {
            "text/plain": [
              "array([[0.981573]], dtype=float32)"
            ]
          },
          "metadata": {},
          "execution_count": 92
        }
      ]
    },
    {
      "cell_type": "code",
      "source": [
        "for test in model8:\n",
        "  if test < 0.5:\n",
        "    print(\"Normal Class [0]\")\n",
        "  else:\n",
        "    print(\"Anomaly Class [1]\")"
      ],
      "metadata": {
        "colab": {
          "base_uri": "https://localhost:8080/"
        },
        "id": "Dvw4tZc-hOZd",
        "outputId": "bc919897-7e4c-4434-9db5-538793ec0d1b"
      },
      "execution_count": null,
      "outputs": [
        {
          "output_type": "stream",
          "name": "stdout",
          "text": [
            "Anomaly Class [1]\n"
          ]
        }
      ]
    },
    {
      "cell_type": "code",
      "source": [
        "model9 = model.predict([[0.415019, 0.486989, 0.556459, 0.662447, 0.445155, 0.752456, 0.627429, 0.431971, 0.490212, 0.286393, 0.506500]])"
      ],
      "metadata": {
        "id": "Bp3rpNUch60U"
      },
      "execution_count": null,
      "outputs": []
    },
    {
      "cell_type": "code",
      "source": [
        "model9"
      ],
      "metadata": {
        "colab": {
          "base_uri": "https://localhost:8080/"
        },
        "id": "gEZiFDxShwPf",
        "outputId": "d0489ed9-045a-4faf-d61c-e91fd6f05d8b"
      },
      "execution_count": null,
      "outputs": [
        {
          "output_type": "execute_result",
          "data": {
            "text/plain": [
              "array([[0.9960387]], dtype=float32)"
            ]
          },
          "metadata": {},
          "execution_count": 96
        }
      ]
    },
    {
      "cell_type": "code",
      "source": [
        "for test in model9:\n",
        "  if test < 0.5:\n",
        "    print(\"Normal Class [0]\")\n",
        "  else:\n",
        "    print(\"Anomaly Class [1]\")"
      ],
      "metadata": {
        "colab": {
          "base_uri": "https://localhost:8080/"
        },
        "id": "Gn1JYodEhvrI",
        "outputId": "c971a538-f93a-4941-8776-6836d8766a7a"
      },
      "execution_count": null,
      "outputs": [
        {
          "output_type": "stream",
          "name": "stdout",
          "text": [
            "Anomaly Class [1]\n"
          ]
        }
      ]
    },
    {
      "cell_type": "code",
      "source": [
        "model10 = model.predict([[0.448845, 0.567968, 0.556392, 0.547117, 0.483547, 0.663065, 0.583623, 0.475752, 0.525339, 0.328693, 0.505946]])"
      ],
      "metadata": {
        "id": "Rl05Rus4iUSd"
      },
      "execution_count": null,
      "outputs": []
    },
    {
      "cell_type": "code",
      "source": [
        "model10"
      ],
      "metadata": {
        "colab": {
          "base_uri": "https://localhost:8080/"
        },
        "id": "ma9wpqe9iqQ7",
        "outputId": "dd776fac-d72c-46bb-f967-dc672dc1ae68"
      },
      "execution_count": null,
      "outputs": [
        {
          "output_type": "execute_result",
          "data": {
            "text/plain": [
              "array([[0.9533546]], dtype=float32)"
            ]
          },
          "metadata": {},
          "execution_count": 99
        }
      ]
    },
    {
      "cell_type": "code",
      "source": [
        "for test in model10:\n",
        "  if test < 0.5:\n",
        "    print(\"Normal Class [0]\")\n",
        "  else:\n",
        "    print(\"Anomaly Class [1]\")"
      ],
      "metadata": {
        "colab": {
          "base_uri": "https://localhost:8080/"
        },
        "id": "BACc1b9nik-N",
        "outputId": "9fb0219f-023a-44e0-f9bd-784aefeae019"
      },
      "execution_count": null,
      "outputs": [
        {
          "output_type": "stream",
          "name": "stdout",
          "text": [
            "Anomaly Class [1]\n"
          ]
        }
      ]
    },
    {
      "cell_type": "markdown",
      "source": [
        "Model 2"
      ],
      "metadata": {
        "id": "hG9DE_4vUynr"
      }
    },
    {
      "cell_type": "code",
      "source": [
        "# define the keras model\n",
        "model = Sequential()\n",
        "model.add(Dense(12, input_shape=(11,), activation='relu'))\n",
        "model.add(Dense(8, activation='relu'))\n",
        "\n",
        "model.add(Dense(1, activation='sigmoid'))"
      ],
      "metadata": {
        "id": "2AH-zHyJV8Hs"
      },
      "execution_count": null,
      "outputs": []
    },
    {
      "cell_type": "code",
      "source": [
        "# compile the keras model\n",
        "model.compile(loss='binary_crossentropy', optimizer='adam', metrics=['accuracy'])"
      ],
      "metadata": {
        "id": "JRhj0DbfU51g"
      },
      "execution_count": null,
      "outputs": []
    },
    {
      "cell_type": "code",
      "source": [
        "hist_2 = model.fit(X_train, Y_train, batch_size=16, epochs=50, validation_data=(X_val, Y_val))"
      ],
      "metadata": {
        "colab": {
          "base_uri": "https://localhost:8080/"
        },
        "id": "U-5Oh0XRU_xt",
        "outputId": "44477a3f-3197-4d2e-8e49-80062324d62f"
      },
      "execution_count": null,
      "outputs": [
        {
          "output_type": "stream",
          "name": "stdout",
          "text": [
            "Epoch 1/50\n",
            "1750/1750 [==============================] - 8s 3ms/step - loss: 0.5344 - accuracy: 0.7597 - val_loss: 0.3908 - val_accuracy: 0.8982\n",
            "Epoch 2/50\n",
            "1750/1750 [==============================] - 4s 2ms/step - loss: 0.3395 - accuracy: 0.8929 - val_loss: 0.3022 - val_accuracy: 0.9058\n",
            "Epoch 3/50\n",
            "1750/1750 [==============================] - 4s 2ms/step - loss: 0.2750 - accuracy: 0.9091 - val_loss: 0.2628 - val_accuracy: 0.9048\n",
            "Epoch 4/50\n",
            "1750/1750 [==============================] - 4s 2ms/step - loss: 0.2344 - accuracy: 0.9230 - val_loss: 0.2172 - val_accuracy: 0.9282\n",
            "Epoch 5/50\n",
            "1750/1750 [==============================] - 5s 3ms/step - loss: 0.2054 - accuracy: 0.9344 - val_loss: 0.1944 - val_accuracy: 0.9398\n",
            "Epoch 6/50\n",
            "1750/1750 [==============================] - 4s 3ms/step - loss: 0.1871 - accuracy: 0.9402 - val_loss: 0.1812 - val_accuracy: 0.9368\n",
            "Epoch 7/50\n",
            "1750/1750 [==============================] - 5s 3ms/step - loss: 0.1738 - accuracy: 0.9438 - val_loss: 0.1647 - val_accuracy: 0.9503\n",
            "Epoch 8/50\n",
            "1750/1750 [==============================] - 4s 2ms/step - loss: 0.1626 - accuracy: 0.9478 - val_loss: 0.1518 - val_accuracy: 0.9518\n",
            "Epoch 9/50\n",
            "1750/1750 [==============================] - 4s 2ms/step - loss: 0.1525 - accuracy: 0.9519 - val_loss: 0.1478 - val_accuracy: 0.9595\n",
            "Epoch 10/50\n",
            "1750/1750 [==============================] - 4s 2ms/step - loss: 0.1459 - accuracy: 0.9537 - val_loss: 0.1363 - val_accuracy: 0.9622\n",
            "Epoch 11/50\n",
            "1750/1750 [==============================] - 4s 3ms/step - loss: 0.1379 - accuracy: 0.9589 - val_loss: 0.1350 - val_accuracy: 0.9693\n",
            "Epoch 12/50\n",
            "1750/1750 [==============================] - 4s 2ms/step - loss: 0.1332 - accuracy: 0.9613 - val_loss: 0.1412 - val_accuracy: 0.9460\n",
            "Epoch 13/50\n",
            "1750/1750 [==============================] - 4s 2ms/step - loss: 0.1298 - accuracy: 0.9631 - val_loss: 0.1261 - val_accuracy: 0.9570\n",
            "Epoch 14/50\n",
            "1750/1750 [==============================] - 4s 2ms/step - loss: 0.1248 - accuracy: 0.9665 - val_loss: 0.1368 - val_accuracy: 0.9532\n",
            "Epoch 15/50\n",
            "1750/1750 [==============================] - 4s 2ms/step - loss: 0.1213 - accuracy: 0.9685 - val_loss: 0.1242 - val_accuracy: 0.9747\n",
            "Epoch 16/50\n",
            "1750/1750 [==============================] - 4s 2ms/step - loss: 0.1181 - accuracy: 0.9707 - val_loss: 0.1138 - val_accuracy: 0.9738\n",
            "Epoch 17/50\n",
            "1750/1750 [==============================] - 4s 2ms/step - loss: 0.1160 - accuracy: 0.9707 - val_loss: 0.1243 - val_accuracy: 0.9808\n",
            "Epoch 18/50\n",
            "1750/1750 [==============================] - 4s 2ms/step - loss: 0.1127 - accuracy: 0.9715 - val_loss: 0.1072 - val_accuracy: 0.9765\n",
            "Epoch 19/50\n",
            "1750/1750 [==============================] - 4s 2ms/step - loss: 0.1100 - accuracy: 0.9728 - val_loss: 0.1083 - val_accuracy: 0.9838\n",
            "Epoch 20/50\n",
            "1750/1750 [==============================] - 4s 2ms/step - loss: 0.1078 - accuracy: 0.9741 - val_loss: 0.1060 - val_accuracy: 0.9815\n",
            "Epoch 21/50\n",
            "1750/1750 [==============================] - 6s 3ms/step - loss: 0.1047 - accuracy: 0.9753 - val_loss: 0.1031 - val_accuracy: 0.9825\n",
            "Epoch 22/50\n",
            "1750/1750 [==============================] - 5s 3ms/step - loss: 0.1032 - accuracy: 0.9762 - val_loss: 0.1348 - val_accuracy: 0.9523\n",
            "Epoch 23/50\n",
            "1750/1750 [==============================] - 4s 2ms/step - loss: 0.1016 - accuracy: 0.9774 - val_loss: 0.1013 - val_accuracy: 0.9750\n",
            "Epoch 24/50\n",
            "1750/1750 [==============================] - 4s 2ms/step - loss: 0.0988 - accuracy: 0.9782 - val_loss: 0.0977 - val_accuracy: 0.9832\n",
            "Epoch 25/50\n",
            "1750/1750 [==============================] - 4s 2ms/step - loss: 0.0975 - accuracy: 0.9777 - val_loss: 0.1049 - val_accuracy: 0.9833\n",
            "Epoch 26/50\n",
            "1750/1750 [==============================] - 4s 3ms/step - loss: 0.0964 - accuracy: 0.9776 - val_loss: 0.0952 - val_accuracy: 0.9820\n",
            "Epoch 27/50\n",
            "1750/1750 [==============================] - 4s 2ms/step - loss: 0.0935 - accuracy: 0.9783 - val_loss: 0.0947 - val_accuracy: 0.9788\n",
            "Epoch 28/50\n",
            "1750/1750 [==============================] - 4s 3ms/step - loss: 0.0920 - accuracy: 0.9783 - val_loss: 0.0892 - val_accuracy: 0.9835\n",
            "Epoch 29/50\n",
            "1750/1750 [==============================] - 5s 3ms/step - loss: 0.0892 - accuracy: 0.9790 - val_loss: 0.0930 - val_accuracy: 0.9847\n",
            "Epoch 30/50\n",
            "1750/1750 [==============================] - 5s 3ms/step - loss: 0.0859 - accuracy: 0.9796 - val_loss: 0.0913 - val_accuracy: 0.9833\n",
            "Epoch 31/50\n",
            "1750/1750 [==============================] - 5s 3ms/step - loss: 0.0869 - accuracy: 0.9795 - val_loss: 0.0878 - val_accuracy: 0.9857\n",
            "Epoch 32/50\n",
            "1750/1750 [==============================] - 4s 3ms/step - loss: 0.0844 - accuracy: 0.9795 - val_loss: 0.0861 - val_accuracy: 0.9822\n",
            "Epoch 33/50\n",
            "1750/1750 [==============================] - 4s 2ms/step - loss: 0.0826 - accuracy: 0.9810 - val_loss: 0.0964 - val_accuracy: 0.9837\n",
            "Epoch 34/50\n",
            "1750/1750 [==============================] - 4s 3ms/step - loss: 0.0823 - accuracy: 0.9799 - val_loss: 0.0823 - val_accuracy: 0.9855\n",
            "Epoch 35/50\n",
            "1750/1750 [==============================] - 4s 2ms/step - loss: 0.0823 - accuracy: 0.9800 - val_loss: 0.0818 - val_accuracy: 0.9845\n",
            "Epoch 36/50\n",
            "1750/1750 [==============================] - 5s 3ms/step - loss: 0.0808 - accuracy: 0.9797 - val_loss: 0.0938 - val_accuracy: 0.9770\n",
            "Epoch 37/50\n",
            "1750/1750 [==============================] - 4s 2ms/step - loss: 0.0796 - accuracy: 0.9803 - val_loss: 0.0816 - val_accuracy: 0.9857\n",
            "Epoch 38/50\n",
            "1750/1750 [==============================] - 5s 3ms/step - loss: 0.0789 - accuracy: 0.9798 - val_loss: 0.0815 - val_accuracy: 0.9790\n",
            "Epoch 39/50\n",
            "1750/1750 [==============================] - 4s 2ms/step - loss: 0.0789 - accuracy: 0.9802 - val_loss: 0.0784 - val_accuracy: 0.9830\n",
            "Epoch 40/50\n",
            "1750/1750 [==============================] - 4s 3ms/step - loss: 0.0789 - accuracy: 0.9800 - val_loss: 0.0931 - val_accuracy: 0.9847\n",
            "Epoch 41/50\n",
            "1750/1750 [==============================] - 4s 3ms/step - loss: 0.0774 - accuracy: 0.9802 - val_loss: 0.0786 - val_accuracy: 0.9820\n",
            "Epoch 42/50\n",
            "1750/1750 [==============================] - 4s 2ms/step - loss: 0.0747 - accuracy: 0.9817 - val_loss: 0.0841 - val_accuracy: 0.9833\n",
            "Epoch 43/50\n",
            "1750/1750 [==============================] - 4s 3ms/step - loss: 0.0762 - accuracy: 0.9805 - val_loss: 0.0813 - val_accuracy: 0.9868\n",
            "Epoch 44/50\n",
            "1750/1750 [==============================] - 4s 3ms/step - loss: 0.0744 - accuracy: 0.9810 - val_loss: 0.0817 - val_accuracy: 0.9748\n",
            "Epoch 45/50\n",
            "1750/1750 [==============================] - 4s 3ms/step - loss: 0.0732 - accuracy: 0.9814 - val_loss: 0.0820 - val_accuracy: 0.9840\n",
            "Epoch 46/50\n",
            "1750/1750 [==============================] - 5s 3ms/step - loss: 0.0733 - accuracy: 0.9814 - val_loss: 0.0839 - val_accuracy: 0.9760\n",
            "Epoch 47/50\n",
            "1750/1750 [==============================] - 4s 3ms/step - loss: 0.0732 - accuracy: 0.9814 - val_loss: 0.1050 - val_accuracy: 0.9613\n",
            "Epoch 48/50\n",
            "1750/1750 [==============================] - 5s 3ms/step - loss: 0.0723 - accuracy: 0.9815 - val_loss: 0.0756 - val_accuracy: 0.9873\n",
            "Epoch 49/50\n",
            "1750/1750 [==============================] - 4s 2ms/step - loss: 0.0728 - accuracy: 0.9815 - val_loss: 0.0870 - val_accuracy: 0.9727\n",
            "Epoch 50/50\n",
            "1750/1750 [==============================] - 4s 3ms/step - loss: 0.0720 - accuracy: 0.9812 - val_loss: 0.0774 - val_accuracy: 0.9773\n"
          ]
        }
      ]
    },
    {
      "cell_type": "code",
      "source": [
        "# summarize history for accuracy\n",
        "plt.plot(hist_2.history['accuracy'])\n",
        "plt.plot(hist_2.history['val_accuracy'])\n",
        "plt.title('Model accuracy')\n",
        "plt.ylabel('Accuracy')\n",
        "plt.xlabel('Epochs')\n",
        "plt.legend(['train', 'valid'], loc='upper left')\n",
        "plt.show()"
      ],
      "metadata": {
        "colab": {
          "base_uri": "https://localhost:8080/",
          "height": 295
        },
        "id": "TIOXFGt3VKMH",
        "outputId": "66823fe5-9d77-4b8c-dbd8-03a96f28a2f7"
      },
      "execution_count": null,
      "outputs": [
        {
          "output_type": "display_data",
          "data": {
            "text/plain": [
              "<Figure size 432x288 with 1 Axes>"
            ],
            "image/png": "[encoded data removed]"
          },
          "metadata": {
            "needs_background": "light"
          }
        }
      ]
    },
    {
      "cell_type": "code",
      "source": [
        "# summarize history for loss\n",
        "plt.plot(hist_2.history['loss'])\n",
        "plt.plot(hist_2.history['val_loss'])\n",
        "plt.title('Model loss')\n",
        "plt.ylabel('Loss')\n",
        "plt.xlabel('Epochs')\n",
        "plt.legend(['train', 'valid'], loc='upper left')\n",
        "plt.show()"
      ],
      "metadata": {
        "colab": {
          "base_uri": "https://localhost:8080/",
          "height": 295
        },
        "id": "d9rzuvUdVSKX",
        "outputId": "731db577-2e02-41fd-d033-6c141191ccfb"
      },
      "execution_count": null,
      "outputs": [
        {
          "output_type": "display_data",
          "data": {
            "text/plain": [
              "<Figure size 432x288 with 1 Axes>"
            ],
            "image/png": "[encoded data removed]"
          },
          "metadata": {
            "needs_background": "light"
          }
        }
      ]
    },
    {
      "cell_type": "markdown",
      "source": [
        "Save the model and check the performance"
      ],
      "metadata": {
        "id": "acHjo-tgXQwA"
      }
    },
    {
      "cell_type": "code",
      "source": [
        "model.save('best_model1.h5')"
      ],
      "metadata": {
        "id": "BFpEm5qGXL_b"
      },
      "execution_count": null,
      "outputs": []
    },
    {
      "cell_type": "code",
      "source": [
        "from sklearn.metrics import accuracy_score"
      ],
      "metadata": {
        "id": "HPqsomOrXL_d"
      },
      "execution_count": null,
      "outputs": []
    },
    {
      "cell_type": "code",
      "source": [
        "model.load_weights(\"/content/best_model1.h5\")"
      ],
      "metadata": {
        "id": "w6WB08ouXL_e"
      },
      "execution_count": null,
      "outputs": []
    },
    {
      "cell_type": "code",
      "source": [
        "y_pred = model.predict(X_test)"
      ],
      "metadata": {
        "id": "Y3yI8AajXL_f"
      },
      "execution_count": null,
      "outputs": []
    },
    {
      "cell_type": "code",
      "source": [
        "y_pred"
      ],
      "metadata": {
        "colab": {
          "base_uri": "https://localhost:8080/"
        },
        "outputId": "d20e9496-2793-476a-cd57-e463897d7ac3",
        "id": "jxRZ2bJSXL_g"
      },
      "execution_count": null,
      "outputs": [
        {
          "output_type": "execute_result",
          "data": {
            "text/plain": [
              "array([[3.0204519e-10],\n",
              "       [9.9943644e-01],\n",
              "       [1.0000000e+00],\n",
              "       ...,\n",
              "       [1.9989509e-02],\n",
              "       [1.0000000e+00],\n",
              "       [9.7243810e-01]], dtype=float32)"
            ]
          },
          "metadata": {},
          "execution_count": 49
        }
      ]
    },
    {
      "cell_type": "code",
      "source": [
        "# extract the predicted probabilities\n",
        "p_pred = model.predict(X_test)\n",
        "p_pred = p_pred.flatten()\n",
        "print(p_pred.round(2))"
      ],
      "metadata": {
        "colab": {
          "base_uri": "https://localhost:8080/"
        },
        "outputId": "50364932-c47d-4f2b-8618-f3030e3475af",
        "id": "2zNOhEL1XL_h"
      },
      "execution_count": null,
      "outputs": [
        {
          "output_type": "stream",
          "name": "stdout",
          "text": [
            "[0.   1.   1.   ... 0.02 1.   0.97]\n"
          ]
        }
      ]
    },
    {
      "cell_type": "code",
      "source": [
        "# extract the predicted class labels\n",
        "y_pred = np.where(p_pred > 0.5, 1, 0)\n",
        "print(y_pred)"
      ],
      "metadata": {
        "colab": {
          "base_uri": "https://localhost:8080/"
        },
        "outputId": "ffedb9d9-591b-4f12-bd82-44fa23fad2cc",
        "id": "U9DrX_34XL_i"
      },
      "execution_count": null,
      "outputs": [
        {
          "output_type": "stream",
          "name": "stdout",
          "text": [
            "[0 1 1 ... 0 1 1]\n"
          ]
        }
      ]
    },
    {
      "cell_type": "code",
      "source": [
        "from sklearn.metrics import confusion_matrix\n",
        "print(confusion_matrix(Y_test, y_pred))"
      ],
      "metadata": {
        "colab": {
          "base_uri": "https://localhost:8080/"
        },
        "outputId": "3e070e5c-ac9b-48a7-d152-239a1f988fb6",
        "id": "9lemsUvpXL_j"
      },
      "execution_count": null,
      "outputs": [
        {
          "output_type": "stream",
          "name": "stdout",
          "text": [
            "[[2950   50]\n",
            " [  86 2914]]\n"
          ]
        }
      ]
    },
    {
      "cell_type": "code",
      "source": [
        "from sklearn.metrics import confusion_matrix, classification_report, accuracy_score\n",
        "print(classification_report(Y_test, y_pred))"
      ],
      "metadata": {
        "colab": {
          "base_uri": "https://localhost:8080/"
        },
        "outputId": "5a350fac-35c9-4030-d3c3-708beb66f837",
        "id": "Q7t2iLrSXL_k"
      },
      "execution_count": null,
      "outputs": [
        {
          "output_type": "stream",
          "name": "stdout",
          "text": [
            "              precision    recall  f1-score   support\n",
            "\n",
            "           0       0.97      0.98      0.98      3000\n",
            "           1       0.98      0.97      0.98      3000\n",
            "\n",
            "    accuracy                           0.98      6000\n",
            "   macro avg       0.98      0.98      0.98      6000\n",
            "weighted avg       0.98      0.98      0.98      6000\n",
            "\n"
          ]
        }
      ]
    },
    {
      "cell_type": "code",
      "source": [
        "from sklearn.metrics import confusion_matrix\n",
        "import itertools \n",
        "def plot_confusion_matrix(cm, classes,\n",
        "                          normalize=False,\n",
        "                          title='Confusion matrix',\n",
        "                          cmap=plt.cm.Blues):\n",
        "\n",
        "    if normalize:\n",
        "        cm = cm.astype('float') / cm.sum(axis=1)[:, np.newaxis]\n",
        "        print(\"Normalized confusion matrix\")\n",
        "    else:\n",
        "        print('Confusion matrix, without normalization')\n",
        "\n",
        "    print(cm)\n",
        "\n",
        "    plt.imshow(cm, interpolation='nearest', cmap=cmap)\n",
        "    plt.title(title)\n",
        "    plt.colorbar()\n",
        "    tick_marks = np.arange(len(classes))\n",
        "    plt.xticks(tick_marks, classes, rotation=55)\n",
        "    plt.yticks(tick_marks, classes)\n",
        "\n",
        "    fmt = '.2f' if normalize else 'd'\n",
        "    thresh = cm.max() / 2.\n",
        "    for i, j in itertools.product(range(cm.shape[0]), range(cm.shape[1])):\n",
        "        plt.text(j, i, format(cm[i, j], fmt),\n",
        "                 horizontalalignment=\"center\",\n",
        "                 color=\"white\" if cm[i, j] > thresh else \"black\")\n",
        "\n",
        "    plt.ylabel('True label')\n",
        "    plt.xlabel('Predicted label')\n",
        "    plt.tight_layout()\n",
        "\n",
        "cm = confusion_matrix(Y_test, y_pred)\n",
        "\n",
        "cm_plot_label =['0', '1']\n",
        "plot_confusion_matrix(cm, cm_plot_label, title ='Confusion For time series data set')"
      ],
      "metadata": {
        "colab": {
          "base_uri": "https://localhost:8080/",
          "height": 349
        },
        "outputId": "aff9c8c6-13d2-46e2-8b87-f8edf6bc4a95",
        "id": "4UJsgFctXL_m"
      },
      "execution_count": null,
      "outputs": [
        {
          "output_type": "stream",
          "name": "stdout",
          "text": [
            "Confusion matrix, without normalization\n",
            "[[2950   50]\n",
            " [  86 2914]]\n"
          ]
        },
        {
          "output_type": "display_data",
          "data": {
            "text/plain": [
              "<Figure size 432x288 with 2 Axes>"
            ],
            "image/png": "[encoded data removed]"
          },
          "metadata": {
            "needs_background": "light"
          }
        }
      ]
    },
    {
      "cell_type": "markdown",
      "source": [
        "Model Evalution"
      ],
      "metadata": {
        "id": "Tjo5tY-7ZYkR"
      }
    },
    {
      "cell_type": "code",
      "source": [
        "_, accuracy = model.evaluate(X_train, Y_train)\n",
        "print(\"Model accuracy: %.2f\"% (accuracy*100))"
      ],
      "metadata": {
        "colab": {
          "base_uri": "https://localhost:8080/"
        },
        "outputId": "cdc96504-6d66-4680-f544-c1656050fb5c",
        "id": "kXxkhtWJYfqz"
      },
      "execution_count": null,
      "outputs": [
        {
          "output_type": "stream",
          "name": "stdout",
          "text": [
            "875/875 [==============================] - 2s 2ms/step - loss: 0.0700 - accuracy: 0.9776\n",
            "Model accuracy: 97.76\n"
          ]
        }
      ]
    },
    {
      "cell_type": "code",
      "source": [
        "_, accuracy = model.evaluate(X_val, Y_val)\n",
        "print(\"Model accuracy: %.2f\"% (accuracy*100))"
      ],
      "metadata": {
        "colab": {
          "base_uri": "https://localhost:8080/"
        },
        "outputId": "ea139209-b59e-47ab-c8f4-10695b9f32f4",
        "id": "RdTu0LR2Yfq1"
      },
      "execution_count": null,
      "outputs": [
        {
          "output_type": "stream",
          "name": "stdout",
          "text": [
            "188/188 [==============================] - 1s 2ms/step - loss: 0.0774 - accuracy: 0.9773\n",
            "Model accuracy: 97.73\n"
          ]
        }
      ]
    },
    {
      "cell_type": "code",
      "source": [
        "X_train.head(10)"
      ],
      "metadata": {
        "colab": {
          "base_uri": "https://localhost:8080/",
          "height": 363
        },
        "outputId": "5dec0de8-635b-4b56-98be-efb22969af89",
        "id": "SDmAS6CiYfq2"
      },
      "execution_count": null,
      "outputs": [
        {
          "output_type": "execute_result",
          "data": {
            "text/plain": [
              "             v1        v2        v3        v4        v5        v6        v7  \\\n",
              "11210  0.479035  0.519579  0.668942  0.445833  0.430980  0.658683  0.037105   \n",
              "15024  0.479296  0.516605  0.668487  0.445833  0.430980  0.658683  0.527337   \n",
              "16944  0.470297  0.520074  0.672962  0.445833  0.432034  0.661677  0.532123   \n",
              "11241  0.441930  0.492441  0.641942  0.445833  0.432034  0.658683  0.579776   \n",
              "14903  0.478839  0.519641  0.668942  0.445833  0.430980  0.658683  0.038700   \n",
              "2851   0.482621  0.519455  0.668032  0.445833  0.430980  0.658683  0.519022   \n",
              "11985  0.477861  0.517286  0.668714  0.445833  0.430980  0.658683  0.497589   \n",
              "38287  0.371177  0.514684  0.535229  0.547222  0.350896  0.766467  0.631595   \n",
              "38563  0.597000  0.343556  0.655973  0.431944  0.448894  0.675649  0.634148   \n",
              "32652  0.428366  0.556258  0.631399  0.522222  0.438356  0.868263  0.484328   \n",
              "\n",
              "             v8        v9       v10       v11  \n",
              "11210  0.308885  0.093446  0.509717  0.915286  \n",
              "15024  0.406470  0.409711  0.520604  0.898581  \n",
              "16944  0.332730  0.523728  0.468443  0.906735  \n",
              "11241  0.395306  0.466114  0.367061  0.709758  \n",
              "14903  0.309987  0.094275  0.509784  0.915197  \n",
              "2851   0.377406  0.394227  0.529219  0.920971  \n",
              "11985  0.750385  0.072716  0.510051  0.905324  \n",
              "38287  0.373311  0.505773  0.275429  0.497091  \n",
              "38563  0.374808  0.510748  0.295265  0.491493  \n",
              "32652  0.338489  0.511162  0.480532  0.336786  "
            ],
            "text/html": [
              "\n",
              "  <div id=\"df-ba8ed60a-fa33-4106-a4a2-1627ff5f1ab1\">\n",
              "    <div class=\"colab-df-container\">\n",
              "      <div>\n",
              "<style scoped>\n",
              "    .dataframe tbody tr th:only-of-type {\n",
              "        vertical-align: middle;\n",
              "    }\n",
              "\n",
              "    .dataframe tbody tr th {\n",
              "        vertical-align: top;\n",
              "    }\n",
              "\n",
              "    .dataframe thead th {\n",
              "        text-align: right;\n",
              "    }\n",
              "</style>\n",
              "<table border=\"1\" class=\"dataframe\">\n",
              "  <thead>\n",
              "    <tr style=\"text-align: right;\">\n",
              "      <th></th>\n",
              "      <th>v1</th>\n",
              "      <th>v2</th>\n",
              "      <th>v3</th>\n",
              "      <th>v4</th>\n",
              "      <th>v5</th>\n",
              "      <th>v6</th>\n",
              "      <th>v7</th>\n",
              "      <th>v8</th>\n",
              "      <th>v9</th>\n",
              "      <th>v10</th>\n",
              "      <th>v11</th>\n",
              "    </tr>\n",
              "  </thead>\n",
              "  <tbody>\n",
              "    <tr>\n",
              "      <th>11210</th>\n",
              "      <td>0.479035</td>\n",
              "      <td>0.519579</td>\n",
              "      <td>0.668942</td>\n",
              "      <td>0.445833</td>\n",
              "      <td>0.430980</td>\n",
              "      <td>0.658683</td>\n",
              "      <td>0.037105</td>\n",
              "      <td>0.308885</td>\n",
              "      <td>0.093446</td>\n",
              "      <td>0.509717</td>\n",
              "      <td>0.915286</td>\n",
              "    </tr>\n",
              "    <tr>\n",
              "      <th>15024</th>\n",
              "      <td>0.479296</td>\n",
              "      <td>0.516605</td>\n",
              "      <td>0.668487</td>\n",
              "      <td>0.445833</td>\n",
              "      <td>0.430980</td>\n",
              "      <td>0.658683</td>\n",
              "      <td>0.527337</td>\n",
              "      <td>0.406470</td>\n",
              "      <td>0.409711</td>\n",
              "      <td>0.520604</td>\n",
              "      <td>0.898581</td>\n",
              "    </tr>\n",
              "    <tr>\n",
              "      <th>16944</th>\n",
              "      <td>0.470297</td>\n",
              "      <td>0.520074</td>\n",
              "      <td>0.672962</td>\n",
              "      <td>0.445833</td>\n",
              "      <td>0.432034</td>\n",
              "      <td>0.661677</td>\n",
              "      <td>0.532123</td>\n",
              "      <td>0.332730</td>\n",
              "      <td>0.523728</td>\n",
              "      <td>0.468443</td>\n",
              "      <td>0.906735</td>\n",
              "    </tr>\n",
              "    <tr>\n",
              "      <th>11241</th>\n",
              "      <td>0.441930</td>\n",
              "      <td>0.492441</td>\n",
              "      <td>0.641942</td>\n",
              "      <td>0.445833</td>\n",
              "      <td>0.432034</td>\n",
              "      <td>0.658683</td>\n",
              "      <td>0.579776</td>\n",
              "      <td>0.395306</td>\n",
              "      <td>0.466114</td>\n",
              "      <td>0.367061</td>\n",
              "      <td>0.709758</td>\n",
              "    </tr>\n",
              "    <tr>\n",
              "      <th>14903</th>\n",
              "      <td>0.478839</td>\n",
              "      <td>0.519641</td>\n",
              "      <td>0.668942</td>\n",
              "      <td>0.445833</td>\n",
              "      <td>0.430980</td>\n",
              "      <td>0.658683</td>\n",
              "      <td>0.038700</td>\n",
              "      <td>0.309987</td>\n",
              "      <td>0.094275</td>\n",
              "      <td>0.509784</td>\n",
              "      <td>0.915197</td>\n",
              "    </tr>\n",
              "    <tr>\n",
              "      <th>2851</th>\n",
              "      <td>0.482621</td>\n",
              "      <td>0.519455</td>\n",
              "      <td>0.668032</td>\n",
              "      <td>0.445833</td>\n",
              "      <td>0.430980</td>\n",
              "      <td>0.658683</td>\n",
              "      <td>0.519022</td>\n",
              "      <td>0.377406</td>\n",
              "      <td>0.394227</td>\n",
              "      <td>0.529219</td>\n",
              "      <td>0.920971</td>\n",
              "    </tr>\n",
              "    <tr>\n",
              "      <th>11985</th>\n",
              "      <td>0.477861</td>\n",
              "      <td>0.517286</td>\n",
              "      <td>0.668714</td>\n",
              "      <td>0.445833</td>\n",
              "      <td>0.430980</td>\n",
              "      <td>0.658683</td>\n",
              "      <td>0.497589</td>\n",
              "      <td>0.750385</td>\n",
              "      <td>0.072716</td>\n",
              "      <td>0.510051</td>\n",
              "      <td>0.905324</td>\n",
              "    </tr>\n",
              "    <tr>\n",
              "      <th>38287</th>\n",
              "      <td>0.371177</td>\n",
              "      <td>0.514684</td>\n",
              "      <td>0.535229</td>\n",
              "      <td>0.547222</td>\n",
              "      <td>0.350896</td>\n",
              "      <td>0.766467</td>\n",
              "      <td>0.631595</td>\n",
              "      <td>0.373311</td>\n",
              "      <td>0.505773</td>\n",
              "      <td>0.275429</td>\n",
              "      <td>0.497091</td>\n",
              "    </tr>\n",
              "    <tr>\n",
              "      <th>38563</th>\n",
              "      <td>0.597000</td>\n",
              "      <td>0.343556</td>\n",
              "      <td>0.655973</td>\n",
              "      <td>0.431944</td>\n",
              "      <td>0.448894</td>\n",
              "      <td>0.675649</td>\n",
              "      <td>0.634148</td>\n",
              "      <td>0.374808</td>\n",
              "      <td>0.510748</td>\n",
              "      <td>0.295265</td>\n",
              "      <td>0.491493</td>\n",
              "    </tr>\n",
              "    <tr>\n",
              "      <th>32652</th>\n",
              "      <td>0.428366</td>\n",
              "      <td>0.556258</td>\n",
              "      <td>0.631399</td>\n",
              "      <td>0.522222</td>\n",
              "      <td>0.438356</td>\n",
              "      <td>0.868263</td>\n",
              "      <td>0.484328</td>\n",
              "      <td>0.338489</td>\n",
              "      <td>0.511162</td>\n",
              "      <td>0.480532</td>\n",
              "      <td>0.336786</td>\n",
              "    </tr>\n",
              "  </tbody>\n",
              "</table>\n",
              "</div>\n",
              "      <button class=\"colab-df-convert\" onclick=\"convertToInteractive('df-ba8ed60a-fa33-4106-a4a2-1627ff5f1ab1')\"\n",
              "              title=\"Convert this dataframe to an interactive table.\"\n",
              "              style=\"display:none;\">\n",
              "        \n",
              "  <svg xmlns=\"http://www.w3.org/2000/svg\" height=\"24px\"viewBox=\"0 0 24 24\"\n",
              "       width=\"24px\">\n",
              "    <path d=\"M0 0h24v24H0V0z\" fill=\"none\"/>\n",
              "    <path d=\"M18.56 5.44l.94 2.06.94-2.06 2.06-.94-2.06-.94-.94-2.06-.94 2.06-2.06.94zm-11 1L8.5 8.5l.94-2.06 2.06-.94-2.06-.94L8.5 2.5l-.94 2.06-2.06.94zm10 10l.94 2.06.94-2.06 2.06-.94-2.06-.94-.94-2.06-.94 2.06-2.06.94z\"/><path d=\"M17.41 7.96l-1.37-1.37c-.4-.4-.92-.59-1.43-.59-.52 0-1.04.2-1.43.59L10.3 9.45l-7.72 7.72c-.78.78-.78 2.05 0 2.83L4 21.41c.39.39.9.59 1.41.59.51 0 1.02-.2 1.41-.59l7.78-7.78 2.81-2.81c.8-.78.8-2.07 0-2.86zM5.41 20L4 18.59l7.72-7.72 1.47 1.35L5.41 20z\"/>\n",
              "  </svg>\n",
              "      </button>\n",
              "      \n",
              "  <style>\n",
              "    .colab-df-container {\n",
              "      display:flex;\n",
              "      flex-wrap:wrap;\n",
              "      gap: 12px;\n",
              "    }\n",
              "\n",
              "    .colab-df-convert {\n",
              "      background-color: #E8F0FE;\n",
              "      border: none;\n",
              "      border-radius: 50%;\n",
              "      cursor: pointer;\n",
              "      display: none;\n",
              "      fill: #1967D2;\n",
              "      height: 32px;\n",
              "      padding: 0 0 0 0;\n",
              "      width: 32px;\n",
              "    }\n",
              "\n",
              "    .colab-df-convert:hover {\n",
              "      background-color: #E2EBFA;\n",
              "      box-shadow: 0px 1px 2px rgba(60, 64, 67, 0.3), 0px 1px 3px 1px rgba(60, 64, 67, 0.15);\n",
              "      fill: #174EA6;\n",
              "    }\n",
              "\n",
              "    [theme=dark] .colab-df-convert {\n",
              "      background-color: #3B4455;\n",
              "      fill: #D2E3FC;\n",
              "    }\n",
              "\n",
              "    [theme=dark] .colab-df-convert:hover {\n",
              "      background-color: #434B5C;\n",
              "      box-shadow: 0px 1px 3px 1px rgba(0, 0, 0, 0.15);\n",
              "      filter: drop-shadow(0px 1px 2px rgba(0, 0, 0, 0.3));\n",
              "      fill: #FFFFFF;\n",
              "    }\n",
              "  </style>\n",
              "\n",
              "      <script>\n",
              "        const buttonEl =\n",
              "          document.querySelector('#df-ba8ed60a-fa33-4106-a4a2-1627ff5f1ab1 button.colab-df-convert');\n",
              "        buttonEl.style.display =\n",
              "          google.colab.kernel.accessAllowed ? 'block' : 'none';\n",
              "\n",
              "        async function convertToInteractive(key) {\n",
              "          const element = document.querySelector('#df-ba8ed60a-fa33-4106-a4a2-1627ff5f1ab1');\n",
              "          const dataTable =\n",
              "            await google.colab.kernel.invokeFunction('convertToInteractive',\n",
              "                                                     [key], {});\n",
              "          if (!dataTable) return;\n",
              "\n",
              "          const docLinkHtml = 'Like what you see? Visit the ' +\n",
              "            '<a target=\"_blank\" href=https://colab.research.google.com/notebooks/data_table.ipynb>data table notebook</a>'\n",
              "            + ' to learn more about interactive tables.';\n",
              "          element.innerHTML = '';\n",
              "          dataTable['output_type'] = 'display_data';\n",
              "          await google.colab.output.renderOutput(dataTable, element);\n",
              "          const docLink = document.createElement('div');\n",
              "          docLink.innerHTML = docLinkHtml;\n",
              "          element.appendChild(docLink);\n",
              "        }\n",
              "      </script>\n",
              "    </div>\n",
              "  </div>\n",
              "  "
            ]
          },
          "metadata": {},
          "execution_count": 57
        }
      ]
    },
    {
      "cell_type": "markdown",
      "source": [
        "Test the model "
      ],
      "metadata": {
        "id": "vpQ1bKT8aSJB"
      }
    },
    {
      "cell_type": "code",
      "source": [
        "#Take the input first rows of model1\n",
        "model1 = model.predict([[0.479035, 0.519579, 0.668942, 0.445833, 0.430980, 0.658683, 0.037105, 0.308885, 0.093446, 0.509717, 0.915286]])"
      ],
      "metadata": {
        "id": "2_Q7_jcCYfq3"
      },
      "execution_count": null,
      "outputs": []
    },
    {
      "cell_type": "code",
      "source": [
        "model1"
      ],
      "metadata": {
        "colab": {
          "base_uri": "https://localhost:8080/"
        },
        "outputId": "c6d8c500-968a-45a4-8395-f761e5e07ac5",
        "id": "IC0bjuStYfq4"
      },
      "execution_count": null,
      "outputs": [
        {
          "output_type": "execute_result",
          "data": {
            "text/plain": [
              "array([[4.3725829e-10]], dtype=float32)"
            ]
          },
          "metadata": {},
          "execution_count": 60
        }
      ]
    },
    {
      "cell_type": "code",
      "source": [
        "for test in model1:\n",
        "  if test < 0.5:\n",
        "    print(\"Normal Class [0]\")\n",
        "  else:\n",
        "    print(\"Anomaly Class [1]\")"
      ],
      "metadata": {
        "colab": {
          "base_uri": "https://localhost:8080/"
        },
        "outputId": "7bc5550c-5a02-4d60-e043-c32baeab1985",
        "id": "YCWHJ75dYfq5"
      },
      "execution_count": null,
      "outputs": [
        {
          "output_type": "stream",
          "name": "stdout",
          "text": [
            "Normal Class [0]\n"
          ]
        }
      ]
    },
    {
      "cell_type": "code",
      "source": [
        "#Take the user secound rows of the model2\n",
        "model2 = model.predict([[0.479296, 0.516605, 0.668487, 0.445833, 0.430980, 0.658683, 0.527337, 0.406470, 0.409711, 0.520604, 0.898581]])"
      ],
      "metadata": {
        "id": "Q35f6op7acXc"
      },
      "execution_count": null,
      "outputs": []
    },
    {
      "cell_type": "code",
      "source": [
        "model2"
      ],
      "metadata": {
        "colab": {
          "base_uri": "https://localhost:8080/"
        },
        "id": "lbKjEmPCacFl",
        "outputId": "cfc01c7d-ce6b-43dc-eaeb-08605961db5e"
      },
      "execution_count": null,
      "outputs": [
        {
          "output_type": "execute_result",
          "data": {
            "text/plain": [
              "array([[3.864533e-07]], dtype=float32)"
            ]
          },
          "metadata": {},
          "execution_count": 63
        }
      ]
    },
    {
      "cell_type": "code",
      "source": [
        "for test in model2:\n",
        "  if model2 < 0.5:\n",
        "    print(\"Normal Class [0]\")\n",
        "  else:\n",
        "    print(\"Anomaly Class [1]\")"
      ],
      "metadata": {
        "colab": {
          "base_uri": "https://localhost:8080/"
        },
        "id": "eZ86y3HHabb-",
        "outputId": "6ba0b9df-96ca-4cc9-d7dd-2f9d4f737521"
      },
      "execution_count": null,
      "outputs": [
        {
          "output_type": "stream",
          "name": "stdout",
          "text": [
            "Normal Class [0]\n"
          ]
        }
      ]
    },
    {
      "cell_type": "code",
      "source": [
        "#Take the user third rows of model3\n",
        "model3 = model.predict([[0.470297, 0.520074, 0.672962, 0.445833, 0.432034, 0.661677, 0.532123, 0.332730, 0.523728, 0.468443, 0.906735]])"
      ],
      "metadata": {
        "id": "cLuk6n1VabLW"
      },
      "execution_count": null,
      "outputs": []
    },
    {
      "cell_type": "code",
      "source": [
        "model3"
      ],
      "metadata": {
        "colab": {
          "base_uri": "https://localhost:8080/"
        },
        "id": "nANdavTYbwDh",
        "outputId": "4561b2e5-b873-4ef6-857e-54c0012df4d6"
      },
      "execution_count": null,
      "outputs": [
        {
          "output_type": "execute_result",
          "data": {
            "text/plain": [
              "array([[1.1085002e-06]], dtype=float32)"
            ]
          },
          "metadata": {},
          "execution_count": 66
        }
      ]
    },
    {
      "cell_type": "code",
      "source": [
        "for test in model3:\n",
        "  if model3 < 0.5:\n",
        "    print(\"Normal Class [0]\")\n",
        "  else:\n",
        "    print(\"Anomaly Class [1]\")"
      ],
      "metadata": {
        "colab": {
          "base_uri": "https://localhost:8080/"
        },
        "id": "GcULIu9tbvhc",
        "outputId": "69323927-041f-4146-e98f-db38b100a9b8"
      },
      "execution_count": null,
      "outputs": [
        {
          "output_type": "stream",
          "name": "stdout",
          "text": [
            "Normal Class [0]\n"
          ]
        }
      ]
    },
    {
      "cell_type": "code",
      "source": [
        "#Take the user fourth rows of the model4\n",
        "model4 = model.predict([[0.441930, 0.492441, 0.641942, 0.445833, 0.432034, 0.658683, 0.579776, 0.395306, 0.466114, 0.367061, 0.709758]])"
      ],
      "metadata": {
        "id": "LU5XI8k2cCjP"
      },
      "execution_count": null,
      "outputs": []
    },
    {
      "cell_type": "code",
      "source": [
        "model4"
      ],
      "metadata": {
        "colab": {
          "base_uri": "https://localhost:8080/"
        },
        "id": "s_Ba1Id6cao8",
        "outputId": "e629568f-0bd7-4540-880e-b51737355758"
      },
      "execution_count": null,
      "outputs": [
        {
          "output_type": "execute_result",
          "data": {
            "text/plain": [
              "array([[0.00011125]], dtype=float32)"
            ]
          },
          "metadata": {},
          "execution_count": 69
        }
      ]
    },
    {
      "cell_type": "code",
      "source": [
        "for test in model4:\n",
        "  if model4 < 0.5:\n",
        "    print(\"Normal Class [0]\")\n",
        "  else:\n",
        "    print(\"Anomaly Class [1]\")"
      ],
      "metadata": {
        "colab": {
          "base_uri": "https://localhost:8080/"
        },
        "id": "MhRTaEAFcdkZ",
        "outputId": "8cc0c7a5-9cf6-4b6c-e49a-26772f217560"
      },
      "execution_count": null,
      "outputs": [
        {
          "output_type": "stream",
          "name": "stdout",
          "text": [
            "Normal Class [0]\n"
          ]
        }
      ]
    },
    {
      "cell_type": "code",
      "source": [
        "#give the user fifth rows of the model5\n",
        "model5 = model.predict([[0.478839, 0.519641, 0.668942, 0.445833, 0.430980, 0.658683, 0.038700, 0.309987, 0.094275, 0.509784, 0.915197]])"
      ],
      "metadata": {
        "id": "6yn7rxw4c02P"
      },
      "execution_count": null,
      "outputs": []
    },
    {
      "cell_type": "code",
      "source": [
        "model5"
      ],
      "metadata": {
        "colab": {
          "base_uri": "https://localhost:8080/"
        },
        "id": "PFUnRvKSdZEQ",
        "outputId": "cc979f0a-ff4b-45cb-a1ea-0c8c89ac0638"
      },
      "execution_count": null,
      "outputs": [
        {
          "output_type": "execute_result",
          "data": {
            "text/plain": [
              "array([[4.409055e-10]], dtype=float32)"
            ]
          },
          "metadata": {},
          "execution_count": 72
        }
      ]
    },
    {
      "cell_type": "code",
      "source": [
        "for test in model5:\n",
        "  if model5 < 0.5:\n",
        "    print(\"Normal Class [0]\")\n",
        "  else:\n",
        "    print(\"Anomaly Class [1]\")"
      ],
      "metadata": {
        "colab": {
          "base_uri": "https://localhost:8080/"
        },
        "id": "vM-8e4L5dYpO",
        "outputId": "3cb0f003-d044-4d9d-ab3c-892952c97430"
      },
      "execution_count": null,
      "outputs": [
        {
          "output_type": "stream",
          "name": "stdout",
          "text": [
            "Normal Class [0]\n"
          ]
        }
      ]
    },
    {
      "cell_type": "code",
      "source": [
        "#give the user sixth rows of the model6\n",
        "model6 = model.predict([[0.482621, 0.519455, 0.668032, 0.445833, 0.430980, 0.658683, 0.519022, 0.377406, 0.394227, 0.529219, 0.920971]])"
      ],
      "metadata": {
        "id": "yWE4zonudsoz"
      },
      "execution_count": null,
      "outputs": []
    },
    {
      "cell_type": "code",
      "source": [
        "model6"
      ],
      "metadata": {
        "colab": {
          "base_uri": "https://localhost:8080/"
        },
        "id": "4jAZrceZeXmI",
        "outputId": "b4c3e08a-a55b-4bce-bfd0-58f611563b71"
      },
      "execution_count": null,
      "outputs": [
        {
          "output_type": "execute_result",
          "data": {
            "text/plain": [
              "array([[2.4814284e-07]], dtype=float32)"
            ]
          },
          "metadata": {},
          "execution_count": 75
        }
      ]
    },
    {
      "cell_type": "code",
      "source": [
        "for test in model6:\n",
        "  if model6 < 0.5:\n",
        "    print(\"Normal Class [0]\")\n",
        "  else:\n",
        "    print(\"Anomaly Class [1]\")"
      ],
      "metadata": {
        "colab": {
          "base_uri": "https://localhost:8080/"
        },
        "id": "wTFaE7EYeWUn",
        "outputId": "f8c96ed6-fee8-4044-d429-e53c60474520"
      },
      "execution_count": null,
      "outputs": [
        {
          "output_type": "stream",
          "name": "stdout",
          "text": [
            "Normal Class [0]\n"
          ]
        }
      ]
    },
    {
      "cell_type": "code",
      "source": [
        "model7 = model.predict([[0.477861, 0.517286, 0.668714, 0.445833, 0.430980, 0.658683, 0.497589, 0.750385, 0.072716, 0.510051, 0.905324]])"
      ],
      "metadata": {
        "id": "5AKG9q-mexFv"
      },
      "execution_count": null,
      "outputs": []
    },
    {
      "cell_type": "code",
      "source": [
        "model7"
      ],
      "metadata": {
        "colab": {
          "base_uri": "https://localhost:8080/"
        },
        "id": "q9VWidKffKWo",
        "outputId": "eab5a15b-f222-489d-863b-414fc934fefc"
      },
      "execution_count": null,
      "outputs": [
        {
          "output_type": "execute_result",
          "data": {
            "text/plain": [
              "array([[3.019081e-10]], dtype=float32)"
            ]
          },
          "metadata": {},
          "execution_count": 78
        }
      ]
    },
    {
      "cell_type": "code",
      "source": [
        "for test in model7:\n",
        "  if model7 < 0.5:\n",
        "    print(\"Number of class [0]\")\n",
        "  else:\n",
        "    print(\"Anomaly Class [1]\")"
      ],
      "metadata": {
        "colab": {
          "base_uri": "https://localhost:8080/"
        },
        "id": "tkWlVWzpfJsZ",
        "outputId": "deaa06c7-d93f-459b-f21a-799ff88b5f35"
      },
      "execution_count": null,
      "outputs": [
        {
          "output_type": "stream",
          "name": "stdout",
          "text": [
            "Number of class [0]\n"
          ]
        }
      ]
    },
    {
      "cell_type": "code",
      "source": [
        "model8 = model.predict([[0.371177, 0.514684, 0.535229, 0.547222, 0.350896, 0.766467, 0.631595, 0.373311, 0.505773, 0.275429, 0.497091]])"
      ],
      "metadata": {
        "id": "-FsSWH7TfrsN"
      },
      "execution_count": null,
      "outputs": []
    },
    {
      "cell_type": "code",
      "source": [
        "model8"
      ],
      "metadata": {
        "colab": {
          "base_uri": "https://localhost:8080/"
        },
        "id": "X7jNN2Apfq9Q",
        "outputId": "0b53bb96-abb8-45be-d79d-b0a4a8f7d23d"
      },
      "execution_count": null,
      "outputs": [
        {
          "output_type": "execute_result",
          "data": {
            "text/plain": [
              "array([[0.96712273]], dtype=float32)"
            ]
          },
          "metadata": {},
          "execution_count": 81
        }
      ]
    },
    {
      "cell_type": "code",
      "source": [
        "for test in model8:\n",
        "  if model8 < 0.5:\n",
        "    print(\"Normal Class [0]\")\n",
        "  else:\n",
        "    print(\"Anomaly Class [1]\")"
      ],
      "metadata": {
        "colab": {
          "base_uri": "https://localhost:8080/"
        },
        "id": "pO8SpPfEgDaJ",
        "outputId": "d70f10af-e0b1-465f-d198-55a8be2beaad"
      },
      "execution_count": null,
      "outputs": [
        {
          "output_type": "stream",
          "name": "stdout",
          "text": [
            "Anomaly Class [1]\n"
          ]
        }
      ]
    },
    {
      "cell_type": "code",
      "source": [
        "model9 = model.predict([[0.597000, 0.343556, 0.655973, 0.431944, 0.448894, 0.675649, 0.634148, 0.374808, 0.510748, 0.295265, 0.491493]])"
      ],
      "metadata": {
        "id": "mfh-LxTbgVw5"
      },
      "execution_count": null,
      "outputs": []
    },
    {
      "cell_type": "code",
      "source": [
        "model9"
      ],
      "metadata": {
        "colab": {
          "base_uri": "https://localhost:8080/"
        },
        "id": "4AMxgZh8gql2",
        "outputId": "a337d6e7-224f-4fd3-eebc-617d0c7eaa5a"
      },
      "execution_count": null,
      "outputs": [
        {
          "output_type": "execute_result",
          "data": {
            "text/plain": [
              "array([[0.99999964]], dtype=float32)"
            ]
          },
          "metadata": {},
          "execution_count": 84
        }
      ]
    },
    {
      "cell_type": "code",
      "source": [
        "for test in model9:\n",
        "  if model9 < 0.5:\n",
        "    print(\"Normal Class [0]\")\n",
        "  else:\n",
        "    print(\"Anomaly Class [1]\")"
      ],
      "metadata": {
        "colab": {
          "base_uri": "https://localhost:8080/"
        },
        "id": "WRC9TRaNgvr6",
        "outputId": "6b9e2a78-de25-4533-c071-27e029ccb43b"
      },
      "execution_count": null,
      "outputs": [
        {
          "output_type": "stream",
          "name": "stdout",
          "text": [
            "Anomaly Class [1]\n"
          ]
        }
      ]
    },
    {
      "cell_type": "code",
      "source": [
        "model10 = model.predict([[0.428366, 0.556258, 0.631399, 0.522222, 0.438356, 0.868263, 0.484328, 0.338489, 0.511162, 0.480532, 0.336786]])"
      ],
      "metadata": {
        "id": "PZ7AOop9hGgd"
      },
      "execution_count": null,
      "outputs": []
    },
    {
      "cell_type": "code",
      "source": [
        "model10"
      ],
      "metadata": {
        "colab": {
          "base_uri": "https://localhost:8080/"
        },
        "id": "_CgSAw7ShUzJ",
        "outputId": "be03e718-b51f-47ef-a9d8-96501b56ec95"
      },
      "execution_count": null,
      "outputs": [
        {
          "output_type": "execute_result",
          "data": {
            "text/plain": [
              "array([[0.8918486]], dtype=float32)"
            ]
          },
          "metadata": {},
          "execution_count": 87
        }
      ]
    },
    {
      "cell_type": "code",
      "source": [
        "for test in model10:\n",
        "  if model10 < 0.5:\n",
        "    print(\"Normal Class [0]\")\n",
        "  else:\n",
        "    print(\"Anomaly Class [1]\")"
      ],
      "metadata": {
        "colab": {
          "base_uri": "https://localhost:8080/"
        },
        "id": "AV9Wq1-NhXGl",
        "outputId": "34c919e3-d72f-4ee5-b218-8c5c7c5898b9"
      },
      "execution_count": null,
      "outputs": [
        {
          "output_type": "stream",
          "name": "stdout",
          "text": [
            "Anomaly Class [1]\n"
          ]
        }
      ]
    },
    {
      "cell_type": "markdown",
      "source": [
        "Model_3"
      ],
      "metadata": {
        "id": "ISXz5ssCYiMq"
      }
    },
    {
      "cell_type": "code",
      "source": [
        "from tensorflow import keras\n",
        "from tensorflow.keras import layers"
      ],
      "metadata": {
        "id": "6oFm7dmNYeiN"
      },
      "execution_count": null,
      "outputs": []
    },
    {
      "cell_type": "code",
      "source": [
        "model = keras.Sequential()\n",
        "model.add(layers.Dense(128, activation=\"relu\", input_shape=(11,)))\n",
        "model.add(layers.Dense(64, activation='relu')),\n",
        "\n",
        "model.add(layers.Dense(1, activation='sigmoid')),\n",
        "\n",
        "model.summary()"
      ],
      "metadata": {
        "colab": {
          "base_uri": "https://localhost:8080/"
        },
        "id": "NJpij1GCYk-A",
        "outputId": "9207729f-a538-4fcc-948d-4d781223fd77"
      },
      "execution_count": null,
      "outputs": [
        {
          "output_type": "stream",
          "name": "stdout",
          "text": [
            "Model: \"sequential_2\"\n",
            "_________________________________________________________________\n",
            " Layer (type)                Output Shape              Param #   \n",
            "=================================================================\n",
            " dense_6 (Dense)             (None, 128)               1536      \n",
            "                                                                 \n",
            " dense_7 (Dense)             (None, 64)                8256      \n",
            "                                                                 \n",
            " dense_8 (Dense)             (None, 1)                 65        \n",
            "                                                                 \n",
            "=================================================================\n",
            "Total params: 9,857\n",
            "Trainable params: 9,857\n",
            "Non-trainable params: 0\n",
            "_________________________________________________________________\n"
          ]
        }
      ]
    },
    {
      "cell_type": "code",
      "source": [
        "model.compile(optimizer='adam', loss='binary_crossentropy', metrics=['accuracy'])"
      ],
      "metadata": {
        "id": "WCW9THssiz2O"
      },
      "execution_count": null,
      "outputs": []
    },
    {
      "cell_type": "code",
      "source": [
        "hist_2 = model.fit(X_train, Y_train, batch_size=16, epochs=50, validation_data=(X_val, Y_val))"
      ],
      "metadata": {
        "colab": {
          "base_uri": "https://localhost:8080/"
        },
        "id": "QBG0_QRrizLh",
        "outputId": "df29000d-02ae-456a-aa4c-daa098a96168"
      },
      "execution_count": null,
      "outputs": [
        {
          "output_type": "stream",
          "name": "stdout",
          "text": [
            "Epoch 1/50\n",
            "1750/1750 [==============================] - 5s 3ms/step - loss: 0.2820 - accuracy: 0.8889 - val_loss: 0.1623 - val_accuracy: 0.9448\n",
            "Epoch 2/50\n",
            "1750/1750 [==============================] - 4s 3ms/step - loss: 0.1153 - accuracy: 0.9665 - val_loss: 0.0902 - val_accuracy: 0.9765\n",
            "Epoch 3/50\n",
            "1750/1750 [==============================] - 6s 3ms/step - loss: 0.0852 - accuracy: 0.9762 - val_loss: 0.0752 - val_accuracy: 0.9850\n",
            "Epoch 4/50\n",
            "1750/1750 [==============================] - 7s 4ms/step - loss: 0.0737 - accuracy: 0.9802 - val_loss: 0.0800 - val_accuracy: 0.9862\n",
            "Epoch 5/50\n",
            "1750/1750 [==============================] - 4s 3ms/step - loss: 0.0675 - accuracy: 0.9817 - val_loss: 0.0641 - val_accuracy: 0.9872\n",
            "Epoch 6/50\n",
            "1750/1750 [==============================] - 4s 2ms/step - loss: 0.0600 - accuracy: 0.9844 - val_loss: 0.0776 - val_accuracy: 0.9835\n",
            "Epoch 7/50\n",
            "1750/1750 [==============================] - 4s 2ms/step - loss: 0.0575 - accuracy: 0.9842 - val_loss: 0.0522 - val_accuracy: 0.9872\n",
            "Epoch 8/50\n",
            "1750/1750 [==============================] - 6s 3ms/step - loss: 0.0511 - accuracy: 0.9870 - val_loss: 0.0565 - val_accuracy: 0.9880\n",
            "Epoch 9/50\n",
            "1750/1750 [==============================] - 5s 3ms/step - loss: 0.0514 - accuracy: 0.9864 - val_loss: 0.0457 - val_accuracy: 0.9883\n",
            "Epoch 10/50\n",
            "1750/1750 [==============================] - 4s 3ms/step - loss: 0.0479 - accuracy: 0.9877 - val_loss: 0.0522 - val_accuracy: 0.9895\n",
            "Epoch 11/50\n",
            "1750/1750 [==============================] - 4s 2ms/step - loss: 0.0466 - accuracy: 0.9869 - val_loss: 0.0562 - val_accuracy: 0.9857\n",
            "Epoch 12/50\n",
            "1750/1750 [==============================] - 5s 3ms/step - loss: 0.0458 - accuracy: 0.9880 - val_loss: 0.0514 - val_accuracy: 0.9860\n",
            "Epoch 13/50\n",
            "1750/1750 [==============================] - 5s 3ms/step - loss: 0.0437 - accuracy: 0.9880 - val_loss: 0.0390 - val_accuracy: 0.9908\n",
            "Epoch 14/50\n",
            "1750/1750 [==============================] - 4s 3ms/step - loss: 0.0417 - accuracy: 0.9885 - val_loss: 0.0484 - val_accuracy: 0.9892\n",
            "Epoch 15/50\n",
            "1750/1750 [==============================] - 4s 2ms/step - loss: 0.0432 - accuracy: 0.9882 - val_loss: 0.0427 - val_accuracy: 0.9888\n",
            "Epoch 16/50\n",
            "1750/1750 [==============================] - 7s 4ms/step - loss: 0.0443 - accuracy: 0.9872 - val_loss: 0.0376 - val_accuracy: 0.9908\n",
            "Epoch 17/50\n",
            "1750/1750 [==============================] - 4s 3ms/step - loss: 0.0387 - accuracy: 0.9895 - val_loss: 0.0523 - val_accuracy: 0.9882\n",
            "Epoch 18/50\n",
            "1750/1750 [==============================] - 5s 3ms/step - loss: 0.0412 - accuracy: 0.9887 - val_loss: 0.0577 - val_accuracy: 0.9823\n",
            "Epoch 19/50\n",
            "1750/1750 [==============================] - 4s 3ms/step - loss: 0.0387 - accuracy: 0.9896 - val_loss: 0.0398 - val_accuracy: 0.9907\n",
            "Epoch 20/50\n",
            "1750/1750 [==============================] - 7s 4ms/step - loss: 0.0381 - accuracy: 0.9899 - val_loss: 0.0493 - val_accuracy: 0.9880\n",
            "Epoch 21/50\n",
            "1750/1750 [==============================] - 8s 4ms/step - loss: 0.0368 - accuracy: 0.9898 - val_loss: 0.0373 - val_accuracy: 0.9907\n",
            "Epoch 22/50\n",
            "1750/1750 [==============================] - 9s 5ms/step - loss: 0.0397 - accuracy: 0.9895 - val_loss: 0.0339 - val_accuracy: 0.9918\n",
            "Epoch 23/50\n",
            "1750/1750 [==============================] - 7s 4ms/step - loss: 0.0367 - accuracy: 0.9900 - val_loss: 0.0355 - val_accuracy: 0.9927\n",
            "Epoch 24/50\n",
            "1750/1750 [==============================] - 4s 3ms/step - loss: 0.0368 - accuracy: 0.9902 - val_loss: 0.0612 - val_accuracy: 0.9820\n",
            "Epoch 25/50\n",
            "1750/1750 [==============================] - 4s 3ms/step - loss: 0.0364 - accuracy: 0.9901 - val_loss: 0.0507 - val_accuracy: 0.9887\n",
            "Epoch 26/50\n",
            "1750/1750 [==============================] - 4s 3ms/step - loss: 0.0358 - accuracy: 0.9901 - val_loss: 0.0522 - val_accuracy: 0.9850\n",
            "Epoch 27/50\n",
            "1750/1750 [==============================] - 4s 2ms/step - loss: 0.0343 - accuracy: 0.9908 - val_loss: 0.0443 - val_accuracy: 0.9863\n",
            "Epoch 28/50\n",
            "1750/1750 [==============================] - 4s 3ms/step - loss: 0.0349 - accuracy: 0.9902 - val_loss: 0.0388 - val_accuracy: 0.9897\n",
            "Epoch 29/50\n",
            "1750/1750 [==============================] - 4s 3ms/step - loss: 0.0356 - accuracy: 0.9902 - val_loss: 0.0397 - val_accuracy: 0.9865\n",
            "Epoch 30/50\n",
            "1750/1750 [==============================] - 4s 3ms/step - loss: 0.0338 - accuracy: 0.9907 - val_loss: 0.0322 - val_accuracy: 0.9933\n",
            "Epoch 31/50\n",
            "1750/1750 [==============================] - 4s 3ms/step - loss: 0.0347 - accuracy: 0.9904 - val_loss: 0.0360 - val_accuracy: 0.9905\n",
            "Epoch 32/50\n",
            "1750/1750 [==============================] - 4s 2ms/step - loss: 0.0341 - accuracy: 0.9904 - val_loss: 0.0314 - val_accuracy: 0.9927\n",
            "Epoch 33/50\n",
            "1750/1750 [==============================] - 4s 2ms/step - loss: 0.0333 - accuracy: 0.9908 - val_loss: 0.0332 - val_accuracy: 0.9917\n",
            "Epoch 34/50\n",
            "1750/1750 [==============================] - 4s 3ms/step - loss: 0.0357 - accuracy: 0.9902 - val_loss: 0.0322 - val_accuracy: 0.9908\n",
            "Epoch 35/50\n",
            "1750/1750 [==============================] - 4s 2ms/step - loss: 0.0329 - accuracy: 0.9911 - val_loss: 0.0353 - val_accuracy: 0.9912\n",
            "Epoch 36/50\n",
            "1750/1750 [==============================] - 4s 3ms/step - loss: 0.0312 - accuracy: 0.9917 - val_loss: 0.0292 - val_accuracy: 0.9928\n",
            "Epoch 37/50\n",
            "1750/1750 [==============================] - 4s 2ms/step - loss: 0.0316 - accuracy: 0.9917 - val_loss: 0.0305 - val_accuracy: 0.9905\n",
            "Epoch 38/50\n",
            "1750/1750 [==============================] - 4s 3ms/step - loss: 0.0333 - accuracy: 0.9912 - val_loss: 0.0303 - val_accuracy: 0.9930\n",
            "Epoch 39/50\n",
            "1750/1750 [==============================] - 4s 3ms/step - loss: 0.0313 - accuracy: 0.9916 - val_loss: 0.0384 - val_accuracy: 0.9917\n",
            "Epoch 40/50\n",
            "1750/1750 [==============================] - 5s 3ms/step - loss: 0.0317 - accuracy: 0.9910 - val_loss: 0.0396 - val_accuracy: 0.9868\n",
            "Epoch 41/50\n",
            "1750/1750 [==============================] - 5s 3ms/step - loss: 0.0318 - accuracy: 0.9915 - val_loss: 0.0307 - val_accuracy: 0.9925\n",
            "Epoch 42/50\n",
            "1750/1750 [==============================] - 4s 3ms/step - loss: 0.0308 - accuracy: 0.9912 - val_loss: 0.0344 - val_accuracy: 0.9908\n",
            "Epoch 43/50\n",
            "1750/1750 [==============================] - 4s 3ms/step - loss: 0.0322 - accuracy: 0.9907 - val_loss: 0.0354 - val_accuracy: 0.9912\n",
            "Epoch 44/50\n",
            "1750/1750 [==============================] - 4s 2ms/step - loss: 0.0287 - accuracy: 0.9924 - val_loss: 0.0344 - val_accuracy: 0.9910\n",
            "Epoch 45/50\n",
            "1750/1750 [==============================] - 4s 2ms/step - loss: 0.0305 - accuracy: 0.9920 - val_loss: 0.0274 - val_accuracy: 0.9925\n",
            "Epoch 46/50\n",
            "1750/1750 [==============================] - 4s 2ms/step - loss: 0.0298 - accuracy: 0.9916 - val_loss: 0.0337 - val_accuracy: 0.9925\n",
            "Epoch 47/50\n",
            "1750/1750 [==============================] - 5s 3ms/step - loss: 0.0305 - accuracy: 0.9914 - val_loss: 0.0329 - val_accuracy: 0.9932\n",
            "Epoch 48/50\n",
            "1750/1750 [==============================] - 5s 3ms/step - loss: 0.0288 - accuracy: 0.9920 - val_loss: 0.0312 - val_accuracy: 0.9927\n",
            "Epoch 49/50\n",
            "1750/1750 [==============================] - 4s 3ms/step - loss: 0.0296 - accuracy: 0.9916 - val_loss: 0.0465 - val_accuracy: 0.9898\n",
            "Epoch 50/50\n",
            "1750/1750 [==============================] - 4s 3ms/step - loss: 0.0311 - accuracy: 0.9916 - val_loss: 0.0297 - val_accuracy: 0.9933\n"
          ]
        }
      ]
    },
    {
      "cell_type": "code",
      "source": [
        "# summarize history for accuracy\n",
        "plt.plot(hist_2.history['accuracy'])\n",
        "plt.plot(hist_2.history['val_accuracy'])\n",
        "plt.title('Model accuracy')\n",
        "plt.ylabel('Accuracy')\n",
        "plt.xlabel('Epochs')\n",
        "plt.legend(['train', 'valid'], loc='upper left')\n",
        "plt.show()"
      ],
      "metadata": {
        "colab": {
          "base_uri": "https://localhost:8080/",
          "height": 295
        },
        "id": "qZfe9bRMjUvN",
        "outputId": "3f9decd1-86e5-44a9-df73-68625be36322"
      },
      "execution_count": null,
      "outputs": [
        {
          "output_type": "display_data",
          "data": {
            "text/plain": [
              "<Figure size 432x288 with 1 Axes>"
            ],
            "image/png": "[encoded data removed]"
          },
          "metadata": {
            "needs_background": "light"
          }
        }
      ]
    },
    {
      "cell_type": "code",
      "source": [
        "# summarize history for loss\n",
        "plt.plot(hist_2.history['loss'])\n",
        "plt.plot(hist_2.history['val_loss'])\n",
        "plt.title('Model loss')\n",
        "plt.ylabel('Loss')\n",
        "plt.xlabel('Epochs')\n",
        "plt.legend(['train', 'valid'], loc='upper left')\n",
        "plt.show()"
      ],
      "metadata": {
        "colab": {
          "base_uri": "https://localhost:8080/",
          "height": 295
        },
        "id": "kfnj9T5DjS9W",
        "outputId": "28add8b1-00de-4233-bc22-535ca9af807c"
      },
      "execution_count": null,
      "outputs": [
        {
          "output_type": "display_data",
          "data": {
            "text/plain": [
              "<Figure size 432x288 with 1 Axes>"
            ],
            "image/png": "[encoded data removed]"
          },
          "metadata": {
            "needs_background": "light"
          }
        }
      ]
    },
    {
      "cell_type": "markdown",
      "source": [
        "How to save the model and Check the Performance of the model"
      ],
      "metadata": {
        "id": "7RZH3o7aidOJ"
      }
    },
    {
      "cell_type": "code",
      "source": [
        "model.save('best_model2.h5')"
      ],
      "metadata": {
        "id": "y1wZ-Xv9ZI2p"
      },
      "execution_count": null,
      "outputs": []
    },
    {
      "cell_type": "code",
      "source": [
        "from sklearn.metrics import accuracy_score"
      ],
      "metadata": {
        "id": "y1ZwhlZNZI2t"
      },
      "execution_count": null,
      "outputs": []
    },
    {
      "cell_type": "code",
      "source": [
        "model.load_weights(\"/content/best_model2.h5\")"
      ],
      "metadata": {
        "id": "hMZYpRz9ZI2u"
      },
      "execution_count": null,
      "outputs": []
    },
    {
      "cell_type": "code",
      "source": [
        "y_pred = model.predict(X_test)"
      ],
      "metadata": {
        "id": "H4FhKM65ZI2u"
      },
      "execution_count": null,
      "outputs": []
    },
    {
      "cell_type": "code",
      "source": [
        "y_pred"
      ],
      "metadata": {
        "colab": {
          "base_uri": "https://localhost:8080/"
        },
        "outputId": "97aacf6d-96f0-4beb-9a6e-1d46b40c22e9",
        "id": "6XQSQGYNZI2v"
      },
      "execution_count": null,
      "outputs": [
        {
          "output_type": "execute_result",
          "data": {
            "text/plain": [
              "array([[1.9092849e-37],\n",
              "       [9.9924362e-01],\n",
              "       [1.0000000e+00],\n",
              "       ...,\n",
              "       [2.2272989e-03],\n",
              "       [9.9994946e-01],\n",
              "       [9.5000619e-01]], dtype=float32)"
            ]
          },
          "metadata": {},
          "execution_count": 98
        }
      ]
    },
    {
      "cell_type": "code",
      "source": [
        "# extract the predicted probabilities\n",
        "p_pred = model.predict(X_test)\n",
        "p_pred = p_pred.flatten()\n",
        "print(p_pred.round(2))"
      ],
      "metadata": {
        "colab": {
          "base_uri": "https://localhost:8080/"
        },
        "outputId": "7831f071-65e7-4e22-c287-c387ee2b8292",
        "id": "gspaOVpSZI2x"
      },
      "execution_count": null,
      "outputs": [
        {
          "output_type": "stream",
          "name": "stdout",
          "text": [
            "[0.   1.   1.   ... 0.   1.   0.95]\n"
          ]
        }
      ]
    },
    {
      "cell_type": "code",
      "source": [
        "# extract the predicted class labels\n",
        "y_pred = np.where(p_pred > 0.5, 1, 0)\n",
        "print(y_pred)"
      ],
      "metadata": {
        "colab": {
          "base_uri": "https://localhost:8080/"
        },
        "outputId": "c63a0169-dad4-44f4-fee5-3abe9976ca76",
        "id": "2ewDKxOuZI2y"
      },
      "execution_count": null,
      "outputs": [
        {
          "output_type": "stream",
          "name": "stdout",
          "text": [
            "[0 1 1 ... 0 1 1]\n"
          ]
        }
      ]
    },
    {
      "cell_type": "code",
      "source": [
        "from sklearn.metrics import confusion_matrix\n",
        "print(confusion_matrix(Y_test, y_pred))"
      ],
      "metadata": {
        "colab": {
          "base_uri": "https://localhost:8080/"
        },
        "outputId": "65af5a93-2d26-4dd4-e0db-398b37aed228",
        "id": "1x1gjJ2rZI2z"
      },
      "execution_count": null,
      "outputs": [
        {
          "output_type": "stream",
          "name": "stdout",
          "text": [
            "[[2969   31]\n",
            " [   3 2997]]\n"
          ]
        }
      ]
    },
    {
      "cell_type": "code",
      "source": [
        "from sklearn.metrics import confusion_matrix, classification_report, accuracy_score\n",
        "print(classification_report(Y_test, y_pred))"
      ],
      "metadata": {
        "colab": {
          "base_uri": "https://localhost:8080/"
        },
        "id": "MqrV_uB-ZKoj",
        "outputId": "f79dc3fc-fbd7-4218-e484-0c389fdd5016"
      },
      "execution_count": null,
      "outputs": [
        {
          "output_type": "stream",
          "name": "stdout",
          "text": [
            "              precision    recall  f1-score   support\n",
            "\n",
            "           0       1.00      0.99      0.99      3000\n",
            "           1       0.99      1.00      0.99      3000\n",
            "\n",
            "    accuracy                           0.99      6000\n",
            "   macro avg       0.99      0.99      0.99      6000\n",
            "weighted avg       0.99      0.99      0.99      6000\n",
            "\n"
          ]
        }
      ]
    },
    {
      "cell_type": "code",
      "source": [
        "from sklearn.metrics import confusion_matrix\n",
        "import itertools \n",
        "def plot_confusion_matrix(cm, classes,\n",
        "                          normalize=False,\n",
        "                          title='Confusion matrix',\n",
        "                          cmap=plt.cm.Blues):\n",
        "\n",
        "    if normalize:\n",
        "        cm = cm.astype('float') / cm.sum(axis=1)[:, np.newaxis]\n",
        "        print(\"Normalized confusion matrix\")\n",
        "    else:\n",
        "        print('Confusion matrix, without normalization')\n",
        "\n",
        "    print(cm)\n",
        "\n",
        "    plt.imshow(cm, interpolation='nearest', cmap=cmap)\n",
        "    plt.title(title)\n",
        "    plt.colorbar()\n",
        "    tick_marks = np.arange(len(classes))\n",
        "    plt.xticks(tick_marks, classes, rotation=55)\n",
        "    plt.yticks(tick_marks, classes)\n",
        "\n",
        "    fmt = '.2f' if normalize else 'd'\n",
        "    thresh = cm.max() / 2.\n",
        "    for i, j in itertools.product(range(cm.shape[0]), range(cm.shape[1])):\n",
        "        plt.text(j, i, format(cm[i, j], fmt),\n",
        "                 horizontalalignment=\"center\",\n",
        "                 color=\"white\" if cm[i, j] > thresh else \"black\")\n",
        "\n",
        "    plt.ylabel('True label')\n",
        "    plt.xlabel('Predicted label')\n",
        "    plt.tight_layout()\n",
        "\n",
        "cm = confusion_matrix(Y_test, y_pred)\n",
        "\n",
        "cm_plot_label =['0', '1']\n",
        "plot_confusion_matrix(cm, cm_plot_label, title ='Confusion For time series data set')"
      ],
      "metadata": {
        "colab": {
          "base_uri": "https://localhost:8080/",
          "height": 349
        },
        "outputId": "2f2f1e5c-b76f-442d-a076-76dfe0a5b7ac",
        "id": "imLZNtc0ZI20"
      },
      "execution_count": null,
      "outputs": [
        {
          "output_type": "stream",
          "name": "stdout",
          "text": [
            "Confusion matrix, without normalization\n",
            "[[2969   31]\n",
            " [   3 2997]]\n"
          ]
        },
        {
          "output_type": "display_data",
          "data": {
            "text/plain": [
              "<Figure size 432x288 with 2 Axes>"
            ],
            "image/png": "[encoded data removed]"
          },
          "metadata": {
            "needs_background": "light"
          }
        }
      ]
    },
    {
      "cell_type": "markdown",
      "source": [
        "Model Evalution"
      ],
      "metadata": {
        "id": "U5te2_XSZDyZ"
      }
    },
    {
      "cell_type": "code",
      "source": [
        "_, accuracy = model.evaluate(X_train, Y_train)\n",
        "print(\"Model accuracy: %.2f\"% (accuracy*100))"
      ],
      "metadata": {
        "colab": {
          "base_uri": "https://localhost:8080/"
        },
        "outputId": "1c2d3619-6f00-4d5e-b715-e371945cb42b",
        "id": "hGgDAc0MYmUQ"
      },
      "execution_count": null,
      "outputs": [
        {
          "output_type": "stream",
          "name": "stdout",
          "text": [
            "875/875 [==============================] - 2s 2ms/step - loss: 0.0243 - accuracy: 0.9933\n",
            "Model accuracy: 99.33\n"
          ]
        }
      ]
    },
    {
      "cell_type": "code",
      "source": [
        "_, accuracy = model.evaluate(X_val, Y_val)\n",
        "print(\"Model accuracy: %.2f\"% (accuracy*100))"
      ],
      "metadata": {
        "colab": {
          "base_uri": "https://localhost:8080/"
        },
        "outputId": "8c450fb5-acac-43d1-c1b2-aba6aff26f4f",
        "id": "o4rQGytnYmUR"
      },
      "execution_count": null,
      "outputs": [
        {
          "output_type": "stream",
          "name": "stdout",
          "text": [
            "188/188 [==============================] - 1s 2ms/step - loss: 0.0297 - accuracy: 0.9933\n",
            "Model accuracy: 99.33\n"
          ]
        }
      ]
    },
    {
      "cell_type": "code",
      "source": [
        "X_train.head(10)"
      ],
      "metadata": {
        "colab": {
          "base_uri": "https://localhost:8080/",
          "height": 363
        },
        "outputId": "aaa04ac9-443a-4c59-9b2c-5ce25f7370f6",
        "id": "i6_mww57YmUS"
      },
      "execution_count": null,
      "outputs": [
        {
          "output_type": "execute_result",
          "data": {
            "text/plain": [
              "             v1        v2        v3        v4        v5        v6        v7  \\\n",
              "11210  0.479035  0.519579  0.668942  0.445833  0.430980  0.658683  0.037105   \n",
              "15024  0.479296  0.516605  0.668487  0.445833  0.430980  0.658683  0.527337   \n",
              "16944  0.470297  0.520074  0.672962  0.445833  0.432034  0.661677  0.532123   \n",
              "11241  0.441930  0.492441  0.641942  0.445833  0.432034  0.658683  0.579776   \n",
              "14903  0.478839  0.519641  0.668942  0.445833  0.430980  0.658683  0.038700   \n",
              "2851   0.482621  0.519455  0.668032  0.445833  0.430980  0.658683  0.519022   \n",
              "11985  0.477861  0.517286  0.668714  0.445833  0.430980  0.658683  0.497589   \n",
              "38287  0.371177  0.514684  0.535229  0.547222  0.350896  0.766467  0.631595   \n",
              "38563  0.597000  0.343556  0.655973  0.431944  0.448894  0.675649  0.634148   \n",
              "32652  0.428366  0.556258  0.631399  0.522222  0.438356  0.868263  0.484328   \n",
              "\n",
              "             v8        v9       v10       v11  \n",
              "11210  0.308885  0.093446  0.509717  0.915286  \n",
              "15024  0.406470  0.409711  0.520604  0.898581  \n",
              "16944  0.332730  0.523728  0.468443  0.906735  \n",
              "11241  0.395306  0.466114  0.367061  0.709758  \n",
              "14903  0.309987  0.094275  0.509784  0.915197  \n",
              "2851   0.377406  0.394227  0.529219  0.920971  \n",
              "11985  0.750385  0.072716  0.510051  0.905324  \n",
              "38287  0.373311  0.505773  0.275429  0.497091  \n",
              "38563  0.374808  0.510748  0.295265  0.491493  \n",
              "32652  0.338489  0.511162  0.480532  0.336786  "
            ],
            "text/html": [
              "\n",
              "  <div id=\"df-860f91b2-36fb-4278-8061-523a109c9c4b\">\n",
              "    <div class=\"colab-df-container\">\n",
              "      <div>\n",
              "<style scoped>\n",
              "    .dataframe tbody tr th:only-of-type {\n",
              "        vertical-align: middle;\n",
              "    }\n",
              "\n",
              "    .dataframe tbody tr th {\n",
              "        vertical-align: top;\n",
              "    }\n",
              "\n",
              "    .dataframe thead th {\n",
              "        text-align: right;\n",
              "    }\n",
              "</style>\n",
              "<table border=\"1\" class=\"dataframe\">\n",
              "  <thead>\n",
              "    <tr style=\"text-align: right;\">\n",
              "      <th></th>\n",
              "      <th>v1</th>\n",
              "      <th>v2</th>\n",
              "      <th>v3</th>\n",
              "      <th>v4</th>\n",
              "      <th>v5</th>\n",
              "      <th>v6</th>\n",
              "      <th>v7</th>\n",
              "      <th>v8</th>\n",
              "      <th>v9</th>\n",
              "      <th>v10</th>\n",
              "      <th>v11</th>\n",
              "    </tr>\n",
              "  </thead>\n",
              "  <tbody>\n",
              "    <tr>\n",
              "      <th>11210</th>\n",
              "      <td>0.479035</td>\n",
              "      <td>0.519579</td>\n",
              "      <td>0.668942</td>\n",
              "      <td>0.445833</td>\n",
              "      <td>0.430980</td>\n",
              "      <td>0.658683</td>\n",
              "      <td>0.037105</td>\n",
              "      <td>0.308885</td>\n",
              "      <td>0.093446</td>\n",
              "      <td>0.509717</td>\n",
              "      <td>0.915286</td>\n",
              "    </tr>\n",
              "    <tr>\n",
              "      <th>15024</th>\n",
              "      <td>0.479296</td>\n",
              "      <td>0.516605</td>\n",
              "      <td>0.668487</td>\n",
              "      <td>0.445833</td>\n",
              "      <td>0.430980</td>\n",
              "      <td>0.658683</td>\n",
              "      <td>0.527337</td>\n",
              "      <td>0.406470</td>\n",
              "      <td>0.409711</td>\n",
              "      <td>0.520604</td>\n",
              "      <td>0.898581</td>\n",
              "    </tr>\n",
              "    <tr>\n",
              "      <th>16944</th>\n",
              "      <td>0.470297</td>\n",
              "      <td>0.520074</td>\n",
              "      <td>0.672962</td>\n",
              "      <td>0.445833</td>\n",
              "      <td>0.432034</td>\n",
              "      <td>0.661677</td>\n",
              "      <td>0.532123</td>\n",
              "      <td>0.332730</td>\n",
              "      <td>0.523728</td>\n",
              "      <td>0.468443</td>\n",
              "      <td>0.906735</td>\n",
              "    </tr>\n",
              "    <tr>\n",
              "      <th>11241</th>\n",
              "      <td>0.441930</td>\n",
              "      <td>0.492441</td>\n",
              "      <td>0.641942</td>\n",
              "      <td>0.445833</td>\n",
              "      <td>0.432034</td>\n",
              "      <td>0.658683</td>\n",
              "      <td>0.579776</td>\n",
              "      <td>0.395306</td>\n",
              "      <td>0.466114</td>\n",
              "      <td>0.367061</td>\n",
              "      <td>0.709758</td>\n",
              "    </tr>\n",
              "    <tr>\n",
              "      <th>14903</th>\n",
              "      <td>0.478839</td>\n",
              "      <td>0.519641</td>\n",
              "      <td>0.668942</td>\n",
              "      <td>0.445833</td>\n",
              "      <td>0.430980</td>\n",
              "      <td>0.658683</td>\n",
              "      <td>0.038700</td>\n",
              "      <td>0.309987</td>\n",
              "      <td>0.094275</td>\n",
              "      <td>0.509784</td>\n",
              "      <td>0.915197</td>\n",
              "    </tr>\n",
              "    <tr>\n",
              "      <th>2851</th>\n",
              "      <td>0.482621</td>\n",
              "      <td>0.519455</td>\n",
              "      <td>0.668032</td>\n",
              "      <td>0.445833</td>\n",
              "      <td>0.430980</td>\n",
              "      <td>0.658683</td>\n",
              "      <td>0.519022</td>\n",
              "      <td>0.377406</td>\n",
              "      <td>0.394227</td>\n",
              "      <td>0.529219</td>\n",
              "      <td>0.920971</td>\n",
              "    </tr>\n",
              "    <tr>\n",
              "      <th>11985</th>\n",
              "      <td>0.477861</td>\n",
              "      <td>0.517286</td>\n",
              "      <td>0.668714</td>\n",
              "      <td>0.445833</td>\n",
              "      <td>0.430980</td>\n",
              "      <td>0.658683</td>\n",
              "      <td>0.497589</td>\n",
              "      <td>0.750385</td>\n",
              "      <td>0.072716</td>\n",
              "      <td>0.510051</td>\n",
              "      <td>0.905324</td>\n",
              "    </tr>\n",
              "    <tr>\n",
              "      <th>38287</th>\n",
              "      <td>0.371177</td>\n",
              "      <td>0.514684</td>\n",
              "      <td>0.535229</td>\n",
              "      <td>0.547222</td>\n",
              "      <td>0.350896</td>\n",
              "      <td>0.766467</td>\n",
              "      <td>0.631595</td>\n",
              "      <td>0.373311</td>\n",
              "      <td>0.505773</td>\n",
              "      <td>0.275429</td>\n",
              "      <td>0.497091</td>\n",
              "    </tr>\n",
              "    <tr>\n",
              "      <th>38563</th>\n",
              "      <td>0.597000</td>\n",
              "      <td>0.343556</td>\n",
              "      <td>0.655973</td>\n",
              "      <td>0.431944</td>\n",
              "      <td>0.448894</td>\n",
              "      <td>0.675649</td>\n",
              "      <td>0.634148</td>\n",
              "      <td>0.374808</td>\n",
              "      <td>0.510748</td>\n",
              "      <td>0.295265</td>\n",
              "      <td>0.491493</td>\n",
              "    </tr>\n",
              "    <tr>\n",
              "      <th>32652</th>\n",
              "      <td>0.428366</td>\n",
              "      <td>0.556258</td>\n",
              "      <td>0.631399</td>\n",
              "      <td>0.522222</td>\n",
              "      <td>0.438356</td>\n",
              "      <td>0.868263</td>\n",
              "      <td>0.484328</td>\n",
              "      <td>0.338489</td>\n",
              "      <td>0.511162</td>\n",
              "      <td>0.480532</td>\n",
              "      <td>0.336786</td>\n",
              "    </tr>\n",
              "  </tbody>\n",
              "</table>\n",
              "</div>\n",
              "      <button class=\"colab-df-convert\" onclick=\"convertToInteractive('df-860f91b2-36fb-4278-8061-523a109c9c4b')\"\n",
              "              title=\"Convert this dataframe to an interactive table.\"\n",
              "              style=\"display:none;\">\n",
              "        \n",
              "  <svg xmlns=\"http://www.w3.org/2000/svg\" height=\"24px\"viewBox=\"0 0 24 24\"\n",
              "       width=\"24px\">\n",
              "    <path d=\"M0 0h24v24H0V0z\" fill=\"none\"/>\n",
              "    <path d=\"M18.56 5.44l.94 2.06.94-2.06 2.06-.94-2.06-.94-.94-2.06-.94 2.06-2.06.94zm-11 1L8.5 8.5l.94-2.06 2.06-.94-2.06-.94L8.5 2.5l-.94 2.06-2.06.94zm10 10l.94 2.06.94-2.06 2.06-.94-2.06-.94-.94-2.06-.94 2.06-2.06.94z\"/><path d=\"M17.41 7.96l-1.37-1.37c-.4-.4-.92-.59-1.43-.59-.52 0-1.04.2-1.43.59L10.3 9.45l-7.72 7.72c-.78.78-.78 2.05 0 2.83L4 21.41c.39.39.9.59 1.41.59.51 0 1.02-.2 1.41-.59l7.78-7.78 2.81-2.81c.8-.78.8-2.07 0-2.86zM5.41 20L4 18.59l7.72-7.72 1.47 1.35L5.41 20z\"/>\n",
              "  </svg>\n",
              "      </button>\n",
              "      \n",
              "  <style>\n",
              "    .colab-df-container {\n",
              "      display:flex;\n",
              "      flex-wrap:wrap;\n",
              "      gap: 12px;\n",
              "    }\n",
              "\n",
              "    .colab-df-convert {\n",
              "      background-color: #E8F0FE;\n",
              "      border: none;\n",
              "      border-radius: 50%;\n",
              "      cursor: pointer;\n",
              "      display: none;\n",
              "      fill: #1967D2;\n",
              "      height: 32px;\n",
              "      padding: 0 0 0 0;\n",
              "      width: 32px;\n",
              "    }\n",
              "\n",
              "    .colab-df-convert:hover {\n",
              "      background-color: #E2EBFA;\n",
              "      box-shadow: 0px 1px 2px rgba(60, 64, 67, 0.3), 0px 1px 3px 1px rgba(60, 64, 67, 0.15);\n",
              "      fill: #174EA6;\n",
              "    }\n",
              "\n",
              "    [theme=dark] .colab-df-convert {\n",
              "      background-color: #3B4455;\n",
              "      fill: #D2E3FC;\n",
              "    }\n",
              "\n",
              "    [theme=dark] .colab-df-convert:hover {\n",
              "      background-color: #434B5C;\n",
              "      box-shadow: 0px 1px 3px 1px rgba(0, 0, 0, 0.15);\n",
              "      filter: drop-shadow(0px 1px 2px rgba(0, 0, 0, 0.3));\n",
              "      fill: #FFFFFF;\n",
              "    }\n",
              "  </style>\n",
              "\n",
              "      <script>\n",
              "        const buttonEl =\n",
              "          document.querySelector('#df-860f91b2-36fb-4278-8061-523a109c9c4b button.colab-df-convert');\n",
              "        buttonEl.style.display =\n",
              "          google.colab.kernel.accessAllowed ? 'block' : 'none';\n",
              "\n",
              "        async function convertToInteractive(key) {\n",
              "          const element = document.querySelector('#df-860f91b2-36fb-4278-8061-523a109c9c4b');\n",
              "          const dataTable =\n",
              "            await google.colab.kernel.invokeFunction('convertToInteractive',\n",
              "                                                     [key], {});\n",
              "          if (!dataTable) return;\n",
              "\n",
              "          const docLinkHtml = 'Like what you see? Visit the ' +\n",
              "            '<a target=\"_blank\" href=https://colab.research.google.com/notebooks/data_table.ipynb>data table notebook</a>'\n",
              "            + ' to learn more about interactive tables.';\n",
              "          element.innerHTML = '';\n",
              "          dataTable['output_type'] = 'display_data';\n",
              "          await google.colab.output.renderOutput(dataTable, element);\n",
              "          const docLink = document.createElement('div');\n",
              "          docLink.innerHTML = docLinkHtml;\n",
              "          element.appendChild(docLink);\n",
              "        }\n",
              "      </script>\n",
              "    </div>\n",
              "  </div>\n",
              "  "
            ]
          },
          "metadata": {},
          "execution_count": 106
        }
      ]
    },
    {
      "cell_type": "markdown",
      "source": [
        "Test The model"
      ],
      "metadata": {
        "id": "YVA8zGOTldEm"
      }
    },
    {
      "cell_type": "code",
      "source": [
        "#give the input first rows model1\n",
        "model1 = model.predict([[0.479035, 0.519579, 0.668942, 0.445833, 0.430980, 0.658683, 0.037105, 0.308885, 0.093446, 0.509717, 0.915286]])"
      ],
      "metadata": {
        "id": "CU_lRKy8YmUU"
      },
      "execution_count": null,
      "outputs": []
    },
    {
      "cell_type": "code",
      "source": [
        "model1"
      ],
      "metadata": {
        "colab": {
          "base_uri": "https://localhost:8080/"
        },
        "outputId": "8fece571-1b80-4b35-a39c-fdf58a6eecb5",
        "id": "fS7irdSuYmUV"
      },
      "execution_count": null,
      "outputs": [
        {
          "output_type": "execute_result",
          "data": {
            "text/plain": [
              "array([[0.]], dtype=float32)"
            ]
          },
          "metadata": {},
          "execution_count": 108
        }
      ]
    },
    {
      "cell_type": "code",
      "source": [
        "for test in model1:\n",
        "  if test < 0.5:\n",
        "    print(\"Normal Class [0]\")\n",
        "  else:\n",
        "    print(\"Anomaly Class [1]\")"
      ],
      "metadata": {
        "colab": {
          "base_uri": "https://localhost:8080/"
        },
        "outputId": "95dda9e6-22d9-4d74-9689-94caec53bb97",
        "id": "tm9hbNF8YmUX"
      },
      "execution_count": null,
      "outputs": [
        {
          "output_type": "stream",
          "name": "stdout",
          "text": [
            "Normal Class [0]\n"
          ]
        }
      ]
    },
    {
      "cell_type": "code",
      "source": [
        "#user give the secound rows of model2\n",
        "model2 = model.predict([[0.479296, 0.516605, 0.668487, 0.445833, 0.430980, 0.658683, 0.527337, 0.406470, 0.409711, 0.520604, 0.898581]])"
      ],
      "metadata": {
        "id": "-KVMqG9DmNeM"
      },
      "execution_count": null,
      "outputs": []
    },
    {
      "cell_type": "code",
      "source": [
        "model2"
      ],
      "metadata": {
        "colab": {
          "base_uri": "https://localhost:8080/"
        },
        "id": "pcVWsgp9mtiD",
        "outputId": "4f79fa47-0e5e-4d0d-b6c7-eead5a08286c"
      },
      "execution_count": null,
      "outputs": [
        {
          "output_type": "execute_result",
          "data": {
            "text/plain": [
              "array([[3.864533e-07]], dtype=float32)"
            ]
          },
          "metadata": {},
          "execution_count": 110
        }
      ]
    },
    {
      "cell_type": "code",
      "source": [
        "for test in model2:\n",
        "  if model2 < 0.5:\n",
        "    print(\"Normal Class [0]\")\n",
        "  else:\n",
        "    print(\"Anomaly Class [1]\")"
      ],
      "metadata": {
        "colab": {
          "base_uri": "https://localhost:8080/"
        },
        "id": "fcyInT1zmtPH",
        "outputId": "0bcf5072-7e9a-4b4f-914f-5c8acec0794d"
      },
      "execution_count": null,
      "outputs": [
        {
          "output_type": "stream",
          "name": "stdout",
          "text": [
            "Normal Class [0]\n"
          ]
        }
      ]
    },
    {
      "cell_type": "code",
      "source": [
        "#user give the third rows of the column\n",
        "model3 = model.predict([[0.441930, 0.492441, 0.641942, 0.445833, 0.432034, 0.658683, 0.579776, 0.395306, 0.466114, 0.367061, 0.709758]])"
      ],
      "metadata": {
        "id": "3O18yvp8nAqR"
      },
      "execution_count": null,
      "outputs": []
    },
    {
      "cell_type": "code",
      "source": [
        "model3"
      ],
      "metadata": {
        "colab": {
          "base_uri": "https://localhost:8080/"
        },
        "id": "PUHSbzxKnte1",
        "outputId": "a1661da6-aa51-4dde-e1f2-8321c7e9dbd3"
      },
      "execution_count": null,
      "outputs": [
        {
          "output_type": "execute_result",
          "data": {
            "text/plain": [
              "array([[5.8194827e-15]], dtype=float32)"
            ]
          },
          "metadata": {},
          "execution_count": 113
        }
      ]
    },
    {
      "cell_type": "code",
      "source": [
        "for test in model3:\n",
        "  if model3 < 0.5:\n",
        "    print(\"Normal Class [0]\")\n",
        "  else:\n",
        "    print(\"Anomaly Class [1]\")"
      ],
      "metadata": {
        "colab": {
          "base_uri": "https://localhost:8080/"
        },
        "id": "_EpTq4bxnxRE",
        "outputId": "bd959bd9-e784-4ce7-c5bd-0ced108f6081"
      },
      "execution_count": null,
      "outputs": [
        {
          "output_type": "stream",
          "name": "stdout",
          "text": [
            "Normal Class [0]\n"
          ]
        }
      ]
    },
    {
      "cell_type": "code",
      "source": [
        "model4 = model.predict([[0.478839, 0.519641, 0.668942, 0.445833, 0.430980, 0.658683, 0.038700, 0.309987, 0.094275, 0.509784, 0.915197]])"
      ],
      "metadata": {
        "id": "mY70DeG2oGhb"
      },
      "execution_count": null,
      "outputs": []
    },
    {
      "cell_type": "code",
      "source": [
        "model4"
      ],
      "metadata": {
        "colab": {
          "base_uri": "https://localhost:8080/"
        },
        "id": "o7Fo7XbIoV4I",
        "outputId": "d9ba7bc3-cfca-45e8-ac7b-719a6e46eece"
      },
      "execution_count": null,
      "outputs": [
        {
          "output_type": "execute_result",
          "data": {
            "text/plain": [
              "array([[0.]], dtype=float32)"
            ]
          },
          "metadata": {},
          "execution_count": 116
        }
      ]
    },
    {
      "cell_type": "code",
      "source": [
        "for test in model4:\n",
        "  if model4 < 0.5:\n",
        "    print(\"Normal Class [0]\")\n",
        "  else:\n",
        "    print(\"Anomaly Class [1]\")"
      ],
      "metadata": {
        "colab": {
          "base_uri": "https://localhost:8080/"
        },
        "id": "uQJBF9SToePp",
        "outputId": "dfbb0fae-c439-494f-d95c-dc0d22dd46e7"
      },
      "execution_count": null,
      "outputs": [
        {
          "output_type": "stream",
          "name": "stdout",
          "text": [
            "Normal Class [0]\n"
          ]
        }
      ]
    },
    {
      "cell_type": "code",
      "source": [
        "model5 = model.predict([[0.482621, 0.519455, 0.668032, 0.445833, 0.430980, 0.658683, 0.519022, 0.377406, 0.394227, 0.529219, 0.920971]])"
      ],
      "metadata": {
        "id": "9MqEGUDwothA"
      },
      "execution_count": null,
      "outputs": []
    },
    {
      "cell_type": "code",
      "source": [
        "model5"
      ],
      "metadata": {
        "colab": {
          "base_uri": "https://localhost:8080/"
        },
        "id": "tAZxJe_So-_S",
        "outputId": "52923810-c250-4e2b-f3df-c49559a81f2a"
      },
      "execution_count": null,
      "outputs": [
        {
          "output_type": "execute_result",
          "data": {
            "text/plain": [
              "array([[5.0635303e-35]], dtype=float32)"
            ]
          },
          "metadata": {},
          "execution_count": 119
        }
      ]
    },
    {
      "cell_type": "code",
      "source": [
        "for test in model5:\n",
        "  if model5 < 0.5:\n",
        "    print(\"Normal Class [0]\")\n",
        "  else:\n",
        "    print(\"Anomaly Class [1]\")"
      ],
      "metadata": {
        "colab": {
          "base_uri": "https://localhost:8080/"
        },
        "id": "xjeCD3FUpDGM",
        "outputId": "82c939ba-be6f-4920-bd54-fe29ff84c0bd"
      },
      "execution_count": null,
      "outputs": [
        {
          "output_type": "stream",
          "name": "stdout",
          "text": [
            "Normal Class [0]\n"
          ]
        }
      ]
    },
    {
      "cell_type": "code",
      "source": [
        "#give the user six the rows of model 6\n",
        "model6 = model.predict([[0.477861, 0.517286, 0.668714, 0.445833, 0.430980, 0.658683, 0.497589, 0.750385, 0.072716, 0.510051, 0.905324]])"
      ],
      "metadata": {
        "id": "zU6-zdMepbMN"
      },
      "execution_count": null,
      "outputs": []
    },
    {
      "cell_type": "code",
      "source": [
        "model6"
      ],
      "metadata": {
        "colab": {
          "base_uri": "https://localhost:8080/"
        },
        "id": "YOL4LKf_p5GE",
        "outputId": "0fa96bf8-0074-4828-a185-66ab72c6db4e"
      },
      "execution_count": null,
      "outputs": [
        {
          "output_type": "execute_result",
          "data": {
            "text/plain": [
              "array([[2.02606e-37]], dtype=float32)"
            ]
          },
          "metadata": {},
          "execution_count": 122
        }
      ]
    },
    {
      "cell_type": "code",
      "source": [
        "for test in model6:\n",
        "  if model6 < 0.5:\n",
        "    print(\"Normal Class [0]\")\n",
        "  else:\n",
        "    print(\"Anomaly Class [1]\")"
      ],
      "metadata": {
        "colab": {
          "base_uri": "https://localhost:8080/"
        },
        "id": "Uw5lLOXRp4bs",
        "outputId": "17b22153-e45b-4243-a1b3-9d2cf6f29938"
      },
      "execution_count": null,
      "outputs": [
        {
          "output_type": "stream",
          "name": "stdout",
          "text": [
            "Normal Class [0]\n"
          ]
        }
      ]
    },
    {
      "cell_type": "code",
      "source": [
        "model7 = model.predict([[0.371177, 0.514684, 0.535229, 0.547222, 0.350896, 0.766467, 0.631595, 0.373311, 0.505773, 0.275429, 0.497091]])"
      ],
      "metadata": {
        "id": "Ehdxg8vSqjYx"
      },
      "execution_count": null,
      "outputs": []
    },
    {
      "cell_type": "code",
      "source": [
        "model7"
      ],
      "metadata": {
        "colab": {
          "base_uri": "https://localhost:8080/"
        },
        "id": "ALxrhsE-q8E8",
        "outputId": "2c42bbc7-ae37-4545-d4f5-9e65e086b284"
      },
      "execution_count": null,
      "outputs": [
        {
          "output_type": "execute_result",
          "data": {
            "text/plain": [
              "array([[0.9902201]], dtype=float32)"
            ]
          },
          "metadata": {},
          "execution_count": 126
        }
      ]
    },
    {
      "cell_type": "code",
      "source": [
        "for test in model7:\n",
        "  if model7 < 0.5:\n",
        "    print(\"Normal Class [0]\")\n",
        "  else:\n",
        "    print(\"Anomaly Class [1]\")"
      ],
      "metadata": {
        "colab": {
          "base_uri": "https://localhost:8080/"
        },
        "id": "HjMbpej9rCgm",
        "outputId": "795d7eea-d6d0-4d40-eb09-28e2fac386c4"
      },
      "execution_count": null,
      "outputs": [
        {
          "output_type": "stream",
          "name": "stdout",
          "text": [
            "Anomaly Class [1]\n"
          ]
        }
      ]
    },
    {
      "cell_type": "code",
      "source": [
        "model8 = model.predict([[0.597000, 0.343556, 0.655973, 0.431944, 0.448894, 0.675649, 0.634148, 0.374808, 0.510748, 0.295265, 0.491493]])"
      ],
      "metadata": {
        "id": "8zZ92mocrCKP"
      },
      "execution_count": null,
      "outputs": []
    },
    {
      "cell_type": "code",
      "source": [
        "model8"
      ],
      "metadata": {
        "colab": {
          "base_uri": "https://localhost:8080/"
        },
        "id": "R1lxLXXsrZcY",
        "outputId": "53505590-0f24-4004-8a28-fc5a31c59097"
      },
      "execution_count": null,
      "outputs": [
        {
          "output_type": "execute_result",
          "data": {
            "text/plain": [
              "array([[0.999193]], dtype=float32)"
            ]
          },
          "metadata": {},
          "execution_count": 129
        }
      ]
    },
    {
      "cell_type": "code",
      "source": [
        "for test in model8:\n",
        "  if model8 < 0.5:\n",
        "    print(\"Normal Class [0]\")\n",
        "  else:\n",
        "    print(\"Anomaly Class [1]\")"
      ],
      "metadata": {
        "colab": {
          "base_uri": "https://localhost:8080/"
        },
        "id": "UadoxK7Tre9o",
        "outputId": "b27e6b63-b51b-4a41-b985-06194826517a"
      },
      "execution_count": null,
      "outputs": [
        {
          "output_type": "stream",
          "name": "stdout",
          "text": [
            "Anomaly Class [1]\n"
          ]
        }
      ]
    },
    {
      "cell_type": "code",
      "source": [
        "model9 = model.predict([[0.597000, 0.343556, 0.655973, 0.431944, 0.448894, 0.675649, 0.634148, 0.374808, 0.510748, 0.295265, 0.491493]])"
      ],
      "metadata": {
        "id": "g89Jyy_Drkjj"
      },
      "execution_count": null,
      "outputs": []
    },
    {
      "cell_type": "code",
      "source": [
        "model9"
      ],
      "metadata": {
        "colab": {
          "base_uri": "https://localhost:8080/"
        },
        "id": "_QWSnBiTr7t0",
        "outputId": "f867dc3c-eabc-415a-f9f7-1e9c97aad18e"
      },
      "execution_count": null,
      "outputs": [
        {
          "output_type": "execute_result",
          "data": {
            "text/plain": [
              "array([[0.999193]], dtype=float32)"
            ]
          },
          "metadata": {},
          "execution_count": 132
        }
      ]
    },
    {
      "cell_type": "code",
      "source": [
        "for test in model9:\n",
        "  if model9 < 0.5:\n",
        "    print(\"Normal Class [0]\")\n",
        "  else:\n",
        "    print(\"Anomaly Class [1]\")"
      ],
      "metadata": {
        "colab": {
          "base_uri": "https://localhost:8080/"
        },
        "id": "RgLFJQ3gsA0G",
        "outputId": "49111c69-a77d-4e98-d0d1-3bdf355056b5"
      },
      "execution_count": null,
      "outputs": [
        {
          "output_type": "stream",
          "name": "stdout",
          "text": [
            "Anomaly Class [1]\n"
          ]
        }
      ]
    },
    {
      "cell_type": "code",
      "source": [
        "model10 = model.predict([[0.597000, 0.343556, 0.655973, 0.431944, 0.448894, 0.675649, 0.634148, 0.374808, 0.510748, 0.295265, 0.491493]])"
      ],
      "metadata": {
        "id": "o7OjECp4sKEB"
      },
      "execution_count": null,
      "outputs": []
    },
    {
      "cell_type": "code",
      "source": [
        "model10"
      ],
      "metadata": {
        "colab": {
          "base_uri": "https://localhost:8080/"
        },
        "id": "AhmJIdYesJi5",
        "outputId": "6dd8f122-e8ca-4bea-b508-e828fcb97304"
      },
      "execution_count": null,
      "outputs": [
        {
          "output_type": "execute_result",
          "data": {
            "text/plain": [
              "array([[0.999193]], dtype=float32)"
            ]
          },
          "metadata": {},
          "execution_count": 135
        }
      ]
    },
    {
      "cell_type": "code",
      "source": [
        "for test in model10:\n",
        "  if model10 < 0.5:\n",
        "    print(\"Normal Class [0]\")\n",
        "  else:\n",
        "    print(\"Anomaly Class [1]\")"
      ],
      "metadata": {
        "colab": {
          "base_uri": "https://localhost:8080/"
        },
        "id": "t3XlKUz9sdut",
        "outputId": "9ebc6f30-3889-47f0-a4a0-275d26b65dc0"
      },
      "execution_count": null,
      "outputs": [
        {
          "output_type": "stream",
          "name": "stdout",
          "text": [
            "Anomaly Class [1]\n"
          ]
        }
      ]
    },
    {
      "cell_type": "markdown",
      "source": [
        "Model_4"
      ],
      "metadata": {
        "id": "iFIlVQ18OJxM"
      }
    },
    {
      "cell_type": "code",
      "source": [
        "from keras.models import Sequential\n",
        "from keras.layers import Dense"
      ],
      "metadata": {
        "id": "ggfL99guskGt"
      },
      "execution_count": 39,
      "outputs": []
    },
    {
      "cell_type": "code",
      "source": [
        "model = Sequential([\n",
        "    Dense(16, activation='relu', input_shape=(11,)),\n",
        "    Dense(16, activation='relu'),\n",
        "\n",
        "    Dense(1, activation='sigmoid'),\n",
        "])"
      ],
      "metadata": {
        "id": "XlRtov5cOqu9"
      },
      "execution_count": 45,
      "outputs": []
    },
    {
      "cell_type": "code",
      "source": [
        "model.compile(optimizer='sgd', loss='binary_crossentropy', metrics=['accuracy'])"
      ],
      "metadata": {
        "id": "zbnjm3_AOqvA"
      },
      "execution_count": 46,
      "outputs": []
    },
    {
      "cell_type": "code",
      "source": [
        "hist_4 = model.fit(X_train, Y_train, batch_size=16, epochs=50, validation_data=(X_val, Y_val))"
      ],
      "metadata": {
        "colab": {
          "base_uri": "https://localhost:8080/"
        },
        "outputId": "cd4bed61-887a-4f0c-f8cc-6f8c906711db",
        "id": "llMweEYcOqvC"
      },
      "execution_count": 47,
      "outputs": [
        {
          "output_type": "stream",
          "name": "stdout",
          "text": [
            "Epoch 1/50\n",
            "1750/1750 [==============================] - 5s 3ms/step - loss: 0.5665 - accuracy: 0.7642 - val_loss: 0.4447 - val_accuracy: 0.7513\n",
            "Epoch 2/50\n",
            "1750/1750 [==============================] - 4s 2ms/step - loss: 0.3886 - accuracy: 0.8129 - val_loss: 0.3592 - val_accuracy: 0.8093\n",
            "Epoch 3/50\n",
            "1750/1750 [==============================] - 4s 2ms/step - loss: 0.3424 - accuracy: 0.8650 - val_loss: 0.3359 - val_accuracy: 0.8792\n",
            "Epoch 4/50\n",
            "1750/1750 [==============================] - 4s 2ms/step - loss: 0.3223 - accuracy: 0.8885 - val_loss: 0.3086 - val_accuracy: 0.9037\n",
            "Epoch 5/50\n",
            "1750/1750 [==============================] - 4s 2ms/step - loss: 0.2998 - accuracy: 0.8977 - val_loss: 0.2940 - val_accuracy: 0.9007\n",
            "Epoch 6/50\n",
            "1750/1750 [==============================] - 4s 2ms/step - loss: 0.2861 - accuracy: 0.9032 - val_loss: 0.2811 - val_accuracy: 0.9068\n",
            "Epoch 7/50\n",
            "1750/1750 [==============================] - 4s 2ms/step - loss: 0.2738 - accuracy: 0.9085 - val_loss: 0.2681 - val_accuracy: 0.9157\n",
            "Epoch 8/50\n",
            "1750/1750 [==============================] - 4s 2ms/step - loss: 0.2621 - accuracy: 0.9103 - val_loss: 0.2672 - val_accuracy: 0.9097\n",
            "Epoch 9/50\n",
            "1750/1750 [==============================] - 4s 2ms/step - loss: 0.2516 - accuracy: 0.9144 - val_loss: 0.2547 - val_accuracy: 0.9145\n",
            "Epoch 10/50\n",
            "1750/1750 [==============================] - 4s 2ms/step - loss: 0.2415 - accuracy: 0.9187 - val_loss: 0.2412 - val_accuracy: 0.9180\n",
            "Epoch 11/50\n",
            "1750/1750 [==============================] - 4s 2ms/step - loss: 0.2311 - accuracy: 0.9223 - val_loss: 0.2287 - val_accuracy: 0.9222\n",
            "Epoch 12/50\n",
            "1750/1750 [==============================] - 4s 2ms/step - loss: 0.2223 - accuracy: 0.9243 - val_loss: 0.2190 - val_accuracy: 0.9315\n",
            "Epoch 13/50\n",
            "1750/1750 [==============================] - 4s 2ms/step - loss: 0.2144 - accuracy: 0.9261 - val_loss: 0.2092 - val_accuracy: 0.9322\n",
            "Epoch 14/50\n",
            "1750/1750 [==============================] - 4s 2ms/step - loss: 0.2084 - accuracy: 0.9274 - val_loss: 0.2127 - val_accuracy: 0.9220\n",
            "Epoch 15/50\n",
            "1750/1750 [==============================] - 4s 2ms/step - loss: 0.2014 - accuracy: 0.9290 - val_loss: 0.2098 - val_accuracy: 0.9215\n",
            "Epoch 16/50\n",
            "1750/1750 [==============================] - 4s 2ms/step - loss: 0.1949 - accuracy: 0.9304 - val_loss: 0.1903 - val_accuracy: 0.9390\n",
            "Epoch 17/50\n",
            "1750/1750 [==============================] - 4s 2ms/step - loss: 0.1899 - accuracy: 0.9299 - val_loss: 0.1867 - val_accuracy: 0.9378\n",
            "Epoch 18/50\n",
            "1750/1750 [==============================] - 4s 2ms/step - loss: 0.1825 - accuracy: 0.9327 - val_loss: 0.1966 - val_accuracy: 0.9353\n",
            "Epoch 19/50\n",
            "1750/1750 [==============================] - 4s 2ms/step - loss: 0.1754 - accuracy: 0.9350 - val_loss: 0.1699 - val_accuracy: 0.9388\n",
            "Epoch 20/50\n",
            "1750/1750 [==============================] - 4s 2ms/step - loss: 0.1689 - accuracy: 0.9365 - val_loss: 0.1628 - val_accuracy: 0.9392\n",
            "Epoch 21/50\n",
            "1750/1750 [==============================] - 4s 2ms/step - loss: 0.1587 - accuracy: 0.9388 - val_loss: 0.1687 - val_accuracy: 0.9433\n",
            "Epoch 22/50\n",
            "1750/1750 [==============================] - 5s 3ms/step - loss: 0.1501 - accuracy: 0.9427 - val_loss: 0.1946 - val_accuracy: 0.8945\n",
            "Epoch 23/50\n",
            "1750/1750 [==============================] - 4s 2ms/step - loss: 0.1396 - accuracy: 0.9480 - val_loss: 0.1810 - val_accuracy: 0.9080\n",
            "Epoch 24/50\n",
            "1750/1750 [==============================] - 4s 2ms/step - loss: 0.1299 - accuracy: 0.9534 - val_loss: 0.1206 - val_accuracy: 0.9587\n",
            "Epoch 25/50\n",
            "1750/1750 [==============================] - 4s 2ms/step - loss: 0.1199 - accuracy: 0.9578 - val_loss: 0.1119 - val_accuracy: 0.9653\n",
            "Epoch 26/50\n",
            "1750/1750 [==============================] - 4s 2ms/step - loss: 0.1119 - accuracy: 0.9620 - val_loss: 0.1069 - val_accuracy: 0.9603\n",
            "Epoch 27/50\n",
            "1750/1750 [==============================] - 4s 2ms/step - loss: 0.1065 - accuracy: 0.9645 - val_loss: 0.1053 - val_accuracy: 0.9613\n",
            "Epoch 28/50\n",
            "1750/1750 [==============================] - 6s 3ms/step - loss: 0.0998 - accuracy: 0.9676 - val_loss: 0.1013 - val_accuracy: 0.9622\n",
            "Epoch 29/50\n",
            "1750/1750 [==============================] - 5s 3ms/step - loss: 0.0953 - accuracy: 0.9700 - val_loss: 0.1391 - val_accuracy: 0.9330\n",
            "Epoch 30/50\n",
            "1750/1750 [==============================] - 4s 2ms/step - loss: 0.0910 - accuracy: 0.9716 - val_loss: 0.0846 - val_accuracy: 0.9788\n",
            "Epoch 31/50\n",
            "1750/1750 [==============================] - 4s 2ms/step - loss: 0.0885 - accuracy: 0.9736 - val_loss: 0.0863 - val_accuracy: 0.9737\n",
            "Epoch 32/50\n",
            "1750/1750 [==============================] - 4s 2ms/step - loss: 0.0845 - accuracy: 0.9750 - val_loss: 0.1100 - val_accuracy: 0.9513\n",
            "Epoch 33/50\n",
            "1750/1750 [==============================] - 4s 2ms/step - loss: 0.0812 - accuracy: 0.9766 - val_loss: 0.0759 - val_accuracy: 0.9807\n",
            "Epoch 34/50\n",
            "1750/1750 [==============================] - 4s 2ms/step - loss: 0.0776 - accuracy: 0.9786 - val_loss: 0.0735 - val_accuracy: 0.9808\n",
            "Epoch 35/50\n",
            "1750/1750 [==============================] - 4s 2ms/step - loss: 0.0752 - accuracy: 0.9788 - val_loss: 0.0708 - val_accuracy: 0.9820\n",
            "Epoch 36/50\n",
            "1750/1750 [==============================] - 4s 2ms/step - loss: 0.0737 - accuracy: 0.9797 - val_loss: 0.0806 - val_accuracy: 0.9760\n",
            "Epoch 37/50\n",
            "1750/1750 [==============================] - 4s 2ms/step - loss: 0.0711 - accuracy: 0.9804 - val_loss: 0.0822 - val_accuracy: 0.9800\n",
            "Epoch 38/50\n",
            "1750/1750 [==============================] - 4s 2ms/step - loss: 0.0688 - accuracy: 0.9815 - val_loss: 0.0807 - val_accuracy: 0.9828\n",
            "Epoch 39/50\n",
            "1750/1750 [==============================] - 4s 2ms/step - loss: 0.0682 - accuracy: 0.9813 - val_loss: 0.0652 - val_accuracy: 0.9808\n",
            "Epoch 40/50\n",
            "1750/1750 [==============================] - 4s 2ms/step - loss: 0.0657 - accuracy: 0.9820 - val_loss: 0.0641 - val_accuracy: 0.9828\n",
            "Epoch 41/50\n",
            "1750/1750 [==============================] - 4s 2ms/step - loss: 0.0639 - accuracy: 0.9826 - val_loss: 0.0610 - val_accuracy: 0.9823\n",
            "Epoch 42/50\n",
            "1750/1750 [==============================] - 4s 2ms/step - loss: 0.0636 - accuracy: 0.9824 - val_loss: 0.0625 - val_accuracy: 0.9843\n",
            "Epoch 43/50\n",
            "1750/1750 [==============================] - 4s 2ms/step - loss: 0.0621 - accuracy: 0.9835 - val_loss: 0.0747 - val_accuracy: 0.9807\n",
            "Epoch 44/50\n",
            "1750/1750 [==============================] - 4s 2ms/step - loss: 0.0602 - accuracy: 0.9845 - val_loss: 0.0593 - val_accuracy: 0.9843\n",
            "Epoch 45/50\n",
            "1750/1750 [==============================] - 4s 2ms/step - loss: 0.0592 - accuracy: 0.9842 - val_loss: 0.0574 - val_accuracy: 0.9840\n",
            "Epoch 46/50\n",
            "1750/1750 [==============================] - 4s 2ms/step - loss: 0.0574 - accuracy: 0.9848 - val_loss: 0.0573 - val_accuracy: 0.9850\n",
            "Epoch 47/50\n",
            "1750/1750 [==============================] - 4s 2ms/step - loss: 0.0567 - accuracy: 0.9853 - val_loss: 0.0567 - val_accuracy: 0.9883\n",
            "Epoch 48/50\n",
            "1750/1750 [==============================] - 4s 2ms/step - loss: 0.0560 - accuracy: 0.9857 - val_loss: 0.0620 - val_accuracy: 0.9865\n",
            "Epoch 49/50\n",
            "1750/1750 [==============================] - 4s 2ms/step - loss: 0.0546 - accuracy: 0.9859 - val_loss: 0.0755 - val_accuracy: 0.9777\n",
            "Epoch 50/50\n",
            "1750/1750 [==============================] - 4s 2ms/step - loss: 0.0537 - accuracy: 0.9861 - val_loss: 0.0960 - val_accuracy: 0.9580\n"
          ]
        }
      ]
    },
    {
      "cell_type": "code",
      "source": [
        "# summarize history for accuracy\n",
        "plt.plot(hist_4.history['accuracy'])\n",
        "plt.plot(hist_4.history['val_accuracy'])\n",
        "plt.title('Model accuracy')\n",
        "plt.ylabel('Accuracy')\n",
        "plt.xlabel('Epochs')\n",
        "plt.legend(['train', 'valid'], loc='upper left')\n",
        "plt.show()"
      ],
      "metadata": {
        "colab": {
          "base_uri": "https://localhost:8080/",
          "height": 295
        },
        "id": "RVvIvOm7O5ac",
        "outputId": "16a2ca7a-2874-45e8-d41b-3d637435d25a"
      },
      "execution_count": 48,
      "outputs": [
        {
          "output_type": "display_data",
          "data": {
            "text/plain": [
              "<Figure size 432x288 with 1 Axes>"
            ],
            "image/png": "[encoded data removed]"
          },
          "metadata": {
            "needs_background": "light"
          }
        }
      ]
    },
    {
      "cell_type": "code",
      "source": [
        "# summarize history for loss\n",
        "plt.plot(hist_4.history['loss'])\n",
        "plt.plot(hist_4.history['val_loss'])\n",
        "plt.title('Model loss')\n",
        "plt.ylabel('Loss')\n",
        "plt.xlabel('Epochs')\n",
        "plt.legend(['train', 'valid'], loc='upper left')\n",
        "plt.show()"
      ],
      "metadata": {
        "colab": {
          "base_uri": "https://localhost:8080/",
          "height": 295
        },
        "id": "d62sVEbXPYqL",
        "outputId": "6347ef04-e744-4176-cc34-e1776db30f3e"
      },
      "execution_count": 49,
      "outputs": [
        {
          "output_type": "display_data",
          "data": {
            "text/plain": [
              "<Figure size 432x288 with 1 Axes>"
            ],
            "image/png": "[encoded data removed]"
          },
          "metadata": {
            "needs_background": "light"
          }
        }
      ]
    },
    {
      "cell_type": "markdown",
      "source": [
        "How to save the model"
      ],
      "metadata": {
        "id": "xhlD_pHSUXZ_"
      }
    },
    {
      "cell_type": "code",
      "source": [
        "model.save('best_model4.h5')"
      ],
      "metadata": {
        "id": "8bP1cU5MUVi0"
      },
      "execution_count": 53,
      "outputs": []
    },
    {
      "cell_type": "code",
      "source": [
        "from sklearn.metrics import accuracy_score"
      ],
      "metadata": {
        "id": "dzl2A852UVi3"
      },
      "execution_count": 54,
      "outputs": []
    },
    {
      "cell_type": "code",
      "source": [
        "model.load_weights(\"/content/best_model4.h5\")"
      ],
      "metadata": {
        "id": "YM9AMzWtUVi6"
      },
      "execution_count": 55,
      "outputs": []
    },
    {
      "cell_type": "code",
      "source": [
        "y_pred = model.predict(X_test)"
      ],
      "metadata": {
        "id": "JRENUzc2UVi-"
      },
      "execution_count": 56,
      "outputs": []
    },
    {
      "cell_type": "code",
      "source": [
        "y_pred"
      ],
      "metadata": {
        "colab": {
          "base_uri": "https://localhost:8080/"
        },
        "outputId": "8483fa99-e6fb-4b35-d1e2-ab7d76b4c616",
        "id": "WhVIc4MGUVjA"
      },
      "execution_count": 57,
      "outputs": [
        {
          "output_type": "execute_result",
          "data": {
            "text/plain": [
              "array([[0.942756  ],\n",
              "       [0.9922023 ],\n",
              "       [0.00975534],\n",
              "       ...,\n",
              "       [0.9996402 ],\n",
              "       [0.99521196],\n",
              "       [0.99995625]], dtype=float32)"
            ]
          },
          "metadata": {},
          "execution_count": 57
        }
      ]
    },
    {
      "cell_type": "code",
      "source": [
        "# extract the predicted probabilities\n",
        "p_pred = model.predict(X_test)\n",
        "p_pred = p_pred.flatten()\n",
        "print(p_pred.round(2))"
      ],
      "metadata": {
        "colab": {
          "base_uri": "https://localhost:8080/"
        },
        "outputId": "a48433b1-c861-4d73-eb44-52af5b9e2549",
        "id": "oS4WhTeDVlAd"
      },
      "execution_count": 58,
      "outputs": [
        {
          "output_type": "stream",
          "name": "stdout",
          "text": [
            "[0.94 0.99 0.01 ... 1.   1.   1.  ]\n"
          ]
        }
      ]
    },
    {
      "cell_type": "code",
      "source": [
        "# extract the predicted class labels\n",
        "y_pred = np.where(p_pred > 0.5, 1, 0)\n",
        "print(y_pred)"
      ],
      "metadata": {
        "colab": {
          "base_uri": "https://localhost:8080/"
        },
        "outputId": "700aac71-4d7f-466e-d90b-10e20cde9e00",
        "id": "5tf9O-sFVlAh"
      },
      "execution_count": 59,
      "outputs": [
        {
          "output_type": "stream",
          "name": "stdout",
          "text": [
            "[1 1 0 ... 1 1 1]\n"
          ]
        }
      ]
    },
    {
      "cell_type": "code",
      "source": [
        "from sklearn.metrics import confusion_matrix\n",
        "print(confusion_matrix(Y_test, y_pred))"
      ],
      "metadata": {
        "colab": {
          "base_uri": "https://localhost:8080/"
        },
        "outputId": "20e6ce84-47ad-40d7-f06d-91e42f0f1ded",
        "id": "gIui7XdJVlAj"
      },
      "execution_count": 60,
      "outputs": [
        {
          "output_type": "stream",
          "name": "stdout",
          "text": [
            "[[2941   14]\n",
            " [ 250 2795]]\n"
          ]
        }
      ]
    },
    {
      "cell_type": "code",
      "source": [
        "from sklearn.metrics import confusion_matrix, classification_report, accuracy_score\n",
        "print(classification_report(Y_test, y_pred))"
      ],
      "metadata": {
        "colab": {
          "base_uri": "https://localhost:8080/"
        },
        "outputId": "cdb12d83-1355-4f3b-8c32-e57d463dd170",
        "id": "1qg-oGSiVlAk"
      },
      "execution_count": 61,
      "outputs": [
        {
          "output_type": "stream",
          "name": "stdout",
          "text": [
            "              precision    recall  f1-score   support\n",
            "\n",
            "           0       0.92      1.00      0.96      2955\n",
            "           1       1.00      0.92      0.95      3045\n",
            "\n",
            "    accuracy                           0.96      6000\n",
            "   macro avg       0.96      0.96      0.96      6000\n",
            "weighted avg       0.96      0.96      0.96      6000\n",
            "\n"
          ]
        }
      ]
    },
    {
      "cell_type": "code",
      "source": [
        "from sklearn.metrics import confusion_matrix\n",
        "import itertools \n",
        "def plot_confusion_matrix(cm, classes,\n",
        "                          normalize=False,\n",
        "                          title='Confusion matrix',\n",
        "                          cmap=plt.cm.Blues):\n",
        "\n",
        "    if normalize:\n",
        "        cm = cm.astype('float') / cm.sum(axis=1)[:, np.newaxis]\n",
        "        print(\"Normalized confusion matrix\")\n",
        "    else:\n",
        "        print('Confusion matrix, without normalization')\n",
        "\n",
        "    print(cm)\n",
        "\n",
        "    plt.imshow(cm, interpolation='nearest', cmap=cmap)\n",
        "    plt.title(title)\n",
        "    plt.colorbar()\n",
        "    tick_marks = np.arange(len(classes))\n",
        "    plt.xticks(tick_marks, classes, rotation=55)\n",
        "    plt.yticks(tick_marks, classes)\n",
        "\n",
        "    fmt = '.2f' if normalize else 'd'\n",
        "    thresh = cm.max() / 2.\n",
        "    for i, j in itertools.product(range(cm.shape[0]), range(cm.shape[1])):\n",
        "        plt.text(j, i, format(cm[i, j], fmt),\n",
        "                 horizontalalignment=\"center\",\n",
        "                 color=\"white\" if cm[i, j] > thresh else \"black\")\n",
        "\n",
        "    plt.ylabel('True label')\n",
        "    plt.xlabel('Predicted label')\n",
        "    plt.tight_layout()\n",
        "\n",
        "cm = confusion_matrix(Y_test, y_pred)\n",
        "\n",
        "cm_plot_label =['0', '1']\n",
        "plot_confusion_matrix(cm, cm_plot_label, title ='Confusion For time series data set')"
      ],
      "metadata": {
        "colab": {
          "base_uri": "https://localhost:8080/",
          "height": 349
        },
        "outputId": "1d8fca5b-5fd2-462b-a655-d2da20188063",
        "id": "vldRfYlEVlAm"
      },
      "execution_count": 62,
      "outputs": [
        {
          "output_type": "stream",
          "name": "stdout",
          "text": [
            "Confusion matrix, without normalization\n",
            "[[2941   14]\n",
            " [ 250 2795]]\n"
          ]
        },
        {
          "output_type": "display_data",
          "data": {
            "text/plain": [
              "<Figure size 432x288 with 2 Axes>"
            ],
            "image/png": "[encoded data removed]"
          },
          "metadata": {
            "needs_background": "light"
          }
        }
      ]
    },
    {
      "cell_type": "markdown",
      "source": [
        "model evalution"
      ],
      "metadata": {
        "id": "rvHy3zkybwcn"
      }
    },
    {
      "cell_type": "code",
      "source": [
        "_, accuracy = model.evaluate(X_train, Y_train)\n",
        "print(\"Model accuracy: %.2f\"% (accuracy*100))"
      ],
      "metadata": {
        "colab": {
          "base_uri": "https://localhost:8080/"
        },
        "outputId": "f1f4cea3-2a04-41db-ffb9-dcf31fd821da",
        "id": "U407ldw6S2nl"
      },
      "execution_count": 63,
      "outputs": [
        {
          "output_type": "stream",
          "name": "stdout",
          "text": [
            "875/875 [==============================] - 3s 4ms/step - loss: 0.0945 - accuracy: 0.9591\n",
            "Model accuracy: 95.91\n"
          ]
        }
      ]
    },
    {
      "cell_type": "code",
      "source": [
        "_, accuracy = model.evaluate(X_val, Y_val)\n",
        "print(\"Model accuracy: %.2f\"% (accuracy*100))"
      ],
      "metadata": {
        "colab": {
          "base_uri": "https://localhost:8080/"
        },
        "outputId": "7774c8a3-21f2-47f0-ac0e-66010ce27ccd",
        "id": "_lFH3zKfS2nn"
      },
      "execution_count": 64,
      "outputs": [
        {
          "output_type": "stream",
          "name": "stdout",
          "text": [
            "188/188 [==============================] - 0s 2ms/step - loss: 0.0960 - accuracy: 0.9580\n",
            "Model accuracy: 95.80\n"
          ]
        }
      ]
    },
    {
      "cell_type": "code",
      "source": [
        "X_train.head(10)"
      ],
      "metadata": {
        "colab": {
          "base_uri": "https://localhost:8080/",
          "height": 363
        },
        "outputId": "c9eab28a-7881-49cc-9127-8f35f6cb8d75",
        "id": "nsZjiBcbS2np"
      },
      "execution_count": 65,
      "outputs": [
        {
          "output_type": "execute_result",
          "data": {
            "text/plain": [
              "             v1        v2        v3        v4        v5        v6        v7  \\\n",
              "39280  0.446337  0.462825  0.513386  0.471233  0.469983  0.710579  0.552090   \n",
              "5058   0.483131  0.518030  0.669170  0.453425  0.500000  0.658683  0.504190   \n",
              "12567  0.430605  0.479554  0.587637  0.453425  0.500000  0.658683  0.562039   \n",
              "29252  0.411298  0.494114  0.494881  0.535616  0.458834  0.761477  0.555504   \n",
              "22946  0.446727  0.502107  0.560865  0.502740  0.469125  0.792415  0.560797   \n",
              "6271   0.464344  0.385998  0.539704  0.524658  0.403945  0.598802  0.471067   \n",
              "16987  0.430475  0.480359  0.587562  0.456164  0.500000  0.658683  0.564522   \n",
              "39041  0.555353  0.435378  0.566629  0.408219  0.559177  0.630739  0.563901   \n",
              "34331  0.408958  0.468773  0.498900  0.591781  0.427959  0.763473  0.617405   \n",
              "15023  0.430995  0.479864  0.590368  0.453425  0.500000  0.659681  0.563591   \n",
              "\n",
              "             v8        v9       v10       v11  \n",
              "39280  0.403403  0.561469  0.340367  0.455101  \n",
              "5058   0.372641  0.402873  0.546852  0.854341  \n",
              "12567  0.407553  0.574132  0.357894  0.434251  \n",
              "29252  0.407135  0.561139  0.338816  0.437802  \n",
              "22946  0.405860  0.563870  0.333423  0.446266  \n",
              "6271   0.361653  0.544284  0.736484  0.338838  \n",
              "16987  0.397584  0.567488  0.356546  0.434664  \n",
              "39041  0.405860  0.563278  0.330457  0.439123  \n",
              "34331  0.416269  0.544424  0.301604  0.475579  \n",
              "15023  0.404632  0.564774  0.356276  0.440073  "
            ],
            "text/html": [
              "\n",
              "  <div id=\"df-8304870b-08cd-4508-a8f5-f85e2a503992\">\n",
              "    <div class=\"colab-df-container\">\n",
              "      <div>\n",
              "<style scoped>\n",
              "    .dataframe tbody tr th:only-of-type {\n",
              "        vertical-align: middle;\n",
              "    }\n",
              "\n",
              "    .dataframe tbody tr th {\n",
              "        vertical-align: top;\n",
              "    }\n",
              "\n",
              "    .dataframe thead th {\n",
              "        text-align: right;\n",
              "    }\n",
              "</style>\n",
              "<table border=\"1\" class=\"dataframe\">\n",
              "  <thead>\n",
              "    <tr style=\"text-align: right;\">\n",
              "      <th></th>\n",
              "      <th>v1</th>\n",
              "      <th>v2</th>\n",
              "      <th>v3</th>\n",
              "      <th>v4</th>\n",
              "      <th>v5</th>\n",
              "      <th>v6</th>\n",
              "      <th>v7</th>\n",
              "      <th>v8</th>\n",
              "      <th>v9</th>\n",
              "      <th>v10</th>\n",
              "      <th>v11</th>\n",
              "    </tr>\n",
              "  </thead>\n",
              "  <tbody>\n",
              "    <tr>\n",
              "      <th>39280</th>\n",
              "      <td>0.446337</td>\n",
              "      <td>0.462825</td>\n",
              "      <td>0.513386</td>\n",
              "      <td>0.471233</td>\n",
              "      <td>0.469983</td>\n",
              "      <td>0.710579</td>\n",
              "      <td>0.552090</td>\n",
              "      <td>0.403403</td>\n",
              "      <td>0.561469</td>\n",
              "      <td>0.340367</td>\n",
              "      <td>0.455101</td>\n",
              "    </tr>\n",
              "    <tr>\n",
              "      <th>5058</th>\n",
              "      <td>0.483131</td>\n",
              "      <td>0.518030</td>\n",
              "      <td>0.669170</td>\n",
              "      <td>0.453425</td>\n",
              "      <td>0.500000</td>\n",
              "      <td>0.658683</td>\n",
              "      <td>0.504190</td>\n",
              "      <td>0.372641</td>\n",
              "      <td>0.402873</td>\n",
              "      <td>0.546852</td>\n",
              "      <td>0.854341</td>\n",
              "    </tr>\n",
              "    <tr>\n",
              "      <th>12567</th>\n",
              "      <td>0.430605</td>\n",
              "      <td>0.479554</td>\n",
              "      <td>0.587637</td>\n",
              "      <td>0.453425</td>\n",
              "      <td>0.500000</td>\n",
              "      <td>0.658683</td>\n",
              "      <td>0.562039</td>\n",
              "      <td>0.407553</td>\n",
              "      <td>0.574132</td>\n",
              "      <td>0.357894</td>\n",
              "      <td>0.434251</td>\n",
              "    </tr>\n",
              "    <tr>\n",
              "      <th>29252</th>\n",
              "      <td>0.411298</td>\n",
              "      <td>0.494114</td>\n",
              "      <td>0.494881</td>\n",
              "      <td>0.535616</td>\n",
              "      <td>0.458834</td>\n",
              "      <td>0.761477</td>\n",
              "      <td>0.555504</td>\n",
              "      <td>0.407135</td>\n",
              "      <td>0.561139</td>\n",
              "      <td>0.338816</td>\n",
              "      <td>0.437802</td>\n",
              "    </tr>\n",
              "    <tr>\n",
              "      <th>22946</th>\n",
              "      <td>0.446727</td>\n",
              "      <td>0.502107</td>\n",
              "      <td>0.560865</td>\n",
              "      <td>0.502740</td>\n",
              "      <td>0.469125</td>\n",
              "      <td>0.792415</td>\n",
              "      <td>0.560797</td>\n",
              "      <td>0.405860</td>\n",
              "      <td>0.563870</td>\n",
              "      <td>0.333423</td>\n",
              "      <td>0.446266</td>\n",
              "    </tr>\n",
              "    <tr>\n",
              "      <th>6271</th>\n",
              "      <td>0.464344</td>\n",
              "      <td>0.385998</td>\n",
              "      <td>0.539704</td>\n",
              "      <td>0.524658</td>\n",
              "      <td>0.403945</td>\n",
              "      <td>0.598802</td>\n",
              "      <td>0.471067</td>\n",
              "      <td>0.361653</td>\n",
              "      <td>0.544284</td>\n",
              "      <td>0.736484</td>\n",
              "      <td>0.338838</td>\n",
              "    </tr>\n",
              "    <tr>\n",
              "      <th>16987</th>\n",
              "      <td>0.430475</td>\n",
              "      <td>0.480359</td>\n",
              "      <td>0.587562</td>\n",
              "      <td>0.456164</td>\n",
              "      <td>0.500000</td>\n",
              "      <td>0.658683</td>\n",
              "      <td>0.564522</td>\n",
              "      <td>0.397584</td>\n",
              "      <td>0.567488</td>\n",
              "      <td>0.356546</td>\n",
              "      <td>0.434664</td>\n",
              "    </tr>\n",
              "    <tr>\n",
              "      <th>39041</th>\n",
              "      <td>0.555353</td>\n",
              "      <td>0.435378</td>\n",
              "      <td>0.566629</td>\n",
              "      <td>0.408219</td>\n",
              "      <td>0.559177</td>\n",
              "      <td>0.630739</td>\n",
              "      <td>0.563901</td>\n",
              "      <td>0.405860</td>\n",
              "      <td>0.563278</td>\n",
              "      <td>0.330457</td>\n",
              "      <td>0.439123</td>\n",
              "    </tr>\n",
              "    <tr>\n",
              "      <th>34331</th>\n",
              "      <td>0.408958</td>\n",
              "      <td>0.468773</td>\n",
              "      <td>0.498900</td>\n",
              "      <td>0.591781</td>\n",
              "      <td>0.427959</td>\n",
              "      <td>0.763473</td>\n",
              "      <td>0.617405</td>\n",
              "      <td>0.416269</td>\n",
              "      <td>0.544424</td>\n",
              "      <td>0.301604</td>\n",
              "      <td>0.475579</td>\n",
              "    </tr>\n",
              "    <tr>\n",
              "      <th>15023</th>\n",
              "      <td>0.430995</td>\n",
              "      <td>0.479864</td>\n",
              "      <td>0.590368</td>\n",
              "      <td>0.453425</td>\n",
              "      <td>0.500000</td>\n",
              "      <td>0.659681</td>\n",
              "      <td>0.563591</td>\n",
              "      <td>0.404632</td>\n",
              "      <td>0.564774</td>\n",
              "      <td>0.356276</td>\n",
              "      <td>0.440073</td>\n",
              "    </tr>\n",
              "  </tbody>\n",
              "</table>\n",
              "</div>\n",
              "      <button class=\"colab-df-convert\" onclick=\"convertToInteractive('df-8304870b-08cd-4508-a8f5-f85e2a503992')\"\n",
              "              title=\"Convert this dataframe to an interactive table.\"\n",
              "              style=\"display:none;\">\n",
              "        \n",
              "  <svg xmlns=\"http://www.w3.org/2000/svg\" height=\"24px\"viewBox=\"0 0 24 24\"\n",
              "       width=\"24px\">\n",
              "    <path d=\"M0 0h24v24H0V0z\" fill=\"none\"/>\n",
              "    <path d=\"M18.56 5.44l.94 2.06.94-2.06 2.06-.94-2.06-.94-.94-2.06-.94 2.06-2.06.94zm-11 1L8.5 8.5l.94-2.06 2.06-.94-2.06-.94L8.5 2.5l-.94 2.06-2.06.94zm10 10l.94 2.06.94-2.06 2.06-.94-2.06-.94-.94-2.06-.94 2.06-2.06.94z\"/><path d=\"M17.41 7.96l-1.37-1.37c-.4-.4-.92-.59-1.43-.59-.52 0-1.04.2-1.43.59L10.3 9.45l-7.72 7.72c-.78.78-.78 2.05 0 2.83L4 21.41c.39.39.9.59 1.41.59.51 0 1.02-.2 1.41-.59l7.78-7.78 2.81-2.81c.8-.78.8-2.07 0-2.86zM5.41 20L4 18.59l7.72-7.72 1.47 1.35L5.41 20z\"/>\n",
              "  </svg>\n",
              "      </button>\n",
              "      \n",
              "  <style>\n",
              "    .colab-df-container {\n",
              "      display:flex;\n",
              "      flex-wrap:wrap;\n",
              "      gap: 12px;\n",
              "    }\n",
              "\n",
              "    .colab-df-convert {\n",
              "      background-color: #E8F0FE;\n",
              "      border: none;\n",
              "      border-radius: 50%;\n",
              "      cursor: pointer;\n",
              "      display: none;\n",
              "      fill: #1967D2;\n",
              "      height: 32px;\n",
              "      padding: 0 0 0 0;\n",
              "      width: 32px;\n",
              "    }\n",
              "\n",
              "    .colab-df-convert:hover {\n",
              "      background-color: #E2EBFA;\n",
              "      box-shadow: 0px 1px 2px rgba(60, 64, 67, 0.3), 0px 1px 3px 1px rgba(60, 64, 67, 0.15);\n",
              "      fill: #174EA6;\n",
              "    }\n",
              "\n",
              "    [theme=dark] .colab-df-convert {\n",
              "      background-color: #3B4455;\n",
              "      fill: #D2E3FC;\n",
              "    }\n",
              "\n",
              "    [theme=dark] .colab-df-convert:hover {\n",
              "      background-color: #434B5C;\n",
              "      box-shadow: 0px 1px 3px 1px rgba(0, 0, 0, 0.15);\n",
              "      filter: drop-shadow(0px 1px 2px rgba(0, 0, 0, 0.3));\n",
              "      fill: #FFFFFF;\n",
              "    }\n",
              "  </style>\n",
              "\n",
              "      <script>\n",
              "        const buttonEl =\n",
              "          document.querySelector('#df-8304870b-08cd-4508-a8f5-f85e2a503992 button.colab-df-convert');\n",
              "        buttonEl.style.display =\n",
              "          google.colab.kernel.accessAllowed ? 'block' : 'none';\n",
              "\n",
              "        async function convertToInteractive(key) {\n",
              "          const element = document.querySelector('#df-8304870b-08cd-4508-a8f5-f85e2a503992');\n",
              "          const dataTable =\n",
              "            await google.colab.kernel.invokeFunction('convertToInteractive',\n",
              "                                                     [key], {});\n",
              "          if (!dataTable) return;\n",
              "\n",
              "          const docLinkHtml = 'Like what you see? Visit the ' +\n",
              "            '<a target=\"_blank\" href=https://colab.research.google.com/notebooks/data_table.ipynb>data table notebook</a>'\n",
              "            + ' to learn more about interactive tables.';\n",
              "          element.innerHTML = '';\n",
              "          dataTable['output_type'] = 'display_data';\n",
              "          await google.colab.output.renderOutput(dataTable, element);\n",
              "          const docLink = document.createElement('div');\n",
              "          docLink.innerHTML = docLinkHtml;\n",
              "          element.appendChild(docLink);\n",
              "        }\n",
              "      </script>\n",
              "    </div>\n",
              "  </div>\n",
              "  "
            ]
          },
          "metadata": {},
          "execution_count": 65
        }
      ]
    },
    {
      "cell_type": "markdown",
      "source": [
        "Test the model"
      ],
      "metadata": {
        "id": "fNWpWZXUTmbe"
      }
    },
    {
      "cell_type": "code",
      "source": [
        "#give the input first rows model1\n",
        "model1 = model.predict([[0.446337, 0.462825, 0.513386, 0.471233, 0.469983, 0.710579, 0.552090, 0.403403, 0.561469, 0.340367, 0.455101]])"
      ],
      "metadata": {
        "id": "H-6SufUGTgvP"
      },
      "execution_count": 66,
      "outputs": []
    },
    {
      "cell_type": "code",
      "source": [
        "model1"
      ],
      "metadata": {
        "colab": {
          "base_uri": "https://localhost:8080/"
        },
        "outputId": "e78c9243-cde1-462e-d408-262881409f61",
        "id": "kVh-y7ZhTgvU"
      },
      "execution_count": 67,
      "outputs": [
        {
          "output_type": "execute_result",
          "data": {
            "text/plain": [
              "array([[0.9614923]], dtype=float32)"
            ]
          },
          "metadata": {},
          "execution_count": 67
        }
      ]
    },
    {
      "cell_type": "code",
      "source": [
        "for test in model1:\n",
        "  if test < 0.5:\n",
        "    print(\"Normal Class [0]\")\n",
        "  else:\n",
        "    print(\"Anomaly Class [1]\")"
      ],
      "metadata": {
        "colab": {
          "base_uri": "https://localhost:8080/"
        },
        "outputId": "b339c1f4-1c8e-4ef0-bf2b-67aff2a94013",
        "id": "OfPQnm_hTgvX"
      },
      "execution_count": 68,
      "outputs": [
        {
          "output_type": "stream",
          "name": "stdout",
          "text": [
            "Anomaly Class [1]\n"
          ]
        }
      ]
    },
    {
      "cell_type": "code",
      "source": [
        "#get input rows of first row\n",
        "model2 = model.predict([[0.483131, 0.518030, 0.669170, 0.453425, 0.500000, 0.658683, 0.504190, 0.372641, 0.402873, 0.546852, 0.854341]])"
      ],
      "metadata": {
        "id": "ge5uwN3_XEVo"
      },
      "execution_count": 69,
      "outputs": []
    },
    {
      "cell_type": "code",
      "source": [
        "model2"
      ],
      "metadata": {
        "colab": {
          "base_uri": "https://localhost:8080/"
        },
        "id": "h8tId8RKXZIp",
        "outputId": "30f02dee-8d96-4b7d-e916-256f05172c4b"
      },
      "execution_count": 70,
      "outputs": [
        {
          "output_type": "execute_result",
          "data": {
            "text/plain": [
              "array([[2.830038e-09]], dtype=float32)"
            ]
          },
          "metadata": {},
          "execution_count": 70
        }
      ]
    },
    {
      "cell_type": "code",
      "source": [
        "for test in model2:\n",
        "  if test < 0.5:\n",
        "    print(\"Normal Class [0]\")\n",
        "  else:\n",
        "    print(\"Anomaly Class [1]\")"
      ],
      "metadata": {
        "colab": {
          "base_uri": "https://localhost:8080/"
        },
        "id": "XmvN6hMPXY4k",
        "outputId": "8b76b879-96b4-41ed-c63f-4456e070750a"
      },
      "execution_count": 71,
      "outputs": [
        {
          "output_type": "stream",
          "name": "stdout",
          "text": [
            "Normal Class [0]\n"
          ]
        }
      ]
    },
    {
      "cell_type": "code",
      "source": [
        "model3 = model.predict([[0.430605, 0.479554, 0.587637, 0.453425, 0.500000, 0.658683, 0.562039, 0.407553, 0.574132, 0.357894, 0.434251]])"
      ],
      "metadata": {
        "id": "bz_fXw5qXlWC"
      },
      "execution_count": 72,
      "outputs": []
    },
    {
      "cell_type": "code",
      "source": [
        "model3"
      ],
      "metadata": {
        "colab": {
          "base_uri": "https://localhost:8080/"
        },
        "id": "hQ28BGBdX0-L",
        "outputId": "443f3b13-d5a8-4219-9c59-5f3025ee42e7"
      },
      "execution_count": 73,
      "outputs": [
        {
          "output_type": "execute_result",
          "data": {
            "text/plain": [
              "array([[0.0121826]], dtype=float32)"
            ]
          },
          "metadata": {},
          "execution_count": 73
        }
      ]
    },
    {
      "cell_type": "code",
      "source": [
        "for test in model3:\n",
        "  if test < 0.5:\n",
        "    print(\"Normal Class [0]\")\n",
        "  else:\n",
        "    print(\"Anomaly Class [1]\")"
      ],
      "metadata": {
        "colab": {
          "base_uri": "https://localhost:8080/"
        },
        "id": "FWpwsTKAX0hU",
        "outputId": "e2a7279a-1680-49df-c2f4-ff9c0afedb15"
      },
      "execution_count": 74,
      "outputs": [
        {
          "output_type": "stream",
          "name": "stdout",
          "text": [
            "Normal Class [0]\n"
          ]
        }
      ]
    },
    {
      "cell_type": "code",
      "source": [
        "model4 = model.predict([[0.411298, 0.494114, 0.494881, 0.535616, 0.458834, 0.761477, 0.555504, 0.407135, 0.561139, 0.338816, 0.437802]])"
      ],
      "metadata": {
        "id": "StYH-7TkYCWF"
      },
      "execution_count": 75,
      "outputs": []
    },
    {
      "cell_type": "code",
      "source": [
        "model4"
      ],
      "metadata": {
        "colab": {
          "base_uri": "https://localhost:8080/"
        },
        "id": "PoXG8-eNYTNy",
        "outputId": "ae38a133-c1d9-4824-a9be-560077e5b475"
      },
      "execution_count": 76,
      "outputs": [
        {
          "output_type": "execute_result",
          "data": {
            "text/plain": [
              "array([[0.989042]], dtype=float32)"
            ]
          },
          "metadata": {},
          "execution_count": 76
        }
      ]
    },
    {
      "cell_type": "code",
      "source": [
        "for test in model4:\n",
        "  if test < 0.5:\n",
        "    print(\"Normal Class [0]\")\n",
        "  else:\n",
        "    print(\"Anomaly Class [1]\")"
      ],
      "metadata": {
        "colab": {
          "base_uri": "https://localhost:8080/"
        },
        "id": "C8a4-k0cYYIp",
        "outputId": "611e27ac-abcb-4472-ef63-d0ef668e09fe"
      },
      "execution_count": 77,
      "outputs": [
        {
          "output_type": "stream",
          "name": "stdout",
          "text": [
            "Anomaly Class [1]\n"
          ]
        }
      ]
    },
    {
      "cell_type": "code",
      "source": [
        "model5 = model.predict([[0.446727, 0.502107, 0.560865, 0.502740, 0.469125, 0.792415, 0.560797, 0.405860, 0.563870, 0.333423, 0.446266]])"
      ],
      "metadata": {
        "id": "GZwt-aKsYcLV"
      },
      "execution_count": 80,
      "outputs": []
    },
    {
      "cell_type": "code",
      "source": [
        "model5"
      ],
      "metadata": {
        "colab": {
          "base_uri": "https://localhost:8080/"
        },
        "id": "qBgMTd6HYu0t",
        "outputId": "41039c75-4e45-434d-d3a5-89f337dfcc2a"
      },
      "execution_count": 81,
      "outputs": [
        {
          "output_type": "execute_result",
          "data": {
            "text/plain": [
              "array([[0.99403065]], dtype=float32)"
            ]
          },
          "metadata": {},
          "execution_count": 81
        }
      ]
    },
    {
      "cell_type": "code",
      "source": [
        "for test in model5:\n",
        "  if test < 0.5:\n",
        "    print(\"Normal Class [0]\")\n",
        "  else:\n",
        "    print(\"Anomaly Class [1]\")"
      ],
      "metadata": {
        "colab": {
          "base_uri": "https://localhost:8080/"
        },
        "id": "bb_eUj4UY01L",
        "outputId": "6cab0214-d930-49f4-de45-28f0d5e7c32c"
      },
      "execution_count": 82,
      "outputs": [
        {
          "output_type": "stream",
          "name": "stdout",
          "text": [
            "Anomaly Class [1]\n"
          ]
        }
      ]
    },
    {
      "cell_type": "code",
      "source": [
        "model6 = model.predict([[0.464344, 0.385998, 0.539704, 0.524658, 0.403945, 0.598802, 0.471067, 0.361653, 0.544284, 0.736484, 0.338838]])"
      ],
      "metadata": {
        "id": "X1vUjoQHY8uO"
      },
      "execution_count": 83,
      "outputs": []
    },
    {
      "cell_type": "code",
      "source": [
        "model6"
      ],
      "metadata": {
        "colab": {
          "base_uri": "https://localhost:8080/"
        },
        "id": "MIrQLvI4ZMXR",
        "outputId": "6b12c5ce-3864-4209-e5e8-6c9fd544ad54"
      },
      "execution_count": 84,
      "outputs": [
        {
          "output_type": "execute_result",
          "data": {
            "text/plain": [
              "array([[0.00028389]], dtype=float32)"
            ]
          },
          "metadata": {},
          "execution_count": 84
        }
      ]
    },
    {
      "cell_type": "code",
      "source": [
        "for test in model6:\n",
        "  if test < 0.5:\n",
        "    print(\"Normal Class [0]\")\n",
        "  else:\n",
        "    print(\"Anomaly Class [1]\")"
      ],
      "metadata": {
        "colab": {
          "base_uri": "https://localhost:8080/"
        },
        "id": "gpC74bDmZSk_",
        "outputId": "8f34efbb-be3c-404c-fffb-d5c8d26c71d2"
      },
      "execution_count": 85,
      "outputs": [
        {
          "output_type": "stream",
          "name": "stdout",
          "text": [
            "Normal Class [0]\n"
          ]
        }
      ]
    },
    {
      "cell_type": "code",
      "source": [
        "model7 = model.predict([[0.430475, 0.480359, 0.587562, 0.456164, 0.500000, 0.658683, 0.564522, 0.397584, 0.567488, 0.356546, 0.434664]])"
      ],
      "metadata": {
        "id": "zIRXu7esZaIy"
      },
      "execution_count": 86,
      "outputs": []
    },
    {
      "cell_type": "code",
      "source": [
        "model7"
      ],
      "metadata": {
        "colab": {
          "base_uri": "https://localhost:8080/"
        },
        "id": "h_NVhGMuZrCx",
        "outputId": "5bf7c726-0b84-447b-f44b-11e956d8319f"
      },
      "execution_count": 87,
      "outputs": [
        {
          "output_type": "execute_result",
          "data": {
            "text/plain": [
              "array([[0.01155132]], dtype=float32)"
            ]
          },
          "metadata": {},
          "execution_count": 87
        }
      ]
    },
    {
      "cell_type": "code",
      "source": [
        "for test in model7:\n",
        "  if test < 0.5:\n",
        "    print(\"Normal Class [0]\")\n",
        "  else:\n",
        "    print(\"Anomaly Class [1]\")"
      ],
      "metadata": {
        "colab": {
          "base_uri": "https://localhost:8080/"
        },
        "id": "_xzNcYZQZv45",
        "outputId": "98793012-3c7a-4cbe-c105-656ccc7da4a9"
      },
      "execution_count": 88,
      "outputs": [
        {
          "output_type": "stream",
          "name": "stdout",
          "text": [
            "Normal Class [0]\n"
          ]
        }
      ]
    },
    {
      "cell_type": "code",
      "source": [
        "model8 = model.predict([[0.555353, 0.435378, 0.566629, 0.408219, 0.559177, 0.630739, 0.563901, 0.405860, 0.563278, 0.330457, 0.439123]])"
      ],
      "metadata": {
        "id": "b9eNgNORZ0ES"
      },
      "execution_count": 89,
      "outputs": []
    },
    {
      "cell_type": "code",
      "source": [
        "model8"
      ],
      "metadata": {
        "colab": {
          "base_uri": "https://localhost:8080/"
        },
        "id": "e1XwAsMeaPuP",
        "outputId": "a5a4e3a7-cd22-4e9b-985a-794a922becf9"
      },
      "execution_count": 90,
      "outputs": [
        {
          "output_type": "execute_result",
          "data": {
            "text/plain": [
              "array([[0.99696463]], dtype=float32)"
            ]
          },
          "metadata": {},
          "execution_count": 90
        }
      ]
    },
    {
      "cell_type": "code",
      "source": [
        "for test in model8:\n",
        "  if test < 0.5:\n",
        "    print(\"Normal Class [0]\")\n",
        "  else:\n",
        "    print(\"Anomaly Class [1]\")"
      ],
      "metadata": {
        "colab": {
          "base_uri": "https://localhost:8080/"
        },
        "id": "eZU1BknXaUve",
        "outputId": "814ab92e-3987-46f2-cbe4-13ee753741d6"
      },
      "execution_count": 91,
      "outputs": [
        {
          "output_type": "stream",
          "name": "stdout",
          "text": [
            "Anomaly Class [1]\n"
          ]
        }
      ]
    },
    {
      "cell_type": "code",
      "source": [
        "model9 = model.predict([[0.408958, 0.468773, 0.498900, 0.591781, 0.427959, 0.763473, 0.617405, 0.416269, 0.544424, 0.301604, 0.475579]])"
      ],
      "metadata": {
        "id": "zS58oaKVaZg4"
      },
      "execution_count": 93,
      "outputs": []
    },
    {
      "cell_type": "code",
      "source": [
        "model9"
      ],
      "metadata": {
        "colab": {
          "base_uri": "https://localhost:8080/"
        },
        "id": "1M40hTVGan_l",
        "outputId": "5bd60c07-64dd-4be0-d53c-6afada27d906"
      },
      "execution_count": 94,
      "outputs": [
        {
          "output_type": "execute_result",
          "data": {
            "text/plain": [
              "array([[0.9984823]], dtype=float32)"
            ]
          },
          "metadata": {},
          "execution_count": 94
        }
      ]
    },
    {
      "cell_type": "code",
      "source": [
        "for test in model9:\n",
        "  if test < 0.5:\n",
        "    print(\"Normal Class [0]\")\n",
        "  else:\n",
        "    print(\"Anomaly Class [1]\")"
      ],
      "metadata": {
        "colab": {
          "base_uri": "https://localhost:8080/"
        },
        "id": "plDMfRNGa9FY",
        "outputId": "98737c0e-0a0b-46c2-bee3-77de3080a961"
      },
      "execution_count": 95,
      "outputs": [
        {
          "output_type": "stream",
          "name": "stdout",
          "text": [
            "Anomaly Class [1]\n"
          ]
        }
      ]
    },
    {
      "cell_type": "code",
      "source": [
        "model10 = model.predict([[0.430995,  0.479864, 0.590368, 0.453425, 0.500000, 0.659681, 0.563591, 0.404632, 0.564774, 0.356276, 0.440073]])"
      ],
      "metadata": {
        "id": "K-gstgSIWklj"
      },
      "execution_count": 96,
      "outputs": []
    },
    {
      "cell_type": "code",
      "source": [
        "model10"
      ],
      "metadata": {
        "colab": {
          "base_uri": "https://localhost:8080/"
        },
        "id": "AdnLJa6JbVWE",
        "outputId": "88764e85-735c-4783-a008-6d4311a75bbd"
      },
      "execution_count": 97,
      "outputs": [
        {
          "output_type": "execute_result",
          "data": {
            "text/plain": [
              "array([[0.01256587]], dtype=float32)"
            ]
          },
          "metadata": {},
          "execution_count": 97
        }
      ]
    },
    {
      "cell_type": "code",
      "source": [
        "for test in model10:\n",
        "  if test < 0.5:\n",
        "    print(\"Normal Class [0]\")\n",
        "  else:\n",
        "    print(\"Anomaly Class [1]\")"
      ],
      "metadata": {
        "colab": {
          "base_uri": "https://localhost:8080/"
        },
        "id": "SbV4DIYxbWmF",
        "outputId": "5131c003-0215-4875-dfd7-266c62c944e6"
      },
      "execution_count": 98,
      "outputs": [
        {
          "output_type": "stream",
          "name": "stdout",
          "text": [
            "Normal Class [0]\n"
          ]
        }
      ]
    },
    {
      "cell_type": "code",
      "source": [
        ""
      ],
      "metadata": {
        "id": "2n2GjpFjbaq8"
      },
      "execution_count": null,
      "outputs": []
    }
  ]
}